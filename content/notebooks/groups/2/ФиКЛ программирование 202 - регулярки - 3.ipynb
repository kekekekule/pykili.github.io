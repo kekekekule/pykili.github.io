{
 "cells": [
  {
   "cell_type": "markdown",
   "metadata": {},
   "source": [
    "# Регулярные выражения - 3"
   ]
  },
  {
   "cell_type": "markdown",
   "metadata": {},
   "source": [
    "<hr>\n",
    "<a href='https://drive.google.com/file/d/1DqQDbYvXHBvAz0Z2rx4ZB7WZi1_FocV2/view?usp=sharing'>Видеозапись лекции</a>\n",
    "<hr>"
   ]
  },
  {
   "cell_type": "markdown",
   "metadata": {},
   "source": [
    "* `.finditer()`\n",
    "* Нумерация групп\n",
    "* Специальные группы\n",
    "* flags in RE"
   ]
  },
  {
   "cell_type": "code",
   "execution_count": 2,
   "metadata": {},
   "outputs": [],
   "source": [
    "import re"
   ]
  },
  {
   "cell_type": "code",
   "execution_count": 11,
   "metadata": {},
   "outputs": [],
   "source": [
    "p = re.compile(\"Кот\")\n",
    "\n",
    "m_res = p.match(\"Кот выпил компот. Кот\")\n",
    "s_res = p.search(\"Кот выпил компот. Кот\")\n",
    "f_res = p.findall(\"Кот выпил компот. Кот\")\n",
    "fi_res = p.finditer(\"Кот выпил компот. Кот\")"
   ]
  },
  {
   "cell_type": "code",
   "execution_count": 5,
   "metadata": {},
   "outputs": [
    {
     "data": {
      "text/plain": [
       "<re.Match object; span=(0, 3), match='Кот'>"
      ]
     },
     "execution_count": 5,
     "metadata": {},
     "output_type": "execute_result"
    }
   ],
   "source": [
    "m_res"
   ]
  },
  {
   "cell_type": "code",
   "execution_count": 6,
   "metadata": {},
   "outputs": [
    {
     "data": {
      "text/plain": [
       "<re.Match object; span=(0, 3), match='Кот'>"
      ]
     },
     "execution_count": 6,
     "metadata": {},
     "output_type": "execute_result"
    }
   ],
   "source": [
    "s_res"
   ]
  },
  {
   "cell_type": "code",
   "execution_count": 4,
   "metadata": {},
   "outputs": [
    {
     "data": {
      "text/plain": [
       "['Кот', 'Кот']"
      ]
     },
     "execution_count": 4,
     "metadata": {},
     "output_type": "execute_result"
    }
   ],
   "source": [
    "f_res"
   ]
  },
  {
   "cell_type": "code",
   "execution_count": 10,
   "metadata": {},
   "outputs": [
    {
     "data": {
      "text/plain": [
       "<callable_iterator at 0x7fcfbeb7bbb0>"
      ]
     },
     "execution_count": 10,
     "metadata": {},
     "output_type": "execute_result"
    }
   ],
   "source": [
    "fi_res"
   ]
  },
  {
   "cell_type": "code",
   "execution_count": 12,
   "metadata": {},
   "outputs": [
    {
     "name": "stdout",
     "output_type": "stream",
     "text": [
      "<re.Match object; span=(0, 3), match='Кот'>\n",
      "<re.Match object; span=(18, 21), match='Кот'>\n"
     ]
    }
   ],
   "source": [
    "for i in fi_res:\n",
    "    print(i)"
   ]
  },
  {
   "cell_type": "code",
   "execution_count": 13,
   "metadata": {},
   "outputs": [],
   "source": [
    "meduza = \"\"\"\n",
    "Рано утром 7 марта в Лас-Вегасе пройдет турнир UFC 259 — одно из главных событий года в мире смешанных единоборств. Глава UFC Дана Уайт уже заявил, что на турнире собран самый яркий и звездный состав в истории промоушена. На UFC 259 пройдет сразу три титульных боя с участием четырех действующих чемпионов (в том числе россиянина Петра Яна), но и помимо этого планируется еще несколько интересных боев — среди прочего подерется ближайший друг (и возможный преемник) Хабиба Нурмагомедова Ислам Махачев. По просьбе «Медузы» о предстоящем турнире рассказывает спортивный журналист Алексей Алехин.\n",
    "\"\"\""
   ]
  },
  {
   "cell_type": "code",
   "execution_count": 20,
   "metadata": {},
   "outputs": [
    {
     "data": {
      "text/plain": [
       "'\\nРано утром 7 марта в Лас-Вегасе пройдет турнир UFC 259 — одно из главных событий года в мире смешанных единоборств. Глава UFC Дана Уайт уже заявил, что на турнире собран самый яркий и звездный состав в истории промоушена. На UFC 259 пройдет сразу три титульных боя с участием четырех действующих чемпионов (в том числе россиянина Петра Яна), но и помимо этого планируется еще несколько интересных боев — среди прочего подерется ближайший друг (и возможный преемник) Хабиба Нурмагомедова Ислам Махачев. По просьбе «Медузы» о предстоящем турнире рассказывает спортивный журналист Алексей Алехин.\\n'"
      ]
     },
     "execution_count": 20,
     "metadata": {},
     "output_type": "execute_result"
    }
   ],
   "source": [
    "meduza"
   ]
  },
  {
   "cell_type": "code",
   "execution_count": 21,
   "metadata": {},
   "outputs": [],
   "source": [
    "patt = re.compile('[А-ЯA-Z][а-яa-z]+')"
   ]
  },
  {
   "cell_type": "code",
   "execution_count": 22,
   "metadata": {},
   "outputs": [],
   "source": [
    "f_iter = patt.finditer(meduza)"
   ]
  },
  {
   "cell_type": "code",
   "execution_count": 18,
   "metadata": {},
   "outputs": [
    {
     "data": {
      "text/plain": [
       "<re.Match object; span=(22, 25), match='Лас'>"
      ]
     },
     "execution_count": 18,
     "metadata": {},
     "output_type": "execute_result"
    }
   ],
   "source": [
    "next(f_iter)"
   ]
  },
  {
   "cell_type": "code",
   "execution_count": 23,
   "metadata": {},
   "outputs": [
    {
     "name": "stdout",
     "output_type": "stream",
     "text": [
      "Рано\n",
      "Лас\n",
      "Вегасе\n",
      "Глава\n",
      "Дана\n",
      "Уайт\n",
      "На\n",
      "Петра\n",
      "Яна\n",
      "Хабиба\n",
      "Нурмагомедова\n",
      "Ислам\n",
      "Махачев\n",
      "По\n",
      "Медузы\n",
      "Алексей\n",
      "Алехин\n"
     ]
    }
   ],
   "source": [
    "for i in f_iter:\n",
    "    print(i.group())"
   ]
  },
  {
   "cell_type": "markdown",
   "metadata": {},
   "source": [
    "## Нумерация групп"
   ]
  },
  {
   "cell_type": "markdown",
   "metadata": {},
   "source": [
    "Поищем слова, которые повторили два раза подряд через пробел."
   ]
  },
  {
   "cell_type": "code",
   "execution_count": 24,
   "metadata": {},
   "outputs": [
    {
     "name": "stdout",
     "output_type": "stream",
     "text": [
      "*****  correct expression *****\n",
      "first second\n",
      "first first\n",
      "None\n",
      "first first\n",
      "*****  wrong expression *****\n",
      "None\n"
     ]
    }
   ],
   "source": [
    "print(\"*****  correct expression *****\")\n",
    "s_wrong = 'first second'\n",
    "s_correct = 'first first'\n",
    "\n",
    "expr = re.compile(r'.+ .+')\n",
    "print(expr.match(s_wrong).group())\n",
    "print(expr.match(s_correct).group())\n",
    "\n",
    "expr = re.compile(r'(.+) \\1')\n",
    "print(expr.match(s_wrong))\n",
    "print(expr.match(s_correct).group())\n",
    "\n",
    "print(\"*****  wrong expression *****\")\n",
    "expr = re.compile('(.+) \\1')\n",
    "print(expr.match(s_correct))"
   ]
  },
  {
   "cell_type": "code",
   "execution_count": 25,
   "metadata": {},
   "outputs": [
    {
     "name": "stdout",
     "output_type": "stream",
     "text": [
      "Python&Pails\n",
      "python&pails\n",
      "None\n"
     ]
    }
   ],
   "source": [
    "expr = re.compile(r'([Pp])ython&\\1ails')\n",
    "print(expr.match('Python&Pails').group())\n",
    "print(expr.match('python&pails').group())\n",
    "print(expr.match('Python&pails'))"
   ]
  },
  {
   "cell_type": "markdown",
   "metadata": {},
   "source": [
    "Именованная группа. Задаем -  `(?P<name>)`\n",
    "\n",
    "Обращаемся -  `(?P=name)`"
   ]
  },
  {
   "cell_type": "code",
   "execution_count": 26,
   "metadata": {},
   "outputs": [
    {
     "name": "stdout",
     "output_type": "stream",
     "text": [
      "None\n",
      "first first\n",
      "first\n"
     ]
    }
   ],
   "source": [
    "s_wrong = 'first second'\n",
    "s_correct = 'first first'\n",
    "\n",
    "expr = re.compile(r'(?P<something>.+) (?P=something)')\n",
    "print(expr.match(s_wrong))\n",
    "print(expr.match(s_correct).group())\n",
    "\n",
    "\n",
    "m = expr.match(s_correct)\n",
    "\n",
    "print(m.group('something'))"
   ]
  },
  {
   "cell_type": "markdown",
   "metadata": {},
   "source": [
    "(?# - создаст комментарий"
   ]
  },
  {
   "cell_type": "code",
   "execution_count": 27,
   "metadata": {},
   "outputs": [
    {
     "name": "stdout",
     "output_type": "stream",
     "text": [
      "None\n",
      "first first\n"
     ]
    }
   ],
   "source": [
    "s_wrong = 'first second'\n",
    "s_correct = 'first first'\n",
    "\n",
    "expr = re.compile(r\"(?#first string)(?P<something>.+) (?#repeat of first string)(?P=something)(?#it is funny, isn\\'t it?)\")\n",
    "print(expr.match(s_wrong))\n",
    "print(expr.match(s_correct).group())"
   ]
  },
  {
   "cell_type": "markdown",
   "metadata": {},
   "source": [
    "## Специальные группы"
   ]
  },
  {
   "cell_type": "markdown",
   "metadata": {},
   "source": [
    "<img src='https://i.gyazo.com/46a563a3aa9d9e5ab5f700f460cf8a1e.png'/>"
   ]
  },
  {
   "cell_type": "markdown",
   "metadata": {},
   "source": [
    "<img src='https://i.gyazo.com/6fb8fa5096991aac324adef122987ef0.png'/>"
   ]
  },
  {
   "cell_type": "markdown",
   "metadata": {},
   "source": [
    "<img src='https://i.gyazo.com/aba3a9eb2f571fe761fae981b591a64b.png'/>"
   ]
  },
  {
   "cell_type": "markdown",
   "metadata": {},
   "source": [
    "<img src='https://i.gyazo.com/5dcc8d734c5e57534fdf9e64e126970c.png'/>"
   ]
  },
  {
   "cell_type": "markdown",
   "metadata": {},
   "source": [
    "<img src='https://i.gyazo.com/98c90aa04ae73485147eb9dc83610ef4.png'/>"
   ]
  },
  {
   "cell_type": "code",
   "execution_count": null,
   "metadata": {},
   "outputs": [],
   "source": []
  },
  {
   "cell_type": "markdown",
   "metadata": {},
   "source": [
    "\"Заглядывания вперед\" -  `(?=assertion)`"
   ]
  },
  {
   "cell_type": "code",
   "execution_count": 28,
   "metadata": {},
   "outputs": [
    {
     "name": "stdout",
     "output_type": "stream",
     "text": [
      "[]\n",
      "['Jonn ']\n"
     ]
    }
   ],
   "source": [
    "s_wrong = 'Jonn Smith'\n",
    "s_correct = 'Jonn Silver'\n",
    "\n",
    "expr = re.compile(r'Jonn (?=Silver)')\n",
    "print(expr.findall(s_wrong))\n",
    "print(expr.findall(s_correct))"
   ]
  },
  {
   "cell_type": "markdown",
   "metadata": {},
   "source": [
    "Отрицание предположения впереди - `(?!assertion)`"
   ]
  },
  {
   "cell_type": "code",
   "execution_count": 29,
   "metadata": {},
   "outputs": [
    {
     "name": "stdout",
     "output_type": "stream",
     "text": [
      "Jonn \n",
      "None\n"
     ]
    }
   ],
   "source": [
    "expr = re.compile(r'Jonn (?!Silver)')\n",
    "print(expr.match(s_wrong).group())\n",
    "print(expr.match(s_correct))"
   ]
  },
  {
   "cell_type": "markdown",
   "metadata": {},
   "source": [
    "lookbehind assertion - `(?<=assertion)` и `(?<!negative assertion)`"
   ]
  },
  {
   "cell_type": "code",
   "execution_count": 30,
   "metadata": {},
   "outputs": [
    {
     "name": "stdout",
     "output_type": "stream",
     "text": [
      "None\n",
      "Varlamov\n",
      "Varlamov\n",
      "None\n"
     ]
    }
   ],
   "source": [
    "s_wrong = 'I.Varlamov'\n",
    "s_correct = 'J.Varlamov'\n",
    "\n",
    "expr = re.compile(r'(?<=J\\.)Varlamov')\n",
    "print(expr.search(s_wrong))\n",
    "print(expr.search(s_correct).group())\n",
    "\n",
    "expr = re.compile(r'(?<!J\\.)Varlamov')\n",
    "print(expr.search(s_wrong).group())\n",
    "print(expr.search(s_correct))"
   ]
  },
  {
   "cell_type": "markdown",
   "metadata": {},
   "source": [
    "###  Позиционные шаблоны"
   ]
  },
  {
   "cell_type": "markdown",
   "metadata": {},
   "source": [
    "<img src='https://i.gyazo.com/d0883675a0ae7b835175045009a9726e.png' />"
   ]
  },
  {
   "cell_type": "markdown",
   "metadata": {},
   "source": [
    "<hr>"
   ]
  },
  {
   "cell_type": "markdown",
   "metadata": {},
   "source": [
    "## Флаги"
   ]
  },
  {
   "cell_type": "markdown",
   "metadata": {},
   "source": [
    "<img src='https://i.gyazo.com/c682203ae5a7640de64253def145ae2c.png' />"
   ]
  },
  {
   "cell_type": "code",
   "execution_count": 31,
   "metadata": {},
   "outputs": [
    {
     "name": "stdout",
     "output_type": "stream",
     "text": [
      "******************************** result is here *********************************\n",
      "This\n",
      "This\n"
     ]
    }
   ],
   "source": [
    "s = \"This is a singleline string.!?\"\n",
    "\n",
    "expr = re.compile(r'this',re.I)\n",
    "res1 = expr.match(s)\n",
    "expr = re.compile(r'this',re.IGNORECASE)\n",
    "res2 = expr.match(s)\n",
    "print(\"******************************** result is here *********************************\")\n",
    "print(res1.group())\n",
    "print(res2.group())"
   ]
  },
  {
   "cell_type": "code",
   "execution_count": 34,
   "metadata": {},
   "outputs": [
    {
     "name": "stdout",
     "output_type": "stream",
     "text": [
      "******************************** result is here *********************************\n",
      "This is a singleline string\n",
      "This is a \n",
      "multiline string\n"
     ]
    }
   ],
   "source": [
    "sl = \"This is a singleline string.!?\"\n",
    "ml = \"\"\"This is a \n",
    "multiline string. \n",
    "R u ready \n",
    "to parse it?\"\"\"\n",
    "\n",
    "expr = re.compile(r'.*line.+string',re.DOTALL)\n",
    "rsl = expr.match(sl)\n",
    "rml = expr.match(ml)\n",
    "print(\"******************************** result is here *********************************\")\n",
    "print(rsl.group())\n",
    "print(rml.group())"
   ]
  },
  {
   "cell_type": "code",
   "execution_count": 37,
   "metadata": {},
   "outputs": [
    {
     "name": "stdout",
     "output_type": "stream",
     "text": [
      "['multi']\n"
     ]
    }
   ],
   "source": [
    "ml = \"\"\"This is a \n",
    "multiline string. \n",
    "R u ready \n",
    "to parse it?\"\"\"\n",
    "\n",
    "expr = re.compile(r'^multi',re.M)\n",
    "rml = expr.findall(ml)\n",
    "print(rml)"
   ]
  },
  {
   "cell_type": "code",
   "execution_count": null,
   "metadata": {},
   "outputs": [],
   "source": []
  },
  {
   "cell_type": "markdown",
   "metadata": {},
   "source": [
    "## Обратная связь\n",
    "<a href='https://clck.ru/TamcE'>заполните пожалуйста форму</a> <- ссылка\n",
    "<img src='http://disk.yandex.net/qr/?clean=1&text=https://clck.ru/TamcE'/>\n",
    "Или короткий адрес - https://clck.ru/TamcE"
   ]
  }
 ],
 "metadata": {
  "kernelspec": {
   "display_name": "Python 3",
   "language": "python",
   "name": "python3"
  },
  "language_info": {
   "codemirror_mode": {
    "name": "ipython",
    "version": 3
   },
   "file_extension": ".py",
   "mimetype": "text/x-python",
   "name": "python",
   "nbconvert_exporter": "python",
   "pygments_lexer": "ipython3",
   "version": "3.8.5"
  }
 },
 "nbformat": 4,
 "nbformat_minor": 2
}
