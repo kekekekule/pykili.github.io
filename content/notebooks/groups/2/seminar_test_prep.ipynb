{
 "cells": [
  {
   "cell_type": "markdown",
   "metadata": {},
   "source": [
    "Вам дан список. Напишите функцию, которая просуммирует все его члены и выведет ответ."
   ]
  },
  {
   "cell_type": "code",
   "execution_count": 10,
   "metadata": {},
   "outputs": [],
   "source": [
    "def summ(li):\n",
    "    acc = 0\n",
    "    for it in li:\n",
    "        acc += it\n",
    "    return acc"
   ]
  },
  {
   "cell_type": "markdown",
   "metadata": {},
   "source": [
    "А как это сделать рекурсивно?"
   ]
  },
  {
   "cell_type": "code",
   "execution_count": 36,
   "metadata": {},
   "outputs": [],
   "source": [
    "def sumrec(li, index=0, acc=0):\n",
    "    if index == len(li):\n",
    "        return acc\n",
    "    return sumrec(li, index + 1, acc + li[index])"
   ]
  },
  {
   "cell_type": "code",
   "execution_count": 37,
   "metadata": {},
   "outputs": [
    {
     "data": {
      "text/plain": [
       "6"
      ]
     },
     "execution_count": 37,
     "metadata": {},
     "output_type": "execute_result"
    }
   ],
   "source": [
    "sumrec([1, 2, 3])"
   ]
  },
  {
   "cell_type": "code",
   "execution_count": 35,
   "metadata": {},
   "outputs": [
    {
     "data": {
      "text/plain": [
       "6"
      ]
     },
     "execution_count": 35,
     "metadata": {},
     "output_type": "execute_result"
    }
   ],
   "source": [
    "summ([1, 2, 3])"
   ]
  },
  {
   "cell_type": "markdown",
   "metadata": {},
   "source": [
    "Поясняющий рисунок:\n",
    "![](https://storage.yandexcloud.net/pykili/2020-2021/seminar-images/sum.png)"
   ]
  },
  {
   "cell_type": "markdown",
   "metadata": {},
   "source": [
    "Напечатать последовательность от 0 до N"
   ]
  },
  {
   "cell_type": "code",
   "execution_count": 40,
   "metadata": {},
   "outputs": [],
   "source": [
    "def pri(n):\n",
    "    if n > 0:\n",
    "        pri(n -1)\n",
    "    print(n)"
   ]
  },
  {
   "cell_type": "code",
   "execution_count": 41,
   "metadata": {},
   "outputs": [
    {
     "name": "stdout",
     "output_type": "stream",
     "text": [
      "0\n",
      "1\n",
      "2\n",
      "3\n",
      "4\n",
      "5\n"
     ]
    }
   ],
   "source": [
    "pri(5)"
   ]
  },
  {
   "cell_type": "markdown",
   "metadata": {},
   "source": [
    "Поясняющий рисунок:\n",
    "![](https://storage.yandexcloud.net/pykili/2020-2021/seminar-images/0ton.png)"
   ]
  },
  {
   "cell_type": "markdown",
   "metadata": {},
   "source": [
    "Напечатать послеовательность от N до 0"
   ]
  },
  {
   "cell_type": "code",
   "execution_count": 38,
   "metadata": {},
   "outputs": [],
   "source": [
    "def printt(n):\n",
    "    if n >= 0:\n",
    "        print(n)\n",
    "        printt(n - 1)"
   ]
  },
  {
   "cell_type": "code",
   "execution_count": 39,
   "metadata": {},
   "outputs": [
    {
     "name": "stdout",
     "output_type": "stream",
     "text": [
      "5\n",
      "4\n",
      "3\n",
      "2\n",
      "1\n",
      "0\n"
     ]
    }
   ],
   "source": [
    "printt(5)"
   ]
  },
  {
   "cell_type": "markdown",
   "metadata": {},
   "source": [
    "Поясняющий рисунок:\n",
    "![](https://storage.yandexcloud.net/pykili/2020-2021/seminar-images/nto0.png)"
   ]
  },
  {
   "cell_type": "markdown",
   "metadata": {},
   "source": [
    "---"
   ]
  },
  {
   "cell_type": "markdown",
   "metadata": {},
   "source": [
    "## Разбор задач теста"
   ]
  },
  {
   "cell_type": "markdown",
   "metadata": {},
   "source": [
    "### Задача №1\n",
    "\n",
    "Напишите функцию для вычисления поэлементного частного двух векторов.\n",
    "Функцию получает на вход 2 вектора и возвращает вектор.\n",
    "Если нельзя произвести деление нужно промаркировать этот случай `None`.\n",
    "\n",
    "```python\n",
    "def vecdiv(num, den):\n",
    "    pass\n",
    "```"
   ]
  },
  {
   "cell_type": "code",
   "execution_count": 12,
   "metadata": {},
   "outputs": [],
   "source": [
    "def vecdiv(num, den):\n",
    "    result = []\n",
    "    for i in range(len(num)):\n",
    "        if den[i] == 0:\n",
    "            result.append(None)\n",
    "        else:\n",
    "            result.append(num[i] / den[i])\n",
    "    return result"
   ]
  },
  {
   "cell_type": "code",
   "execution_count": 14,
   "metadata": {},
   "outputs": [
    {
     "data": {
      "text/plain": [
       "[0.2, 0.3333333333333333, None]"
      ]
     },
     "execution_count": 14,
     "metadata": {},
     "output_type": "execute_result"
    }
   ],
   "source": [
    "vecdiv([1, 2, 3], [5, 6, 0])"
   ]
  },
  {
   "cell_type": "markdown",
   "metadata": {},
   "source": [
    "### Задача №2\n",
    "\n",
    "Напишите функцию `tail`, принимающую 3 аргумента - список строк, количество строк и минимальную длину строки.\n",
    "Функция должна возвращать нужное количество строк **с конца**, которые имеют длину, больше заданной.\n",
    "\n",
    "Пользователь должен иметь возможность передать в функцию только список строк.\n",
    "В этом случай функция должна вернуть последние 10 строк вне зависимости от их длины."
   ]
  },
  {
   "cell_type": "code",
   "execution_count": 13,
   "metadata": {},
   "outputs": [],
   "source": [
    "def tail(list_of_strings, n=10, minlen=None):\n",
    "    result = []\n",
    "    for item in list_of_strings[-n:]:\n",
    "        if minlen is None or len(item) > minlen:\n",
    "            result.append(item)\n",
    "    return result\n",
    "\n",
    "\n",
    "def tail_another(list_of_strings, n=None, minlen=None):\n",
    "    if n is None:\n",
    "        n = 10\n",
    "    result = []\n",
    "    for item in list_of_strings:\n",
    "        if minlen is None or len(item) > minlen:\n",
    "            result.append(item)\n",
    "    return result[-n:]"
   ]
  },
  {
   "cell_type": "markdown",
   "metadata": {},
   "source": [
    "Как может выглядеть готовая программа:"
   ]
  },
  {
   "cell_type": "code",
   "execution_count": 33,
   "metadata": {},
   "outputs": [
    {
     "name": "stdout",
     "output_type": "stream",
     "text": [
      "Введите N:\n",
      "None\n",
      "['a', 'b', 'cc'] None\n"
     ]
    }
   ],
   "source": [
    "n = input('Введите N:')\n",
    "\n",
    "if n:\n",
    "    n = int(n)\n",
    "else:\n",
    "    n = None\n",
    "\n",
    "li = ['a', 'b', 'cc']\n",
    "\n",
    "print(tail_another(li), n)"
   ]
  },
  {
   "cell_type": "markdown",
   "metadata": {},
   "source": [
    "## Задачи для подготовки к КР\n",
    "\n",
    "Весь набор - https://gist.github.com/Sapunov/4d58a83b6b02e61ef16fccd2fbdad98e"
   ]
  },
  {
   "cell_type": "markdown",
   "metadata": {},
   "source": [
    "### Задача №1\n",
    "\n",
    "Как вы знаете, стандарты написания дат в разных странах отличаются.\n",
    "\n",
    "* `гггг-ММ-дд` (Канада, Польша, Швеция)\n",
    "* `гггг.дд.ММ` (Казахстан)\n",
    "* `д/М/гггг` (Бразилия, Греция, Тайланд) обратите внимание, что месяц и число могут записываться одной цифрой\n",
    "* `М/д/гггг` (США)\n",
    "\n",
    "Пользователь вводит с клавиатуры дату и страну (через пробел или двумя инпутами -- неважно), программа автоматически конвертирует дату в российский формат: `дд.мм.гггг`."
   ]
  },
  {
   "cell_type": "code",
   "execution_count": 9,
   "metadata": {},
   "outputs": [
    {
     "name": "stdout",
     "output_type": "stream",
     "text": [
      "Введите дату и страну:5/4/2020 сша\n",
      "04.05.2020\n"
     ]
    }
   ],
   "source": [
    "def canada(date):\n",
    "    y, m, d = date.split('-')\n",
    "    return f'{d}.{m}.{y}'\n",
    "#     return d + '.' + m + '.' + y\n",
    "\n",
    "\n",
    "def fmt(dt):\n",
    "    if len(dt) == 2:\n",
    "        return dt\n",
    "    return '0' + dt\n",
    "    \n",
    "\n",
    "def kaz(date):\n",
    "    pass\n",
    "\n",
    "\n",
    "def thai(date):\n",
    "    pass\n",
    "\n",
    "\n",
    "def usa(date):\n",
    "    m, d, y = date.split('/')\n",
    "    return f'{fmt(d)}.{fmt(m)}.{y}'\n",
    "\n",
    "def main():\n",
    "    date, country = input('Введите дату и страну:').split()\n",
    "\n",
    "    country = country.lower()\n",
    "\n",
    "    if country in ['канада', 'Польша', 'Швеция']:\n",
    "        print(canada(date))\n",
    "    elif country in  ['Казахстан']:\n",
    "        print(kaz(date))\n",
    "    elif country in ['Бразилия', 'Греция', 'Тайланд']:\n",
    "        print(thai(date))\n",
    "    elif country in ['сша']:\n",
    "        print(usa(date))\n",
    "    else:\n",
    "        print('Что-то не то')\n",
    "        \n",
    "main()"
   ]
  }
 ],
 "metadata": {
  "kernelspec": {
   "display_name": "Python 3",
   "language": "python",
   "name": "python3"
  },
  "language_info": {
   "codemirror_mode": {
    "name": "ipython",
    "version": 3
   },
   "file_extension": ".py",
   "mimetype": "text/x-python",
   "name": "python",
   "nbconvert_exporter": "python",
   "pygments_lexer": "ipython3",
   "version": "3.7.5"
  }
 },
 "nbformat": 4,
 "nbformat_minor": 2
}
