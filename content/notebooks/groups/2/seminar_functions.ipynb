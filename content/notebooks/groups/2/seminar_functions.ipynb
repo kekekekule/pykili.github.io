{
 "cells": [
  {
   "cell_type": "code",
   "execution_count": 20,
   "metadata": {},
   "outputs": [],
   "source": [
    "def func(name, surname):\n",
    "    print('Привет,', name, surname)"
   ]
  },
  {
   "cell_type": "code",
   "execution_count": 18,
   "metadata": {},
   "outputs": [
    {
     "name": "stdout",
     "output_type": "stream",
     "text": [
      "Привет,,Никита,Пупкин,4,5\n"
     ]
    }
   ],
   "source": [
    "func('Никита', 'Пупкин')"
   ]
  },
  {
   "cell_type": "code",
   "execution_count": 23,
   "metadata": {},
   "outputs": [
    {
     "name": "stdout",
     "output_type": "stream",
     "text": [
      "Привет, Никита Пупкин\n",
      "None\n"
     ]
    }
   ],
   "source": [
    "print(func('Никита', 'Пупкин'))"
   ]
  },
  {
   "cell_type": "code",
   "execution_count": null,
   "metadata": {},
   "outputs": [],
   "source": [
    "range()"
   ]
  },
  {
   "cell_type": "markdown",
   "metadata": {},
   "source": [
    "Из тонированной девятки все видно. А то, что происходит внутри, не знает никто."
   ]
  },
  {
   "cell_type": "code",
   "execution_count": 25,
   "metadata": {},
   "outputs": [],
   "source": [
    "def foo(name):\n",
    "    l = len(name)"
   ]
  },
  {
   "cell_type": "code",
   "execution_count": 26,
   "metadata": {},
   "outputs": [
    {
     "ename": "NameError",
     "evalue": "name 'l' is not defined",
     "output_type": "error",
     "traceback": [
      "\u001b[0;31m---------------------------------------------------------------------------\u001b[0m",
      "\u001b[0;31mNameError\u001b[0m                                 Traceback (most recent call last)",
      "\u001b[0;32m<ipython-input-26-e6f469464218>\u001b[0m in \u001b[0;36m<module>\u001b[0;34m\u001b[0m\n\u001b[0;32m----> 1\u001b[0;31m \u001b[0mprint\u001b[0m\u001b[0;34m(\u001b[0m\u001b[0ml\u001b[0m\u001b[0;34m)\u001b[0m\u001b[0;34m\u001b[0m\u001b[0;34m\u001b[0m\u001b[0m\n\u001b[0m",
      "\u001b[0;31mNameError\u001b[0m: name 'l' is not defined"
     ]
    }
   ],
   "source": [
    "print(l)"
   ]
  },
  {
   "cell_type": "markdown",
   "metadata": {},
   "source": [
    "Функция принимает путь к файлу.\n",
    "\n",
    "Читает файл построчно. Убирает из каждой строки символ переноса строки и возвращает список чистых строк файла."
   ]
  },
  {
   "cell_type": "code",
   "execution_count": 29,
   "metadata": {},
   "outputs": [],
   "source": [
    "def clean_lines(filename):\n",
    "    result = []\n",
    "    with open(filename) as file:\n",
    "        for line in file:\n",
    "            cleaned = line.strip()\n",
    "            if cleaned:\n",
    "                result.append(cleaned)\n",
    "    return result"
   ]
  },
  {
   "cell_type": "code",
   "execution_count": 35,
   "metadata": {},
   "outputs": [],
   "source": [
    "def nolines(filename):\n",
    "    with open(filename) as file:\n",
    "        lines = file.read()\n",
    "        linesout = lines.splitlines()\n",
    "        return linesout"
   ]
  },
  {
   "cell_type": "markdown",
   "metadata": {},
   "source": [
    "Удобные функции для чтения строк файла"
   ]
  },
  {
   "cell_type": "code",
   "execution_count": 2,
   "metadata": {},
   "outputs": [
    {
     "name": "stdout",
     "output_type": "stream",
     "text": [
      "Введите путь к файлу: /Users/sapunovnik/Downloads/odyssey_2.txt\n",
      "['\\ufeffBOOK XVI', '', '', 'ULYSSES REVEALS HIMSELF TO TELEMACHUS.', '', '', 'Meanwhile Ulysses and the swineherd had lit a fire in the hut and were', 'were getting breakfast ready at daybreak, for they had sent the men out', 'with the pigs. When Telemachus came up, the dogs did not bark but', 'fawned upon him, so Ulysses, hearing the sound of feet and noticing']\n"
     ]
    }
   ],
   "source": [
    "def clear_line(line, lines):\n",
    "    line_clear = line.replace('\\n', '')\n",
    "    lines.append(line_clear)\n",
    "    \n",
    "def clear_file(way):\n",
    "    lines = []\n",
    "    with open(way) as file:\n",
    "        for line in file:\n",
    "            clear_line(line, lines)\n",
    "    return lines\n",
    "    \n",
    "way = input('Введите путь к файлу: ')\n",
    "\n",
    "print(clear_file(way)[:10])"
   ]
  },
  {
   "cell_type": "markdown",
   "metadata": {},
   "source": [
    "Линейный поиск элемента в списке"
   ]
  },
  {
   "cell_type": "code",
   "execution_count": 47,
   "metadata": {},
   "outputs": [],
   "source": [
    "def search(li, n):\n",
    "    for i in range(len(li)):\n",
    "        if li[i] == n:\n",
    "            print('cond', 1)\n",
    "            return i\n",
    "    print('cond', 2)\n",
    "    return None"
   ]
  },
  {
   "cell_type": "code",
   "execution_count": 50,
   "metadata": {},
   "outputs": [
    {
     "name": "stdout",
     "output_type": "stream",
     "text": [
      "cond 2\n",
      "None\n"
     ]
    }
   ],
   "source": [
    "print(search([1, 2, 3], 8))"
   ]
  },
  {
   "cell_type": "code",
   "execution_count": 44,
   "metadata": {},
   "outputs": [],
   "source": [
    "def search_en(li, n):\n",
    "    for i, el in enumerate(li):\n",
    "        if el == n:\n",
    "            return i\n",
    "    return None"
   ]
  }
 ],
 "metadata": {
  "kernelspec": {
   "display_name": "Python 3",
   "language": "python",
   "name": "python3"
  },
  "language_info": {
   "codemirror_mode": {
    "name": "ipython",
    "version": 3
   },
   "file_extension": ".py",
   "mimetype": "text/x-python",
   "name": "python",
   "nbconvert_exporter": "python",
   "pygments_lexer": "ipython3",
   "version": "3.7.5"
  }
 },
 "nbformat": 4,
 "nbformat_minor": 2
}
