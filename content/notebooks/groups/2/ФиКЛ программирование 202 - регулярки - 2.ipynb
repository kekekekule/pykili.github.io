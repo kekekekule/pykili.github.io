{
 "cells": [
  {
   "cell_type": "markdown",
   "metadata": {},
   "source": [
    "# Регулярные выражения"
   ]
  },
  {
   "cell_type": "markdown",
   "metadata": {},
   "source": [
    "<a href='https://drive.google.com/file/d/1DOtZ806r29i1_R7y-wzmS2TKSGNI9NMY/view?usp=sharing'>Видеозапись лекции</a>"
   ]
  },
  {
   "cell_type": "code",
   "execution_count": 1,
   "metadata": {},
   "outputs": [],
   "source": [
    "import re"
   ]
  },
  {
   "cell_type": "markdown",
   "metadata": {},
   "source": [
    "<img src = 'https://i.gyazo.com/3ee1a6e5cbd43a08f4c594069761daff.jpg' />"
   ]
  },
  {
   "cell_type": "code",
   "execution_count": 3,
   "metadata": {},
   "outputs": [],
   "source": [
    "text = \"I have a cat and a dog. How many dogs do you have?\""
   ]
  },
  {
   "cell_type": "code",
   "execution_count": 6,
   "metadata": {},
   "outputs": [
    {
     "data": {
      "text/plain": [
       "['dog', 'dogs']"
      ]
     },
     "execution_count": 6,
     "metadata": {},
     "output_type": "execute_result"
    }
   ],
   "source": [
    "re.findall(r\"dogs?\", text)"
   ]
  },
  {
   "cell_type": "markdown",
   "metadata": {},
   "source": [
    "`r` перед строкой с регулярным выражением отключает механизм экранирования."
   ]
  },
  {
   "cell_type": "code",
   "execution_count": 7,
   "metadata": {},
   "outputs": [
    {
     "name": "stdout",
     "output_type": "stream",
     "text": [
      "I have a cat and a dog. How many dogs do you have?\n"
     ]
    }
   ],
   "source": [
    "print(text)"
   ]
  },
  {
   "cell_type": "code",
   "execution_count": 10,
   "metadata": {},
   "outputs": [],
   "source": [
    "text += \"\\\\\""
   ]
  },
  {
   "cell_type": "code",
   "execution_count": 11,
   "metadata": {},
   "outputs": [
    {
     "name": "stdout",
     "output_type": "stream",
     "text": [
      "I have a cat and a dog. How many dogs do you have?\\\\\\\n"
     ]
    }
   ],
   "source": [
    "print(text)"
   ]
  },
  {
   "cell_type": "code",
   "execution_count": 12,
   "metadata": {},
   "outputs": [
    {
     "name": "stdout",
     "output_type": "stream",
     "text": [
      "['\\\\', '\\\\', '\\\\']\n"
     ]
    }
   ],
   "source": [
    "print(re.findall(r\"\\\\\", text))"
   ]
  },
  {
   "cell_type": "code",
   "execution_count": 13,
   "metadata": {},
   "outputs": [
    {
     "data": {
      "text/plain": [
       "['t.me/grmmr']"
      ]
     },
     "execution_count": 13,
     "metadata": {},
     "output_type": "execute_result"
    }
   ],
   "source": [
    "re.findall(r\"t.me\\/\\w+\", \"https://t.me/grmmr\")"
   ]
  },
  {
   "cell_type": "code",
   "execution_count": 17,
   "metadata": {},
   "outputs": [
    {
     "data": {
      "text/plain": [
       "[]"
      ]
     },
     "execution_count": 17,
     "metadata": {},
     "output_type": "execute_result"
    }
   ],
   "source": [
    "re.findall(r\"[()\\d -]{11,16}\", \"8(916)-909-30-24\")"
   ]
  },
  {
   "cell_type": "code",
   "execution_count": 24,
   "metadata": {},
   "outputs": [],
   "source": [
    "news = \"\"\"Мэр Москвы Сергей Собянин предложил закрыть тему об установке памятника на Лубянке и остановить голосование за выбор кандидата для него. Об этом говорится в сообщении на его сайте.\n",
    "\n",
    "Собянин указал, что после двух дней с небольшим отрывом «побеждали сторонники Александра Невского», но при этом очевидно, что общественное мнение разделилось примерно пополам и голосование «больше превращается в противостояние людей, придерживающихся разных взглядов». По мнению мэра, Лубянской площади «необходима архитектурная доминанта, на роль которой лучше всего подходит памятник человеку или событию, оставившему яркий след в истории Отечества».\n",
    "\"\"\""
   ]
  },
  {
   "cell_type": "code",
   "execution_count": 25,
   "metadata": {},
   "outputs": [
    {
     "data": {
      "text/plain": [
       "'Мэр Москвы Сергей Собянин предложил закрыть тему об установке памятника на Лубянке и остановить голосование за выбор кандидата для него. Об этом говорится в сообщении на его сайте.\\n\\nСобянин указал, что после двух дней с небольшим отрывом «побеждали сторонники Александра Невского», но при этом очевидно, что общественное мнение разделилось примерно пополам и голосование «больше превращается в противостояние людей, придерживающихся разных взглядов». По мнению мэра, Лубянской площади «необходима архитектурная доминанта, на роль которой лучше всего подходит памятник человеку или событию, оставившему яркий след в истории Отечества».\\n'"
      ]
     },
     "execution_count": 25,
     "metadata": {},
     "output_type": "execute_result"
    }
   ],
   "source": [
    "news"
   ]
  },
  {
   "cell_type": "code",
   "execution_count": 29,
   "metadata": {},
   "outputs": [
    {
     "data": {
      "text/plain": [
       "['«побеждали сторонники Александра Невского»',\n",
       " '«больше превращается в противостояние людей, придерживающихся разных взглядов»',\n",
       " '«необходима архитектурная доминанта, на роль которой лучше всего подходит памятник человеку или событию, оставившему яркий след в истории Отечества»']"
      ]
     },
     "execution_count": 29,
     "metadata": {},
     "output_type": "execute_result"
    }
   ],
   "source": [
    "re.findall(r\"«.+?»\", news)"
   ]
  },
  {
   "cell_type": "code",
   "execution_count": null,
   "metadata": {},
   "outputs": [],
   "source": []
  },
  {
   "cell_type": "code",
   "execution_count": 30,
   "metadata": {},
   "outputs": [],
   "source": [
    "import string\n",
    "text = \"\"\"Иван Иванович! \n",
    "Нужен ответ на письмо от ivanoff@ivan-chai.ru. \n",
    "Не забудьте поставить в копию \n",
    "sergeo-lupin@mail.ru - это важно.\"\"\""
   ]
  },
  {
   "cell_type": "code",
   "execution_count": 46,
   "metadata": {},
   "outputs": [
    {
     "data": {
      "text/plain": [
       "['ivanoff@ivan-chai.ru', 'sergeo-lupin@mail.ru']"
      ]
     },
     "execution_count": 46,
     "metadata": {},
     "output_type": "execute_result"
    }
   ],
   "source": [
    "re.findall('[\\w-]+@[\\w-]+.\\w{2,}', text)"
   ]
  },
  {
   "cell_type": "code",
   "execution_count": null,
   "metadata": {},
   "outputs": [],
   "source": []
  },
  {
   "cell_type": "markdown",
   "metadata": {},
   "source": [
    "## `.findall()`\n",
    "\n",
    "что возвращает этот метод?"
   ]
  },
  {
   "cell_type": "code",
   "execution_count": 47,
   "metadata": {},
   "outputs": [],
   "source": [
    "clubhouse = \"\"\"\n",
    "Александрова Олеся Сергеевна\n",
    "18.06.1999\n",
    "\n",
    "Васильев Александр Вячеславович\n",
    "24.06.1999\n",
    "\n",
    "Ганке Дарья Александровна\n",
    "25.06.1999\n",
    "\n",
    "Жердев Сергей Витальевич\n",
    "1.06.1999\n",
    "\n",
    "\n",
    "Иванова Ольга Сергеевна\n",
    "29.10.1999\n",
    "\n",
    "\n",
    "Картенева Анастасия Викторовна\n",
    "23.03.1998\n",
    "\"\"\""
   ]
  },
  {
   "cell_type": "code",
   "execution_count": 48,
   "metadata": {},
   "outputs": [
    {
     "data": {
      "text/plain": [
       "['18.06.1999',\n",
       " '24.06.1999',\n",
       " '25.06.1999',\n",
       " '1.06.1999',\n",
       " '29.10.1999',\n",
       " '23.03.1998']"
      ]
     },
     "execution_count": 48,
     "metadata": {},
     "output_type": "execute_result"
    }
   ],
   "source": [
    "re.findall(r\"\\d{1,2}\\.\\d{2}\\.\\d{4}\", clubhouse)"
   ]
  },
  {
   "cell_type": "code",
   "execution_count": 49,
   "metadata": {},
   "outputs": [],
   "source": [
    "date_pattern = re.compile(r\"\\d{1,2}\\.\\d{2}\\.\\d{4}\")"
   ]
  },
  {
   "cell_type": "code",
   "execution_count": 50,
   "metadata": {},
   "outputs": [
    {
     "data": {
      "text/plain": [
       "re.compile(r'\\d{1,2}\\.\\d{2}\\.\\d{4}', re.UNICODE)"
      ]
     },
     "execution_count": 50,
     "metadata": {},
     "output_type": "execute_result"
    }
   ],
   "source": [
    "date_pattern"
   ]
  },
  {
   "cell_type": "code",
   "execution_count": 51,
   "metadata": {},
   "outputs": [
    {
     "data": {
      "text/plain": [
       "['18.06.1999',\n",
       " '24.06.1999',\n",
       " '25.06.1999',\n",
       " '1.06.1999',\n",
       " '29.10.1999',\n",
       " '23.03.1998']"
      ]
     },
     "execution_count": 51,
     "metadata": {},
     "output_type": "execute_result"
    }
   ],
   "source": [
    "date_pattern.findall(clubhouse)"
   ]
  },
  {
   "cell_type": "code",
   "execution_count": 52,
   "metadata": {},
   "outputs": [],
   "source": [
    "kierkegaard = \"\"\"Киркегор - датский философ, богослов и писатель, один из предшественников экзистенциализма. \n",
    " С. Кьеркегор окончил теологический факультет Копенгагенского университета в 1840 году. \n",
    " Степень магистра получил в 1841 году, защитив диссертацию “О понятии иронии, с постоянным обращением к Сократу”, \n",
    " посвященную концепциям иронии у древнегреческих авторов и романтиков. \n",
    " Работы С. Кьеркегора отличаются исключительной психологической точностью и глубиной. \n",
    " Вклад в развистие философии, сделанный Кьеркегаардом. неоценим. Сёрен Киркегаард: немецкое издание Сёрена Киркегаарда. \n",
    " Спецкурс “С. Керкегор и история христианства в XIX в.” посвящен датскому философу Серену Керкегору.\n",
    " \"\"\""
   ]
  },
  {
   "cell_type": "code",
   "execution_count": 53,
   "metadata": {},
   "outputs": [
    {
     "name": "stdout",
     "output_type": "stream",
     "text": [
      "32\n"
     ]
    }
   ],
   "source": [
    "MY_REGEX = r\"К[иь]?е?ркег[оа]{1,2}рд?[уоа]?м?\"\n",
    "print(len(MY_REGEX))\n",
    "kierk_p = re.compile(MY_REGEX)"
   ]
  },
  {
   "cell_type": "code",
   "execution_count": 54,
   "metadata": {},
   "outputs": [
    {
     "name": "stdout",
     "output_type": "stream",
     "text": [
      "['Киркегор', 'Кьеркегор', 'Кьеркегора', 'Кьеркегаардом', 'Киркегаард', 'Киркегаарда', 'Керкегор', 'Керкегору'] 8\n"
     ]
    }
   ],
   "source": [
    "result = kierk_p.findall(kierkegaard)\n",
    "print(result, len(result))"
   ]
  },
  {
   "cell_type": "markdown",
   "metadata": {},
   "source": [
    "## `.match()` и `.search()`"
   ]
  },
  {
   "cell_type": "code",
   "execution_count": 55,
   "metadata": {},
   "outputs": [],
   "source": [
    "text = \"Кот Василий выпил компот, а Кот Ёван выпил лимонад\""
   ]
  },
  {
   "cell_type": "markdown",
   "metadata": {},
   "source": [
    "**1. Компиляция RE**"
   ]
  },
  {
   "cell_type": "code",
   "execution_count": 57,
   "metadata": {},
   "outputs": [],
   "source": [
    "pattern = re.compile(r\"[А-ЯЁ][а-яё]+\")"
   ]
  },
  {
   "cell_type": "markdown",
   "metadata": {},
   "source": [
    "**2. Применение**"
   ]
  },
  {
   "cell_type": "code",
   "execution_count": 61,
   "metadata": {},
   "outputs": [
    {
     "data": {
      "text/plain": [
       "<re.Match object; span=(0, 3), match='Кот'>"
      ]
     },
     "execution_count": 61,
     "metadata": {},
     "output_type": "execute_result"
    }
   ],
   "source": [
    "pattern.match(text)"
   ]
  },
  {
   "cell_type": "code",
   "execution_count": 59,
   "metadata": {},
   "outputs": [
    {
     "data": {
      "text/plain": [
       "<re.Match object; span=(0, 3), match='Кот'>"
      ]
     },
     "execution_count": 59,
     "metadata": {},
     "output_type": "execute_result"
    }
   ],
   "source": [
    "pattern.search(text)"
   ]
  },
  {
   "cell_type": "code",
   "execution_count": 62,
   "metadata": {},
   "outputs": [],
   "source": [
    "text = \"кот Василий выпил компот, а Кот Ёван выпил лимонад\""
   ]
  },
  {
   "cell_type": "code",
   "execution_count": 63,
   "metadata": {},
   "outputs": [],
   "source": [
    "pattern.match(text)"
   ]
  },
  {
   "cell_type": "code",
   "execution_count": 64,
   "metadata": {},
   "outputs": [
    {
     "data": {
      "text/plain": [
       "<re.Match object; span=(4, 11), match='Василий'>"
      ]
     },
     "execution_count": 64,
     "metadata": {},
     "output_type": "execute_result"
    }
   ],
   "source": [
    "pattern.search(text)"
   ]
  },
  {
   "cell_type": "code",
   "execution_count": 65,
   "metadata": {},
   "outputs": [
    {
     "data": {
      "text/plain": [
       "<re.Match object; span=(0, 3), match='кот'>"
      ]
     },
     "execution_count": 65,
     "metadata": {},
     "output_type": "execute_result"
    }
   ],
   "source": [
    "re.search(\"кот\", text)"
   ]
  },
  {
   "cell_type": "code",
   "execution_count": 66,
   "metadata": {},
   "outputs": [
    {
     "data": {
      "text/plain": [
       "<re.Match object; span=(0, 3), match='кот'>"
      ]
     },
     "execution_count": 66,
     "metadata": {},
     "output_type": "execute_result"
    }
   ],
   "source": [
    "re.match(\"кот\", text)"
   ]
  },
  {
   "cell_type": "code",
   "execution_count": 67,
   "metadata": {},
   "outputs": [],
   "source": [
    "text = \"кот Василий выпил компот, а Кот Ёван выпил лимонад\""
   ]
  },
  {
   "cell_type": "code",
   "execution_count": 68,
   "metadata": {},
   "outputs": [
    {
     "data": {
      "text/plain": [
       "'кот Василий выпил компот, а Кот Ёван выпил лимонад'"
      ]
     },
     "execution_count": 68,
     "metadata": {},
     "output_type": "execute_result"
    }
   ],
   "source": [
    "text"
   ]
  },
  {
   "cell_type": "code",
   "execution_count": 70,
   "metadata": {},
   "outputs": [],
   "source": [
    "result = re.match(\"кот\", text)"
   ]
  },
  {
   "cell_type": "code",
   "execution_count": 71,
   "metadata": {},
   "outputs": [
    {
     "data": {
      "text/plain": [
       "<re.Match object; span=(0, 3), match='кот'>"
      ]
     },
     "execution_count": 71,
     "metadata": {},
     "output_type": "execute_result"
    }
   ],
   "source": [
    "result"
   ]
  },
  {
   "cell_type": "code",
   "execution_count": 72,
   "metadata": {},
   "outputs": [
    {
     "name": "stdout",
     "output_type": "stream",
     "text": [
      "(0, 3)\n"
     ]
    }
   ],
   "source": [
    "print(result.span())"
   ]
  },
  {
   "cell_type": "code",
   "execution_count": 73,
   "metadata": {},
   "outputs": [
    {
     "name": "stdout",
     "output_type": "stream",
     "text": [
      "0 3\n"
     ]
    }
   ],
   "source": [
    "print(result.start(), result.end())"
   ]
  },
  {
   "cell_type": "code",
   "execution_count": 74,
   "metadata": {},
   "outputs": [
    {
     "data": {
      "text/plain": [
       "0"
      ]
     },
     "execution_count": 74,
     "metadata": {},
     "output_type": "execute_result"
    }
   ],
   "source": [
    "result.pos # позиция, с которой начинается поиск"
   ]
  },
  {
   "cell_type": "code",
   "execution_count": 75,
   "metadata": {},
   "outputs": [
    {
     "data": {
      "text/plain": [
       "'кот'"
      ]
     },
     "execution_count": 75,
     "metadata": {},
     "output_type": "execute_result"
    }
   ],
   "source": [
    "result.group()"
   ]
  },
  {
   "cell_type": "code",
   "execution_count": null,
   "metadata": {},
   "outputs": [],
   "source": []
  },
  {
   "cell_type": "markdown",
   "metadata": {},
   "source": [
    "Давайте возьмем более наглядный пример:\n",
    "\n",
    "\n",
    "![](https://i.ibb.co/NtCW3c8/aa.jpg)"
   ]
  },
  {
   "cell_type": "code",
   "execution_count": 76,
   "metadata": {},
   "outputs": [],
   "source": [
    "date1 = \"Jan 1987\"\n",
    "date2 = \"May 1969\"\n",
    "date3 = \"Aug 2011\""
   ]
  },
  {
   "cell_type": "markdown",
   "metadata": {},
   "source": [
    "**1. Компиляция RE**"
   ]
  },
  {
   "cell_type": "code",
   "execution_count": 77,
   "metadata": {},
   "outputs": [],
   "source": [
    "date_p = re.compile(r\"(\\w{3}) (\\d{4})\")"
   ]
  },
  {
   "cell_type": "markdown",
   "metadata": {},
   "source": [
    "**2. Применение**"
   ]
  },
  {
   "cell_type": "code",
   "execution_count": 78,
   "metadata": {},
   "outputs": [
    {
     "data": {
      "text/plain": [
       "<re.Match object; span=(0, 8), match='Jan 1987'>"
      ]
     },
     "execution_count": 78,
     "metadata": {},
     "output_type": "execute_result"
    }
   ],
   "source": [
    "res = date_p.match(date1)\n",
    "res"
   ]
  },
  {
   "cell_type": "markdown",
   "metadata": {},
   "source": [
    "**3. Разбор результатов**"
   ]
  },
  {
   "cell_type": "code",
   "execution_count": 79,
   "metadata": {},
   "outputs": [
    {
     "data": {
      "text/plain": [
       "('Jan', '1987')"
      ]
     },
     "execution_count": 79,
     "metadata": {},
     "output_type": "execute_result"
    }
   ],
   "source": [
    "res.groups()"
   ]
  },
  {
   "cell_type": "code",
   "execution_count": 80,
   "metadata": {},
   "outputs": [
    {
     "data": {
      "text/plain": [
       "'Jan 1987'"
      ]
     },
     "execution_count": 80,
     "metadata": {},
     "output_type": "execute_result"
    }
   ],
   "source": [
    "res.group()"
   ]
  },
  {
   "cell_type": "code",
   "execution_count": 81,
   "metadata": {},
   "outputs": [
    {
     "data": {
      "text/plain": [
       "'Jan'"
      ]
     },
     "execution_count": 81,
     "metadata": {},
     "output_type": "execute_result"
    }
   ],
   "source": [
    "res.group(1)"
   ]
  },
  {
   "cell_type": "code",
   "execution_count": 82,
   "metadata": {},
   "outputs": [
    {
     "data": {
      "text/plain": [
       "'1987'"
      ]
     },
     "execution_count": 82,
     "metadata": {},
     "output_type": "execute_result"
    }
   ],
   "source": [
    "res.group(2)"
   ]
  },
  {
   "cell_type": "code",
   "execution_count": 83,
   "metadata": {},
   "outputs": [
    {
     "data": {
      "text/plain": [
       "'Jan 1987'"
      ]
     },
     "execution_count": 83,
     "metadata": {},
     "output_type": "execute_result"
    }
   ],
   "source": [
    "res.group(0)"
   ]
  },
  {
   "cell_type": "markdown",
   "metadata": {},
   "source": [
    "Группы внутри групп возможны. Все группы упорядочиваются по открывающейся скобке."
   ]
  },
  {
   "cell_type": "code",
   "execution_count": 84,
   "metadata": {},
   "outputs": [
    {
     "name": "stdout",
     "output_type": "stream",
     "text": [
      "aabcc ('abc', 'b', 'c')\n"
     ]
    }
   ],
   "source": [
    "expr = re.compile('a(a(.)c)(c)') \n",
    "res = expr.search('aaabccc')\n",
    "print(res.group(), res.groups())"
   ]
  },
  {
   "cell_type": "markdown",
   "metadata": {},
   "source": [
    "## re.sub()\n",
    "\n",
    "Замена подстрок, найденных регуляркой на другую подстроку.\n",
    "\n",
    "Команда: `re.sub(\"что заменяем\", \"на что заменяем\", \"где заменяем\")`\n",
    "\n",
    "Например, мы скачали много постов с ссылками и хотим эти ссылки удалить. А в тексте оставить строку \"[здесь была ссылка]\", чтобы мы всегда могли подсчитать, сколько ссылок было изначально."
   ]
  },
  {
   "cell_type": "code",
   "execution_count": 85,
   "metadata": {},
   "outputs": [
    {
     "name": "stdout",
     "output_type": "stream",
     "text": [
      " 13 сентября будем ходить ходуном. Прямо  48asd7h во дворе Пауэрхауса. Всё, как обычно, только соскучившись. Новые песни, старые песни. Прыжки и кувырки. Радость и смех.\n",
      "13Такое надо в корне пресекать!\n",
      "13Билеты: https://sbp4band.ticketscloud.org \n",
      "\n",
      "Пожалуйста, планируйте приобретение билетов заранее. Высока вероятность, что продажа на входе осуществляться не будет\n"
     ]
    }
   ],
   "source": [
    "text = \"\"\" 13 сентября будем ходить ходуном. Прямо  48asd7h во дворе Пауэрхауса. Всё, как обычно, только соскучившись. Новые песни, старые песни. Прыжки и кувырки. Радость и смех.\n",
    "13Такое надо в корне пресекать!\n",
    "13Билеты: https://sbp4band.ticketscloud.org \n",
    "\n",
    "Пожалуйста, планируйте приобретение билетов заранее. Высока вероятность, что продажа на входе осуществляться не будет\"\"\"\n",
    "\n",
    "print(text)"
   ]
  },
  {
   "cell_type": "code",
   "execution_count": 86,
   "metadata": {},
   "outputs": [],
   "source": [
    "html = r\"https://.+\\b\""
   ]
  },
  {
   "cell_type": "markdown",
   "metadata": {},
   "source": [
    "Как бы мы попытались заменить ссылки без `re`:"
   ]
  },
  {
   "cell_type": "code",
   "execution_count": 87,
   "metadata": {},
   "outputs": [
    {
     "data": {
      "text/plain": [
       "' 13 сентября будем ходить ходуном. Прямо  48asd7h во дворе Пауэрхауса. Всё, как обычно, только соскучившись. Новые песни, старые песни. Прыжки и кувырки. Радость и смех.\\n13Такое надо в корне пресекать!\\n13Билеты: https://sbp4band.ticketscloud.org \\n\\nПожалуйста, планируйте приобретение билетов заранее. Высока вероятность, что продажа на входе осуществляться не будет'"
      ]
     },
     "execution_count": 87,
     "metadata": {},
     "output_type": "execute_result"
    }
   ],
   "source": [
    "text.replace(html, \"<LINK>\")"
   ]
  },
  {
   "cell_type": "markdown",
   "metadata": {},
   "source": [
    "Используйте `re.sub()`:"
   ]
  },
  {
   "cell_type": "code",
   "execution_count": 88,
   "metadata": {},
   "outputs": [
    {
     "name": "stdout",
     "output_type": "stream",
     "text": [
      " 13 сентября будем ходить ходуном. Прямо  48asd7h во дворе Пауэрхауса. Всё, как обычно, только соскучившись. Новые песни, старые песни. Прыжки и кувырки. Радость и смех.\n",
      "13Такое надо в корне пресекать!\n",
      "13Билеты: <LINK> \n",
      "\n",
      "Пожалуйста, планируйте приобретение билетов заранее. Высока вероятность, что продажа на входе осуществляться не будет\n"
     ]
    }
   ],
   "source": [
    "text = re.sub(html, \"<LINK>\", text)\n",
    "\n",
    "print(text)"
   ]
  },
  {
   "cell_type": "markdown",
   "metadata": {},
   "source": [
    "Такая запись тоже имеет место быть:"
   ]
  },
  {
   "cell_type": "code",
   "execution_count": 89,
   "metadata": {},
   "outputs": [
    {
     "name": "stdout",
     "output_type": "stream",
     "text": [
      " 13 сентября будем ходить ходуном. Прямо  48asd7h во дворе Пауэрхауса. Всё, как обычно, только соскучившись. Новые песни, старые песни. Прыжки и кувырки. Радость и смех.\n",
      "13Такое надо в корне пресекать!\n",
      "13Билеты: <LINK> \n",
      "\n",
      "Пожалуйста, планируйте приобретение билетов заранее. Высока вероятность, что продажа на входе осуществляться не будет\n"
     ]
    }
   ],
   "source": [
    "html_p = re.compile(r\"https://.+\\b\")\n",
    "print(html_p.sub(\"<LINK>\", text))"
   ]
  },
  {
   "cell_type": "code",
   "execution_count": 90,
   "metadata": {},
   "outputs": [
    {
     "data": {
      "text/plain": [
       "' 13 сентября будем ходить ходуном. Прямо  48asd7h во дворе Пауэрхауса. Всё, как обычно, только соскучившись. Новые песни, старые песни. Прыжки и кувырки. Радость и смех.\\n13Такое надо в корне пресекать!\\n13Билеты: <LINK> \\n\\nПожалуйста, планируйте приобретение билетов заранее. Высока вероятность, что продажа на входе осуществляться не будет'"
      ]
     },
     "execution_count": 90,
     "metadata": {},
     "output_type": "execute_result"
    }
   ],
   "source": [
    "text"
   ]
  },
  {
   "cell_type": "code",
   "execution_count": 91,
   "metadata": {},
   "outputs": [
    {
     "data": {
      "text/plain": [
       "1"
      ]
     },
     "execution_count": 91,
     "metadata": {},
     "output_type": "execute_result"
    }
   ],
   "source": [
    "text.count(\"<LINK>\") # cколько ссылок в тексте"
   ]
  },
  {
   "cell_type": "markdown",
   "metadata": {},
   "source": [
    "## re.split()\n",
    "\n",
    "Деление строки на части, разделителем является регулярное выражение\n",
    "\n",
    "Команда: `re.split(\"разделитель\", \"что делим\")`"
   ]
  },
  {
   "cell_type": "code",
   "execution_count": 92,
   "metadata": {},
   "outputs": [],
   "source": [
    "p = re.compile(\"a\")"
   ]
  },
  {
   "cell_type": "code",
   "execution_count": 93,
   "metadata": {},
   "outputs": [
    {
     "data": {
      "text/plain": [
       "['Abr', 'c', 'd', 'br', 'br']"
      ]
     },
     "execution_count": 93,
     "metadata": {},
     "output_type": "execute_result"
    }
   ],
   "source": [
    "re.split(p,  \"Abracadabrabr\")"
   ]
  },
  {
   "cell_type": "code",
   "execution_count": null,
   "metadata": {},
   "outputs": [],
   "source": [
    "re.split(\"\\n\\n\", text)"
   ]
  },
  {
   "cell_type": "code",
   "execution_count": 99,
   "metadata": {},
   "outputs": [
    {
     "data": {
      "text/plain": [
       "'Мэр Москвы Сергей Собянин предложил закрыть тему об установке памятника на Лубянке и остановить голосование за выбор кандидата для него. Об этом говорится в сообщении на его сайте.\\n\\nСобянин указал, что после двух дней с небольшим отрывом «побеждали сторонники Александра Невского», но при этом очевидно, что общественное мнение разделилось примерно пополам и голосование «больше превращается в противостояние людей, придерживающихся разных взглядов». По мнению мэра, Лубянской площади «необходима архитектурная доминанта, на роль которой лучше всего подходит памятник человеку или событию, оставившему яркий след в истории Отечества».\\n'"
      ]
     },
     "execution_count": 99,
     "metadata": {},
     "output_type": "execute_result"
    }
   ],
   "source": [
    "news"
   ]
  },
  {
   "cell_type": "code",
   "execution_count": 96,
   "metadata": {},
   "outputs": [
    {
     "data": {
      "text/plain": [
       "'Мэр Москвы Сергей Собянин предложил закрыть тему об установке памятника на Лубянке и остановить голосование за выбор кандидата для него. Об этом говорится в сообщении на его сайте.'"
      ]
     },
     "execution_count": 96,
     "metadata": {},
     "output_type": "execute_result"
    }
   ],
   "source": [
    "re.split(\"\\n\\n\", news)[0]"
   ]
  },
  {
   "cell_type": "markdown",
   "metadata": {},
   "source": [
    "А теперь, наконец-таки, мы научимся ПРАВИЛЬНО делить слова на предложения:"
   ]
  },
  {
   "cell_type": "code",
   "execution_count": 97,
   "metadata": {},
   "outputs": [
    {
     "data": {
      "text/plain": [
       "['',\n",
       " 'Мэр Москвы Сергей Собянин предложил закрыть тему об установке памятника на Лубянке и остановить голосование за выбор кандидата для него.',\n",
       " '',\n",
       " 'Об этом говорится в сообщении на его сайте.',\n",
       " '\\n',\n",
       " 'Собянин указал, что после двух дней с небольшим отрывом «побеждали сторонники Александра Невского», но при этом очевидно, что общественное мнение разделилось примерно пополам и голосование «больше превращается в противостояние людей, придерживающихся разных взглядов».',\n",
       " '',\n",
       " 'По мнению мэра, Лубянской площади «необходима архитектурная доминанта, на роль которой лучше всего подходит памятник человеку или событию, оставившему яркий след в истории Отечества».',\n",
       " '']"
      ]
     },
     "execution_count": 97,
     "metadata": {},
     "output_type": "execute_result"
    }
   ],
   "source": [
    "re.split(r\"(.+?[\\.!\\?]{1,})\\s\", news)"
   ]
  },
  {
   "cell_type": "code",
   "execution_count": 107,
   "metadata": {},
   "outputs": [
    {
     "data": {
      "text/plain": [
       "('Мэр Москвы Сергей Собянин предложил закрыть тему об установке памятника на Лубянке и остановить голосование за выбор кандидата для него.',)"
      ]
     },
     "execution_count": 107,
     "metadata": {},
     "output_type": "execute_result"
    }
   ],
   "source": [
    "re.search(r\"(.+?[\\.!\\?]{1,})\\s\", news).groups(1)"
   ]
  },
  {
   "cell_type": "markdown",
   "metadata": {},
   "source": [
    "_Почему у нас пустые строки и как это исправить?_"
   ]
  },
  {
   "cell_type": "code",
   "execution_count": 108,
   "metadata": {},
   "outputs": [],
   "source": [
    "# your code here"
   ]
  },
  {
   "cell_type": "markdown",
   "metadata": {},
   "source": [
    "**Задание:** напишите регулярное выражение, разделяющее текст на слова. Для примера возьмите текст про концерт 13 сентября"
   ]
  },
  {
   "cell_type": "code",
   "execution_count": null,
   "metadata": {},
   "outputs": [],
   "source": [
    "# your code here"
   ]
  },
  {
   "cell_type": "markdown",
   "metadata": {},
   "source": [
    "И еще интересный случай:"
   ]
  },
  {
   "cell_type": "code",
   "execution_count": null,
   "metadata": {},
   "outputs": [],
   "source": [
    "[i[0] for i in re.findall(\"(I love (cats|dogs))\", \"I love cats, I love dogs\")]"
   ]
  },
  {
   "cell_type": "code",
   "execution_count": null,
   "metadata": {},
   "outputs": [],
   "source": []
  },
  {
   "cell_type": "markdown",
   "metadata": {},
   "source": [
    "Хорошие материалы для продолжения изучения:\n",
    "\n",
    "* https://habr.com/ru/post/115825/ и https://habr.com/ru/post/115436/)\n",
    "* https://ru.wikipedia.org/wiki/Регулярные_выражения\n",
    "* https://www.exlab.net/files/tools/sheets/regexp/regexp.pdf"
   ]
  }
 ],
 "metadata": {
  "kernelspec": {
   "display_name": "Python 3",
   "language": "python",
   "name": "python3"
  },
  "language_info": {
   "codemirror_mode": {
    "name": "ipython",
    "version": 3
   },
   "file_extension": ".py",
   "mimetype": "text/x-python",
   "name": "python",
   "nbconvert_exporter": "python",
   "pygments_lexer": "ipython3",
   "version": "3.8.5"
  }
 },
 "nbformat": 4,
 "nbformat_minor": 2
}
