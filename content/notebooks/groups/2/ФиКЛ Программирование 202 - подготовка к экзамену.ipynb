{
 "cells": [
  {
   "cell_type": "markdown",
   "id": "72c41177",
   "metadata": {},
   "source": [
    "# Запись и файлы - <a href = 'https://drive.google.com/drive/folders/1K8BzMXNA1qsfZHTFFv7yJgmjPxguf7UW?usp=sharing'>https://drive.google.com/drive/folders/1K8BzMXNA1qsfZHTFFv7yJgmjPxguf7UW?usp=sharing</a>"
   ]
  },
  {
   "cell_type": "markdown",
   "id": "32e83c08",
   "metadata": {},
   "source": [
    "## Что вас ждет на экзамене\n",
    "\n",
    "- Работа со списками, словарями\n",
    "- Файлы JSON, CSV\n",
    "- Регулярные выражения\n",
    "- Формат строк\n",
    "<hr>"
   ]
  },
  {
   "cell_type": "markdown",
   "id": "6b1f4b84",
   "metadata": {},
   "source": [
    "### Задача 1\n",
    "\n",
    "Сохранить себе проект pykili (https://github.com/pykili/pykili.github.io), найти все файлы формата .md и сформировать словарь, где ключ - название папки, а значение - лист файлов с форматом .md \n",
    "\n",
    "hint: домашняя директория будет pykili.github.io, файл readme.md можно проигнорировать"
   ]
  },
  {
   "cell_type": "code",
   "execution_count": 42,
   "id": "8403ec7c",
   "metadata": {},
   "outputs": [],
   "source": [
    "import os\n",
    "dct = {}\n",
    "for root, dirs, files in os.walk('pykili'):\n",
    "    list = []\n",
    "    for file in files:\n",
    "        if os.path.splitext(file)[1] == '.md':\n",
    "            list.append(file)\n",
    "    if list:\n",
    "        dct['\\\\'.join(root.split('\\\\')[4:])] = list"
   ]
  },
  {
   "cell_type": "code",
   "execution_count": 43,
   "id": "a3ff2891",
   "metadata": {},
   "outputs": [
    {
     "data": {
      "text/plain": [
       "{'': ['readme.md']}"
      ]
     },
     "execution_count": 43,
     "metadata": {},
     "output_type": "execute_result"
    }
   ],
   "source": [
    "dct"
   ]
  },
  {
   "cell_type": "code",
   "execution_count": 34,
   "id": "cef01b70",
   "metadata": {},
   "outputs": [],
   "source": [
    "import os\n",
    "\n",
    "start_path = 'pykili'\n",
    "md_files = dict()\n",
    "for root, dirs, files in os.walk(start_path):\n",
    "    for every_file in files:\n",
    "        name = os.path.join(root, every_file)\n",
    "        if name.endswith('.md'):\n",
    "            if '/'.join(name.split('/')[:-1]) not in md_files.keys():\n",
    "                md_files['/'.join(name.split('/')[:-1])] = [name.split('/')[-1]]\n",
    "            else: \n",
    "                md_files['/'.join(name.split('/')[:-1])].append(name.split('/')[-1])"
   ]
  },
  {
   "cell_type": "code",
   "execution_count": 44,
   "id": "cbf793fa",
   "metadata": {},
   "outputs": [
    {
     "data": {
      "text/plain": [
       "{}"
      ]
     },
     "execution_count": 44,
     "metadata": {},
     "output_type": "execute_result"
    }
   ],
   "source": [
    "md_files"
   ]
  },
  {
   "cell_type": "code",
   "execution_count": 45,
   "id": "4dd9d4d3",
   "metadata": {},
   "outputs": [],
   "source": [
    "import os\n",
    "\n",
    "md_dict = {}\n",
    "for root, dirs, files in os.walk('pykili/pykili.github.io'):\n",
    "    file_list = [everyfile for everyfile in files if os.path.splitext(everyfile)[1] == '.md']\n",
    "    if file_list != []:\n",
    "        md_dict[root] = file_list"
   ]
  },
  {
   "cell_type": "code",
   "execution_count": 46,
   "id": "8e4632f9",
   "metadata": {},
   "outputs": [
    {
     "data": {
      "text/plain": [
       "{'pykili/pykili.github.io': ['README.md'],\n",
       " 'pykili/pykili.github.io/_includes/prog': ['hwfooter.md'],\n",
       " 'pykili/pykili.github.io/_includes/prog/landing': ['extra.md',\n",
       "  'logistics.md'],\n",
       " 'pykili/pykili.github.io/_docs/lingdata': ['practicum-elan.md',\n",
       "  'practicum_spreadsheets-2.md',\n",
       "  'practicum-web-corpora.md',\n",
       "  'practicum-antconc.md',\n",
       "  'homework_transcript.md',\n",
       "  'exam_projects.md',\n",
       "  'homework-data-analysis-1.md',\n",
       "  'homework-data-analysis-2.md',\n",
       "  'homework-elan-2.md',\n",
       "  'index.md',\n",
       "  'homework-morpho.md',\n",
       "  'homework_record.md',\n",
       "  'homework-elan.md'],\n",
       " 'pykili/pykili.github.io/_docs/lingdata/data': ['readme.md'],\n",
       " 'pykili/pykili.github.io/_docs/prog': ['26-telegram-bot.md',\n",
       "  '25-json.md',\n",
       "  '24-train-task.md',\n",
       "  '08-test-preparation.md',\n",
       "  '04-lists.md',\n",
       "  '05-files.md',\n",
       "  '01-git_and_python_intro.md',\n",
       "  '02-if-and-comparison-ops.md',\n",
       "  '18-regexp-sub.md',\n",
       "  '19-regexp-findall.md',\n",
       "  'dict-2.md',\n",
       "  '06-write-files.md',\n",
       "  '10-functions-two.md',\n",
       "  '11-rick-and-morty.md',\n",
       "  'projects.md',\n",
       "  '12-functions-and-import.md',\n",
       "  '07-functions.md',\n",
       "  '23-tree-and-format.md',\n",
       "  '16-regexp.md',\n",
       "  '22-file-manipulation.md',\n",
       "  '03-loops.md',\n",
       "  '15-south-park.md',\n",
       "  '17-regexp-group.md',\n",
       "  '20-test-preparation.md',\n",
       "  'dict-1-set.md'],\n",
       " 'pykili/pykili.github.io/_docs/prog/archive': ['08-test-preparation.md',\n",
       "  '00-bonus-tasks.md',\n",
       "  'str.md'],\n",
       " 'pykili/pykili.github.io/content/notes/groups/04': ['note1.md'],\n",
       " 'pykili/pykili.github.io/img/data_udpipe': ['readme.md'],\n",
       " 'pykili/pykili.github.io/img/data_antconc': ['readme.md'],\n",
       " 'pykili/pykili.github.io/img/data_webcorpora': ['readme.md'],\n",
       " 'pykili/pykili.github.io/img/data_elan': ['readme.md']}"
      ]
     },
     "execution_count": 46,
     "metadata": {},
     "output_type": "execute_result"
    }
   ],
   "source": [
    "md_dict"
   ]
  },
  {
   "cell_type": "markdown",
   "id": "73c02bca",
   "metadata": {},
   "source": [
    "### Задача 2\n",
    "\n",
    "Скачать файл https://drive.google.com/file/d/1SJif7NLXclRM6Ertt7XRW-YZOPUzBBxF/view?usp=sharing - рейтинг World Happiness Report 2021. Вам необходимо для каждого региона (Regional Indicator) создать отдельный файл, в котором будут находиться страны только этого региона и их данные"
   ]
  },
  {
   "cell_type": "code",
   "execution_count": 75,
   "id": "158f045f",
   "metadata": {},
   "outputs": [
    {
     "data": {
      "text/plain": [
       "'/Users/antonleonov/Desktop/ncov articles'"
      ]
     },
     "execution_count": 75,
     "metadata": {},
     "output_type": "execute_result"
    }
   ],
   "source": [
    "os.getcwd()"
   ]
  },
  {
   "cell_type": "code",
   "execution_count": 52,
   "id": "04cb710c",
   "metadata": {},
   "outputs": [],
   "source": [
    "os.chdir('whr')"
   ]
  },
  {
   "cell_type": "code",
   "execution_count": 72,
   "id": "aa9b52cd",
   "metadata": {},
   "outputs": [],
   "source": [
    "import csv\n",
    "with open('world-happiness-report-2021.csv', encoding='utf-8') as file:\n",
    "    dct = csv.DictReader(file)\n",
    "    for line in dct:\n",
    "        with open(line['Regional indicator'] + '.csv', 'a', encoding='utf-8') as new:\n",
    "            dctwrite = csv.DictWriter(new, fieldnames=line.keys())\n",
    "            dctwrite.writerow(line)"
   ]
  },
  {
   "cell_type": "code",
   "execution_count": null,
   "id": "99965a72",
   "metadata": {},
   "outputs": [],
   "source": []
  },
  {
   "cell_type": "markdown",
   "id": "8c918f15",
   "metadata": {},
   "source": [
    "### Задача 3\n",
    "Скачать архив с 3 статьями о коронавирусе - https://drive.google.com/file/d/1iNGJo-xar9S6hpZE6lB4SjzLu65hT1MU/view?usp=sharing \n",
    "    Внутри будут лежать json-файлы. Посмотрите как они выглядят, сформируйте на их основе 3 txt-файла, где название файла - заголовок статьи, а текст файла - текст статьи. Обратите внимание, что текст разделен на куски, вам их надо соединить"
   ]
  },
  {
   "cell_type": "code",
   "execution_count": 74,
   "id": "92843632",
   "metadata": {},
   "outputs": [],
   "source": [
    "os.chdir('../ncov articles')"
   ]
  },
  {
   "cell_type": "code",
   "execution_count": 83,
   "id": "64ba329d",
   "metadata": {},
   "outputs": [],
   "source": [
    "import json\n",
    "import os\n",
    "\n",
    "\n",
    "for root, dirs, files in os.walk(os.getcwd()):\n",
    "    for every_file in files:\n",
    "        if os.path.splitext(every_file)[1] == '.json':\n",
    "            with open(every_file, 'r', encoding=\"utf-8\") as f:\n",
    "                data = json.load(f)\n",
    "                title = data['metadata']['title']\n",
    "                text = \"\"\n",
    "                for i in data['body_text']:\n",
    "                    text += i['text']+\"\\n\"\n",
    "                with open(title[:100] + '.txt', 'w', encoding='utf-8') as result:\n",
    "                    result.write(text)"
   ]
  },
  {
   "cell_type": "markdown",
   "id": "79636b01",
   "metadata": {},
   "source": [
    "### Задача 4\n",
    "\n",
    "Для работы понадобится файл с данными - [exam.zip (18MB)](https://storage.yandexcloud.net/pykili/exam.zip)\n",
    "\n",
    "Архив содержит 7 больших файлов с текстами, обработанными через mystem.\n",
    "Каждый большой файл - это склейка более маленьких файлов. Они собраны вместе для удобства транспортировки.\n",
    "\n",
    "Каждый маленький файл имеет следующую структуру:\n",
    "\n",
    "```xml\n",
    "<html path=\"dir1/dir2\">\n",
    "<body>\n",
    "...\n",
    "</body>\n",
    "</html>\n",
    "```\n",
    "\n",
    "### Задания\n",
    "\n",
    "#### № 1\n",
    "\n",
    "Напишите программу, которая разделит большие файлы на маленькие. Каждый маленький файл нужно положить в папку, в соответствии со значением в артибуте `path` тега `html`. Название файла выберите произвольное (уникальное). Расширение файла должно быть `.mystem`.\n",
    "\n",
    "#### № 2\n",
    "\n",
    "После разделения больших файлов у вас должны были получиться файлы со следующей структурой:\n",
    "\n",
    "```xml\n",
    "<html path=\"dir1/dir2\">\n",
    "<body>\n",
    "<se>\n",
    "<w><ana lex=\"...\" gr=\"...\"/><ana lex=\"...\" gr=\"...\"/>слово</w>\n",
    "...\n",
    "</se>\n",
    "...\n",
    "</body>\n",
    "</html>\n",
    "```\n",
    "\n",
    "Каждое слово предложения имеет несколько вариантов морфологического разбора. Каждый из вариантов вместе со своей леммой содержится в теге `ana`. Самым первым идет наиболее вероятный разбор.\n",
    "\n",
    "- извлеките из каждого файла `.mystem` все предложения и запишите каждое на новой строке рядом с исходным файлом в другом файле с расширением `.sent`. Предложения должны быть сформированы из **наименее** вероятных лемм.\n",
    "- ... **наиболее** вероятных лемм\n",
    "- ... только из существительных\n"
   ]
  },
  {
   "cell_type": "code",
   "execution_count": null,
   "id": "15ff6284",
   "metadata": {},
   "outputs": [],
   "source": []
  }
 ],
 "metadata": {
  "kernelspec": {
   "display_name": "Python 3",
   "language": "python",
   "name": "python3"
  },
  "language_info": {
   "codemirror_mode": {
    "name": "ipython",
    "version": 3
   },
   "file_extension": ".py",
   "mimetype": "text/x-python",
   "name": "python",
   "nbconvert_exporter": "python",
   "pygments_lexer": "ipython3",
   "version": "3.8.10"
  }
 },
 "nbformat": 4,
 "nbformat_minor": 5
}
