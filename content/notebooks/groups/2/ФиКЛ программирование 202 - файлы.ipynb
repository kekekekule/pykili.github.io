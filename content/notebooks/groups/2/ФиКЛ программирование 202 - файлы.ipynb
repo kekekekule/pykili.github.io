{
 "cells": [
  {
   "cell_type": "markdown",
   "metadata": {},
   "source": [
    "## Запись лекции - <a href='https://drive.google.com/file/d/1q_KHcKAh0SUADRjrsuyG6FOSc-o2J3Ug/view?usp=sharing'>Здесь</a>"
   ]
  },
  {
   "cell_type": "code",
   "execution_count": 1,
   "metadata": {},
   "outputs": [],
   "source": [
    "import os"
   ]
  },
  {
   "cell_type": "markdown",
   "metadata": {},
   "source": [
    "### Посмотреть что находится в текущей папке (в нашем случае там, где запущен скрипт)"
   ]
  },
  {
   "cell_type": "code",
   "execution_count": 4,
   "metadata": {},
   "outputs": [
    {
     "data": {
      "text/plain": [
       "['study projects',\n",
       " 'Новая папка',\n",
       " 'pykili',\n",
       " 'Программирование 202 - подготовка к КР.ipynb',\n",
       " 'ОБ',\n",
       " '.DS_Store',\n",
       " '.localized',\n",
       " 'Untitled.ipynb',\n",
       " 'Программирование 202 - файлы.ipynb',\n",
       " 'vpn.ovpn',\n",
       " 'Automation webinar.mov',\n",
       " 'КНИГА_БРИНТОН_graficheskoe_izobrazhenie_faktov.pdf',\n",
       " 'ml',\n",
       " 'Говори на языке диаграмм.pdf',\n",
       " 'na_centre_|_analytics.ipynb',\n",
       " '.ipynb_checkpoints',\n",
       " 'dannye-vizualiziruj-rasskazhi-ispolzuj.pdf',\n",
       " 'Ясно, понятно — версия для СМИ\\xa072ppi.pdf',\n",
       " 'FBR']"
      ]
     },
     "execution_count": 4,
     "metadata": {},
     "output_type": "execute_result"
    }
   ],
   "source": [
    "file_list = os.listdir('.')\n",
    "file_list"
   ]
  },
  {
   "cell_type": "markdown",
   "metadata": {},
   "source": [
    "<hr>\n",
    "Дерево файловой системы в большинстве ОС очень похоже, команды для работы с ним ± унифицированы. Путь к папке может быть полный (абсолютный) или относительный. При полном пути вам необходимо прописать весь путь к файлу, начиная с диска, где расположен файл (C:/users/Anton/Desktop/cats.jpg). В относительном пути мы отталкиваемся от какой-то точки, в которой находимся сейчас (например, C:/users/Anton/) и задаем путь от нее - Desktop/cats.jpg)\n",
    "<hr>"
   ]
  },
  {
   "cell_type": "code",
   "execution_count": 5,
   "metadata": {},
   "outputs": [
    {
     "data": {
      "text/plain": [
       "'/Users/antonleonov/Desktop/Программирование 202 - файлы.ipynb'"
      ]
     },
     "execution_count": 5,
     "metadata": {},
     "output_type": "execute_result"
    }
   ],
   "source": [
    "os.path.abspath('Программирование 202 - файлы.ipynb')"
   ]
  },
  {
   "cell_type": "code",
   "execution_count": 6,
   "metadata": {},
   "outputs": [
    {
     "data": {
      "text/plain": [
       "'/Users/antonleonov/Desktop/pykili/olympics.csv'"
      ]
     },
     "execution_count": 6,
     "metadata": {},
     "output_type": "execute_result"
    }
   ],
   "source": [
    "os.path.abspath('pykili/olympics.csv')"
   ]
  },
  {
   "cell_type": "code",
   "execution_count": 7,
   "metadata": {},
   "outputs": [
    {
     "data": {
      "text/plain": [
       "'/Users/antonleonov/Desktop'"
      ]
     },
     "execution_count": 7,
     "metadata": {},
     "output_type": "execute_result"
    }
   ],
   "source": [
    "os.getcwd()"
   ]
  },
  {
   "cell_type": "markdown",
   "metadata": {},
   "source": [
    "Обратите внимание, что список в директории выводит все - и файлы и папки. Для файловой состемы особой разницы нет, что из себя представляет сам файл, у них в аттрибутах стоит флаг, определяющий файл это или папка.\n",
    "<br>\n",
    "Listdir возвращает элементы в нерегламентированном порядке - если вам нужно его отсортировать, лучше использовать sorted"
   ]
  },
  {
   "cell_type": "code",
   "execution_count": 8,
   "metadata": {},
   "outputs": [
    {
     "data": {
      "text/plain": [
       "['.DS_Store',\n",
       " '.ipynb_checkpoints',\n",
       " '.localized',\n",
       " 'Automation webinar.mov',\n",
       " 'FBR',\n",
       " 'Untitled.ipynb',\n",
       " 'dannye-vizualiziruj-rasskazhi-ispolzuj.pdf',\n",
       " 'ml',\n",
       " 'na_centre_|_analytics.ipynb',\n",
       " 'pykili',\n",
       " 'study projects',\n",
       " 'vpn.ovpn',\n",
       " 'Говори на языке диаграмм.pdf',\n",
       " 'КНИГА_БРИНТОН_graficheskoe_izobrazhenie_faktov.pdf',\n",
       " 'Новая папка',\n",
       " 'ОБ',\n",
       " 'Программирование 202 - подготовка к КР.ipynb',\n",
       " 'Программирование 202 - файлы.ipynb',\n",
       " 'Ясно, понятно — версия для СМИ\\xa072ppi.pdf']"
      ]
     },
     "execution_count": 8,
     "metadata": {},
     "output_type": "execute_result"
    }
   ],
   "source": [
    "sorted(os.listdir('.'))"
   ]
  },
  {
   "cell_type": "markdown",
   "metadata": {},
   "source": [
    "Чтобы определить файл перед нами или папка, можно воспользоваться .path.isfile"
   ]
  },
  {
   "cell_type": "code",
   "execution_count": 9,
   "metadata": {},
   "outputs": [
    {
     "data": {
      "text/plain": [
       "True"
      ]
     },
     "execution_count": 9,
     "metadata": {},
     "output_type": "execute_result"
    }
   ],
   "source": [
    "os.path.isfile('Программирование 202 - файлы.ipynb')"
   ]
  },
  {
   "cell_type": "code",
   "execution_count": 10,
   "metadata": {},
   "outputs": [
    {
     "data": {
      "text/plain": [
       "False"
      ]
     },
     "execution_count": 10,
     "metadata": {},
     "output_type": "execute_result"
    }
   ],
   "source": [
    "os.path.isfile('pykili')"
   ]
  },
  {
   "cell_type": "code",
   "execution_count": 12,
   "metadata": {},
   "outputs": [
    {
     "name": "stdout",
     "output_type": "stream",
     "text": [
      "pykili/ФиКЛ программирование 202 - регулярки - 2.ipynb\n",
      "pykili/Без имени.jpg\n",
      "pykili/ФиКЛ Программирование 202 - Словари - 3.ipynb\n",
      "pykili/.DS_Store\n",
      "pykili/ПиКЛ - Словари.mp4\n",
      "pykili/pykili.github.io\n",
      "pykili/Untitled.ipynb\n",
      "pykili/ФиКЛ программирование 202 - регулярки - 3.ipynb\n",
      "pykili/Регулярки - 3.mp4\n",
      "pykili/unece.json\n",
      "pykili/ПиКЛ 202 - Словари (2).mp4\n",
      "pykili/ФиКЛ программирование 202 - словари - 2.ipynb\n",
      "pykili/ФиКЛ программирование 202 - словари.ipynb\n",
      "pykili/ПиКЛ - регулярочки.mov\n",
      "pykili/ПиКЛ - Словари (3).mp4\n",
      "pykili/.ipynb_checkpoints\n",
      "pykili/olympics.csv\n"
     ]
    }
   ],
   "source": [
    "dirstart = 'pykili'\n",
    "for filename in os.listdir(dirstart):\n",
    "    print(dirstart + '/' + filename)"
   ]
  },
  {
   "cell_type": "code",
   "execution_count": 13,
   "metadata": {},
   "outputs": [
    {
     "name": "stdout",
     "output_type": "stream",
     "text": [
      "pykili/ФиКЛ программирование 202 - регулярки - 2.ipynb\n",
      "pykili/Без имени.jpg\n",
      "pykili/ФиКЛ Программирование 202 - Словари - 3.ipynb\n",
      "pykili/.DS_Store\n",
      "pykili/ПиКЛ - Словари.mp4\n",
      "pykili/pykili.github.io\n",
      "pykili/Untitled.ipynb\n",
      "pykili/ФиКЛ программирование 202 - регулярки - 3.ipynb\n",
      "pykili/Регулярки - 3.mp4\n",
      "pykili/unece.json\n",
      "pykili/ПиКЛ 202 - Словари (2).mp4\n",
      "pykili/ФиКЛ программирование 202 - словари - 2.ipynb\n",
      "pykili/ФиКЛ программирование 202 - словари.ipynb\n",
      "pykili/ПиКЛ - регулярочки.mov\n",
      "pykili/ПиКЛ - Словари (3).mp4\n",
      "pykili/.ipynb_checkpoints\n",
      "pykili/olympics.csv\n"
     ]
    }
   ],
   "source": [
    "dirstart = 'pykili'\n",
    "for filename in os.listdir(dirstart):\n",
    "    print(os.path.join(dirstart, filename))"
   ]
  },
  {
   "cell_type": "code",
   "execution_count": 20,
   "metadata": {},
   "outputs": [
    {
     "name": "stdout",
     "output_type": "stream",
     "text": [
      "В тетрадке ФиКЛ программирование 202 - регулярки - 2.ipynb есть что-то о регулярных выражениях\n",
      "В тетрадке ФиКЛ программирование 202 - регулярки - 3.ipynb есть что-то о регулярных выражениях\n"
     ]
    }
   ],
   "source": [
    "for filename in os.listdir(dirstart):\n",
    "    filepath = os.path.join(dirstart, filename)\n",
    "    if (os.path.isfile(filepath)) & ('.ipynb' in filepath):\n",
    "        with open(filepath, encoding='utf-8') as fd:\n",
    "            if 'Регулярные выражения' in fd.read():\n",
    "                print('В тетрадке ' + filename + ' есть что-то о регулярных выражениях')"
   ]
  },
  {
   "cell_type": "code",
   "execution_count": 17,
   "metadata": {},
   "outputs": [
    {
     "name": "stdout",
     "output_type": "stream",
     "text": [
      "./pykili/pykili.github.io README.md\n"
     ]
    }
   ],
   "source": [
    "path = './pykili/pykili.github.io/README.md'\n",
    "dirpath, filename = os.path.split(path)\n",
    "print(dirpath + \" \" + filename)"
   ]
  },
  {
   "cell_type": "code",
   "execution_count": 19,
   "metadata": {},
   "outputs": [
    {
     "data": {
      "text/plain": [
       "'.md'"
      ]
     },
     "execution_count": 19,
     "metadata": {},
     "output_type": "execute_result"
    }
   ],
   "source": [
    "os.path.splitext(path)[1]"
   ]
  },
  {
   "cell_type": "markdown",
   "metadata": {},
   "source": [
    "В дополнение к .isfile также есть еще функции isdir и islink, а также проверка на то, что файл вообще существует - os.path.exists. Если вы откуда-то получаете список файлов или путей к ним - хорошая идея сначала проверять их сущестование"
   ]
  },
  {
   "cell_type": "code",
   "execution_count": 21,
   "metadata": {},
   "outputs": [
    {
     "data": {
      "text/plain": [
       "'./pykili/pykili.github.io/README.md'"
      ]
     },
     "execution_count": 21,
     "metadata": {},
     "output_type": "execute_result"
    }
   ],
   "source": [
    "path"
   ]
  },
  {
   "cell_type": "code",
   "execution_count": 22,
   "metadata": {},
   "outputs": [
    {
     "data": {
      "text/plain": [
       "True"
      ]
     },
     "execution_count": 22,
     "metadata": {},
     "output_type": "execute_result"
    }
   ],
   "source": [
    "os.path.exists(path)"
   ]
  },
  {
   "cell_type": "code",
   "execution_count": 23,
   "metadata": {},
   "outputs": [
    {
     "data": {
      "text/plain": [
       "True"
      ]
     },
     "execution_count": 23,
     "metadata": {},
     "output_type": "execute_result"
    }
   ],
   "source": [
    "os.path.isfile(path)"
   ]
  },
  {
   "cell_type": "code",
   "execution_count": 24,
   "metadata": {},
   "outputs": [
    {
     "data": {
      "text/plain": [
       "False"
      ]
     },
     "execution_count": 24,
     "metadata": {},
     "output_type": "execute_result"
    }
   ],
   "source": [
    "os.path.isdir(path)"
   ]
  },
  {
   "cell_type": "code",
   "execution_count": 25,
   "metadata": {},
   "outputs": [
    {
     "data": {
      "text/plain": [
       "True"
      ]
     },
     "execution_count": 25,
     "metadata": {},
     "output_type": "execute_result"
    }
   ],
   "source": [
    "os.path.isdir(dirpath)"
   ]
  },
  {
   "cell_type": "markdown",
   "metadata": {},
   "source": [
    "## Работа с файлами"
   ]
  },
  {
   "cell_type": "markdown",
   "metadata": {},
   "source": [
    "<img src = 'https://i.gyazo.com/528017fbbb1536380f289fc552e16a4b.png'/>"
   ]
  },
  {
   "cell_type": "code",
   "execution_count": null,
   "metadata": {},
   "outputs": [],
   "source": [
    "with open('text.txt', 'w'):\n",
    "    pass"
   ]
  },
  {
   "cell_type": "code",
   "execution_count": 32,
   "metadata": {},
   "outputs": [
    {
     "name": "stdout",
     "output_type": "stream",
     "text": [
      "Test file\n"
     ]
    }
   ],
   "source": [
    "f = open('text.txt', 'r')\n",
    "for line in f:\n",
    "    print(line)"
   ]
  },
  {
   "cell_type": "code",
   "execution_count": 33,
   "metadata": {},
   "outputs": [],
   "source": [
    "os.mkdir('test')"
   ]
  },
  {
   "cell_type": "code",
   "execution_count": 37,
   "metadata": {},
   "outputs": [
    {
     "name": "stdout",
     "output_type": "stream",
     "text": [
      "test/text.txt\n"
     ]
    }
   ],
   "source": [
    "import shutil\n",
    "\n",
    "source = 'text.txt'\n",
    "destination = 'test'\n",
    "path = shutil.move(source, destination)\n",
    "print(path)"
   ]
  },
  {
   "cell_type": "code",
   "execution_count": 38,
   "metadata": {},
   "outputs": [
    {
     "name": "stdout",
     "output_type": "stream",
     "text": [
      "test_text.txt\n"
     ]
    }
   ],
   "source": [
    "final_path = shutil.move(path, 'test_text.txt')\n",
    "print(final_path)"
   ]
  },
  {
   "cell_type": "code",
   "execution_count": 36,
   "metadata": {},
   "outputs": [
    {
     "data": {
      "text/plain": [
       "'text.txt'"
      ]
     },
     "execution_count": 36,
     "metadata": {},
     "output_type": "execute_result"
    }
   ],
   "source": [
    "shutil.move('test_text.txt', 'text.txt')"
   ]
  },
  {
   "cell_type": "code",
   "execution_count": 39,
   "metadata": {},
   "outputs": [
    {
     "data": {
      "text/plain": [
       "'test/test_text.txt'"
      ]
     },
     "execution_count": 39,
     "metadata": {},
     "output_type": "execute_result"
    }
   ],
   "source": [
    "source = 'test_text.txt'\n",
    "shutil.copy(source, destination)"
   ]
  },
  {
   "cell_type": "markdown",
   "metadata": {},
   "source": [
    "Удалить файл - os.remove, а пустую папку - os.rmdir. !!! Удаляется все не в корзину, а сразу стирается с диска, восстановить файлы очень сложно\n"
   ]
  },
  {
   "cell_type": "code",
   "execution_count": 46,
   "metadata": {},
   "outputs": [
    {
     "name": "stdout",
     "output_type": "stream",
     "text": [
      "Deleted dir test/Новая папка\n",
      "Deleted file test/.DS_Store\n"
     ]
    }
   ],
   "source": [
    "for filename in os.listdir(destination):\n",
    "    filedir = os.path.join(destination, filename)\n",
    "    if os.path.isfile(filedir):\n",
    "        print('Deleted file '+ filedir)\n",
    "        os.remove(filedir)\n",
    "    if os.path.isdir(filedir):\n",
    "        print('Deleted dir ' + filedir)\n",
    "        shutil.rmtree(filedir)"
   ]
  },
  {
   "cell_type": "code",
   "execution_count": 43,
   "metadata": {},
   "outputs": [
    {
     "data": {
      "text/plain": [
       "'test_text.txt'"
      ]
     },
     "execution_count": 43,
     "metadata": {},
     "output_type": "execute_result"
    }
   ],
   "source": [
    "filename"
   ]
  },
  {
   "cell_type": "markdown",
   "metadata": {},
   "source": [
    "Удалить папку с файлами - shutil.rmtree"
   ]
  },
  {
   "cell_type": "markdown",
   "metadata": {},
   "source": [
    "### Смена рабочей папки"
   ]
  },
  {
   "cell_type": "code",
   "execution_count": 51,
   "metadata": {},
   "outputs": [
    {
     "data": {
      "text/plain": [
       "'/Users/antonleonov/Desktop'"
      ]
     },
     "execution_count": 51,
     "metadata": {},
     "output_type": "execute_result"
    }
   ],
   "source": [
    "os.getcwd()"
   ]
  },
  {
   "cell_type": "code",
   "execution_count": 52,
   "metadata": {},
   "outputs": [],
   "source": [
    "os.chdir('pykili')"
   ]
  },
  {
   "cell_type": "code",
   "execution_count": 53,
   "metadata": {},
   "outputs": [
    {
     "data": {
      "text/plain": [
       "'/Users/antonleonov/Desktop/pykili'"
      ]
     },
     "execution_count": 53,
     "metadata": {},
     "output_type": "execute_result"
    }
   ],
   "source": [
    "os.getcwd()"
   ]
  },
  {
   "cell_type": "code",
   "execution_count": null,
   "metadata": {},
   "outputs": [],
   "source": []
  },
  {
   "cell_type": "code",
   "execution_count": null,
   "metadata": {},
   "outputs": [],
   "source": []
  },
  {
   "cell_type": "code",
   "execution_count": null,
   "metadata": {},
   "outputs": [],
   "source": []
  },
  {
   "cell_type": "code",
   "execution_count": null,
   "metadata": {},
   "outputs": [],
   "source": []
  },
  {
   "cell_type": "code",
   "execution_count": null,
   "metadata": {},
   "outputs": [],
   "source": []
  },
  {
   "cell_type": "code",
   "execution_count": null,
   "metadata": {},
   "outputs": [],
   "source": []
  },
  {
   "cell_type": "code",
   "execution_count": null,
   "metadata": {},
   "outputs": [],
   "source": []
  },
  {
   "cell_type": "code",
   "execution_count": null,
   "metadata": {},
   "outputs": [],
   "source": []
  },
  {
   "cell_type": "code",
   "execution_count": null,
   "metadata": {},
   "outputs": [],
   "source": [
    "start_path = \"./pykili\""
   ]
  },
  {
   "cell_type": "code",
   "execution_count": null,
   "metadata": {},
   "outputs": [],
   "source": [
    "for root, dir, file in os.walk(start_path):\n",
    "    print('Текущее месторасположение:', root)\n",
    "    print('Папки:', dir)\n",
    "    print('Файлы:', file)"
   ]
  },
  {
   "cell_type": "code",
   "execution_count": null,
   "metadata": {},
   "outputs": [],
   "source": []
  }
 ],
 "metadata": {
  "kernelspec": {
   "display_name": "Python 3",
   "language": "python",
   "name": "python3"
  },
  "language_info": {
   "codemirror_mode": {
    "name": "ipython",
    "version": 3
   },
   "file_extension": ".py",
   "mimetype": "text/x-python",
   "name": "python",
   "nbconvert_exporter": "python",
   "pygments_lexer": "ipython3",
   "version": "3.8.5"
  }
 },
 "nbformat": 4,
 "nbformat_minor": 4
}
