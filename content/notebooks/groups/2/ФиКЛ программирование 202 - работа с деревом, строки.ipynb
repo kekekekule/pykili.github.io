{
 "cells": [
  {
   "cell_type": "markdown",
   "id": "d67344d2",
   "metadata": {},
   "source": [
    "## Пожалуйста заполни <a href='https://forms.gle/TRk9jQDSq8pWdzFY6'>форму обратной связи</a>\n",
    "<hr>\n",
    "<a href='https://drive.google.com/file/d/1Gs7EAKYESUg4MLVv-u7Db6y2_Cej5i5O/view?usp=sharing'>Запись лекции</a>"
   ]
  },
  {
   "cell_type": "code",
   "execution_count": 1,
   "id": "ddf719de",
   "metadata": {},
   "outputs": [],
   "source": [
    "import os"
   ]
  },
  {
   "cell_type": "markdown",
   "id": "ce0eb707",
   "metadata": {},
   "source": [
    "# Работа с деревом файла"
   ]
  },
  {
   "cell_type": "markdown",
   "id": "103b1967",
   "metadata": {},
   "source": [
    "Функция `walk` модуля `os` позволяет обходить все папки, начиная с заданной, и получать на каждой итерации списки всех файлов и папок на этом уровне. См. документацию: `os.walk`"
   ]
  },
  {
   "cell_type": "code",
   "execution_count": null,
   "id": "de05d4ea",
   "metadata": {},
   "outputs": [],
   "source": [
    "start_path = 'pykili'\n",
    "for root, dirs, files in os.walk(start_path):\n",
    "    print('Где мы сейчас:', root)\n",
    "    print('Папки на этом уровне:', dirs)\n",
    "    print('Файлы на этом уровне:', files)"
   ]
  },
  {
   "cell_type": "code",
   "execution_count": null,
   "id": "d09bcbd2",
   "metadata": {},
   "outputs": [],
   "source": [
    "texts = []\n",
    "for root, dirs, files in os.walk(start_path):\n",
    "    for every_file in files:\n",
    "        print(os.path.join(root, every_file))"
   ]
  },
  {
   "cell_type": "markdown",
   "id": "3e584be5",
   "metadata": {},
   "source": [
    "Вывести все .md файлы"
   ]
  },
  {
   "cell_type": "code",
   "execution_count": null,
   "id": "19337e16",
   "metadata": {},
   "outputs": [],
   "source": [
    "texts = []\n",
    "for root, dirs, files in os.walk(start_path):\n",
    "    for every_file in files:\n",
    "        if os.path.splitext(every_file)[1] == '.md':\n",
    "            print(os.path.join(root, every_file))"
   ]
  },
  {
   "cell_type": "markdown",
   "id": "501ca0ba",
   "metadata": {},
   "source": [
    "Обратите внимание, что одна точка обозначает текущую директорию:"
   ]
  },
  {
   "cell_type": "code",
   "execution_count": null,
   "id": "c6f9242e",
   "metadata": {},
   "outputs": [],
   "source": [
    "start_path = \".\"\n",
    "print(\"Что здесь есть:\", os.listdir(start_path))"
   ]
  },
  {
   "cell_type": "markdown",
   "id": "3a11cbc2",
   "metadata": {},
   "source": [
    "Две точки обозначают родительский каталог:"
   ]
  },
  {
   "cell_type": "code",
   "execution_count": 2,
   "id": "dc5ef986",
   "metadata": {},
   "outputs": [
    {
     "data": {
      "text/plain": [
       "'/Users/antonleonov/Desktop'"
      ]
     },
     "execution_count": 2,
     "metadata": {},
     "output_type": "execute_result"
    }
   ],
   "source": [
    "os.getcwd()"
   ]
  },
  {
   "cell_type": "code",
   "execution_count": 7,
   "id": "e3e97a68",
   "metadata": {},
   "outputs": [],
   "source": [
    "os.chdir('pykili/pykili.github.io')"
   ]
  },
  {
   "cell_type": "code",
   "execution_count": 8,
   "id": "00b5d1b9",
   "metadata": {},
   "outputs": [
    {
     "data": {
      "text/plain": [
       "'/Users/antonleonov/Desktop/pykili/pykili.github.io'"
      ]
     },
     "execution_count": 8,
     "metadata": {},
     "output_type": "execute_result"
    }
   ],
   "source": [
    "os.getcwd()"
   ]
  },
  {
   "cell_type": "code",
   "execution_count": 4,
   "id": "56b3f8f6",
   "metadata": {},
   "outputs": [
    {
     "data": {
      "text/plain": [
       "'/Users/antonleonov/Desktop/pykili/pykili.github.io/_docs'"
      ]
     },
     "execution_count": 4,
     "metadata": {},
     "output_type": "execute_result"
    }
   ],
   "source": [
    "os.getcwd()"
   ]
  },
  {
   "cell_type": "code",
   "execution_count": 5,
   "id": "5a25e178",
   "metadata": {},
   "outputs": [
    {
     "name": "stdout",
     "output_type": "stream",
     "text": [
      "На уровень выше: ['_includes', '.DS_Store', 'LICENSE', 'search.json', '_docs', '404.html', 'content', '_layouts', 'README.md', 'img', '.gitignore', '_config.yml', '.gitattributes', 'Gemfile', 'Gemfile.lock', 'docker-compose.yml', '_data', '_sass', '.git', 'assets']\n",
      "#####\n",
      "А в подпапке _data ['links.yml', 'staff.yml', 'prog-lessons.yml']\n"
     ]
    }
   ],
   "source": [
    "print(\"На уровень выше:\", os.listdir(\"..\"))\n",
    "print('#####')\n",
    "print(\"А в подпапке _data\", os.listdir(\"../_data/\"))"
   ]
  },
  {
   "cell_type": "code",
   "execution_count": 9,
   "id": "63da5bd8",
   "metadata": {},
   "outputs": [
    {
     "data": {
      "text/plain": [
       "<generator object walk at 0x7fcfe3b37660>"
      ]
     },
     "execution_count": 9,
     "metadata": {},
     "output_type": "execute_result"
    }
   ],
   "source": [
    "os.walk(\".\")"
   ]
  },
  {
   "cell_type": "markdown",
   "id": "2faccd2d",
   "metadata": {},
   "source": [
    "<hr>"
   ]
  },
  {
   "cell_type": "markdown",
   "id": "d838a253",
   "metadata": {},
   "source": [
    "# Форматированный вывод"
   ]
  },
  {
   "cell_type": "markdown",
   "id": "6ed2d639",
   "metadata": {},
   "source": [
    "Форматирование строк — это способ презентации данных в виде строковой переменной. На настоящий момент в Питоне существует целых три синтаксиса для форматирования: синтаксис с использованием метода строк `.format()`, «старый» синтаксис с оператором `%` и самый новый с использованием «f-строк».\n",
    "\n",
    "### Базовый пример\n",
    "\n",
    "Метод строк `.format()` заменяет фигурные скобки в строке, к которой применён, на строковое представление своих аргументов:"
   ]
  },
  {
   "cell_type": "code",
   "execution_count": 10,
   "id": "6eb7922b",
   "metadata": {},
   "outputs": [
    {
     "name": "stdout",
     "output_type": "stream",
     "text": [
      "x = 3\n"
     ]
    }
   ],
   "source": [
    "x = 3\n",
    "print('x = {}'.format(x))"
   ]
  },
  {
   "cell_type": "markdown",
   "id": "d73f3399",
   "metadata": {},
   "source": [
    "Если фигурных скобок несколько, то у метода .format() должно быть соответствующее число аргументов:"
   ]
  },
  {
   "cell_type": "code",
   "execution_count": 11,
   "id": "2b3ffa3e",
   "metadata": {},
   "outputs": [
    {
     "name": "stdout",
     "output_type": "stream",
     "text": [
      "27 // 2 = 13\n"
     ]
    }
   ],
   "source": [
    "x = 27\n",
    "y = 2\n",
    "\n",
    "print('{} // {} = {}'.format(x, y, x // y))"
   ]
  },
  {
   "cell_type": "markdown",
   "id": "79095aa2",
   "metadata": {},
   "source": [
    "В фигурных скобках можно указать номер аргумента, начинаю с нуля:"
   ]
  },
  {
   "cell_type": "code",
   "execution_count": 12,
   "id": "f3b61b59",
   "metadata": {},
   "outputs": [
    {
     "name": "stdout",
     "output_type": "stream",
     "text": [
      "Здраствуйте, Алиса.\n",
      "Только по промокоду \"Алиса22\" 22 апреля 2019 года \n",
      "вы сможете приобрести гантели в количестве 22 шт.\n",
      "по цене одной!\n"
     ]
    }
   ],
   "source": [
    "name = 'Алиса'\n",
    "day = 22\n",
    "\n",
    "s = '''Здраствуйте, {0}.\n",
    "Только по промокоду \"{0}{1}\" {1} апреля 2019 года \n",
    "вы сможете приобрести гантели в количестве {1} шт.\n",
    "по цене одной!'''.format(name, day)\n",
    "\n",
    "print(s)"
   ]
  },
  {
   "cell_type": "markdown",
   "id": "f7cda8fb",
   "metadata": {},
   "source": [
    "Для удобства, вместо номеров можно использовать имена аргументов (они не обязаны совпадать с именами переменных, но часто это удобно):"
   ]
  },
  {
   "cell_type": "code",
   "execution_count": 13,
   "id": "35c885c8",
   "metadata": {},
   "outputs": [
    {
     "name": "stdout",
     "output_type": "stream",
     "text": [
      "Из пункта А в пункт Б выехал велосипедист со скоростью 22 км/ч. За 10.52 км до пункта Б велосипедист встретил свою бабушку. Сколько пирожков съел велосипедист перед тем как продолжить свой путь к Б?\n"
     ]
    }
   ],
   "source": [
    "city1 = 'А'\n",
    "city2 = 'Б'\n",
    "driver = 'велосипедист'\n",
    "velocity = 22\n",
    "x = 10.52\n",
    "s = '''Из пункта {departure} в пункт {destination} выехал {driver} со скоростью {v} км/ч. За {x} км до пункта {destination} {driver} встретил свою бабушку. Сколько пирожков съел {driver} перед тем как продолжить свой путь к {destination}?'''.format(\n",
    "    departure=city1,destination=city2,driver=driver,x=x,v=velocity)\n",
    "print(s)"
   ]
  },
  {
   "cell_type": "markdown",
   "id": "87b00829",
   "metadata": {},
   "source": [
    "### \"Старое\" форматирование\n",
    "\n",
    "https://docs.python.org/3/library/stdtypes.html#old-string-formatting"
   ]
  },
  {
   "cell_type": "code",
   "execution_count": 18,
   "id": "a42be957",
   "metadata": {},
   "outputs": [
    {
     "name": "stdout",
     "output_type": "stream",
     "text": [
      "Здраствуйте, Алиса.\n",
      "Только по промокоду \"Алиса22\" 22 апреля 2019 года \n",
      "вы сможете приобрести гантели в количестве 22 шт.\n",
      "по цене одной!\n"
     ]
    }
   ],
   "source": [
    "name = 'Алиса'\n",
    "day = 22\n",
    "s = '''Здраствуйте, %s.\n",
    "Только по промокоду \"%s%d\" %d апреля 2019 года \n",
    "вы сможете приобрести гантели в количестве %d шт.\n",
    "по цене одной!''' % (name, name, day, day, day)\n",
    "print(s)"
   ]
  },
  {
   "cell_type": "code",
   "execution_count": 19,
   "id": "e29ecd0a",
   "metadata": {},
   "outputs": [
    {
     "name": "stdout",
     "output_type": "stream",
     "text": [
      "Здраствуйте, Алиса.\n",
      "Только по промокоду \"Алиса22\" 22 апреля 2019 года \n",
      "вы сможете приобрести гантели в количестве 22 шт.\n",
      "по цене одной!\n"
     ]
    }
   ],
   "source": [
    "print('''Здраствуйте, %(name)s.\n",
    "Только по промокоду \"%(name)s%(day)d\" %(day)d апреля 2019 года \n",
    "вы сможете приобрести гантели в количестве %(day)d шт.\n",
    "по цене одной!''' % {'name': \"Алиса\", \"day\": 22})"
   ]
  },
  {
   "cell_type": "markdown",
   "id": "130a777f",
   "metadata": {},
   "source": [
    "### \"Современный\" способ:"
   ]
  },
  {
   "cell_type": "code",
   "execution_count": 20,
   "id": "d9b57c35",
   "metadata": {},
   "outputs": [
    {
     "name": "stdout",
     "output_type": "stream",
     "text": [
      "x = 1\n",
      "1\t22222\n",
      "\n",
      "333\t55\n",
      "\n"
     ]
    }
   ],
   "source": [
    "x = 1\n",
    "print(f'x = {x}')\n",
    "#print(\"x = {}\".format(x))\n",
    "z = [(1, 22222), (333, 55)]\n",
    "for x, y in z:\n",
    "    print(str(x) + \"\\t\" + str(y) + \"\\n\")"
   ]
  },
  {
   "cell_type": "code",
   "execution_count": 21,
   "id": "a0e4b383",
   "metadata": {},
   "outputs": [
    {
     "name": "stdout",
     "output_type": "stream",
     "text": [
      "Здраствуйте, Алиса.\n",
      "Только по промокоду \"Алиса22\" 22 апреля 2019 года \n",
      "вы сможете приобрести гантели в количестве 22 шт.\n",
      "по цене одной!\n"
     ]
    }
   ],
   "source": [
    "name = 'Алиса'\n",
    "day = 22\n",
    "s = f'''Здраствуйте, {name}.\n",
    "Только по промокоду \"{name}{day}\" {day} апреля 2019 года \n",
    "вы сможете приобрести гантели в количестве {day} шт.\n",
    "по цене одной!'''\n",
    "print(s)"
   ]
  },
  {
   "cell_type": "code",
   "execution_count": 22,
   "id": "b7aebb4c",
   "metadata": {},
   "outputs": [
    {
     "name": "stdout",
     "output_type": "stream",
     "text": [
      "F-score: 0.7071067811865476\n",
      "F-score: 0.71\n"
     ]
    }
   ],
   "source": [
    "import math\n",
    "\n",
    "x = math.sqrt(0.5)\n",
    "print(f\"F-score: {x}\")\n",
    "print(f\"F-score: {x:.2f}\")"
   ]
  },
  {
   "cell_type": "code",
   "execution_count": 23,
   "id": "8cbee435",
   "metadata": {},
   "outputs": [
    {
     "data": {
      "text/plain": [
       "'xxxxx hi world xxxx'"
      ]
     },
     "execution_count": 23,
     "metadata": {},
     "output_type": "execute_result"
    }
   ],
   "source": [
    "a = \"hi\"\n",
    "b = \"world\"\n",
    "\n",
    "f\"xxxxx {' '.join([a, b])} xxxx\""
   ]
  },
  {
   "cell_type": "markdown",
   "id": "e2d2526a",
   "metadata": {},
   "source": [
    "<hr>"
   ]
  },
  {
   "cell_type": "markdown",
   "id": "2b0d83aa",
   "metadata": {},
   "source": [
    "# Input'ы"
   ]
  },
  {
   "cell_type": "markdown",
   "id": "8fee32ec",
   "metadata": {},
   "source": [
    "Базовый пример инпута"
   ]
  },
  {
   "cell_type": "code",
   "execution_count": 24,
   "id": "e24687cf",
   "metadata": {},
   "outputs": [
    {
     "name": "stdout",
     "output_type": "stream",
     "text": [
      "2\n"
     ]
    }
   ],
   "source": [
    "a = input()"
   ]
  },
  {
   "cell_type": "code",
   "execution_count": 25,
   "id": "8b2f5dcf",
   "metadata": {},
   "outputs": [
    {
     "data": {
      "text/plain": [
       "'2'"
      ]
     },
     "execution_count": 25,
     "metadata": {},
     "output_type": "execute_result"
    }
   ],
   "source": [
    "a"
   ]
  },
  {
   "cell_type": "code",
   "execution_count": 28,
   "id": "4b0e1716",
   "metadata": {},
   "outputs": [
    {
     "name": "stdout",
     "output_type": "stream",
     "text": [
      "2\n"
     ]
    },
    {
     "data": {
      "text/plain": [
       "2"
      ]
     },
     "execution_count": 28,
     "metadata": {},
     "output_type": "execute_result"
    }
   ],
   "source": [
    "a = int(input())\n",
    "a"
   ]
  },
  {
   "cell_type": "code",
   "execution_count": 29,
   "id": "d000ae7a",
   "metadata": {},
   "outputs": [
    {
     "name": "stdout",
     "output_type": "stream",
     "text": [
      "1 5\n",
      "1 and 5\n"
     ]
    }
   ],
   "source": [
    "a, b = input().split()\n",
    "print(' and '.join([a, b]))"
   ]
  },
  {
   "cell_type": "code",
   "execution_count": 30,
   "id": "4d1cf53f",
   "metadata": {},
   "outputs": [
    {
     "data": {
      "text/plain": [
       "'5'"
      ]
     },
     "execution_count": 30,
     "metadata": {},
     "output_type": "execute_result"
    }
   ],
   "source": [
    "b"
   ]
  },
  {
   "cell_type": "code",
   "execution_count": 32,
   "id": "cf4ce398",
   "metadata": {},
   "outputs": [
    {
     "name": "stdout",
     "output_type": "stream",
     "text": [
      "1 8\n",
      "1 and 8\n"
     ]
    }
   ],
   "source": [
    "a, b = map(int, input().split())\n",
    "print(' and '.join(map(str, [a, b])))"
   ]
  },
  {
   "cell_type": "code",
   "execution_count": 33,
   "id": "619d6280",
   "metadata": {},
   "outputs": [
    {
     "data": {
      "text/plain": [
       "8"
      ]
     },
     "execution_count": 33,
     "metadata": {},
     "output_type": "execute_result"
    }
   ],
   "source": [
    "b"
   ]
  },
  {
   "cell_type": "code",
   "execution_count": 34,
   "id": "44d9fc56",
   "metadata": {},
   "outputs": [
    {
     "name": "stdout",
     "output_type": "stream",
     "text": [
      "1 7\n",
      "1 and 7\n"
     ]
    }
   ],
   "source": [
    "a, b = map(int, input().split())\n",
    "print(f'{a} and {b}')"
   ]
  },
  {
   "cell_type": "markdown",
   "id": "506b2b0d",
   "metadata": {},
   "source": [
    "Прочитать больше про map -> https://pyneng.readthedocs.io/ru/latest/book/10_useful_functions/map.html"
   ]
  },
  {
   "cell_type": "code",
   "execution_count": 35,
   "id": "5ab74578",
   "metadata": {},
   "outputs": [
    {
     "name": "stdout",
     "output_type": "stream",
     "text": [
      "1 4\n",
      "1 and 16\n"
     ]
    }
   ],
   "source": [
    "a, b = map(lambda a: int(a)**2, input().split())\n",
    "print(' and '.join(map(str, [a, b])))"
   ]
  },
  {
   "cell_type": "markdown",
   "id": "a8a95215",
   "metadata": {},
   "source": [
    "Еще про лямбды - https://www.w3schools.com/python/python_lambda.asp"
   ]
  },
  {
   "cell_type": "markdown",
   "id": "03640b48",
   "metadata": {},
   "source": [
    "<hr>"
   ]
  },
  {
   "cell_type": "code",
   "execution_count": 36,
   "id": "910c2370",
   "metadata": {},
   "outputs": [
    {
     "data": {
      "text/plain": [
       "'/Users/antonleonov/Desktop/pykili/pykili.github.io'"
      ]
     },
     "execution_count": 36,
     "metadata": {},
     "output_type": "execute_result"
    }
   ],
   "source": [
    "os.getcwd()"
   ]
  },
  {
   "cell_type": "code",
   "execution_count": 39,
   "id": "ba5107a7",
   "metadata": {},
   "outputs": [],
   "source": [
    "import re"
   ]
  },
  {
   "cell_type": "code",
   "execution_count": 46,
   "id": "c748a341",
   "metadata": {},
   "outputs": [],
   "source": [
    "dict_res = {}\n",
    "for root, dirs, files in os.walk(os.getcwd()):\n",
    "    for each_file in files:\n",
    "        num_from_dtr = None\n",
    "        num_from_str = sum(map(int, re.findall(r'\\d+', each_file)))\n",
    "        if num_from_str is not None:\n",
    "            if root in dict_res:\n",
    "                dict_res[root] += num_from_str\n",
    "            else:\n",
    "                dict_res[root] = num_from_str\n",
    "            "
   ]
  },
  {
   "cell_type": "code",
   "execution_count": 50,
   "id": "88224753",
   "metadata": {},
   "outputs": [
    {
     "name": "stdout",
     "output_type": "stream",
     "text": [
      "В папке /Users/antonleonov/Desktop/pykili/pykili.github.io сумма цифр в файлах равна 404\n",
      "В папке /Users/antonleonov/Desktop/pykili/pykili.github.io/_includes/prog сумма цифр в файлах равна 0\n",
      "В папке /Users/antonleonov/Desktop/pykili/pykili.github.io/_includes/prog/landing сумма цифр в файлах равна 0\n",
      "В папке /Users/antonleonov/Desktop/pykili/pykili.github.io/_includes/common сумма цифр в файлах равна 0\n",
      "В папке /Users/antonleonov/Desktop/pykili/pykili.github.io/_docs сумма цифр в файлах равна 0\n",
      "В папке /Users/antonleonov/Desktop/pykili/pykili.github.io/_docs/lingdata сумма цифр в файлах равна 8\n",
      "В папке /Users/antonleonov/Desktop/pykili/pykili.github.io/_docs/lingdata/data сумма цифр в файлах равна 1\n",
      "В папке /Users/antonleonov/Desktop/pykili/pykili.github.io/_docs/prog сумма цифр в файлах равна 297\n",
      "В папке /Users/antonleonov/Desktop/pykili/pykili.github.io/_docs/prog/archive сумма цифр в файлах равна 8\n",
      "В папке /Users/antonleonov/Desktop/pykili/pykili.github.io/_docs/prog/static/25 сумма цифр в файлах равна 2\n",
      "В папке /Users/antonleonov/Desktop/pykili/pykili.github.io/content сумма цифр в файлах равна 2\n",
      "В папке /Users/antonleonov/Desktop/pykili/pykili.github.io/content/py сумма цифр в файлах равна 0\n",
      "В папке /Users/antonleonov/Desktop/pykili/pykili.github.io/content/slides/groups/2 сумма цифр в файлах равна 4\n",
      "В папке /Users/antonleonov/Desktop/pykili/pykili.github.io/content/notes/groups/04 сумма цифр в файлах равна 1\n",
      "В папке /Users/antonleonov/Desktop/pykili/pykili.github.io/content/notebooks сумма цифр в файлах равна 0\n",
      "В папке /Users/antonleonov/Desktop/pykili/pykili.github.io/content/notebooks/groups сумма цифр в файлах равна 0\n",
      "В папке /Users/antonleonov/Desktop/pykili/pykili.github.io/content/notebooks/groups/2 сумма цифр в файлах равна 1225\n",
      "В папке /Users/antonleonov/Desktop/pykili/pykili.github.io/_layouts сумма цифр в файлах равна 0\n",
      "В папке /Users/antonleonov/Desktop/pykili/pykili.github.io/img сумма цифр в файлах равна 0\n",
      "В папке /Users/antonleonov/Desktop/pykili/pykili.github.io/img/04 сумма цифр в файлах равна 0\n",
      "В папке /Users/antonleonov/Desktop/pykili/pykili.github.io/img/data_udpipe сумма цифр в файлах равна 0\n",
      "В папке /Users/antonleonov/Desktop/pykili/pykili.github.io/img/data_antconc сумма цифр в файлах равна 1\n",
      "В папке /Users/antonleonov/Desktop/pykili/pykili.github.io/img/prog/03 сумма цифр в файлах равна 0\n",
      "В папке /Users/antonleonov/Desktop/pykili/pykili.github.io/img/prog/04 сумма цифр в файлах равна 0\n",
      "В папке /Users/antonleonov/Desktop/pykili/pykili.github.io/img/prog/02 сумма цифр в файлах равна 2\n",
      "В папке /Users/antonleonov/Desktop/pykili/pykili.github.io/img/prog/projects сумма цифр в файлах равна 0\n",
      "В папке /Users/antonleonov/Desktop/pykili/pykili.github.io/img/data_webcorpora сумма цифр в файлах равна 0\n",
      "В папке /Users/antonleonov/Desktop/pykili/pykili.github.io/img/01 сумма цифр в файлах равна 0\n",
      "В папке /Users/antonleonov/Desktop/pykili/pykili.github.io/img/data_elan сумма цифр в файлах равна 8\n",
      "В папке /Users/antonleonov/Desktop/pykili/pykili.github.io/img/edit_page сумма цифр в файлах равна 0\n",
      "В папке /Users/antonleonov/Desktop/pykili/pykili.github.io/img/staff сумма цифр в файлах равна 0\n",
      "В папке /Users/antonleonov/Desktop/pykili/pykili.github.io/_data сумма цифр в файлах равна 0\n",
      "В папке /Users/antonleonov/Desktop/pykili/pykili.github.io/_sass сумма цифр в файлах равна 0\n",
      "В папке /Users/antonleonov/Desktop/pykili/pykili.github.io/_sass/bootstrap сумма цифр в файлах равна 0\n",
      "В папке /Users/antonleonov/Desktop/pykili/pykili.github.io/_sass/bootstrap/mixins сумма цифр в файлах равна 0\n",
      "В папке /Users/antonleonov/Desktop/pykili/pykili.github.io/_sass/bootswatch сумма цифр в файлах равна 0\n",
      "В папке /Users/antonleonov/Desktop/pykili/pykili.github.io/_sass/bootswatch/journal сумма цифр в файлах равна 0\n",
      "В папке /Users/antonleonov/Desktop/pykili/pykili.github.io/_sass/bootswatch/paper сумма цифр в файлах равна 0\n",
      "В папке /Users/antonleonov/Desktop/pykili/pykili.github.io/_sass/bootswatch/solar сумма цифр в файлах равна 0\n",
      "В папке /Users/antonleonov/Desktop/pykili/pykili.github.io/_sass/bootswatch/united сумма цифр в файлах равна 0\n",
      "В папке /Users/antonleonov/Desktop/pykili/pykili.github.io/_sass/bootswatch/cerulean сумма цифр в файлах равна 0\n",
      "В папке /Users/antonleonov/Desktop/pykili/pykili.github.io/_sass/bootswatch/sandstone сумма цифр в файлах равна 0\n",
      "В папке /Users/antonleonov/Desktop/pykili/pykili.github.io/_sass/bootswatch/slate сумма цифр в файлах равна 0\n",
      "В папке /Users/antonleonov/Desktop/pykili/pykili.github.io/_sass/bootswatch/simplex сумма цифр в файлах равна 0\n",
      "В папке /Users/antonleonov/Desktop/pykili/pykili.github.io/_sass/bootswatch/lumen сумма цифр в файлах равна 0\n",
      "В папке /Users/antonleonov/Desktop/pykili/pykili.github.io/_sass/bootswatch/readable сумма цифр в файлах равна 0\n",
      "В папке /Users/antonleonov/Desktop/pykili/pykili.github.io/_sass/bootswatch/flatly сумма цифр в файлах равна 0\n",
      "В папке /Users/antonleonov/Desktop/pykili/pykili.github.io/_sass/bootswatch/cosmo сумма цифр в файлах равна 0\n",
      "В папке /Users/antonleonov/Desktop/pykili/pykili.github.io/_sass/bootswatch/superhero сумма цифр в файлах равна 0\n",
      "В папке /Users/antonleonov/Desktop/pykili/pykili.github.io/_sass/bootswatch/cyborg сумма цифр в файлах равна 0\n",
      "В папке /Users/antonleonov/Desktop/pykili/pykili.github.io/_sass/bootswatch/custom сумма цифр в файлах равна 0\n",
      "В папке /Users/antonleonov/Desktop/pykili/pykili.github.io/_sass/bootswatch/darkly сумма цифр в файлах равна 0\n",
      "В папке /Users/antonleonov/Desktop/pykili/pykili.github.io/_sass/bootswatch/spacelab сумма цифр в файлах равна 0\n",
      "В папке /Users/antonleonov/Desktop/pykili/pykili.github.io/_sass/bootswatch/yeti сумма цифр в файлах равна 0\n",
      "В папке /Users/antonleonov/Desktop/pykili/pykili.github.io/.git сумма цифр в файлах равна 0\n",
      "В папке /Users/antonleonov/Desktop/pykili/pykili.github.io/.git/objects/61 сумма цифр в файлах равна 416654\n",
      "В папке /Users/antonleonov/Desktop/pykili/pykili.github.io/.git/objects/66 сумма цифр в файлах равна 2614343890\n",
      "В папке /Users/antonleonov/Desktop/pykili/pykili.github.io/.git/objects/68 сумма цифр в файлах равна 67642\n",
      "В папке /Users/antonleonov/Desktop/pykili/pykili.github.io/.git/objects/03 сумма цифр в файлах равна 88316671\n",
      "В папке /Users/antonleonov/Desktop/pykili/pykili.github.io/.git/objects/9b сумма цифр в файлах равна 6608\n",
      "В папке /Users/antonleonov/Desktop/pykili/pykili.github.io/.git/objects/9e сумма цифр в файлах равна 935856\n",
      "В папке /Users/antonleonov/Desktop/pykili/pykili.github.io/.git/objects/69 сумма цифр в файлах равна 11113233\n",
      "В папке /Users/antonleonov/Desktop/pykili/pykili.github.io/.git/objects/3d сумма цифр в файлах равна 86805278\n",
      "В папке /Users/antonleonov/Desktop/pykili/pykili.github.io/.git/objects/58 сумма цифр в файлах равна 9702224\n",
      "В папке /Users/antonleonov/Desktop/pykili/pykili.github.io/.git/objects/67 сумма цифр в файлах равна 94118\n",
      "В папке /Users/antonleonov/Desktop/pykili/pykili.github.io/.git/objects/93 сумма цифр в файлах равна 937752714301\n",
      "В папке /Users/antonleonov/Desktop/pykili/pykili.github.io/.git/objects/94 сумма цифр в файлах равна 90390026\n",
      "В папке /Users/antonleonov/Desktop/pykili/pykili.github.io/.git/objects/0e сумма цифр в файлах равна 47996\n",
      "В папке /Users/antonleonov/Desktop/pykili/pykili.github.io/.git/objects/34 сумма цифр в файлах равна 6484\n",
      "В папке /Users/antonleonov/Desktop/pykili/pykili.github.io/.git/objects/5a сумма цифр в файлах равна 423649\n",
      "В папке /Users/antonleonov/Desktop/pykili/pykili.github.io/.git/objects/5f сумма цифр в файлах равна 347282\n",
      "В папке /Users/antonleonov/Desktop/pykili/pykili.github.io/.git/objects/33 сумма цифр в файлах равна 89052659\n",
      "В папке /Users/antonleonov/Desktop/pykili/pykili.github.io/.git/objects/9d сумма цифр в файлах равна 83031\n",
      "В папке /Users/antonleonov/Desktop/pykili/pykili.github.io/.git/objects/a4 сумма цифр в файлах равна 1463\n",
      "В папке /Users/antonleonov/Desktop/pykili/pykili.github.io/.git/objects/a3 сумма цифр в файлах равна 72570\n",
      "В папке /Users/antonleonov/Desktop/pykili/pykili.github.io/.git/objects/b5 сумма цифр в файлах равна 13859205\n",
      "В папке /Users/antonleonov/Desktop/pykili/pykili.github.io/.git/objects/b2 сумма цифр в файлах равна 7511525755\n",
      "В папке /Users/antonleonov/Desktop/pykili/pykili.github.io/.git/objects/ac сумма цифр в файлах равна 6657927\n",
      "В папке /Users/antonleonov/Desktop/pykili/pykili.github.io/.git/objects/ad сумма цифр в файлах равна 538374105205\n",
      "В папке /Users/antonleonov/Desktop/pykili/pykili.github.io/.git/objects/b4 сумма цифр в файлах равна 558995\n",
      "В папке /Users/antonleonov/Desktop/pykili/pykili.github.io/.git/objects/a2 сумма цифр в файлах равна 41193\n",
      "В папке /Users/antonleonov/Desktop/pykili/pykili.github.io/.git/objects/d1 сумма цифр в файлах равна 7670\n",
      "В папке /Users/antonleonov/Desktop/pykili/pykili.github.io/.git/objects/d6 сумма цифр в файлах равна 73589739\n",
      "В папке /Users/antonleonov/Desktop/pykili/pykili.github.io/.git/objects/ae сумма цифр в файлах равна 4535794970\n",
      "В папке /Users/antonleonov/Desktop/pykili/pykili.github.io/.git/objects/d8 сумма цифр в файлах равна 9202\n",
      "В папке /Users/antonleonov/Desktop/pykili/pykili.github.io/.git/objects/ab сумма цифр в файлах равна 632\n",
      "В папке /Users/antonleonov/Desktop/pykili/pykili.github.io/.git/objects/e2 сумма цифр в файлах равна 2181777\n",
      "В папке /Users/antonleonov/Desktop/pykili/pykili.github.io/.git/objects/eb сумма цифр в файлах равна 1202940651\n",
      "В папке /Users/antonleonov/Desktop/pykili/pykili.github.io/.git/objects/c7 сумма цифр в файлах равна 20814\n",
      "В папке /Users/antonleonov/Desktop/pykili/pykili.github.io/.git/objects/c9 сумма цифр в файлах равна 234360\n",
      "В папке /Users/antonleonov/Desktop/pykili/pykili.github.io/.git/objects/fd сумма цифр в файлах равна 17330\n",
      "В папке /Users/antonleonov/Desktop/pykili/pykili.github.io/.git/objects/f2 сумма цифр в файлах равна 84570878\n",
      "В папке /Users/antonleonov/Desktop/pykili/pykili.github.io/.git/objects/ca сумма цифр в файлах равна 861\n",
      "В папке /Users/antonleonov/Desktop/pykili/pykili.github.io/.git/objects/fe сумма цифр в файлах равна 8762518\n",
      "В папке /Users/antonleonov/Desktop/pykili/pykili.github.io/.git/objects/c6 сумма цифр в файлах равна 196905755\n",
      "В папке /Users/antonleonov/Desktop/pykili/pykili.github.io/.git/objects/4e сумма цифр в файлах равна 1148903608\n",
      "В папке /Users/antonleonov/Desktop/pykili/pykili.github.io/.git/objects/27 сумма цифр в файлах равна 90831\n",
      "В папке /Users/antonleonov/Desktop/pykili/pykili.github.io/.git/objects/pack сумма цифр в файлах равна 131648\n",
      "В папке /Users/antonleonov/Desktop/pykili/pykili.github.io/.git/objects/11 сумма цифр в файлах равна 4190628\n",
      "В папке /Users/antonleonov/Desktop/pykili/pykili.github.io/.git/objects/7c сумма цифр в файлах равна 108201\n",
      "В папке /Users/antonleonov/Desktop/pykili/pykili.github.io/.git/objects/45 сумма цифр в файлах равна 103673\n",
      "В папке /Users/antonleonov/Desktop/pykili/pykili.github.io/.git/objects/1f сумма цифр в файлах равна 831307\n",
      "В папке /Users/antonleonov/Desktop/pykili/pykili.github.io/.git/objects/87 сумма цифр в файлах равна 8589373\n",
      "В папке /Users/antonleonov/Desktop/pykili/pykili.github.io/.git/objects/74 сумма цифр в файлах равна 89195\n",
      "В папке /Users/antonleonov/Desktop/pykili/pykili.github.io/.git/objects/28 сумма цифр в файлах равна 60765376\n",
      "В папке /Users/antonleonov/Desktop/pykili/pykili.github.io/.git/objects/7b сумма цифр в файлах равна 3921\n",
      "В папке /Users/antonleonov/Desktop/pykili/pykili.github.io/.git/objects/7e сумма цифр в файлах равна 2457\n",
      "В папке /Users/antonleonov/Desktop/pykili/pykili.github.io/.git/objects/4c сумма цифр в файлах равна 68666272\n",
      "В папке /Users/antonleonov/Desktop/pykili/pykili.github.io/.git/objects/26 сумма цифр в файлах равна 78247322107253\n",
      "В папке /Users/antonleonov/Desktop/pykili/pykili.github.io/.git/objects/4d сумма цифр в файлах равна 3675634\n",
      "В папке /Users/antonleonov/Desktop/pykili/pykili.github.io/.git/objects/75 сумма цифр в файлах равна 568230416\n",
      "В папке /Users/antonleonov/Desktop/pykili/pykili.github.io/.git/objects/81 сумма цифр в файлах равна 10294389\n",
      "В папке /Users/antonleonov/Desktop/pykili/pykili.github.io/.git/objects/86 сумма цифр в файлах равна 54504\n",
      "В папке /Users/antonleonov/Desktop/pykili/pykili.github.io/.git/objects/72 сумма цифр в файлах равна 9904504\n",
      "В папке /Users/antonleonov/Desktop/pykili/pykili.github.io/.git/objects/88 сумма цифр в файлах равна 8170331\n",
      "В папке /Users/antonleonov/Desktop/pykili/pykili.github.io/.git/objects/6b сумма цифр в файлах равна 110787\n",
      "В папке /Users/antonleonov/Desktop/pykili/pykili.github.io/.git/objects/07 сумма цифр в файлах равна 508424\n",
      "В папке /Users/antonleonov/Desktop/pykili/pykili.github.io/.git/objects/09 сумма цифр в файлах равна 1255805\n",
      "В папке /Users/antonleonov/Desktop/pykili/pykili.github.io/.git/objects/65 сумма цифр в файлах равна 10337840\n",
      "В папке /Users/antonleonov/Desktop/pykili/pykili.github.io/.git/objects/62 сумма цифр в файлах равна 62431\n",
      "В папке /Users/antonleonov/Desktop/pykili/pykili.github.io/.git/objects/5e сумма цифр в файлах равна 398449910\n",
      "В папке /Users/antonleonov/Desktop/pykili/pykili.github.io/.git/objects/5b сумма цифр в файлах равна 76716026\n",
      "В папке /Users/antonleonov/Desktop/pykili/pykili.github.io/.git/objects/08 сумма цифр в файлах равна 4672766\n",
      "В папке /Users/antonleonov/Desktop/pykili/pykili.github.io/.git/objects/01 сумма цифр в файлах равна 249283678\n",
      "В папке /Users/antonleonov/Desktop/pykili/pykili.github.io/.git/objects/39 сумма цифр в файлах равна 89286\n",
      "В папке /Users/antonleonov/Desktop/pykili/pykili.github.io/.git/objects/99 сумма цифр в файлах равна 266690\n",
      "В папке /Users/antonleonov/Desktop/pykili/pykili.github.io/.git/objects/52 сумма цифр в файлах равна 1839\n",
      "В папке /Users/antonleonov/Desktop/pykili/pykili.github.io/.git/objects/0a сумма цифр в файлах равна 4751409557658369161\n",
      "В папке /Users/antonleonov/Desktop/pykili/pykili.github.io/.git/objects/90 сумма цифр в файлах равна 969097\n",
      "В папке /Users/antonleonov/Desktop/pykili/pykili.github.io/.git/objects/ba сумма цифр в файлах равна 1316\n",
      "В папке /Users/antonleonov/Desktop/pykili/pykili.github.io/.git/objects/b6 сумма цифр в файлах равна 16705\n",
      "В папке /Users/antonleonov/Desktop/pykili/pykili.github.io/.git/objects/a8 сумма цифр в файлах равна 74366\n",
      "В папке /Users/antonleonov/Desktop/pykili/pykili.github.io/.git/objects/b0 сумма цифр в файлах равна 27388\n",
      "В папке /Users/antonleonov/Desktop/pykili/pykili.github.io/.git/objects/b9 сумма цифр в файлах равна 779141\n",
      "В папке /Users/antonleonov/Desktop/pykili/pykili.github.io/.git/objects/ea сумма цифр в файлах равна 4602283966\n",
      "В папке /Users/antonleonov/Desktop/pykili/pykili.github.io/.git/objects/e1 сумма цифр в файлах равна 42400785\n",
      "В папке /Users/antonleonov/Desktop/pykili/pykili.github.io/.git/objects/cd сумма цифр в файлах равна 5411\n",
      "В папке /Users/antonleonov/Desktop/pykili/pykili.github.io/.git/objects/f9 сумма цифр в файлах равна 403960864\n",
      "В папке /Users/antonleonov/Desktop/pykili/pykili.github.io/.git/objects/f7 сумма цифр в файлах равна 18131744583054\n",
      "В папке /Users/antonleonov/Desktop/pykili/pykili.github.io/.git/objects/e8 сумма цифр в файлах равна 1300537800\n",
      "В папке /Users/antonleonov/Desktop/pykili/pykili.github.io/.git/objects/c5 сумма цифр в файлах равна 17914424\n",
      "В папке /Users/antonleonov/Desktop/pykili/pykili.github.io/.git/objects/f6 сумма цифр в файлах равна 3124393\n",
      "В папке /Users/antonleonov/Desktop/pykili/pykili.github.io/.git/objects/e9 сумма цифр в файлах равна 5151090\n",
      "В папке /Users/antonleonov/Desktop/pykili/pykili.github.io/.git/objects/cb сумма цифр в файлах равна 7926300\n",
      "В папке /Users/antonleonov/Desktop/pykili/pykili.github.io/.git/objects/e0 сумма цифр в файлах равна 93973\n",
      "В папке /Users/antonleonov/Desktop/pykili/pykili.github.io/.git/objects/46 сумма цифр в файлах равна 697980341\n",
      "В папке /Users/antonleonov/Desktop/pykili/pykili.github.io/.git/objects/41 сумма цифр в файлах равна 7939689522\n",
      "В папке /Users/antonleonov/Desktop/pykili/pykili.github.io/.git/objects/83 сумма цифр в файлах равна 328289403\n",
      "В папке /Users/antonleonov/Desktop/pykili/pykili.github.io/.git/objects/70 сумма цифр в файлах равна 774555752400676\n",
      "В папке /Users/antonleonov/Desktop/pykili/pykili.github.io/.git/objects/84 сумма цифр в файлах равна 4683988696\n",
      "В папке /Users/antonleonov/Desktop/pykili/pykili.github.io/.git/objects/24 сумма цифр в файлах равна 1197862\n",
      "В папке /Users/antonleonov/Desktop/pykili/pykili.github.io/.git/objects/4f сумма цифр в файлах равна 543934\n",
      "В папке /Users/antonleonov/Desktop/pykili/pykili.github.io/.git/objects/8d сумма цифр в файлах равна 4385558\n",
      "В папке /Users/antonleonov/Desktop/pykili/pykili.github.io/.git/objects/8c сумма цифр в файлах равна 7663546\n",
      "В папке /Users/antonleonov/Desktop/pykili/pykili.github.io/.git/objects/71 сумма цифр в файлах равна 96922471\n",
      "В папке /Users/antonleonov/Desktop/pykili/pykili.github.io/.git/objects/82 сумма цифр в файлах равна 777900044839\n",
      "В папке /Users/antonleonov/Desktop/pykili/pykili.github.io/.git/objects/49 сумма цифр в файлах равна 753413\n",
      "В папке /Users/antonleonov/Desktop/pykili/pykili.github.io/.git/objects/40 сумма цифр в файлах равна 7115116\n",
      "В папке /Users/antonleonov/Desktop/pykili/pykili.github.io/.git/objects/2e сумма цифр в файлах равна 3750894\n",
      "В папке /Users/antonleonov/Desktop/pykili/pykili.github.io/.git/objects/2b сумма цифр в файлах равна 70723348\n",
      "В папке /Users/antonleonov/Desktop/pykili/pykili.github.io/.git/objects/47 сумма цифр в файлах равна 12360858\n",
      "В папке /Users/antonleonov/Desktop/pykili/pykili.github.io/.git/objects/78 сумма цифр в файлах равна 8429\n",
      "В папке /Users/antonleonov/Desktop/pykili/pykili.github.io/.git/objects/7a сумма цифр в файлах равна 242660\n",
      "В папке /Users/antonleonov/Desktop/pykili/pykili.github.io/.git/objects/14 сумма цифр в файлах равна 37496326\n",
      "В папке /Users/antonleonov/Desktop/pykili/pykili.github.io/.git/objects/25 сумма цифр в файлах равна 979131\n",
      "В папке /Users/antonleonov/Desktop/pykili/pykili.github.io/.git/info сумма цифр в файлах равна 0\n",
      "В папке /Users/antonleonov/Desktop/pykili/pykili.github.io/.git/logs сумма цифр в файлах равна 0\n",
      "В папке /Users/antonleonov/Desktop/pykili/pykili.github.io/.git/logs/refs/heads сумма цифр в файлах равна 0\n",
      "В папке /Users/antonleonov/Desktop/pykili/pykili.github.io/.git/logs/refs/remotes/origin сумма цифр в файлах равна 0\n",
      "В папке /Users/antonleonov/Desktop/pykili/pykili.github.io/.git/hooks сумма цифр в файлах равна 0\n",
      "В папке /Users/antonleonov/Desktop/pykili/pykili.github.io/.git/refs/heads сумма цифр в файлах равна 0\n",
      "В папке /Users/antonleonov/Desktop/pykili/pykili.github.io/.git/refs/remotes/origin сумма цифр в файлах равна 0\n",
      "В папке /Users/antonleonov/Desktop/pykili/pykili.github.io/assets/css сумма цифр в файлах равна 0\n",
      "В папке /Users/antonleonov/Desktop/pykili/pykili.github.io/assets/css/fonts сумма цифр в файлах равна 70\n",
      "В папке /Users/antonleonov/Desktop/pykili/pykili.github.io/assets/js сумма цифр в файлах равна 0\n",
      "В папке /Users/antonleonov/Desktop/pykili/pykili.github.io/assets/fonts сумма цифр в файлах равна 2\n",
      "В папке /Users/antonleonov/Desktop/pykili/pykili.github.io/assets/fonts/bootstrap сумма цифр в файлах равна 2\n"
     ]
    }
   ],
   "source": [
    "for key, value in dict_res.items():\n",
    "    print(f'В папке {key} сумма цифр в файлах равна {value}')"
   ]
  },
  {
   "cell_type": "code",
   "execution_count": 42,
   "id": "453074db",
   "metadata": {},
   "outputs": [
    {
     "data": {
      "text/plain": [
       "{'/Users/antonleonov/Desktop/pykili/pykili.github.io': 404,\n",
       " '/Users/antonleonov/Desktop/pykili/pykili.github.io/_includes/prog': 0,\n",
       " '/Users/antonleonov/Desktop/pykili/pykili.github.io/_includes/prog/landing': 0,\n",
       " '/Users/antonleonov/Desktop/pykili/pykili.github.io/_includes/common': 0,\n",
       " '/Users/antonleonov/Desktop/pykili/pykili.github.io/_docs': 0,\n",
       " '/Users/antonleonov/Desktop/pykili/pykili.github.io/_docs/lingdata': 8,\n",
       " '/Users/antonleonov/Desktop/pykili/pykili.github.io/_docs/lingdata/data': 1,\n",
       " '/Users/antonleonov/Desktop/pykili/pykili.github.io/_docs/prog': 297,\n",
       " '/Users/antonleonov/Desktop/pykili/pykili.github.io/_docs/prog/archive': 8,\n",
       " '/Users/antonleonov/Desktop/pykili/pykili.github.io/_docs/prog/static/25': 2,\n",
       " '/Users/antonleonov/Desktop/pykili/pykili.github.io/content': 2,\n",
       " '/Users/antonleonov/Desktop/pykili/pykili.github.io/content/py': 0,\n",
       " '/Users/antonleonov/Desktop/pykili/pykili.github.io/content/slides/groups/2': 4,\n",
       " '/Users/antonleonov/Desktop/pykili/pykili.github.io/content/notes/groups/04': 1,\n",
       " '/Users/antonleonov/Desktop/pykili/pykili.github.io/content/notebooks': 0,\n",
       " '/Users/antonleonov/Desktop/pykili/pykili.github.io/content/notebooks/groups': 0,\n",
       " '/Users/antonleonov/Desktop/pykili/pykili.github.io/content/notebooks/groups/2': 1225,\n",
       " '/Users/antonleonov/Desktop/pykili/pykili.github.io/_layouts': 0,\n",
       " '/Users/antonleonov/Desktop/pykili/pykili.github.io/img': 0,\n",
       " '/Users/antonleonov/Desktop/pykili/pykili.github.io/img/04': 0,\n",
       " '/Users/antonleonov/Desktop/pykili/pykili.github.io/img/data_udpipe': 0,\n",
       " '/Users/antonleonov/Desktop/pykili/pykili.github.io/img/data_antconc': 1,\n",
       " '/Users/antonleonov/Desktop/pykili/pykili.github.io/img/prog/03': 0,\n",
       " '/Users/antonleonov/Desktop/pykili/pykili.github.io/img/prog/04': 0,\n",
       " '/Users/antonleonov/Desktop/pykili/pykili.github.io/img/prog/02': 2,\n",
       " '/Users/antonleonov/Desktop/pykili/pykili.github.io/img/prog/projects': 0,\n",
       " '/Users/antonleonov/Desktop/pykili/pykili.github.io/img/data_webcorpora': 0,\n",
       " '/Users/antonleonov/Desktop/pykili/pykili.github.io/img/01': 0,\n",
       " '/Users/antonleonov/Desktop/pykili/pykili.github.io/img/data_elan': 8,\n",
       " '/Users/antonleonov/Desktop/pykili/pykili.github.io/img/edit_page': 0,\n",
       " '/Users/antonleonov/Desktop/pykili/pykili.github.io/img/staff': 0,\n",
       " '/Users/antonleonov/Desktop/pykili/pykili.github.io/_data': 0,\n",
       " '/Users/antonleonov/Desktop/pykili/pykili.github.io/_sass': 0,\n",
       " '/Users/antonleonov/Desktop/pykili/pykili.github.io/_sass/bootstrap': 0,\n",
       " '/Users/antonleonov/Desktop/pykili/pykili.github.io/_sass/bootstrap/mixins': 0,\n",
       " '/Users/antonleonov/Desktop/pykili/pykili.github.io/_sass/bootswatch': 0,\n",
       " '/Users/antonleonov/Desktop/pykili/pykili.github.io/_sass/bootswatch/journal': 0,\n",
       " '/Users/antonleonov/Desktop/pykili/pykili.github.io/_sass/bootswatch/paper': 0,\n",
       " '/Users/antonleonov/Desktop/pykili/pykili.github.io/_sass/bootswatch/solar': 0,\n",
       " '/Users/antonleonov/Desktop/pykili/pykili.github.io/_sass/bootswatch/united': 0,\n",
       " '/Users/antonleonov/Desktop/pykili/pykili.github.io/_sass/bootswatch/cerulean': 0,\n",
       " '/Users/antonleonov/Desktop/pykili/pykili.github.io/_sass/bootswatch/sandstone': 0,\n",
       " '/Users/antonleonov/Desktop/pykili/pykili.github.io/_sass/bootswatch/slate': 0,\n",
       " '/Users/antonleonov/Desktop/pykili/pykili.github.io/_sass/bootswatch/simplex': 0,\n",
       " '/Users/antonleonov/Desktop/pykili/pykili.github.io/_sass/bootswatch/lumen': 0,\n",
       " '/Users/antonleonov/Desktop/pykili/pykili.github.io/_sass/bootswatch/readable': 0,\n",
       " '/Users/antonleonov/Desktop/pykili/pykili.github.io/_sass/bootswatch/flatly': 0,\n",
       " '/Users/antonleonov/Desktop/pykili/pykili.github.io/_sass/bootswatch/cosmo': 0,\n",
       " '/Users/antonleonov/Desktop/pykili/pykili.github.io/_sass/bootswatch/superhero': 0,\n",
       " '/Users/antonleonov/Desktop/pykili/pykili.github.io/_sass/bootswatch/cyborg': 0,\n",
       " '/Users/antonleonov/Desktop/pykili/pykili.github.io/_sass/bootswatch/custom': 0,\n",
       " '/Users/antonleonov/Desktop/pykili/pykili.github.io/_sass/bootswatch/darkly': 0,\n",
       " '/Users/antonleonov/Desktop/pykili/pykili.github.io/_sass/bootswatch/spacelab': 0,\n",
       " '/Users/antonleonov/Desktop/pykili/pykili.github.io/_sass/bootswatch/yeti': 0,\n",
       " '/Users/antonleonov/Desktop/pykili/pykili.github.io/.git': 0,\n",
       " '/Users/antonleonov/Desktop/pykili/pykili.github.io/.git/objects/61': 416654,\n",
       " '/Users/antonleonov/Desktop/pykili/pykili.github.io/.git/objects/66': 2614343890,\n",
       " '/Users/antonleonov/Desktop/pykili/pykili.github.io/.git/objects/68': 67642,\n",
       " '/Users/antonleonov/Desktop/pykili/pykili.github.io/.git/objects/03': 88316671,\n",
       " '/Users/antonleonov/Desktop/pykili/pykili.github.io/.git/objects/9b': 6608,\n",
       " '/Users/antonleonov/Desktop/pykili/pykili.github.io/.git/objects/9e': 935856,\n",
       " '/Users/antonleonov/Desktop/pykili/pykili.github.io/.git/objects/69': 11113233,\n",
       " '/Users/antonleonov/Desktop/pykili/pykili.github.io/.git/objects/3d': 86805278,\n",
       " '/Users/antonleonov/Desktop/pykili/pykili.github.io/.git/objects/58': 9702224,\n",
       " '/Users/antonleonov/Desktop/pykili/pykili.github.io/.git/objects/67': 94118,\n",
       " '/Users/antonleonov/Desktop/pykili/pykili.github.io/.git/objects/93': 937752714301,\n",
       " '/Users/antonleonov/Desktop/pykili/pykili.github.io/.git/objects/94': 90390026,\n",
       " '/Users/antonleonov/Desktop/pykili/pykili.github.io/.git/objects/0e': 47996,\n",
       " '/Users/antonleonov/Desktop/pykili/pykili.github.io/.git/objects/34': 6484,\n",
       " '/Users/antonleonov/Desktop/pykili/pykili.github.io/.git/objects/5a': 423649,\n",
       " '/Users/antonleonov/Desktop/pykili/pykili.github.io/.git/objects/5f': 347282,\n",
       " '/Users/antonleonov/Desktop/pykili/pykili.github.io/.git/objects/33': 89052659,\n",
       " '/Users/antonleonov/Desktop/pykili/pykili.github.io/.git/objects/9d': 83031,\n",
       " '/Users/antonleonov/Desktop/pykili/pykili.github.io/.git/objects/a4': 1463,\n",
       " '/Users/antonleonov/Desktop/pykili/pykili.github.io/.git/objects/a3': 72570,\n",
       " '/Users/antonleonov/Desktop/pykili/pykili.github.io/.git/objects/b5': 13859205,\n",
       " '/Users/antonleonov/Desktop/pykili/pykili.github.io/.git/objects/b2': 7511525755,\n",
       " '/Users/antonleonov/Desktop/pykili/pykili.github.io/.git/objects/ac': 6657927,\n",
       " '/Users/antonleonov/Desktop/pykili/pykili.github.io/.git/objects/ad': 538374105205,\n",
       " '/Users/antonleonov/Desktop/pykili/pykili.github.io/.git/objects/b4': 558995,\n",
       " '/Users/antonleonov/Desktop/pykili/pykili.github.io/.git/objects/a2': 41193,\n",
       " '/Users/antonleonov/Desktop/pykili/pykili.github.io/.git/objects/d1': 7670,\n",
       " '/Users/antonleonov/Desktop/pykili/pykili.github.io/.git/objects/d6': 73589739,\n",
       " '/Users/antonleonov/Desktop/pykili/pykili.github.io/.git/objects/ae': 4535794970,\n",
       " '/Users/antonleonov/Desktop/pykili/pykili.github.io/.git/objects/d8': 9202,\n",
       " '/Users/antonleonov/Desktop/pykili/pykili.github.io/.git/objects/ab': 632,\n",
       " '/Users/antonleonov/Desktop/pykili/pykili.github.io/.git/objects/e2': 2181777,\n",
       " '/Users/antonleonov/Desktop/pykili/pykili.github.io/.git/objects/eb': 1202940651,\n",
       " '/Users/antonleonov/Desktop/pykili/pykili.github.io/.git/objects/c7': 20814,\n",
       " '/Users/antonleonov/Desktop/pykili/pykili.github.io/.git/objects/c9': 234360,\n",
       " '/Users/antonleonov/Desktop/pykili/pykili.github.io/.git/objects/fd': 17330,\n",
       " '/Users/antonleonov/Desktop/pykili/pykili.github.io/.git/objects/f2': 84570878,\n",
       " '/Users/antonleonov/Desktop/pykili/pykili.github.io/.git/objects/ca': 861,\n",
       " '/Users/antonleonov/Desktop/pykili/pykili.github.io/.git/objects/fe': 8762518,\n",
       " '/Users/antonleonov/Desktop/pykili/pykili.github.io/.git/objects/c6': 196905755,\n",
       " '/Users/antonleonov/Desktop/pykili/pykili.github.io/.git/objects/4e': 1148903608,\n",
       " '/Users/antonleonov/Desktop/pykili/pykili.github.io/.git/objects/27': 90831,\n",
       " '/Users/antonleonov/Desktop/pykili/pykili.github.io/.git/objects/pack': 131648,\n",
       " '/Users/antonleonov/Desktop/pykili/pykili.github.io/.git/objects/11': 4190628,\n",
       " '/Users/antonleonov/Desktop/pykili/pykili.github.io/.git/objects/7c': 108201,\n",
       " '/Users/antonleonov/Desktop/pykili/pykili.github.io/.git/objects/45': 103673,\n",
       " '/Users/antonleonov/Desktop/pykili/pykili.github.io/.git/objects/1f': 831307,\n",
       " '/Users/antonleonov/Desktop/pykili/pykili.github.io/.git/objects/87': 8589373,\n",
       " '/Users/antonleonov/Desktop/pykili/pykili.github.io/.git/objects/74': 89195,\n",
       " '/Users/antonleonov/Desktop/pykili/pykili.github.io/.git/objects/28': 60765376,\n",
       " '/Users/antonleonov/Desktop/pykili/pykili.github.io/.git/objects/7b': 3921,\n",
       " '/Users/antonleonov/Desktop/pykili/pykili.github.io/.git/objects/7e': 2457,\n",
       " '/Users/antonleonov/Desktop/pykili/pykili.github.io/.git/objects/4c': 68666272,\n",
       " '/Users/antonleonov/Desktop/pykili/pykili.github.io/.git/objects/26': 78247322107253,\n",
       " '/Users/antonleonov/Desktop/pykili/pykili.github.io/.git/objects/4d': 3675634,\n",
       " '/Users/antonleonov/Desktop/pykili/pykili.github.io/.git/objects/75': 568230416,\n",
       " '/Users/antonleonov/Desktop/pykili/pykili.github.io/.git/objects/81': 10294389,\n",
       " '/Users/antonleonov/Desktop/pykili/pykili.github.io/.git/objects/86': 54504,\n",
       " '/Users/antonleonov/Desktop/pykili/pykili.github.io/.git/objects/72': 9904504,\n",
       " '/Users/antonleonov/Desktop/pykili/pykili.github.io/.git/objects/88': 8170331,\n",
       " '/Users/antonleonov/Desktop/pykili/pykili.github.io/.git/objects/6b': 110787,\n",
       " '/Users/antonleonov/Desktop/pykili/pykili.github.io/.git/objects/07': 508424,\n",
       " '/Users/antonleonov/Desktop/pykili/pykili.github.io/.git/objects/09': 1255805,\n",
       " '/Users/antonleonov/Desktop/pykili/pykili.github.io/.git/objects/65': 10337840,\n",
       " '/Users/antonleonov/Desktop/pykili/pykili.github.io/.git/objects/62': 62431,\n",
       " '/Users/antonleonov/Desktop/pykili/pykili.github.io/.git/objects/5e': 398449910,\n",
       " '/Users/antonleonov/Desktop/pykili/pykili.github.io/.git/objects/5b': 76716026,\n",
       " '/Users/antonleonov/Desktop/pykili/pykili.github.io/.git/objects/08': 4672766,\n",
       " '/Users/antonleonov/Desktop/pykili/pykili.github.io/.git/objects/01': 249283678,\n",
       " '/Users/antonleonov/Desktop/pykili/pykili.github.io/.git/objects/39': 89286,\n",
       " '/Users/antonleonov/Desktop/pykili/pykili.github.io/.git/objects/99': 266690,\n",
       " '/Users/antonleonov/Desktop/pykili/pykili.github.io/.git/objects/52': 1839,\n",
       " '/Users/antonleonov/Desktop/pykili/pykili.github.io/.git/objects/0a': 4751409557658369161,\n",
       " '/Users/antonleonov/Desktop/pykili/pykili.github.io/.git/objects/90': 969097,\n",
       " '/Users/antonleonov/Desktop/pykili/pykili.github.io/.git/objects/ba': 1316,\n",
       " '/Users/antonleonov/Desktop/pykili/pykili.github.io/.git/objects/b6': 16705,\n",
       " '/Users/antonleonov/Desktop/pykili/pykili.github.io/.git/objects/a8': 74366,\n",
       " '/Users/antonleonov/Desktop/pykili/pykili.github.io/.git/objects/b0': 27388,\n",
       " '/Users/antonleonov/Desktop/pykili/pykili.github.io/.git/objects/b9': 779141,\n",
       " '/Users/antonleonov/Desktop/pykili/pykili.github.io/.git/objects/ea': 4602283966,\n",
       " '/Users/antonleonov/Desktop/pykili/pykili.github.io/.git/objects/e1': 42400785,\n",
       " '/Users/antonleonov/Desktop/pykili/pykili.github.io/.git/objects/cd': 5411,\n",
       " '/Users/antonleonov/Desktop/pykili/pykili.github.io/.git/objects/f9': 403960864,\n",
       " '/Users/antonleonov/Desktop/pykili/pykili.github.io/.git/objects/f7': 18131744583054,\n",
       " '/Users/antonleonov/Desktop/pykili/pykili.github.io/.git/objects/e8': 1300537800,\n",
       " '/Users/antonleonov/Desktop/pykili/pykili.github.io/.git/objects/c5': 17914424,\n",
       " '/Users/antonleonov/Desktop/pykili/pykili.github.io/.git/objects/f6': 3124393,\n",
       " '/Users/antonleonov/Desktop/pykili/pykili.github.io/.git/objects/e9': 5151090,\n",
       " '/Users/antonleonov/Desktop/pykili/pykili.github.io/.git/objects/cb': 7926300,\n",
       " '/Users/antonleonov/Desktop/pykili/pykili.github.io/.git/objects/e0': 93973,\n",
       " '/Users/antonleonov/Desktop/pykili/pykili.github.io/.git/objects/46': 697980341,\n",
       " '/Users/antonleonov/Desktop/pykili/pykili.github.io/.git/objects/41': 7939689522,\n",
       " '/Users/antonleonov/Desktop/pykili/pykili.github.io/.git/objects/83': 328289403,\n",
       " '/Users/antonleonov/Desktop/pykili/pykili.github.io/.git/objects/70': 774555752400676,\n",
       " '/Users/antonleonov/Desktop/pykili/pykili.github.io/.git/objects/84': 4683988696,\n",
       " '/Users/antonleonov/Desktop/pykili/pykili.github.io/.git/objects/24': 1197862,\n",
       " '/Users/antonleonov/Desktop/pykili/pykili.github.io/.git/objects/4f': 543934,\n",
       " '/Users/antonleonov/Desktop/pykili/pykili.github.io/.git/objects/8d': 4385558,\n",
       " '/Users/antonleonov/Desktop/pykili/pykili.github.io/.git/objects/8c': 7663546,\n",
       " '/Users/antonleonov/Desktop/pykili/pykili.github.io/.git/objects/71': 96922471,\n",
       " '/Users/antonleonov/Desktop/pykili/pykili.github.io/.git/objects/82': 777900044839,\n",
       " '/Users/antonleonov/Desktop/pykili/pykili.github.io/.git/objects/49': 753413,\n",
       " '/Users/antonleonov/Desktop/pykili/pykili.github.io/.git/objects/40': 7115116,\n",
       " '/Users/antonleonov/Desktop/pykili/pykili.github.io/.git/objects/2e': 3750894,\n",
       " '/Users/antonleonov/Desktop/pykili/pykili.github.io/.git/objects/2b': 70723348,\n",
       " '/Users/antonleonov/Desktop/pykili/pykili.github.io/.git/objects/47': 12360858,\n",
       " '/Users/antonleonov/Desktop/pykili/pykili.github.io/.git/objects/78': 8429,\n",
       " '/Users/antonleonov/Desktop/pykili/pykili.github.io/.git/objects/7a': 242660,\n",
       " '/Users/antonleonov/Desktop/pykili/pykili.github.io/.git/objects/14': 37496326,\n",
       " '/Users/antonleonov/Desktop/pykili/pykili.github.io/.git/objects/25': 979131,\n",
       " '/Users/antonleonov/Desktop/pykili/pykili.github.io/.git/info': 0,\n",
       " '/Users/antonleonov/Desktop/pykili/pykili.github.io/.git/logs': 0,\n",
       " '/Users/antonleonov/Desktop/pykili/pykili.github.io/.git/logs/refs/heads': 0,\n",
       " '/Users/antonleonov/Desktop/pykili/pykili.github.io/.git/logs/refs/remotes/origin': 0,\n",
       " '/Users/antonleonov/Desktop/pykili/pykili.github.io/.git/hooks': 0,\n",
       " '/Users/antonleonov/Desktop/pykili/pykili.github.io/.git/refs/heads': 0,\n",
       " '/Users/antonleonov/Desktop/pykili/pykili.github.io/.git/refs/remotes/origin': 0,\n",
       " '/Users/antonleonov/Desktop/pykili/pykili.github.io/assets/css': 0,\n",
       " '/Users/antonleonov/Desktop/pykili/pykili.github.io/assets/css/fonts': 70,\n",
       " '/Users/antonleonov/Desktop/pykili/pykili.github.io/assets/js': 0,\n",
       " '/Users/antonleonov/Desktop/pykili/pykili.github.io/assets/fonts': 2,\n",
       " '/Users/antonleonov/Desktop/pykili/pykili.github.io/assets/fonts/bootstrap': 2}"
      ]
     },
     "execution_count": 42,
     "metadata": {},
     "output_type": "execute_result"
    }
   ],
   "source": [
    "dict_res"
   ]
  },
  {
   "cell_type": "code",
   "execution_count": 43,
   "id": "a5eb38cd",
   "metadata": {},
   "outputs": [
    {
     "name": "stdout",
     "output_type": "stream",
     "text": [
      "Где мы сейчас: /Users/antonleonov/Desktop/pykili/pykili.github.io\n",
      "Папки на этом уровне: ['_includes', '_docs', 'content', '_layouts', 'img', '_data', '_sass', '.git', 'assets']\n",
      "Файлы на этом уровне: ['.DS_Store', 'LICENSE', 'search.json', '404.html', 'README.md', '.gitignore', '_config.yml', '.gitattributes', 'Gemfile', 'Gemfile.lock', 'docker-compose.yml']\n",
      "Где мы сейчас: /Users/antonleonov/Desktop/pykili/pykili.github.io/_includes\n",
      "Папки на этом уровне: ['prog', 'common']\n",
      "Файлы на этом уровне: []\n",
      "Где мы сейчас: /Users/antonleonov/Desktop/pykili/pykili.github.io/_includes/prog\n",
      "Папки на этом уровне: ['landing']\n",
      "Файлы на этом уровне: ['hwfooter.md']\n",
      "Где мы сейчас: /Users/antonleonov/Desktop/pykili/pykili.github.io/_includes/prog/landing\n",
      "Папки на этом уровне: []\n",
      "Файлы на этом уровне: ['extra.md', 'logistics.md']\n",
      "Где мы сейчас: /Users/antonleonov/Desktop/pykili/pykili.github.io/_includes/common\n",
      "Папки на этом уровне: []\n",
      "Файлы на этом уровне: ['yametrica.html', 'js_files.html', 'section_nav.html', 'topnav.html', 'head.html', 'footer.html', 'docs_nav.html']\n",
      "Где мы сейчас: /Users/antonleonov/Desktop/pykili/pykili.github.io/_docs\n",
      "Папки на этом уровне: ['lingdata', 'prog']\n",
      "Файлы на этом уровне: ['.DS_Store']\n",
      "Где мы сейчас: /Users/antonleonov/Desktop/pykili/pykili.github.io/_docs/lingdata\n",
      "Папки на этом уровне: ['data']\n",
      "Файлы на этом уровне: ['practicum-elan.md', 'practicum_spreadsheets-2.md', 'practicum-web-corpora.md', 'practicum-antconc.md', '1_Лекция_Лингвистические электронные ресурсы.pdf', 'homework_transcript.md', 'exam_projects.md', 'homework-data-analysis-1.md', 'homework-data-analysis-2.md', 'homework-elan-2.md', 'index.md', 'homework-morpho.md', 'freq.tsv', 'lecture-antconc.pdf', 'homework_record.md', 'AspectualPairZalizniak.xls', 'homework-elan.md']\n",
      "Где мы сейчас: /Users/antonleonov/Desktop/pykili/pykili.github.io/_docs/lingdata/data\n",
      "Папки на этом уровне: []\n",
      "Файлы на этом уровне: ['AcolorList.txt', 'readme.md', 'AcolorList1.txt', 'Tolstoy_Anna_Karenina.txt', 'AspectualPairZalizniak.xls']\n",
      "Где мы сейчас: /Users/antonleonov/Desktop/pykili/pykili.github.io/_docs/prog\n",
      "Папки на этом уровне: ['archive', 'static']\n",
      "Файлы на этом уровне: ['26-telegram-bot.md', '25-json.md', '24-train-task.md', '08-test-preparation.md', '04-lists.md', '05-files.md', 'index.html', '01-git_and_python_intro.md', '02-if-and-comparison-ops.md', '18-regexp-sub.md', '19-regexp-findall.md', 'dict-2.md', '06-write-files.md', '10-functions-two.md', '11-rick-and-morty.md', 'projects.md', '12-functions-and-import.md', '07-functions.md', '23-tree-and-format.md', '16-regexp.md', '22-file-manipulation.md', '03-loops.md', '15-south-park.md', '17-regexp-group.md', '20-test-preparation.md', 'dict-1-set.md']\n",
      "Где мы сейчас: /Users/antonleonov/Desktop/pykili/pykili.github.io/_docs/prog/archive\n",
      "Папки на этом уровне: []\n",
      "Файлы на этом уровне: ['08-test-preparation.md', '00-bonus-tasks.md', 'str.md']\n",
      "Где мы сейчас: /Users/antonleonov/Desktop/pykili/pykili.github.io/_docs/prog/static\n",
      "Папки на этом уровне: ['25']\n",
      "Файлы на этом уровне: []\n",
      "Где мы сейчас: /Users/antonleonov/Desktop/pykili/pykili.github.io/_docs/prog/static/25\n",
      "Папки на этом уровне: []\n",
      "Файлы на этом уровне: ['telegram-bot-flow.png', 'libs-vs.svg', 'telegram-bot-flow.svg', 'echo.jpg', 'her-new-app.png', 'botfather.jpg', 'currency.png', 'her-new-app-2.png']\n",
      "Где мы сейчас: /Users/antonleonov/Desktop/pykili/pykili.github.io/content\n",
      "Папки на этом уровне: ['py', 'slides', 'notes', 'notebooks']\n",
      "Файлы на этом уровне: ['.DS_Store', 'IELTS.txt', 'pena0.html', 'mid_rus_conll.zip', 'test2_mystem.xml', 'Pride_and_Prejudice.txt', 'mid_rus_verbs.txt', 'pena0.txt']\n",
      "Где мы сейчас: /Users/antonleonov/Desktop/pykili/pykili.github.io/content/py\n",
      "Папки на этом уровне: []\n",
      "Файлы на этом уровне: ['sentence_generator.py', 'poem_generator.py']\n",
      "Где мы сейчас: /Users/antonleonov/Desktop/pykili/pykili.github.io/content/slides\n",
      "Папки на этом уровне: ['groups']\n",
      "Файлы на этом уровне: []\n",
      "Где мы сейчас: /Users/antonleonov/Desktop/pykili/pykili.github.io/content/slides/groups\n",
      "Папки на этом уровне: ['2']\n",
      "Файлы на этом уровне: []\n",
      "Где мы сейчас: /Users/antonleonov/Desktop/pykili/pykili.github.io/content/slides/groups/2\n",
      "Папки на этом уровне: []\n",
      "Файлы на этом уровне: ['seminar_modules.pdf', 'seminar_1.pdf', 'seminar_3.pdf']\n",
      "Где мы сейчас: /Users/antonleonov/Desktop/pykili/pykili.github.io/content/notes\n",
      "Папки на этом уровне: ['groups']\n",
      "Файлы на этом уровне: []\n",
      "Где мы сейчас: /Users/antonleonov/Desktop/pykili/pykili.github.io/content/notes/groups\n",
      "Папки на этом уровне: ['04']\n",
      "Файлы на этом уровне: []\n",
      "Где мы сейчас: /Users/antonleonov/Desktop/pykili/pykili.github.io/content/notes/groups/04\n",
      "Папки на этом уровне: []\n",
      "Файлы на этом уровне: ['note1.md']\n",
      "Где мы сейчас: /Users/antonleonov/Desktop/pykili/pykili.github.io/content/notebooks\n",
      "Папки на этом уровне: ['groups']\n",
      "Файлы на этом уровне: ['.DS_Store']\n",
      "Где мы сейчас: /Users/antonleonov/Desktop/pykili/pykili.github.io/content/notebooks/groups\n",
      "Папки на этом уровне: ['2']\n",
      "Файлы на этом уровне: ['.DS_Store']\n",
      "Где мы сейчас: /Users/antonleonov/Desktop/pykili/pykili.github.io/content/notebooks/groups/2\n",
      "Папки на этом уровне: []\n",
      "Файлы на этом уровне: ['ФиКЛ программирование 202 - регулярки - 2.ipynb', 'seminar_functions.ipynb', 'Программирование 202 - подготовка к КР.ipynb', 'ФиКЛ Программирование 202 - Словари - 3.ipynb', '.DS_Store', 'ФиКЛ программирование 202 - регулярки - 3.ipynb', 'seminar_functions_two.ipynb', 'seminar-read-files.ipynb', 'seminar_lists.ipynb', 'ФиКЛ программирование 202 - словари - 2.ipynb', 'seminar_3.ipynb', 'seminar_modules.ipynb', 'seminar-files-write.ipynb', 'seminar_test_prep.ipynb', 'ФиКЛ - Программирование 202 - файлы.ipynb']\n",
      "Где мы сейчас: /Users/antonleonov/Desktop/pykili/pykili.github.io/_layouts\n",
      "Папки на этом уровне: []\n",
      "Файлы на этом уровне: ['default.html', 'docs_wide.html', 'docs.html', 'landing.html']\n",
      "Где мы сейчас: /Users/antonleonov/Desktop/pykili/pykili.github.io/img\n",
      "Папки на этом уровне: ['04', 'data_udpipe', 'data_antconc', 'prog', 'data_webcorpora', '01', 'data_elan', 'edit_page', 'staff']\n",
      "Файлы на этом уровне: ['.DS_Store']\n",
      "Где мы сейчас: /Users/antonleonov/Desktop/pykili/pykili.github.io/img/04\n",
      "Папки на этом уровне: []\n",
      "Файлы на этом уровне: ['append.png']\n",
      "Где мы сейчас: /Users/antonleonov/Desktop/pykili/pykili.github.io/img/data_udpipe\n",
      "Папки на этом уровне: []\n",
      "Файлы на этом уровне: ['udpipe_rus.png', 'readme.md']\n",
      "Где мы сейчас: /Users/antonleonov/Desktop/pykili/pykili.github.io/img/data_antconc\n",
      "Папки на этом уровне: []\n",
      "Файлы на этом уровне: ['readme.md', 'antconc_1.png']\n",
      "Где мы сейчас: /Users/antonleonov/Desktop/pykili/pykili.github.io/img/prog\n",
      "Папки на этом уровне: ['03', '04', '02', 'projects']\n",
      "Файлы на этом уровне: []\n",
      "Где мы сейчас: /Users/antonleonov/Desktop/pykili/pykili.github.io/img/prog/03\n",
      "Папки на этом уровне: []\n",
      "Файлы на этом уровне: ['idle-ctrl-c.png']\n",
      "Где мы сейчас: /Users/antonleonov/Desktop/pykili/pykili.github.io/img/prog/04\n",
      "Папки на этом уровне: []\n",
      "Файлы на этом уровне: ['install_py_windows.png', 'open_cmd_windows.png']\n",
      "Где мы сейчас: /Users/antonleonov/Desktop/pykili/pykili.github.io/img/prog/02\n",
      "Папки на этом уровне: []\n",
      "Файлы на этом уровне: ['strtofloat.png', 'calc_first.png', 'calc2.png', 'inttostr.png', 'strtointfailed.png']\n",
      "Где мы сейчас: /Users/antonleonov/Desktop/pykili/pykili.github.io/img/prog/projects\n",
      "Папки на этом уровне: []\n",
      "Файлы на этом уровне: ['script_example.png', 'coocc_heatmap.png']\n",
      "Где мы сейчас: /Users/antonleonov/Desktop/pykili/pykili.github.io/img/data_webcorpora\n",
      "Папки на этом уровне: []\n",
      "Файлы на этом уровне: ['readme.md', 'skell_word.png']\n",
      "Где мы сейчас: /Users/antonleonov/Desktop/pykili/pykili.github.io/img/01\n",
      "Папки на этом уровне: []\n",
      "Файлы на этом уровне: ['idle_console.png', 'idle_editor.png']\n",
      "Где мы сейчас: /Users/antonleonov/Desktop/pykili/pykili.github.io/img/data_elan\n",
      "Папки на этом уровне: []\n",
      "Файлы на этом уровне: ['ELAN4.png', 'ELAN_change_tier.png', 'ELAN3.png', 'ELAN_tokenize_tier.png', 'ELAN_new_tier.png', 'readme.md', 'ELAN_import_csv.png', 'ELAN_import_csv1.png', 'ELAN_segmentation_mode.png']\n",
      "Где мы сейчас: /Users/antonleonov/Desktop/pykili/pykili.github.io/img/edit_page\n",
      "Папки на этом уровне: []\n",
      "Файлы на этом уровне: ['pencil.png']\n",
      "Где мы сейчас: /Users/antonleonov/Desktop/pykili/pykili.github.io/img/staff\n",
      "Папки на этом уровне: []\n",
      "Файлы на этом уровне: ['sapunov.png', 'danyar.jpg', 'vantral.jpg', 'lilas_pourpre.jpg', 'anton.jpeg', 'avrogulina.jpg', 'dariarev.jpg', 'janpona.jpg', 'serikov.png', 'aklezovich.jpg', 'tak_ty.jpg', 'olesar.jpg']\n",
      "Где мы сейчас: /Users/antonleonov/Desktop/pykili/pykili.github.io/_data\n",
      "Папки на этом уровне: []\n",
      "Файлы на этом уровне: ['links.yml', 'staff.yml', 'prog-lessons.yml']\n",
      "Где мы сейчас: /Users/antonleonov/Desktop/pykili/pykili.github.io/_sass\n",
      "Папки на этом уровне: ['bootstrap', 'bootswatch']\n",
      "Файлы на этом уровне: ['_bootstrap.scss', '_typeahead.scss', '_syntax-highlighting.scss']\n",
      "Где мы сейчас: /Users/antonleonov/Desktop/pykili/pykili.github.io/_sass/bootstrap\n",
      "Папки на этом уровне: ['mixins']\n",
      "Файлы на этом уровне: ['_code.scss', '_pager.scss', '_jumbotron.scss', '_navbar.scss', '_variables.scss', '_input-groups.scss', '_badges.scss', '_carousel.scss', '_progress-bars.scss', '_button-groups.scss', '_print.scss', '_thumbnails.scss', '_media.scss', '_responsive-utilities.scss', '_scaffolding.scss', '_utilities.scss', '_forms.scss', '_component-animations.scss', '_buttons.scss', '_navs.scss', '_tables.scss', '_close.scss', '_list-group.scss', '_breadcrumbs.scss', '_pagination.scss', '_panels.scss', '_grid.scss', '_modals.scss', '_mixins.scss', '_popovers.scss', '_glyphicons.scss', '_dropdowns.scss', '_wells.scss', '_tooltip.scss', '_responsive-embed.scss', '_alerts.scss', '_type.scss', '_labels.scss', '_theme.scss', '_normalize.scss']\n",
      "Где мы сейчас: /Users/antonleonov/Desktop/pykili/pykili.github.io/_sass/bootstrap/mixins\n",
      "Папки на этом уровне: []\n",
      "Файлы на этом уровне: ['_reset-text.scss', '_nav-vertical-align.scss', '_reset-filter.scss', '_image.scss', '_text-overflow.scss', '_gradients.scss', '_hide-text.scss', '_text-emphasis.scss', '_table-row.scss', '_background-variant.scss', '_forms.scss', '_buttons.scss', '_grid-framework.scss', '_tab-focus.scss', '_resize.scss', '_vendor-prefixes.scss', '_opacity.scss', '_progress-bar.scss', '_nav-divider.scss', '_list-group.scss', '_pagination.scss', '_clearfix.scss', '_panels.scss', '_grid.scss', '_border-radius.scss', '_size.scss', '_center-block.scss', '_alerts.scss', '_responsive-visibility.scss', '_labels.scss']\n",
      "Где мы сейчас: /Users/antonleonov/Desktop/pykili/pykili.github.io/_sass/bootswatch\n",
      "Папки на этом уровне: ['journal', 'paper', 'solar', 'united', 'cerulean', 'sandstone', 'slate', 'simplex', 'lumen', 'readable', 'flatly', 'cosmo', 'superhero', 'cyborg', 'custom', 'darkly', 'spacelab', 'yeti']\n",
      "Файлы на этом уровне: ['LICENSE']\n",
      "Где мы сейчас: /Users/antonleonov/Desktop/pykili/pykili.github.io/_sass/bootswatch/journal\n",
      "Папки на этом уровне: []\n",
      "Файлы на этом уровне: ['_variables.scss', '_bootswatch.scss']\n",
      "Где мы сейчас: /Users/antonleonov/Desktop/pykili/pykili.github.io/_sass/bootswatch/paper\n",
      "Папки на этом уровне: []\n",
      "Файлы на этом уровне: ['_variables.scss', '_bootswatch.scss']\n",
      "Где мы сейчас: /Users/antonleonov/Desktop/pykili/pykili.github.io/_sass/bootswatch/solar\n",
      "Папки на этом уровне: []\n",
      "Файлы на этом уровне: ['_variables.scss', '_bootswatch.scss']\n",
      "Где мы сейчас: /Users/antonleonov/Desktop/pykili/pykili.github.io/_sass/bootswatch/united\n",
      "Папки на этом уровне: []\n",
      "Файлы на этом уровне: ['_variables.scss', '_bootswatch.scss']\n",
      "Где мы сейчас: /Users/antonleonov/Desktop/pykili/pykili.github.io/_sass/bootswatch/cerulean\n",
      "Папки на этом уровне: []\n",
      "Файлы на этом уровне: ['_variables.scss', '_bootswatch.scss']\n",
      "Где мы сейчас: /Users/antonleonov/Desktop/pykili/pykili.github.io/_sass/bootswatch/sandstone\n",
      "Папки на этом уровне: []\n",
      "Файлы на этом уровне: ['_variables.scss', '_bootswatch.scss']\n",
      "Где мы сейчас: /Users/antonleonov/Desktop/pykili/pykili.github.io/_sass/bootswatch/slate\n",
      "Папки на этом уровне: []\n",
      "Файлы на этом уровне: ['_variables.scss', '_bootswatch.scss']\n",
      "Где мы сейчас: /Users/antonleonov/Desktop/pykili/pykili.github.io/_sass/bootswatch/simplex\n",
      "Папки на этом уровне: []\n",
      "Файлы на этом уровне: ['_variables.scss', '_bootswatch.scss']\n",
      "Где мы сейчас: /Users/antonleonov/Desktop/pykili/pykili.github.io/_sass/bootswatch/lumen\n",
      "Папки на этом уровне: []\n",
      "Файлы на этом уровне: ['_variables.scss', '_bootswatch.scss']\n",
      "Где мы сейчас: /Users/antonleonov/Desktop/pykili/pykili.github.io/_sass/bootswatch/readable\n",
      "Папки на этом уровне: []\n",
      "Файлы на этом уровне: ['_variables.scss', '_bootswatch.scss']\n",
      "Где мы сейчас: /Users/antonleonov/Desktop/pykili/pykili.github.io/_sass/bootswatch/flatly\n",
      "Папки на этом уровне: []\n",
      "Файлы на этом уровне: ['_variables.scss', '_bootswatch.scss']\n",
      "Где мы сейчас: /Users/antonleonov/Desktop/pykili/pykili.github.io/_sass/bootswatch/cosmo\n",
      "Папки на этом уровне: []\n",
      "Файлы на этом уровне: ['_variables.scss', '_bootswatch.scss']\n",
      "Где мы сейчас: /Users/antonleonov/Desktop/pykili/pykili.github.io/_sass/bootswatch/superhero\n",
      "Папки на этом уровне: []\n",
      "Файлы на этом уровне: ['_variables.scss', '_bootswatch.scss']\n",
      "Где мы сейчас: /Users/antonleonov/Desktop/pykili/pykili.github.io/_sass/bootswatch/cyborg\n",
      "Папки на этом уровне: []\n",
      "Файлы на этом уровне: ['_variables.scss', '_bootswatch.scss']\n",
      "Где мы сейчас: /Users/antonleonov/Desktop/pykili/pykili.github.io/_sass/bootswatch/custom\n",
      "Папки на этом уровне: []\n",
      "Файлы на этом уровне: ['_variables.scss', '_bootswatch.scss']\n",
      "Где мы сейчас: /Users/antonleonov/Desktop/pykili/pykili.github.io/_sass/bootswatch/darkly\n",
      "Папки на этом уровне: []\n",
      "Файлы на этом уровне: ['_variables.scss', '_bootswatch.scss']\n",
      "Где мы сейчас: /Users/antonleonov/Desktop/pykili/pykili.github.io/_sass/bootswatch/spacelab\n",
      "Папки на этом уровне: []\n",
      "Файлы на этом уровне: ['_variables.scss', '_bootswatch.scss']\n",
      "Где мы сейчас: /Users/antonleonov/Desktop/pykili/pykili.github.io/_sass/bootswatch/yeti\n",
      "Папки на этом уровне: []\n",
      "Файлы на этом уровне: ['_variables.scss', '_bootswatch.scss']\n",
      "Где мы сейчас: /Users/antonleonov/Desktop/pykili/pykili.github.io/.git\n",
      "Папки на этом уровне: ['objects', 'info', 'logs', 'hooks', 'refs']\n",
      "Файлы на этом уровне: ['ORIG_HEAD', 'config', 'HEAD', 'description', 'index', 'packed-refs', 'COMMIT_EDITMSG', 'FETCH_HEAD']\n",
      "Где мы сейчас: /Users/antonleonov/Desktop/pykili/pykili.github.io/.git/objects\n",
      "Папки на этом уровне: ['61', '66', '68', '03', '9b', '9e', '69', '3d', '58', '67', '93', '94', '0e', '34', '5a', '5f', '33', '9d', 'a4', 'a3', 'b5', 'b2', 'ac', 'ad', 'b4', 'a2', 'd1', 'd6', 'ae', 'd8', 'ab', 'e2', 'eb', 'c7', 'c9', 'fd', 'f2', 'ca', 'fe', 'c6', '4e', '27', 'pack', '11', '7c', '45', '1f', '87', '74', '28', '7b', '7e', '4c', '26', '4d', '75', '81', '86', '72', '88', '6b', '07', '09', 'info', '65', '62', '5e', '5b', '08', '01', '39', '99', '52', '0a', '90', 'ba', 'b6', 'a8', 'b0', 'b9', 'ea', 'e1', 'cd', 'f9', 'f7', 'e8', 'c5', 'f6', 'e9', 'cb', 'e0', '46', '41', '83', '70', '84', '24', '4f', '8d', '8c', '71', '82', '49', '40', '2e', '2b', '47', '78', '7a', '14', '25']\n",
      "Файлы на этом уровне: []\n",
      "Где мы сейчас: /Users/antonleonov/Desktop/pykili/pykili.github.io/.git/objects/61\n",
      "Папки на этом уровне: []\n",
      "Файлы на этом уровне: ['7f3d92cb49d0409337f3e8ac9fe6942c204ddd']\n",
      "Где мы сейчас: /Users/antonleonov/Desktop/pykili/pykili.github.io/.git/objects/66\n",
      "Папки на этом уровне: []\n",
      "Файлы на этом уровне: ['e348d8f7760c2614331915e468b7d0d3384f0e']\n",
      "Где мы сейчас: /Users/antonleonov/Desktop/pykili/pykili.github.io/.git/objects/68\n",
      "Папки на этом уровне: []\n",
      "Файлы на этом уровне: ['cd93c2ddb6cc98de67344a1d36a57c4badaea1']\n",
      "Где мы сейчас: /Users/antonleonov/Desktop/pykili/pykili.github.io/.git/objects/03\n",
      "Папки на этом уровне: []\n",
      "Файлы на этом уровне: ['9e2d288b9d33c83e9de88316224cbddfe8fde6']\n",
      "Где мы сейчас: /Users/antonleonov/Desktop/pykili/pykili.github.io/.git/objects/9b\n",
      "Папки на этом уровне: []\n",
      "Файлы на этом уровне: ['ca786c77cb97aa130b94ddb7ecbcd5404b7f6b']\n",
      "Где мы сейчас: /Users/antonleonov/Desktop/pykili/pykili.github.io/.git/objects/9e\n",
      "Папки на этом уровне: []\n",
      "Файлы на этом уровне: ['61febf919590a30f79e3c6498c294ecd9293c8']\n",
      "Где мы сейчас: /Users/antonleonov/Desktop/pykili/pykili.github.io/.git/objects/69\n",
      "Папки на этом уровне: []\n",
      "Файлы на этом уровне: ['9de1754534df9358659c3ee9f4e1e4b3ac7aec']\n",
      "Где мы сейчас: /Users/antonleonov/Desktop/pykili/pykili.github.io/.git/objects/3d\n",
      "Папки на этом уровне: []\n",
      "Файлы на этом уровне: ['e32c45894be52b3359fbcbab86304283f45776', 'a4a05eff9e1f7e3daaa1b9bacc637e9b405197']\n",
      "Где мы сейчас: /Users/antonleonov/Desktop/pykili/pykili.github.io/.git/objects/58\n",
      "Папки на этом уровне: []\n",
      "Файлы на этом уровне: ['405dd5c6d9699986f6d74be6abff1735c0e0d1']\n",
      "Где мы сейчас: /Users/antonleonov/Desktop/pykili/pykili.github.io/.git/objects/67\n",
      "Папки на этом уровне: []\n",
      "Файлы на этом уровне: ['f90834d2129fa4fcf3b466affd9c515b154a4b']\n",
      "Где мы сейчас: /Users/antonleonov/Desktop/pykili/pykili.github.io/.git/objects/93\n",
      "Папки на этом уровне: []\n",
      "Файлы на этом уровне: ['23793cfffe128cd444bb631c3032c5000ca146', '9a7afd22a5882d8b7ce937752659407cd871fa', '82f88aa9017c0aa944bb1f3940f1d825f8de8d']\n",
      "Где мы сейчас: /Users/antonleonov/Desktop/pykili/pykili.github.io/.git/objects/94\n",
      "Папки на этом уровне: []\n",
      "Файлы на этом уровне: ['d52f8797ff2ff01405a714bcc6a90204674d13', '81034a3f0be61dbc3f6b9d41b93048d86c64d8']\n",
      "Где мы сейчас: /Users/antonleonov/Desktop/pykili/pykili.github.io/.git/objects/0e\n",
      "Папки на этом уровне: []\n",
      "Файлы на этом уровне: ['1bf1850df11d9d48d6a9d0f4a0a3dcd46047c8']\n",
      "Где мы сейчас: /Users/antonleonov/Desktop/pykili/pykili.github.io/.git/objects/34\n",
      "Папки на этом уровне: []\n",
      "Файлы на этом уровне: ['ae6ac4885db4e940b3ead3de9f626aee5d0f3b']\n",
      "Где мы сейчас: /Users/antonleonov/Desktop/pykili/pykili.github.io/.git/objects/5a\n",
      "Папки на этом уровне: []\n",
      "Файлы на этом уровне: ['f280338e96c91a901e51419b85421f8dd5375e']\n",
      "Где мы сейчас: /Users/antonleonov/Desktop/pykili/pykili.github.io/.git/objects/5f\n",
      "Папки на этом уровне: []\n",
      "Файлы на этом уровне: ['2ca887e344529cb3cf6b76fd9a964a263c543b']\n",
      "Где мы сейчас: /Users/antonleonov/Desktop/pykili/pykili.github.io/.git/objects/33\n",
      "Папки на этом уровне: []\n",
      "Файлы на этом уровне: ['45ec89044621e4143d3ed369c8a5edb18a3447']\n",
      "Где мы сейчас: /Users/antonleonov/Desktop/pykili/pykili.github.io/.git/objects/9d\n",
      "Папки на этом уровне: []\n",
      "Файлы на этом уровне: ['c485d95b1ed7c7db0a6c5890d12e0d43224eb0', 'eea31558fa50d0663bae823cc40f84dbc4db82']\n",
      "Где мы сейчас: /Users/antonleonov/Desktop/pykili/pykili.github.io/.git/objects/a4\n",
      "Папки на этом уровне: []\n",
      "Файлы на этом уровне: ['9deaddb0017d717ea4c165b6c405aa1ac59e80']\n",
      "Где мы сейчас: /Users/antonleonov/Desktop/pykili/pykili.github.io/.git/objects/a3\n",
      "Папки на этом уровне: []\n",
      "Файлы на этом уровне: ['48dda6b5887c24af6434aea19d7a15bae60130']\n",
      "Где мы сейчас: /Users/antonleonov/Desktop/pykili/pykili.github.io/.git/objects/b5\n",
      "Папки на этом уровне: []\n",
      "Файлы на этом уровне: ['037b61038dd4963848e4adc5a6924d121630b8', 'b3c91b61fa249b8559286e637acd84b145300e']\n",
      "Где мы сейчас: /Users/antonleonov/Desktop/pykili/pykili.github.io/.git/objects/b2\n",
      "Папки на этом уровне: []\n",
      "Файлы на этом уровне: ['c7cdaafffbc120f0f9cd6956748371b753f735', 'd240d7720cbe008c8a5a554572984cfb194795']\n",
      "Где мы сейчас: /Users/antonleonov/Desktop/pykili/pykili.github.io/.git/objects/ac\n",
      "Папки на этом уровне: []\n",
      "Файлы на этом уровне: ['d86e0e70e293071ca3d48586d0b6316025ae86']\n",
      "Где мы сейчас: /Users/antonleonov/Desktop/pykili/pykili.github.io/.git/objects/ad\n",
      "Папки на этом уровне: []\n",
      "Файлы на этом уровне: ['aca0785eb85025ea165ff0ade10273ae5132d7', 'dca6225ee6d171c2e633fff5d171780a014219', '242e0a4781a9d538373706445ad98466a831e3']\n",
      "Где мы сейчас: /Users/antonleonov/Desktop/pykili/pykili.github.io/.git/objects/b4\n",
      "Папки на этом уровне: []\n",
      "Файлы на этом уровне: ['524a721d14c3dd550894cf178f6372f12bd277']\n",
      "Где мы сейчас: /Users/antonleonov/Desktop/pykili/pykili.github.io/.git/objects/a2\n",
      "Папки на этом уровне: []\n",
      "Файлы на этом уровне: ['8a93e9aaa16c34eb2275e1cdaa2c5f38743f7e']\n",
      "Где мы сейчас: /Users/antonleonov/Desktop/pykili/pykili.github.io/.git/objects/d1\n",
      "Папки на этом уровне: []\n",
      "Файлы на этом уровне: ['936d44ae4ea5f20a785cea2b3bde11e6fe5854']\n",
      "Где мы сейчас: /Users/antonleonov/Desktop/pykili/pykili.github.io/.git/objects/d6\n",
      "Папки на этом уровне: []\n",
      "Файлы на этом уровне: ['4c25220d1be4607fd15867a4e71e306d01933b', 'e7dc73453826a59e5ada87808a5de01de015eb']\n",
      "Где мы сейчас: /Users/antonleonov/Desktop/pykili/pykili.github.io/.git/objects/ae\n",
      "Папки на этом уровне: []\n",
      "Файлы на этом уровне: ['9d4cff82fe7e4535794797ff2c62e0aebe1f6e']\n",
      "Где мы сейчас: /Users/antonleonov/Desktop/pykili/pykili.github.io/.git/objects/d8\n",
      "Папки на этом уровне: []\n",
      "Файлы на этом уровне: ['78a80c6b5e52d4934c7f2bad48f2c17bfa3971']\n",
      "Где мы сейчас: /Users/antonleonov/Desktop/pykili/pykili.github.io/.git/objects/ab\n",
      "Папки на этом уровне: []\n",
      "Файлы на этом уровне: ['cf80e359fc8dff2ebcf83ffbf2fcc91c3efdf4']\n",
      "Где мы сейчас: /Users/antonleonov/Desktop/pykili/pykili.github.io/.git/objects/e2\n",
      "Папки на этом уровне: []\n",
      "Файлы на этом уровне: ['b2f162c4320ba96c0424d2f2648d611c1b48b9', 'df6f8f2172445c99bd53f5b2de826ce03e1bb6']\n",
      "Где мы сейчас: /Users/antonleonov/Desktop/pykili/pykili.github.io/.git/objects/eb\n",
      "Папки на этом уровне: []\n",
      "Файлы на этом уровне: ['bf30d1202939435e4a8a804c0c66d75dd4e225']\n",
      "Где мы сейчас: /Users/antonleonov/Desktop/pykili/pykili.github.io/.git/objects/c7\n",
      "Папки на этом уровне: []\n",
      "Файлы на этом уровне: ['2600eed8758e5c576a0a697eb39b8131afeab8']\n",
      "Где мы сейчас: /Users/antonleonov/Desktop/pykili/pykili.github.io/.git/objects/c9\n",
      "Папки на этом уровне: []\n",
      "Файлы на этом уровне: ['d63800f164499a40ef5141cbab81aab4b791c4']\n",
      "Где мы сейчас: /Users/antonleonov/Desktop/pykili/pykili.github.io/.git/objects/fd\n",
      "Папки на этом уровне: []\n",
      "Файлы на этом уровне: ['002c3c859bce2d02aa72de7f78bd813cd15492']\n",
      "Где мы сейчас: /Users/antonleonov/Desktop/pykili/pykili.github.io/.git/objects/f2\n",
      "Папки на этом уровне: []\n",
      "Файлы на этом уровне: ['8da988e276b7d9e8b2df5b2431d84567052b92']\n",
      "Где мы сейчас: /Users/antonleonov/Desktop/pykili/pykili.github.io/.git/objects/ca\n",
      "Папки на этом уровне: []\n",
      "Файлы на этом уровне: ['86f388bba2ae32bb5b2f68cc3ff54fdcc215d6']\n",
      "Где мы сейчас: /Users/antonleonov/Desktop/pykili/pykili.github.io/.git/objects/fe\n",
      "Папки на этом уровне: []\n",
      "Файлы на этом уровне: ['d8289490c969cf37daecc4e54192d4dc417822']\n",
      "Где мы сейчас: /Users/antonleonov/Desktop/pykili/pykili.github.io/.git/objects/c6\n",
      "Папки на этом уровне: []\n",
      "Файлы на этом уровне: ['190998d86ade8bb4693ed200a786588fafa86f', 'd6b9c10a260a72af189041417fa9efb6881313']\n",
      "Где мы сейчас: /Users/antonleonov/Desktop/pykili/pykili.github.io/.git/objects/4e\n",
      "Папки на этом уровне: []\n",
      "Файлы на этом уровне: ['c78d798ee899a1148901665f45cd95f21cecc7']\n",
      "Где мы сейчас: /Users/antonleonov/Desktop/pykili/pykili.github.io/.git/objects/27\n",
      "Папки на этом уровне: []\n",
      "Файлы на этом уровне: ['82219c596a76dccbd06741bc958e30e208e0a3']\n",
      "Где мы сейчас: /Users/antonleonov/Desktop/pykili/pykili.github.io/.git/objects/pack\n",
      "Папки на этом уровне: []\n",
      "Файлы на этом уровне: ['pack-4bc2ae1fe3470b6681d1bc373c549f54731d5dd7.idx', 'pack-4bc2ae1fe3470b6681d1bc373c549f54731d5dd7.pack']\n",
      "Где мы сейчас: /Users/antonleonov/Desktop/pykili/pykili.github.io/.git/objects/11\n",
      "Папки на этом уровне: []\n",
      "Файлы на этом уровне: ['993104c8a809f16f3188039aa7826a826b0aff']\n",
      "Где мы сейчас: /Users/antonleonov/Desktop/pykili/pykili.github.io/.git/objects/7c\n",
      "Папки на этом уровне: []\n",
      "Файлы на этом уровне: ['dedcfa983d8580db0e08176fae0775ee89687a']\n",
      "Где мы сейчас: /Users/antonleonov/Desktop/pykili/pykili.github.io/.git/objects/45\n",
      "Папки на этом уровне: []\n",
      "Файлы на этом уровне: ['2fdca1d463df3ee4865adf6dcbf97dbaa98236']\n",
      "Где мы сейчас: /Users/antonleonov/Desktop/pykili/pykili.github.io/.git/objects/1f\n",
      "Папки на этом уровне: []\n",
      "Файлы на этом уровне: ['828488bb1ea95c917f229ceb1401dab89cc087']\n",
      "Где мы сейчас: /Users/antonleonov/Desktop/pykili/pykili.github.io/.git/objects/87\n",
      "Папки на этом уровне: []\n",
      "Файлы на этом уровне: ['729889b5a00b41c29371ae82285b9cf54ad17f', '80ceff65c440ff5f7729796f17304ff6dd2cd4']\n",
      "Где мы сейчас: /Users/antonleonov/Desktop/pykili/pykili.github.io/.git/objects/74\n",
      "Папки на этом уровне: []\n",
      "Файлы на этом уровне: ['37615b9bbe15554b1eea80f7a35148c6fd775d']\n",
      "Где мы сейчас: /Users/antonleonov/Desktop/pykili/pykili.github.io/.git/objects/28\n",
      "Папки на этом уровне: []\n",
      "Файлы на этом уровне: ['bcd11c167ed7c664dffcc60764086ad5a427c9']\n",
      "Где мы сейчас: /Users/antonleonov/Desktop/pykili/pykili.github.io/.git/objects/7b\n",
      "Папки на этом уровне: []\n",
      "Файлы на этом уровне: ['7d5e332cc81a02c1f2930b1e4f4c6a516d032a']\n",
      "Где мы сейчас: /Users/antonleonov/Desktop/pykili/pykili.github.io/.git/objects/7e\n",
      "Папки на этом уровне: []\n",
      "Файлы на этом уровне: ['594c9b6dc3ba310ba707b6a8f81ad52cf5b676']\n",
      "Где мы сейчас: /Users/antonleonov/Desktop/pykili/pykili.github.io/.git/objects/4c\n",
      "Папки на этом уровне: []\n",
      "Файлы на этом уровне: ['68570118e0230ff067bb9f741cfd68a3d95036']\n",
      "Где мы сейчас: /Users/antonleonov/Desktop/pykili/pykili.github.io/.git/objects/26\n",
      "Папки на этом уровне: []\n",
      "Файлы на этом уровне: ['77cd589ea7bc8c41d5ea648e78247321376107', 'afc27e6555c34333f97c60d32e688661c0ca6a']\n",
      "Где мы сейчас: /Users/antonleonov/Desktop/pykili/pykili.github.io/.git/objects/4d\n",
      "Папки на этом уровне: []\n",
      "Файлы на этом уровне: ['579e2840ed2964e55eaf2f7e82a972c3668133']\n",
      "Где мы сейчас: /Users/antonleonov/Desktop/pykili/pykili.github.io/.git/objects/75\n",
      "Папки на этом уровне: []\n",
      "Файлы на этом уровне: ['f198edb1654352f553904480d6d3fd9d6a492d', 'f1c7f3093785b027782ced35b32fb62cfa0dde', '8809ca1c9525248af8363e25afecc6646c8c66']\n",
      "Где мы сейчас: /Users/antonleonov/Desktop/pykili/pykili.github.io/.git/objects/81\n",
      "Папки на этом уровне: []\n",
      "Файлы на этом уровне: ['928e6266d69574dca332298caf3136fc48d191', '8d434aaf228a201c942c9e5d5fe970b9879146']\n",
      "Где мы сейчас: /Users/antonleonov/Desktop/pykili/pykili.github.io/.git/objects/86\n",
      "Папки на этом уровне: []\n",
      "Файлы на этом уровне: ['b8ad254fb41e38e2cfe4a0128ec9a54020cfa0']\n",
      "Где мы сейчас: /Users/antonleonov/Desktop/pykili/pykili.github.io/.git/objects/72\n",
      "Папки на этом уровне: []\n",
      "Файлы на этом уровне: ['4715b8ddb311104bcee5b3f9588317ef352fca']\n",
      "Где мы сейчас: /Users/antonleonov/Desktop/pykili/pykili.github.io/.git/objects/88\n",
      "Папки на этом уровне: []\n",
      "Файлы на этом уровне: ['446769ab755d7722433f0351add5bf1a2bd15e']\n",
      "Где мы сейчас: /Users/antonleonov/Desktop/pykili/pykili.github.io/.git/objects/6b\n",
      "Папки на этом уровне: []\n",
      "Файлы на этом уровне: ['4014b643fff76b13a412ac68425cc0e3506b22', '211c20d4d4b32eb0e658ae9e92f32634cd4db8']\n",
      "Где мы сейчас: /Users/antonleonov/Desktop/pykili/pykili.github.io/.git/objects/07\n",
      "Папки на этом уровне: []\n",
      "Файлы на этом уровне: ['e04af5a243c51ba15c6338f8a501666f8c6f80']\n",
      "Где мы сейчас: /Users/antonleonov/Desktop/pykili/pykili.github.io/.git/objects/09\n",
      "Папки на этом уровне: []\n",
      "Файлы на этом уровне: ['708a40b1252061cfad2220f118eb507d4e147b']\n",
      "Где мы сейчас: /Users/antonleonov/Desktop/pykili/pykili.github.io/.git/objects/info\n",
      "Папки на этом уровне: []\n",
      "Файлы на этом уровне: []\n",
      "Где мы сейчас: /Users/antonleonov/Desktop/pykili/pykili.github.io/.git/objects/65\n",
      "Папки на этом уровне: []\n",
      "Файлы на этом уровне: ['bbd4e59bfc2764819bf1f7523710c49247cadc']\n",
      "Где мы сейчас: /Users/antonleonov/Desktop/pykili/pykili.github.io/.git/objects/62\n",
      "Папки на этом уровне: []\n",
      "Файлы на этом уровне: ['180e45b4cac8289bfdfd52800de03b716b394a']\n",
      "Где мы сейчас: /Users/antonleonov/Desktop/pykili/pykili.github.io/.git/objects/5e\n",
      "Папки на этом уровне: []\n",
      "Файлы на этом уровне: ['67fd3201492ad7f8c73eae3fdd4f5a94f0eb90', 'f395247832f96e4da8cd4ee87cb5f05f1aff25']\n",
      "Где мы сейчас: /Users/antonleonov/Desktop/pykili/pykili.github.io/.git/objects/5b\n",
      "Папки на этом уровне: []\n",
      "Файлы на этом уровне: ['f45fed76664332f2532a7f3b2f2d03c42769e1', '252d167d85ed5696fa7bc9a7b32d6c0b1f068e']\n",
      "Где мы сейчас: /Users/antonleonov/Desktop/pykili/pykili.github.io/.git/objects/08\n",
      "Папки на этом уровне: []\n",
      "Файлы на этом уровне: ['f5dc37f4dcc6b16177dba9bf3b4646797a9728']\n",
      "Где мы сейчас: /Users/antonleonov/Desktop/pykili/pykili.github.io/.git/objects/01\n",
      "Папки на этом уровне: []\n",
      "Файлы на этом уровне: ['8bb24fbafae7e8705bf2516e0887ed729119a3', '4c04fa29c822a95b7cf674cc248540752de22b']\n",
      "Где мы сейчас: /Users/antonleonov/Desktop/pykili/pykili.github.io/.git/objects/39\n",
      "Папки на этом уровне: []\n",
      "Файлы на этом уровне: ['f8a69dc516f3bd2dcd05c6418c526acb2daf30', 'cfdf4ad59fd2e631d58c293c80634d8d8be9c1']\n",
      "Где мы сейчас: /Users/antonleonov/Desktop/pykili/pykili.github.io/.git/objects/99\n",
      "Папки на этом уровне: []\n",
      "Файлы на этом уровне: ['732ee82e06b8e172441dff0cce772f63d7e2c7', 'a448b4f4e8fc3accc8faa15d91b1c91195b793']\n",
      "Где мы сейчас: /Users/antonleonov/Desktop/pykili/pykili.github.io/.git/objects/52\n",
      "Папки на этом уровне: []\n",
      "Файлы на этом уровне: ['d6dfebcf67fdee522f41c231b964cabbeed8ee']\n",
      "Где мы сейчас: /Users/antonleonov/Desktop/pykili/pykili.github.io/.git/objects/0a\n",
      "Папки на этом уровне: []\n",
      "Файлы на этом уровне: ['a4751409557658369121d7c4baaefccd029fbd']\n",
      "Где мы сейчас: /Users/antonleonov/Desktop/pykili/pykili.github.io/.git/objects/90\n",
      "Папки на этом уровне: []\n",
      "Файлы на этом уровне: ['924799ff37503cb140fd6613ea9feb16b8e9af']\n",
      "Где мы сейчас: /Users/antonleonov/Desktop/pykili/pykili.github.io/.git/objects/ba\n",
      "Папки на этом уровне: []\n",
      "Файлы на этом уровне: ['bc694adc27d423f92ee39a0d0ac28c0bb5e8f0']\n",
      "Где мы сейчас: /Users/antonleonov/Desktop/pykili/pykili.github.io/.git/objects/b6\n",
      "Папки на этом уровне: []\n",
      "Файлы на этом уровне: ['9b49a6684ddb1f327a9009cb8f4a7c603c4ffa']\n",
      "Где мы сейчас: /Users/antonleonov/Desktop/pykili/pykili.github.io/.git/objects/a8\n",
      "Папки на этом уровне: []\n",
      "Файлы на этом уровне: ['57f73eb0d1459da4bfbbfe845db6bd6a71916d']\n",
      "Где мы сейчас: /Users/antonleonov/Desktop/pykili/pykili.github.io/.git/objects/b0\n",
      "Папки на этом уровне: []\n",
      "Файлы на этом уровне: ['a3b891f20507a4f2c0e2a51a5885f0e43dfe0d']\n",
      "Где мы сейчас: /Users/antonleonov/Desktop/pykili/pykili.github.io/.git/objects/b9\n",
      "Папки на этом уровне: []\n",
      "Файлы на этом уровне: ['075c9e03f627036ee7b3fa92725d59197a2d84']\n",
      "Где мы сейчас: /Users/antonleonov/Desktop/pykili/pykili.github.io/.git/objects/ea\n",
      "Папки на этом уровне: []\n",
      "Файлы на этом уровне: ['5144ac4602275396f82ccd8dec1e00be476ce0', '759ddc2ead163e018b28c02b1696fa5cd184f2']\n",
      "Где мы сейчас: /Users/antonleonov/Desktop/pykili/pykili.github.io/.git/objects/e1\n",
      "Папки на этом уровне: []\n",
      "Файлы на этом уровне: ['036149664e3d3c8c186be992f2f91f1bc47775', '7c550adcc462ef8359f0d06192166de507e9ac']\n",
      "Где мы сейчас: /Users/antonleonov/Desktop/pykili/pykili.github.io/.git/objects/cd\n",
      "Папки на этом уровне: []\n",
      "Файлы на этом уровне: ['b9e65e0a0d13f88af86d9b7d0c6fc296af4832']\n",
      "Где мы сейчас: /Users/antonleonov/Desktop/pykili/pykili.github.io/.git/objects/f9\n",
      "Папки на этом уровне: []\n",
      "Файлы на этом уровне: ['cf9f70646e6eff2edc11c3441d0823d7ce4b5e', '5400e78d5612c1bb46d4b358404d7bf8a90da0', 'd82a93b4aba4fa403483955c31997c61d55dd9']\n",
      "Где мы сейчас: /Users/antonleonov/Desktop/pykili/pykili.github.io/.git/objects/f7\n",
      "Папки на этом уровне: []\n",
      "Файлы на этом уровне: ['e7f612f43074d739e9ea18131744538311d302']\n",
      "Где мы сейчас: /Users/antonleonov/Desktop/pykili/pykili.github.io/.git/objects/e8\n",
      "Папки на этом уровне: []\n",
      "Файлы на этом уровне: ['8d6e482ba8e7f62614bde0e78c01299877426b', 'f9ddd111a4a68cbc882c6ddd0595740ae343c8']\n",
      "Где мы сейчас: /Users/antonleonov/Desktop/pykili/pykili.github.io/.git/objects/c5\n",
      "Папки на этом уровне: []\n",
      "Файлы на этом уровне: ['9b71693a6b2707b74133b87ff01d8b0c93d984', '42ee52f4b48cd982403c27e71d16782052d2a2']\n",
      "Где мы сейчас: /Users/antonleonov/Desktop/pykili/pykili.github.io/.git/objects/f6\n",
      "Папки на этом уровне: []\n",
      "Файлы на этом уровне: ['db2c7f11a2161236b373aa883da49e961831e1']\n",
      "Где мы сейчас: /Users/antonleonov/Desktop/pykili/pykili.github.io/.git/objects/e9\n",
      "Папки на этом уровне: []\n",
      "Файлы на этом уровне: ['db9bbe783785b66f2a1cfaa28c483b4366716a']\n",
      "Где мы сейчас: /Users/antonleonov/Desktop/pykili/pykili.github.io/.git/objects/cb\n",
      "Папки на этом уровне: []\n",
      "Файлы на этом уровне: ['3e74b2902990c7b769ae02e64ce9f5022382cd']\n",
      "Где мы сейчас: /Users/antonleonov/Desktop/pykili/pykili.github.io/.git/objects/e0\n",
      "Папки на этом уровне: []\n",
      "Файлы на этом уровне: ['c039880d03f2cdd45989bfad9f1fecefbd8089']\n",
      "Где мы сейчас: /Users/antonleonov/Desktop/pykili/pykili.github.io/.git/objects/46\n",
      "Папки на этом уровне: []\n",
      "Файлы на этом уровне: ['2a697228081d0c22c81493fc66bc670674b3ba']\n",
      "Где мы сейчас: /Users/antonleonov/Desktop/pykili/pykili.github.io/.git/objects/41\n",
      "Папки на этом уровне: []\n",
      "Файлы на этом уровне: ['7939686777a9f5b2238bdc3a1d356c3e096e34']\n",
      "Где мы сейчас: /Users/antonleonov/Desktop/pykili/pykili.github.io/.git/objects/83\n",
      "Папки на этом уровне: []\n",
      "Файлы на этом уровне: ['328281323bba4cd3a7458b20c9b9f500b75fe2']\n",
      "Где мы сейчас: /Users/antonleonov/Desktop/pykili/pykili.github.io/.git/objects/70\n",
      "Папки на этом уровне: []\n",
      "Файлы на этом уровне: ['5fa8fb2e10010e7cfe774555752390644faecb']\n",
      "Где мы сейчас: /Users/antonleonov/Desktop/pykili/pykili.github.io/.git/objects/84\n",
      "Папки на этом уровне: []\n",
      "Файлы на этом уровне: ['555008582d4128971944df73ce0284b7fb7806']\n",
      "Где мы сейчас: /Users/antonleonov/Desktop/pykili/pykili.github.io/.git/objects/24\n",
      "Папки на этом уровне: []\n",
      "Файлы на этом уровне: ['190deebaee0696ffe0737213f6e2f459725e30']\n",
      "Где мы сейчас: /Users/antonleonov/Desktop/pykili/pykili.github.io/.git/objects/4f\n",
      "Папки на этом уровне: []\n",
      "Файлы на этом уровне: ['64df4b5e9d91eda4ed495472e93f2afdd71a34', '1d4900f42174ee318dc027e7eac4eca649a4d1']\n",
      "Где мы сейчас: /Users/antonleonov/Desktop/pykili/pykili.github.io/.git/objects/8d\n",
      "Папки на этом уровне: []\n",
      "Файлы на этом уровне: ['5536d4370109b9489b63b5bdcc58bae48fc250']\n",
      "Где мы сейчас: /Users/antonleonov/Desktop/pykili/pykili.github.io/.git/objects/8c\n",
      "Папки на этом уровне: []\n",
      "Файлы на этом уровне: ['60b4916247fc3ade97d772f84d2746278e0e5d']\n",
      "Где мы сейчас: /Users/antonleonov/Desktop/pykili/pykili.github.io/.git/objects/71\n",
      "Папки на этом уровне: []\n",
      "Файлы на этом уровне: ['c7a1410f8dd23f54434f80bb1f96866499d09b']\n",
      "Где мы сейчас: /Users/antonleonov/Desktop/pykili/pykili.github.io/.git/objects/82\n",
      "Папки на этом уровне: []\n",
      "Файлы на этом уровне: ['1eac5f9d24563fe647497d4ce73354ff689392', '60db763b66ad86e34874bcd1752acc856c239f', 'afd7a4b13a5da9c777898571194e4e76a0e6de']\n",
      "Где мы сейчас: /Users/antonleonov/Desktop/pykili/pykili.github.io/.git/objects/49\n",
      "Папки на этом уровне: []\n",
      "Файлы на этом уровне: ['e65b752840ca50a9b18e3fde387dd7fc0a0d34']\n",
      "Где мы сейчас: /Users/antonleonov/Desktop/pykili/pykili.github.io/.git/objects/40\n",
      "Папки на этом уровне: []\n",
      "Файлы на этом уровне: ['fa8b22187ce4b56fb87b0f061df7063179ddef', '7a3195e51a556cfd18103ec7527e21a05e60e9']\n",
      "Где мы сейчас: /Users/antonleonov/Desktop/pykili/pykili.github.io/.git/objects/2e\n",
      "Папки на этом уровне: []\n",
      "Файлы на этом уровне: ['f2b2a3d1410c3749147b4e0316f1bb7d0f2fcb']\n",
      "Где мы сейчас: /Users/antonleonov/Desktop/pykili/pykili.github.io/.git/objects/2b\n",
      "Папки на этом уровне: []\n",
      "Файлы на этом уровне: ['055b5859d3fe956191ae69761239bada0aaf1c']\n",
      "Где мы сейчас: /Users/antonleonov/Desktop/pykili/pykili.github.io/.git/objects/47\n",
      "Папки на этом уровне: []\n",
      "Файлы на этом уровне: ['d11878214f69cf3fd14e3e0710a481834d6b5c']\n",
      "Где мы сейчас: /Users/antonleonov/Desktop/pykili/pykili.github.io/.git/objects/78\n",
      "Папки на этом уровне: []\n",
      "Файлы на этом уровне: ['68e74e619ef15a7aba67a18aa5b7502ab47af7']\n",
      "Где мы сейчас: /Users/antonleonov/Desktop/pykili/pykili.github.io/.git/objects/7a\n",
      "Папки на этом уровне: []\n",
      "Файлы на этом уровне: ['a2583d6f94d577ad231082e495bffb244d7579']\n",
      "Где мы сейчас: /Users/antonleonov/Desktop/pykili/pykili.github.io/.git/objects/14\n",
      "Папки на этом уровне: []\n",
      "Файлы на этом уровне: ['598372c84e401873c9e9891bc36486085c7ed5']\n",
      "Где мы сейчас: /Users/antonleonov/Desktop/pykili/pykili.github.io/.git/objects/25\n",
      "Папки на этом уровне: []\n",
      "Файлы на этом уровне: ['0daea0435ce6040b3cb2ae972617e9aadf17c8']\n",
      "Где мы сейчас: /Users/antonleonov/Desktop/pykili/pykili.github.io/.git/info\n",
      "Папки на этом уровне: []\n",
      "Файлы на этом уровне: ['exclude']\n",
      "Где мы сейчас: /Users/antonleonov/Desktop/pykili/pykili.github.io/.git/logs\n",
      "Папки на этом уровне: ['refs']\n",
      "Файлы на этом уровне: ['HEAD']\n",
      "Где мы сейчас: /Users/antonleonov/Desktop/pykili/pykili.github.io/.git/logs/refs\n",
      "Папки на этом уровне: ['heads', 'remotes']\n",
      "Файлы на этом уровне: []\n",
      "Где мы сейчас: /Users/antonleonov/Desktop/pykili/pykili.github.io/.git/logs/refs/heads\n",
      "Папки на этом уровне: []\n",
      "Файлы на этом уровне: ['master']\n",
      "Где мы сейчас: /Users/antonleonov/Desktop/pykili/pykili.github.io/.git/logs/refs/remotes\n",
      "Папки на этом уровне: ['origin']\n",
      "Файлы на этом уровне: []\n",
      "Где мы сейчас: /Users/antonleonov/Desktop/pykili/pykili.github.io/.git/logs/refs/remotes/origin\n",
      "Папки на этом уровне: []\n",
      "Файлы на этом уровне: ['HEAD', 'master']\n",
      "Где мы сейчас: /Users/antonleonov/Desktop/pykili/pykili.github.io/.git/hooks\n",
      "Папки на этом уровне: []\n",
      "Файлы на этом уровне: ['commit-msg.sample', 'pre-rebase.sample', 'pre-commit.sample', 'applypatch-msg.sample', 'fsmonitor-watchman.sample', 'pre-receive.sample', 'prepare-commit-msg.sample', 'post-update.sample', 'pre-merge-commit.sample', 'pre-applypatch.sample', 'pre-push.sample', 'update.sample']\n",
      "Где мы сейчас: /Users/antonleonov/Desktop/pykili/pykili.github.io/.git/refs\n",
      "Папки на этом уровне: ['heads', 'tags', 'remotes']\n",
      "Файлы на этом уровне: []\n",
      "Где мы сейчас: /Users/antonleonov/Desktop/pykili/pykili.github.io/.git/refs/heads\n",
      "Папки на этом уровне: []\n",
      "Файлы на этом уровне: ['master']\n",
      "Где мы сейчас: /Users/antonleonov/Desktop/pykili/pykili.github.io/.git/refs/tags\n",
      "Папки на этом уровне: []\n",
      "Файлы на этом уровне: []\n",
      "Где мы сейчас: /Users/antonleonov/Desktop/pykili/pykili.github.io/.git/refs/remotes\n",
      "Папки на этом уровне: ['origin']\n",
      "Файлы на этом уровне: []\n",
      "Где мы сейчас: /Users/antonleonov/Desktop/pykili/pykili.github.io/.git/refs/remotes/origin\n",
      "Папки на этом уровне: []\n",
      "Файлы на этом уровне: ['HEAD', 'master']\n",
      "Где мы сейчас: /Users/antonleonov/Desktop/pykili/pykili.github.io/assets\n",
      "Папки на этом уровне: ['css', 'js', 'fonts']\n",
      "Файлы на этом уровне: []\n",
      "Где мы сейчас: /Users/antonleonov/Desktop/pykili/pykili.github.io/assets/css\n",
      "Папки на этом уровне: ['fonts']\n",
      "Файлы на этом уровне: ['katex.min.css', 'main.scss', 'font-awesome.min.css']\n",
      "Где мы сейчас: /Users/antonleonov/Desktop/pykili/pykili.github.io/assets/css/fonts\n",
      "Папки на этом уровне: []\n",
      "Файлы на этом уровне: ['KaTeX_Typewriter-Regular.woff2', 'KaTeX_Main-Regular.woff', 'KaTeX_AMS-Regular.ttf', 'KaTeX_Main-BoldItalic.woff', 'KaTeX_AMS-Regular.woff2', 'KaTeX_Size3-Regular.woff2', 'KaTeX_Main-Regular.woff2', 'KaTeX_Script-Regular.ttf', 'KaTeX_Caligraphic-Bold.woff2', 'KaTeX_Size3-Regular.ttf', 'KaTeX_Typewriter-Regular.woff', 'KaTeX_Caligraphic-Regular.woff', 'KaTeX_Typewriter-Regular.ttf', 'KaTeX_Main-Italic.woff', 'KaTeX_Caligraphic-Bold.ttf', 'KaTeX_SansSerif-Bold.woff2', 'KaTeX_Math-Italic.woff2', 'KaTeX_Size4-Regular.woff2', 'KaTeX_Fraktur-Bold.woff2', 'KaTeX_Caligraphic-Bold.woff', 'KaTeX_SansSerif-Bold.ttf', 'KaTeX_Fraktur-Regular.woff', 'KaTeX_Main-Bold.ttf', 'KaTeX_SansSerif-Italic.woff2', 'KaTeX_Main-Bold.woff2', 'KaTeX_SansSerif-Regular.woff2', 'KaTeX_Fraktur-Regular.ttf', 'KaTeX_Main-Regular.ttf', 'KaTeX_Size2-Regular.woff', 'KaTeX_Main-BoldItalic.woff2', 'KaTeX_Fraktur-Regular.woff2', 'KaTeX_Script-Regular.woff2', 'KaTeX_Size4-Regular.woff', 'KaTeX_Size3-Regular.woff', 'KaTeX_AMS-Regular.woff', 'KaTeX_Main-Bold.woff', 'KaTeX_SansSerif-Italic.ttf', 'KaTeX_Math-Italic.ttf', 'KaTeX_Size1-Regular.woff', 'KaTeX_SansSerif-Regular.woff', 'KaTeX_Main-Italic.ttf', 'KaTeX_Math-Italic.woff', 'KaTeX_Math-BoldItalic.woff2', 'KaTeX_Fraktur-Bold.ttf', 'KaTeX_Size2-Regular.ttf', 'KaTeX_SansSerif-Italic.woff', 'KaTeX_Main-Italic.woff2', 'KaTeX_Size1-Regular.woff2', 'KaTeX_Fraktur-Bold.woff', 'KaTeX_Script-Regular.woff', 'KaTeX_SansSerif-Regular.ttf', 'KaTeX_Math-BoldItalic.woff', 'KaTeX_Size1-Regular.ttf', 'KaTeX_Caligraphic-Regular.ttf', 'KaTeX_Size4-Regular.ttf', 'KaTeX_Size2-Regular.woff2', 'KaTeX_Caligraphic-Regular.woff2', 'KaTeX_Main-BoldItalic.ttf', 'KaTeX_SansSerif-Bold.woff', 'KaTeX_Math-BoldItalic.ttf']\n",
      "Где мы сейчас: /Users/antonleonov/Desktop/pykili/pykili.github.io/assets/js\n",
      "Папки на этом уровне: []\n",
      "Файлы на этом уровне: ['typeahead.bundle.min.js', 'main.js', 'bootstrap.min.js', 'katex.auto-render.min.js', 'katex.min.js', 'katex.mathtex.js']\n",
      "Где мы сейчас: /Users/antonleonov/Desktop/pykili/pykili.github.io/assets/fonts\n",
      "Папки на этом уровне: ['bootstrap']\n",
      "Файлы на этом уровне: ['fontawesome-webfont.svg', 'FontAwesome.otf', 'fontawesome-webfont.woff2', 'fontawesome-webfont.ttf', 'fontawesome-webfont.woff', 'fontawesome-webfont.eot']\n",
      "Где мы сейчас: /Users/antonleonov/Desktop/pykili/pykili.github.io/assets/fonts/bootstrap\n",
      "Папки на этом уровне: []\n",
      "Файлы на этом уровне: ['glyphicons-halflings-regular.woff', 'glyphicons-halflings-regular.eot', 'glyphicons-halflings-regular.woff2', 'glyphicons-halflings-regular.ttf', 'glyphicons-halflings-regular.svg']\n"
     ]
    }
   ],
   "source": [
    "for root, dirs, files in os.walk(os.getcwd()):\n",
    "    print('Где мы сейчас:', root)\n",
    "    print('Папки на этом уровне:', dirs)\n",
    "    print('Файлы на этом уровне:', files)"
   ]
  },
  {
   "cell_type": "code",
   "execution_count": 40,
   "id": "682980dc",
   "metadata": {},
   "outputs": [
    {
     "data": {
      "text/plain": [
       "5"
      ]
     },
     "execution_count": 40,
     "metadata": {},
     "output_type": "execute_result"
    }
   ],
   "source": [
    "int('05')"
   ]
  },
  {
   "cell_type": "code",
   "execution_count": null,
   "id": "d17bd6cd",
   "metadata": {},
   "outputs": [],
   "source": []
  }
 ],
 "metadata": {
  "kernelspec": {
   "display_name": "Python 3",
   "language": "python",
   "name": "python3"
  },
  "language_info": {
   "codemirror_mode": {
    "name": "ipython",
    "version": 3
   },
   "file_extension": ".py",
   "mimetype": "text/x-python",
   "name": "python",
   "nbconvert_exporter": "python",
   "pygments_lexer": "ipython3",
   "version": "3.8.10"
  }
 },
 "nbformat": 4,
 "nbformat_minor": 5
}
