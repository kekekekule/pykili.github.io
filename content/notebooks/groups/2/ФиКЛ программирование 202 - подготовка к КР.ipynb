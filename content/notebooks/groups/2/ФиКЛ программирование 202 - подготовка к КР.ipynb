{
 "cells": [
  {
   "cell_type": "markdown",
   "metadata": {},
   "source": [
    "# Запись - <a href='https://drive.google.com/file/d/19EAx9sj8P1KmNr4cOFHm2h4NwMtIkElj/view?usp=sharing'>Google drive</a>"
   ]
  },
  {
   "cell_type": "markdown",
   "metadata": {},
   "source": [
    "* регулярные выражения\n",
    "* Словари\n",
    "* list comprehentions"
   ]
  },
  {
   "cell_type": "code",
   "execution_count": 12,
   "metadata": {},
   "outputs": [],
   "source": [
    "import re"
   ]
  },
  {
   "cell_type": "markdown",
   "metadata": {},
   "source": [
    "re.findall\n",
    "re.compile\n",
    "re.sub\n",
    "re.search\n",
    "re.finditer\n",
    "re.match"
   ]
  },
  {
   "cell_type": "code",
   "execution_count": null,
   "metadata": {},
   "outputs": [],
   "source": [
    "dct = {key:value}"
   ]
  },
  {
   "cell_type": "code",
   "execution_count": 13,
   "metadata": {},
   "outputs": [],
   "source": [
    "import json"
   ]
  },
  {
   "cell_type": "code",
   "execution_count": 15,
   "metadata": {},
   "outputs": [],
   "source": [
    "import csv"
   ]
  },
  {
   "cell_type": "markdown",
   "metadata": {},
   "source": [
    "csv - , (c - comma)\n",
    "tsv - \\t (t - tab)"
   ]
  },
  {
   "cell_type": "markdown",
   "metadata": {},
   "source": [
    "### Открыть любую тетрадку с лекции (она будет влидным json) и создать лист, состоящий только из кода\n"
   ]
  },
  {
   "cell_type": "code",
   "execution_count": 16,
   "metadata": {},
   "outputs": [],
   "source": [
    "import json\n",
    "f = open('ФиКЛ программирование 202 - регулярки - 2.ipynb.txt',)\n",
    "data = json.load(f)\n",
    "lst = []\n",
    "for cell in data['cells']:\n",
    "    if cell['cell_type'] == 'code':\n",
    "        if len(cell['source']) > 0:\n",
    "            lst.append(cell['source'][0])"
   ]
  },
  {
   "cell_type": "code",
   "execution_count": 28,
   "metadata": {},
   "outputs": [],
   "source": []
  },
  {
   "cell_type": "markdown",
   "metadata": {},
   "source": [
    "<hr>\n",
    "<p>Файл - <a href='https://pastebin.com/cbApiYvJ'>https://pastebin.com/cbApiYvJ</a><p>\n",
    "<ol>\n",
    "    <li>Посчитать количество дней с осадками</li>\n",
    "    <li>Ссылки заменить на любой адрес - с помощью регулярок</li>\n",
    "</ol>"
   ]
  },
  {
   "cell_type": "code",
   "execution_count": 55,
   "metadata": {},
   "outputs": [],
   "source": [
    "import json\n",
    "f = open('accuweather.json')\n",
    "data = json.load(f)"
   ]
  },
  {
   "cell_type": "code",
   "execution_count": 58,
   "metadata": {},
   "outputs": [],
   "source": [
    "numdays = 0\n",
    "for forecast in data['DailyForecasts']:\n",
    "    if forecast[\"Day\"]['HasPrecipitation'] == True:\n",
    "        numdays +=1"
   ]
  },
  {
   "cell_type": "code",
   "execution_count": 62,
   "metadata": {},
   "outputs": [],
   "source": [
    "with open('accuweather.json', 'r') as f:\n",
    "    text = f.read()"
   ]
  },
  {
   "cell_type": "code",
   "execution_count": 65,
   "metadata": {},
   "outputs": [],
   "source": [
    "text = re.sub(r'Link\":\".+?\"', 'Link\":\"https://vk.com/workingfickle\"', text)"
   ]
  },
  {
   "cell_type": "code",
   "execution_count": 66,
   "metadata": {},
   "outputs": [
    {
     "data": {
      "text/plain": [
       "'{\"Headline\":{\"EffectiveDate\":\"2019-09-25T19:00:00+03:00\",\"EffectiveEpochDate\":1569427200,\"Severity\":5,\"Text\":\"Expect showers Wednesday evening\",\"Category\":\"rain\",\"EndDate\":\"2019-09-26T01:00:00+03:00\",\"EndEpochDate\":1569448800,\"MobileLink\":\"https://vk.com/workingfickle\",\"Link\":\"https://vk.com/workingfickle\"},\"DailyForecasts\":[{\"Date\":\"2019-09-24T07:00:00+03:00\",\"EpochDate\":1569297600,\"Temperature\":{\"Minimum\":{\"Value\":33.0,\"Unit\":\"F\",\"UnitType\":18},\"Maximum\":{\"Value\":46.0,\"Unit\":\"F\",\"UnitType\":18}},\"Day\":{\"Icon\":4,\"IconPhrase\":\"Intermittent clouds\",\"HasPrecipitation\":true,\"PrecipitationType\":\"Rain\",\"PrecipitationIntensity\":\"Light\"},\"Night\":{\"Icon\":38,\"IconPhrase\":\"Mostly cloudy\",\"HasPrecipitation\":false},\"Sources\":[\"AccuWeather\"],\"MobileLink\":\"https://vk.com/workingfickle\",\"Link\":\"https://vk.com/workingfickle\"},{\"Date\":\"2019-09-25T07:00:00+03:00\",\"EpochDate\":1569384000,\"Temperature\":{\"Minimum\":{\"Value\":33.0,\"Unit\":\"F\",\"UnitType\":18},\"Maximum\":{\"Value\":46.0,\"Unit\":\"F\",\"UnitType\":18}},\"Day\":{\"Icon\":7,\"IconPhrase\":\"Cloudy\",\"HasPrecipitation\":false},\"Night\":{\"Icon\":39,\"IconPhrase\":\"Partly cloudy w/ showers\",\"HasPrecipitation\":true,\"PrecipitationType\":\"Rain\",\"PrecipitationIntensity\":\"Light\"},\"Sources\":[\"AccuWeather\"],\"MobileLink\":\"https://vk.com/workingfickle\",\"Link\":\"https://vk.com/workingfickle\"},{\"Date\":\"2019-09-26T07:00:00+03:00\",\"EpochDate\":1569470400,\"Temperature\":{\"Minimum\":{\"Value\":37.0,\"Unit\":\"F\",\"UnitType\":18},\"Maximum\":{\"Value\":50.0,\"Unit\":\"F\",\"UnitType\":18}},\"Day\":{\"Icon\":6,\"IconPhrase\":\"Mostly cloudy\",\"HasPrecipitation\":false},\"Night\":{\"Icon\":34,\"IconPhrase\":\"Mostly clear\",\"HasPrecipitation\":false},\"Sources\":[\"AccuWeather\"],\"MobileLink\":\"https://vk.com/workingfickle\",\"Link\":\"https://vk.com/workingfickle\"},{\"Date\":\"2019-09-27T07:00:00+03:00\",\"EpochDate\":1569556800,\"Temperature\":{\"Minimum\":{\"Value\":38.0,\"Unit\":\"F\",\"UnitType\":18},\"Maximum\":{\"Value\":49.0,\"Unit\":\"F\",\"UnitType\":18}},\"Day\":{\"Icon\":6,\"IconPhrase\":\"Mostly cloudy\",\"HasPrecipitation\":false},\"Night\":{\"Icon\":38,\"IconPhrase\":\"Mostly cloudy\",\"HasPrecipitation\":false},\"Sources\":[\"AccuWeather\"],\"MobileLink\":\"https://vk.com/workingfickle\",\"Link\":\"https://vk.com/workingfickle\"},{\"Date\":\"2019-09-28T07:00:00+03:00\",\"EpochDate\":1569643200,\"Temperature\":{\"Minimum\":{\"Value\":39.0,\"Unit\":\"F\",\"UnitType\":18},\"Maximum\":{\"Value\":51.0,\"Unit\":\"F\",\"UnitType\":18}},\"Day\":{\"Icon\":6,\"IconPhrase\":\"Mostly cloudy\",\"HasPrecipitation\":false},\"Night\":{\"Icon\":38,\"IconPhrase\":\"Mostly cloudy\",\"HasPrecipitation\":true,\"PrecipitationType\":\"Rain\",\"PrecipitationIntensity\":\"Light\"},\"Sources\":[\"AccuWeather\"],\"MobileLink\":\"https://vk.com/workingfickle\",\"Link\":\"https://vk.com/workingfickle\"}]}\\n'"
      ]
     },
     "execution_count": 66,
     "metadata": {},
     "output_type": "execute_result"
    }
   ],
   "source": [
    "text"
   ]
  },
  {
   "cell_type": "markdown",
   "metadata": {},
   "source": [
    "<hr>\n",
    "Pastebin - <a href='https://pastebin.com/9Rv6YVm9'>https://pastebin.com/9Rv6YVm9</a>\n",
    "<p>Посчитать сколько денег мы им должны</p>"
   ]
  },
  {
   "cell_type": "code",
   "execution_count": 79,
   "metadata": {},
   "outputs": [],
   "source": [
    "salary_dict = {}\n",
    "import csv\n",
    "with open('emp.txt') as csvfile:\n",
    "    txt = csv.reader(csvfile,delimiter=';')\n",
    "    for entity in txt:\n",
    "        if entity[0] in salary_dict:\n",
    "            salary_dict[entity[0]] += int(entity[1])\n",
    "        else:\n",
    "            salary_dict[entity[0]] = int(entity[1])"
   ]
  },
  {
   "cell_type": "code",
   "execution_count": 80,
   "metadata": {},
   "outputs": [
    {
     "data": {
      "text/plain": [
       "{'Employee-26': 25771700,\n",
       " 'Employee-18': 28598200,\n",
       " 'Employee-4': 26042100,\n",
       " 'Employee-21': 27390100,\n",
       " 'Employee-8': 25669500,\n",
       " 'Employee-14': 27095200,\n",
       " 'Employee-7': 27246900,\n",
       " 'Employee-9': 26689300,\n",
       " 'Employee-28': 22899700,\n",
       " 'Employee-20': 26060100,\n",
       " 'Employee-3': 27843400,\n",
       " 'Employee-23': 31073600,\n",
       " 'Employee-24': 27040100,\n",
       " 'Employee-29': 25626900,\n",
       " 'Employee-13': 26935000,\n",
       " 'Employee-11': 26595900,\n",
       " 'Employee-27': 26908400,\n",
       " 'Employee-12': 27215700,\n",
       " 'Employee-25': 26626700,\n",
       " 'Employee-2': 27271700,\n",
       " 'Employee-10': 24573800,\n",
       " 'Employee-15': 25919400,\n",
       " 'Employee-1': 27397100,\n",
       " 'Employee-30': 28535000,\n",
       " 'Employee-6': 24971800,\n",
       " 'Employee-16': 26530200,\n",
       " 'Employee-5': 27508100,\n",
       " 'Employee-22': 25546200,\n",
       " 'Employee-19': 27098500,\n",
       " 'Employee-17': 29579100}"
      ]
     },
     "execution_count": 80,
     "metadata": {},
     "output_type": "execute_result"
    }
   ],
   "source": [
    "salary_dict"
   ]
  },
  {
   "cell_type": "code",
   "execution_count": null,
   "metadata": {},
   "outputs": [],
   "source": []
  }
 ],
 "metadata": {
  "kernelspec": {
   "display_name": "Python 3",
   "language": "python",
   "name": "python3"
  },
  "language_info": {
   "codemirror_mode": {
    "name": "ipython",
    "version": 3
   },
   "file_extension": ".py",
   "mimetype": "text/x-python",
   "name": "python",
   "nbconvert_exporter": "python",
   "pygments_lexer": "ipython3",
   "version": "3.8.5"
  }
 },
 "nbformat": 4,
 "nbformat_minor": 4
}
