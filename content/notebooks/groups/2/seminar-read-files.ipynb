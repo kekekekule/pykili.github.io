{
 "cells": [
  {
   "cell_type": "markdown",
   "metadata": {},
   "source": [
    "### Срезы"
   ]
  },
  {
   "cell_type": "code",
   "execution_count": 57,
   "metadata": {},
   "outputs": [],
   "source": [
    "string = 'картошка'"
   ]
  },
  {
   "cell_type": "markdown",
   "metadata": {},
   "source": [
    "Как выделить из строки первые 4 символа без срезов"
   ]
  },
  {
   "cell_type": "code",
   "execution_count": 14,
   "metadata": {},
   "outputs": [
    {
     "name": "stdout",
     "output_type": "stream",
     "text": [
      "карт\n"
     ]
    }
   ],
   "source": [
    "part = ''\n",
    "\n",
    "for i in range(4):\n",
    "    part += string[i]\n",
    "\n",
    "print(part)"
   ]
  },
  {
   "cell_type": "markdown",
   "metadata": {},
   "source": [
    "Со срезами"
   ]
  },
  {
   "cell_type": "code",
   "execution_count": 17,
   "metadata": {},
   "outputs": [
    {
     "name": "stdout",
     "output_type": "stream",
     "text": [
      "карт\n"
     ]
    }
   ],
   "source": [
    "part = string[:4]\n",
    "\n",
    "print(part)"
   ]
  },
  {
   "cell_type": "code",
   "execution_count": 18,
   "metadata": {},
   "outputs": [
    {
     "data": {
      "text/plain": [
       "'карт'"
      ]
     },
     "execution_count": 18,
     "metadata": {},
     "output_type": "execute_result"
    }
   ],
   "source": [
    "string[0:4]"
   ]
  },
  {
   "cell_type": "markdown",
   "metadata": {},
   "source": [
    "Индексы в срезах задаются так же, как в функции range"
   ]
  },
  {
   "cell_type": "code",
   "execution_count": 21,
   "metadata": {},
   "outputs": [
    {
     "data": {
      "text/plain": [
       "[0, 2, 4, 6, 8]"
      ]
     },
     "execution_count": 21,
     "metadata": {},
     "output_type": "execute_result"
    }
   ],
   "source": [
    "list(range(0, 10, 2))"
   ]
  },
  {
   "cell_type": "code",
   "execution_count": 24,
   "metadata": {},
   "outputs": [
    {
     "data": {
      "text/plain": [
       "'крок'"
      ]
     },
     "execution_count": 24,
     "metadata": {},
     "output_type": "execute_result"
    }
   ],
   "source": [
    "string[::2]"
   ]
  },
  {
   "cell_type": "markdown",
   "metadata": {},
   "source": [
    "Вот так можно перевернуть строку"
   ]
  },
  {
   "cell_type": "code",
   "execution_count": 25,
   "metadata": {},
   "outputs": [
    {
     "data": {
      "text/plain": [
       "'акшотрак'"
      ]
     },
     "execution_count": 25,
     "metadata": {},
     "output_type": "execute_result"
    }
   ],
   "source": [
    "string[::-1]"
   ]
  },
  {
   "cell_type": "markdown",
   "metadata": {},
   "source": [
    "Или так"
   ]
  },
  {
   "cell_type": "code",
   "execution_count": 29,
   "metadata": {},
   "outputs": [
    {
     "data": {
      "text/plain": [
       "'акшотрак'"
      ]
     },
     "execution_count": 29,
     "metadata": {},
     "output_type": "execute_result"
    }
   ],
   "source": [
    "''.join(list(reversed(string)))"
   ]
  },
  {
   "cell_type": "code",
   "execution_count": 30,
   "metadata": {},
   "outputs": [],
   "source": [
    "li = list(range(10))"
   ]
  },
  {
   "cell_type": "markdown",
   "metadata": {},
   "source": [
    "Если не опустить все индексы, то вы просто создадите копию списка"
   ]
  },
  {
   "cell_type": "code",
   "execution_count": 33,
   "metadata": {},
   "outputs": [
    {
     "data": {
      "text/plain": [
       "[0, 1, 2, 3, 4, 5, 6, 7, 8, 9]"
      ]
     },
     "execution_count": 33,
     "metadata": {},
     "output_type": "execute_result"
    }
   ],
   "source": [
    "li[::]"
   ]
  },
  {
   "cell_type": "markdown",
   "metadata": {},
   "source": [
    "Можно задавать отрицательные индексы"
   ]
  },
  {
   "cell_type": "code",
   "execution_count": 60,
   "metadata": {},
   "outputs": [
    {
     "data": {
      "text/plain": [
       "'ошка'"
      ]
     },
     "execution_count": 60,
     "metadata": {},
     "output_type": "execute_result"
    }
   ],
   "source": [
    "string[-4:]"
   ]
  },
  {
   "cell_type": "code",
   "execution_count": 61,
   "metadata": {},
   "outputs": [],
   "source": [
    "string = 'карта'"
   ]
  },
  {
   "cell_type": "code",
   "execution_count": 50,
   "metadata": {},
   "outputs": [
    {
     "data": {
      "text/plain": [
       "'карта'"
      ]
     },
     "execution_count": 50,
     "metadata": {},
     "output_type": "execute_result"
    }
   ],
   "source": [
    "string[-10:]"
   ]
  },
  {
   "cell_type": "code",
   "execution_count": 68,
   "metadata": {},
   "outputs": [
    {
     "data": {
      "text/plain": [
       "''"
      ]
     },
     "execution_count": 68,
     "metadata": {},
     "output_type": "execute_result"
    }
   ],
   "source": [
    "''[-5:]"
   ]
  },
  {
   "cell_type": "markdown",
   "metadata": {},
   "source": [
    "---"
   ]
  },
  {
   "cell_type": "markdown",
   "metadata": {},
   "source": [
    "### Чтение файлов\n",
    "\n",
    "Используем функцию `open`.\n",
    "\n",
    "Не забываем закрывать файлы"
   ]
  },
  {
   "cell_type": "code",
   "execution_count": 100,
   "metadata": {},
   "outputs": [
    {
     "name": "stdout",
     "output_type": "stream",
     "text": [
      "['БОРОДИНО']\n",
      "['Скажи-ка', 'дядя', 'ведь', 'не', 'даром']\n",
      "['Москва', 'спаленная', 'пожаром']\n",
      "['Французу', 'отдана?']\n",
      "['Ведь', 'были', 'ж', 'схватки', 'боевые']\n",
      "['Да', 'говорят', 'еще', 'какие']\n",
      "['Недаром', 'помнит', 'вся', 'Россия']\n",
      "['Про', 'день', 'Бородина']\n",
      "['Да', 'были', 'люди', 'в', 'наше', 'время']\n",
      "['Не', 'то', 'что', 'нынешнее', 'племя:']\n",
      "['Богатыри', 'не', 'вы']\n",
      "['Плохая', 'им', 'досталась', 'доля:']\n",
      "['Немногие', 'вернулись', 'с', 'поля...']\n",
      "['Не', 'будь', 'на', 'то', 'господня', 'воля']\n",
      "['Не', 'отдали', 'б', 'Москвы']\n",
      "['Мы', 'долго', 'молча', 'отступали']\n",
      "['Досадно', 'было', 'боя', 'ждали']\n",
      "['Ворчали', 'старики:']\n",
      "['«Что', 'ж', 'мы?', 'на', 'зимние', 'квартиры?']\n",
      "['Не', 'смеют', 'что', 'ли', 'командиры']\n",
      "['Чужие', 'изорвать', 'мундиры']\n",
      "['О', 'русские', 'штыки?»']\n",
      "['И', 'вот', 'нашли', 'большое', 'поле:']\n",
      "['Есть', 'разгуляться', 'где', 'на', 'воле']\n",
      "['Построили', 'редут.']\n",
      "['У', 'наших', 'ушки', 'на', 'макушке']\n",
      "['Чуть', 'утро', 'осветило', 'пушки']\n",
      "['И', 'леса', 'синие', 'верхушки']\n",
      "['Французы', 'тут', 'как', 'тут.']\n",
      "['Забил', 'заряд', 'я', 'в', 'пушку', 'туго']\n",
      "['И', 'думал:', 'угощу', 'я', 'друга']\n",
      "['Постой-ка', 'брат', 'мусью']\n",
      "['Что', 'тут', 'хитрить', 'пожалуй', 'к', 'бою;']\n",
      "['Уж', 'мы', 'пойдем', 'ломить', 'стеною']\n",
      "['Уж', 'постоим', 'мы', 'головою']\n",
      "['За', 'родину', 'свою']\n",
      "['Два', 'дня', 'мы', 'были', 'в', 'перестрелке.']\n",
      "['Что', 'толку', 'в', 'этакой', 'безделке?']\n",
      "['Мы', 'ждали', 'третий', 'день.']\n",
      "['Повсюду', 'стали', 'слышны', 'речи:']\n",
      "['«Пора', 'добраться', 'до', 'картечи!»']\n",
      "['И', 'вот', 'на', 'поле', 'грозной', 'сечи']\n",
      "['Ночная', 'пала', 'тень.']\n",
      "['Прилег', 'вздремнуть', 'я', 'у', 'лафета']\n",
      "['И', 'слышно', 'было', 'до', 'рассвета']\n",
      "['Как', 'ликовал', 'француз.']\n",
      "['Но', 'тих', 'был', 'наш', 'бивак', 'открытый:']\n",
      "['Кто', 'кивер', 'чистил', 'весь', 'избитый']\n",
      "['Кто', 'штык', 'точил', 'ворча', 'сердито']\n",
      "['Кусая', 'длинный', 'ус.']\n",
      "['И', 'только', 'небо', 'засветилось']\n",
      "['Все', 'шумно', 'вдруг', 'зашевелилось']\n",
      "['Сверкнул', 'за', 'строем', 'строй.']\n",
      "['Полковник', 'наш', 'рожден', 'был', 'хватом:']\n",
      "['Слуга', 'царю', 'отец', 'солдатам...']\n",
      "['Да', 'жаль', 'его:', 'сражен', 'булатом']\n",
      "['Он', 'спит', 'в', 'земле', 'сырой.']\n",
      "['И', 'молвил', 'он', 'сверкнув', 'очами:']\n",
      "['«Ребята', 'не', 'Москва', 'ль', 'за', 'нами?']\n",
      "['Умремте', 'же', 'под', 'Москвой']\n",
      "['Как', 'наши', 'братья', 'умирали!»']\n",
      "['И', 'умереть', 'мы', 'обещали']\n",
      "['И', 'клятву', 'верности', 'сдержали']\n",
      "['Мы', 'в', 'Бородинский', 'бой.']\n",
      "['Ну', 'ж', 'был', 'денек', 'Сквозь', 'дым', 'летучий']\n",
      "['Французы', 'двинулись', 'как', 'тучи']\n",
      "['И', 'всё', 'на', 'наш', 'редут.']\n",
      "['Уланы', 'с', 'пестрыми', 'значками']\n",
      "['Драгуны', 'с', 'конскими', 'хвостами']\n",
      "['Все', 'промелькнули', 'перед', 'нам']\n",
      "['Все', 'побывали', 'тут.']\n",
      "['Вам', 'не', 'видать', 'таких', 'сражений']\n",
      "['Носились', 'знамена', 'как', 'тени']\n",
      "['В', 'дыму', 'огонь', 'блестел']\n",
      "['Звучал', 'булат', 'картечь', 'визжала']\n",
      "['Рука', 'бойцов', 'колоть', 'устала']\n",
      "['И', 'ядрам', 'пролетать', 'мешала']\n",
      "['Гора', 'кровавых', 'тел.']\n",
      "['Изведал', 'враг', 'в', 'тот', 'день', 'немало']\n",
      "['Что', 'значит', 'русский', 'бой', 'удалый']\n",
      "['Наш', 'рукопашный', 'бой!..']\n",
      "['Земля', 'тряслась', 'как', 'наши', 'груди;']\n",
      "['Смешались', 'в', 'кучу', 'кони', 'люди']\n",
      "['И', 'залпы', 'тысячи', 'орудий']\n",
      "['Слились', 'в', 'протяжный', 'вой...']\n",
      "['Вот', 'смерклось.', 'Были', 'все', 'готовы']\n",
      "['Заутра', 'бой', 'затеять', 'новый']\n",
      "['И', 'до', 'конца', 'стоять...']\n",
      "['Вот', 'затрещали', 'барабаны']\n",
      "['И', 'отступили', 'басурманы.']\n",
      "['Тогда', 'считать', 'мы', 'стали', 'раны']\n",
      "['Товарищей', 'считать.']\n",
      "['Да', 'были', 'люди', 'в', 'наше', 'время']\n",
      "['Могучее', 'лихое', 'племя:']\n",
      "['Богатыри', 'не', 'вы.']\n",
      "['Плохая', 'им', 'досталась', 'доля:']\n",
      "['Немногие', 'вернулись', 'с', 'поля.']\n",
      "['Когда', 'б', 'на', 'то', 'не', 'Божья', 'воля']\n",
      "['Не', 'отдали', 'б', 'Москвы']\n"
     ]
    }
   ],
   "source": [
    "file = open('/Users/sapunovnik/Desktop/borodino.txt', encoding='utf-8')\n",
    "\n",
    "for line in file:\n",
    "    parts = line.split(' ')\n",
    "    words = []\n",
    "    for part in parts:\n",
    "        clean = part.strip('\\n,!—')\n",
    "        if clean:\n",
    "            words.append(clean)\n",
    "    print(words)\n",
    "\n",
    "file.close()"
   ]
  },
  {
   "cell_type": "code",
   "execution_count": 82,
   "metadata": {},
   "outputs": [],
   "source": [
    "content = file.read()"
   ]
  },
  {
   "cell_type": "code",
   "execution_count": 86,
   "metadata": {},
   "outputs": [],
   "source": [
    "lines = content.count('\\n') + 1"
   ]
  },
  {
   "cell_type": "code",
   "execution_count": 89,
   "metadata": {},
   "outputs": [
    {
     "data": {
      "text/plain": [
       "99"
      ]
     },
     "execution_count": 89,
     "metadata": {},
     "output_type": "execute_result"
    }
   ],
   "source": [
    "len(content.split('\\n'))"
   ]
  }
 ],
 "metadata": {
  "kernelspec": {
   "display_name": "Python 3",
   "language": "python",
   "name": "python3"
  },
  "language_info": {
   "codemirror_mode": {
    "name": "ipython",
    "version": 3
   },
   "file_extension": ".py",
   "mimetype": "text/x-python",
   "name": "python",
   "nbconvert_exporter": "python",
   "pygments_lexer": "ipython3",
   "version": "3.7.5"
  }
 },
 "nbformat": 4,
 "nbformat_minor": 2
}
