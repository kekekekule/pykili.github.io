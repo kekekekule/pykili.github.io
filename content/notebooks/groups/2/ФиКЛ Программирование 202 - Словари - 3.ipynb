{
 "cells": [
  {
   "cell_type": "markdown",
   "metadata": {},
   "source": [
    "### Тест - https://forms.gle/rVbiM2JZuXFmU3Ag8\n"
   ]
  },
  {
   "cell_type": "markdown",
   "metadata": {},
   "source": [
    "### Запись вебинара - https://drive.google.com/file/d/1-qdCAPfQ6ED8VhxdJvrmIjLA_7ZCznoe/view?usp=sharing\n",
    "<hr>"
   ]
  },
  {
   "cell_type": "markdown",
   "metadata": {},
   "source": [
    "## Словари - 3"
   ]
  },
  {
   "cell_type": "markdown",
   "metadata": {},
   "source": [
    "Разберем результаты теста на прошлой неделе:\n",
    "* Как можно инициализировать словарь? - dictionary = {} и dictionary = dict()\n",
    "* Как вывести ключи в словаре - dictionary.keys() - Не теряйте скобки\n",
    "* Вам нужно объединить значение двух словарей. Как вы это сделаете? - update, Никто не ошибся 🤜🤛\n",
    "* Получите значение в словаре dictionary для ключа 1 - dictionary.get(1) или dictionary[1]"
   ]
  },
  {
   "attachments": {},
   "cell_type": "markdown",
   "metadata": {},
   "source": [
    "### csv.DictReader - чтение csv\n",
    "<hr/>\n",
    "\n",
    "### Ссылка на файл - https://clck.ru/TAMwK\n",
    "<img src='http://disk.yandex.net/qr/?clean=1&text=https://clck.ru/TAMwK![image.png](attachment:image.png)' />\n",
    "<hr/>\n",
    "\n"
   ]
  },
  {
   "cell_type": "code",
   "execution_count": 33,
   "metadata": {},
   "outputs": [
    {
     "name": "stdout",
     "output_type": "stream",
     "text": [
      "Country,№ Summer,Gold S,Silver S,Bronze S,Total S,№ Winter,Gold W,Silver W,Bronze W,Total Q,№ Games,Gold,Silver,Bronze,Combined total\n",
      "Afghanistan (AFG),13,0,0,2,2,0,0,0,0,0,13,0,0,2,2\n",
      "Algeria (ALG),12,5,2,8,15,3,0,0,0,0,15,5,2,8,15\n",
      "Argentina (ARG),23,18,24,28,70,18,0,0,0,0,41,18,24,28,70\n",
      "Armenia (ARM),5,1,2,9,12,6,0,0,0,0,11,1,2,9,12\n",
      "Australasia (ANZ) [ANZ],2,3,4,5,12,0,0,0,0,0,2,3,4,5,12\n",
      "Australia (AUS) [AUS] [Z],25,139,152,177,468,18,5,3,4,12,43,144,155,181,480\n",
      "Austria (AUT),26,18,33,35,86,22,59,78,81,218,48,77,111,116,304\n",
      "Azerbaijan (AZE),5,6,5,15,26,5,0,0,0,0,10,6,5,15,26\n",
      "Bahamas (BAH),15,5,2,5,12,0,0,0,0,0,15,5,2,5,12\n",
      "Bahrain (BRN),8,0,0,1,1,0,0,0,0,0,8,0,0,1,1\n",
      "Barbados (BAR) [BAR],11,0,0,1,1,0,0,0,0,0,11,0,0,1,1\n",
      "Belarus (BLR),5,12,24,39,75,6,6,4,5,15,11,18,28,44,90\n",
      "Belgium (BEL),25,37,52,53,142,20,1,1,3,5,45,38,53,56,147\n",
      "Bermuda (BER),17,0,0,1,1,7,0,0,0,0,24,0,0,1,1\n",
      "Bohemia (BOH) [BOH] [Z],3,0,1,3,4,0,0,0,0,0,3,0,1,3,4\n",
      "Botswana (BOT),9,0,1,0,1,0,0,0,0,0,9,0,1,0,1\n",
      "Brazil (BRA),21,23,30,55,108,7,0,0,0,0,28,23,30,55,108\n",
      "British West Indies (BWI) [BWI],1,0,0,2,2,0,0,0,0,0,1,0,0,2,2\n",
      "Bulgaria (BUL) [H],19,51,85,78,214,19,1,2,3,6,38,52,87,81,220\n",
      "Burundi (BDI),5,1,0,0,1,0,0,0,0,0,5,1,0,0,1\n",
      "Cameroon (CMR),13,3,1,1,5,1,0,0,0,0,14,3,1,1,5\n",
      "Canada (CAN),25,59,99,121,279,22,62,56,52,170,47,121,155,173,449\n",
      "Chile (CHI) [I],22,2,7,4,13,16,0,0,0,0,38,2,7,4,13\n",
      "China (CHN) [CHN],9,201,146,126,473,10,12,22,19,53,19,213,168,145,526\n",
      "Colombia (COL),18,2,6,11,19,1,0,0,0,0,19,2,6,11,19\n",
      "Costa Rica (CRC),14,1,1,2,4,6,0,0,0,0,20,1,1,2,4\n",
      "Ivory Coast (CIV) [CIV],12,0,1,0,1,0,0,0,0,0,12,0,1,0,1\n",
      "Croatia (CRO),6,6,7,10,23,7,4,6,1,11,13,10,13,11,34\n",
      "Cuba (CUB) [Z],19,72,67,70,209,0,0,0,0,0,19,72,67,70,209\n",
      "Cyprus (CYP),9,0,1,0,1,10,0,0,0,0,19,0,1,0,1\n",
      "Czech Republic (CZE) [CZE],5,14,15,15,44,6,7,9,8,24,11,21,24,23,68\n",
      "Czechoslovakia (TCH) [TCH],16,49,49,45,143,16,2,8,15,25,32,51,57,60,168\n",
      "Denmark (DEN) [Z],26,43,68,68,179,13,0,1,0,1,39,43,69,68,180\n",
      "Djibouti (DJI) [B],7,0,0,1,1,0,0,0,0,0,7,0,0,1,1\n",
      "Dominican Republic (DOM),13,3,2,1,6,0,0,0,0,0,13,3,2,1,6\n",
      "Ecuador (ECU),13,1,1,0,2,0,0,0,0,0,13,1,1,0,2\n",
      "Egypt (EGY) [EGY] [Z],21,7,9,10,26,1,0,0,0,0,22,7,9,10,26\n",
      "Eritrea (ERI),4,0,0,1,1,0,0,0,0,0,4,0,0,1,1\n",
      "Estonia (EST),11,9,9,15,33,9,4,2,1,7,20,13,11,16,40\n",
      "Ethiopia (ETH),12,21,7,17,45,2,0,0,0,0,14,21,7,17,45\n",
      "Finland (FIN),24,101,84,117,302,22,42,62,57,161,46,143,146,174,463\n",
      "France (FRA) [O] [P] [Z],27,202,223,246,671,22,31,31,47,109,49,233,254,293,780\n",
      "Gabon (GAB),9,0,1,0,1,0,0,0,0,0,9,0,1,0,1\n",
      "Georgia (GEO),5,6,5,14,25,6,0,0,0,0,11,6,5,14,25\n",
      "Germany (GER) [GER] [Z],15,174,182,217,573,11,78,78,53,209,26,252,260,270,782\n",
      "United Team of Germany (EUA) [EUA],3,28,54,36,118,3,8,6,5,19,6,36,60,41,137\n",
      "East Germany (GDR) [GDR],5,153,129,127,409,6,39,36,35,110,11,192,165,162,519\n",
      "West Germany (FRG) [FRG],5,56,67,81,204,6,11,15,13,39,11,67,82,94,243\n",
      "Ghana (GHA) [GHA],13,0,1,3,4,1,0,0,0,0,14,0,1,3,4\n",
      "Great Britain (GBR) [GBR] [Z],27,236,272,272,780,22,10,4,12,26,49,246,276,284,806\n",
      "Greece (GRE) [Z],27,30,42,39,111,18,0,0,0,0,45,30,42,39,111\n",
      "Grenada (GRN),8,1,0,0,1,0,0,0,0,0,8,1,0,0,1\n",
      "Guatemala (GUA),13,0,1,0,1,1,0,0,0,0,14,0,1,0,1\n",
      "Guyana (GUY) [GUY],16,0,0,1,1,0,0,0,0,0,16,0,0,1,1\n",
      "Haiti (HAI) [J],14,0,1,1,2,0,0,0,0,0,14,0,1,1,2\n",
      "Hong Kong (HKG) [HKG],15,1,1,1,3,4,0,0,0,0,19,1,1,1,3\n",
      "Hungary (HUN),25,167,144,165,476,22,0,2,4,6,47,167,146,169,482\n",
      "Iceland (ISL),19,0,2,2,4,17,0,0,0,0,36,0,2,2,4\n",
      "India (IND) [F],23,9,6,11,26,9,0,0,0,0,32,9,6,11,26\n",
      "Indonesia (INA),14,6,10,11,27,0,0,0,0,0,14,6,10,11,27\n",
      "Iran (IRI) [K],15,15,20,25,60,10,0,0,0,0,25,15,20,25,60\n",
      "Iraq (IRQ),13,0,0,1,1,0,0,0,0,0,13,0,0,1,1\n",
      "Ireland (IRL),20,9,8,12,29,6,0,0,0,0,26,9,8,12,29\n",
      "Israel (ISR),15,1,1,5,7,6,0,0,0,0,21,1,1,5,7\n",
      "Italy (ITA) [M] [S],26,198,166,185,549,22,37,34,43,114,48,235,200,228,663\n",
      "Jamaica (JAM) [JAM],16,17,30,20,67,7,0,0,0,0,23,17,30,20,67\n",
      "Japan (JPN),21,130,126,142,398,20,10,17,18,45,41,140,143,160,443\n",
      "Kazakhstan (KAZ),5,16,17,19,52,6,1,3,3,7,11,17,20,22,59\n",
      "Kenya (KEN),13,25,32,29,86,3,0,0,0,0,16,25,32,29,86\n",
      "North Korea (PRK),9,14,12,21,47,8,0,1,1,2,17,14,13,22,49\n",
      "South Korea (KOR),16,81,82,80,243,17,26,17,10,53,33,107,99,90,296\n",
      "Kuwait (KUW),12,0,0,2,2,0,0,0,0,0,12,0,0,2,2\n",
      "Kyrgyzstan (KGZ),5,0,1,2,3,6,0,0,0,0,11,0,1,2,3\n",
      "Latvia (LAT),10,3,11,5,19,10,0,4,3,7,20,3,15,8,26\n",
      "Lebanon (LIB),16,0,2,2,4,16,0,0,0,0,32,0,2,2,4\n",
      "Liechtenstein (LIE),16,0,0,0,0,18,2,2,5,9,34,2,2,5,9\n",
      "Lithuania (LTU),8,6,5,10,21,8,0,0,0,0,16,6,5,10,21\n",
      "Luxembourg (LUX) [O],22,1,1,0,2,8,0,2,0,2,30,1,3,0,4\n",
      "Macedonia (MKD),5,0,0,1,1,5,0,0,0,0,10,0,0,1,1\n",
      "Malaysia (MAS) [MAS],12,0,3,3,6,0,0,0,0,0,12,0,3,3,6\n",
      "Mauritius (MRI),8,0,0,1,1,0,0,0,0,0,8,0,0,1,1\n",
      "Mexico (MEX),22,13,21,28,62,8,0,0,0,0,30,13,21,28,62\n",
      "Moldova (MDA),5,0,2,5,7,6,0,0,0,0,11,0,2,5,7\n",
      "Mongolia (MGL),12,2,9,13,24,13,0,0,0,0,25,2,9,13,24\n",
      "Montenegro (MNE),2,0,1,0,1,2,0,0,0,0,4,0,1,0,1\n",
      "Morocco (MAR),13,6,5,11,22,6,0,0,0,0,19,6,5,11,22\n",
      "Mozambique (MOZ),9,1,0,1,2,0,0,0,0,0,9,1,0,1,2\n",
      "Namibia (NAM),6,0,4,0,4,0,0,0,0,0,6,0,4,0,4\n",
      "Netherlands (NED) [Z],25,77,85,104,266,20,37,38,35,110,45,114,123,139,376\n",
      "Netherlands Antilles (AHO) [AHO] [I],13,0,1,0,1,2,0,0,0,0,15,0,1,0,1\n",
      "New Zealand (NZL) [NZL],22,42,18,39,99,15,0,1,0,1,37,42,19,39,100\n",
      "Niger (NIG),11,0,0,1,1,0,0,0,0,0,11,0,0,1,1\n",
      "Nigeria (NGR),15,3,8,12,23,0,0,0,0,0,15,3,8,12,23\n",
      "Norway (NOR) [Q],24,56,49,43,148,22,118,111,100,329,46,174,160,143,477\n",
      "Pakistan (PAK),16,3,3,4,10,2,0,0,0,0,18,3,3,4,10\n",
      "Panama (PAN),16,1,0,2,3,0,0,0,0,0,16,1,0,2,3\n",
      "Paraguay (PAR),11,0,1,0,1,1,0,0,0,0,12,0,1,0,1\n",
      "Peru (PER) [L],17,1,3,0,4,2,0,0,0,0,19,1,3,0,4\n",
      "Philippines (PHI),20,0,2,7,9,4,0,0,0,0,24,0,2,7,9\n",
      "Poland (POL),20,64,82,125,271,22,6,7,7,20,42,70,89,132,291\n",
      "Portugal (POR),23,4,8,11,23,7,0,0,0,0,30,4,8,11,23\n",
      "Puerto Rico (PUR),17,0,2,6,8,6,0,0,0,0,23,0,2,6,8\n",
      "Qatar (QAT),8,0,0,4,4,0,0,0,0,0,8,0,0,4,4\n",
      "Romania (ROU),20,88,94,119,301,20,0,0,1,1,40,88,94,120,302\n",
      "Russia (RUS) [RUS],5,132,121,142,395,6,49,40,35,124,11,181,161,177,519\n",
      "Russian Empire (RU1) [RU1],3,1,4,3,8,0,0,0,0,0,3,1,4,3,8\n",
      "Soviet Union (URS) [URS],9,395,319,296,1010,9,78,57,59,194,18,473,376,355,1204\n",
      "Unified Team (EUN) [EUN],1,45,38,29,112,1,9,6,8,23,2,54,44,37,135\n",
      "Saudi Arabia (KSA),10,0,1,2,3,0,0,0,0,0,10,0,1,2,3\n",
      "Senegal (SEN),13,0,1,0,1,5,0,0,0,0,18,0,1,0,1\n",
      "Serbia (SRB) [SRB],3,1,2,4,7,2,0,0,0,0,5,1,2,4,7\n",
      "Serbia and Montenegro (SCG) [SCG],3,2,4,3,9,3,0,0,0,0,6,2,4,3,9\n",
      "Singapore (SIN),15,0,2,2,4,0,0,0,0,0,15,0,2,2,4\n",
      "Slovakia (SVK) [SVK],5,7,9,8,24,6,2,2,1,5,11,9,11,9,29\n",
      "Slovenia (SLO),6,4,6,9,19,7,2,4,9,15,13,6,10,18,34\n",
      "South Africa (RSA),18,23,26,27,76,6,0,0,0,0,24,23,26,27,76\n",
      "Spain (ESP) [Z],22,37,59,35,131,19,1,0,1,2,41,38,59,36,133\n",
      "Sri Lanka (SRI) [SRI],16,0,2,0,2,0,0,0,0,0,16,0,2,0,2\n",
      "Sudan (SUD),11,0,1,0,1,0,0,0,0,0,11,0,1,0,1\n",
      "Suriname (SUR) [E],11,1,0,1,2,0,0,0,0,0,11,1,0,1,2\n",
      "Sweden (SWE) [Z],26,143,164,176,483,22,50,40,54,144,48,193,204,230,627\n",
      "Switzerland (SUI),27,47,73,65,185,22,50,40,48,138,49,97,113,113,323\n",
      "Syria (SYR),12,1,1,1,3,0,0,0,0,0,12,1,1,1,3\n",
      "Chinese Taipei (TPE) [TPE] [TPE2],13,2,7,12,21,11,0,0,0,0,24,2,7,12,21\n",
      "Tajikistan (TJK),5,0,1,2,3,4,0,0,0,0,9,0,1,2,3\n",
      "Tanzania (TAN) [TAN],12,0,2,0,2,0,0,0,0,0,12,0,2,0,2\n",
      "Thailand (THA),15,7,6,11,24,3,0,0,0,0,18,7,6,11,24\n",
      "Togo (TOG),9,0,0,1,1,1,0,0,0,0,10,0,0,1,1\n",
      "Tonga (TGA),8,0,1,0,1,1,0,0,0,0,9,0,1,0,1\n",
      "Trinidad and Tobago (TRI) [TRI],16,2,5,11,18,3,0,0,0,0,19,2,5,11,18\n",
      "Tunisia (TUN),13,3,3,4,10,0,0,0,0,0,13,3,3,4,10\n",
      "Turkey (TUR),21,39,25,24,88,16,0,0,0,0,37,39,25,24,88\n",
      "Uganda (UGA),14,2,3,2,7,0,0,0,0,0,14,2,3,2,7\n",
      "Ukraine (UKR),5,33,27,55,115,6,2,1,4,7,11,35,28,59,122\n",
      "United Arab Emirates (UAE),8,1,0,0,1,0,0,0,0,0,8,1,0,0,1\n",
      "United States (USA) [P] [Q] [R] [Z],26,976,757,666,2399,22,96,102,84,282,48,1072,859,750,2681\n",
      "Uruguay (URU),20,2,2,6,10,1,0,0,0,0,21,2,2,6,10\n",
      "Uzbekistan (UZB),5,5,5,10,20,6,1,0,0,1,11,6,5,10,21\n",
      "Venezuela (VEN),17,2,2,8,12,4,0,0,0,0,21,2,2,8,12\n",
      "Vietnam (VIE),14,0,2,0,2,0,0,0,0,0,14,0,2,0,2\n",
      "Virgin Islands (ISV),11,0,1,0,1,7,0,0,0,0,18,0,1,0,1\n",
      "Yugoslavia (YUG) [YUG],16,26,29,28,83,14,0,3,1,4,30,26,32,29,87\n",
      "Independent Olympic Participants (IOP) [IOP],1,0,1,2,3,0,0,0,0,0,1,0,1,2,3\n",
      "Zambia (ZAM) [ZAM],12,0,1,1,2,0,0,0,0,0,12,0,1,1,2\n",
      "Zimbabwe (ZIM) [ZIM],12,3,4,1,8,1,0,0,0,0,13,3,4,1,8\n",
      "Mixed team (ZZX) [ZZX],3,8,5,4,17,0,0,0,0,0,3,8,5,4,17\n",
      "Totals,27,4809,4775,5130,14714,22,959,958,948,2865,49,5768,5733,6078,17579\n",
      "\n"
     ]
    }
   ],
   "source": [
    "import csv\n",
    "with open(\"olympics.csv\", 'r', encoding=\"utf-8\") as f:\n",
    "    text = f.read()\n",
    "print(text)"
   ]
  },
  {
   "cell_type": "code",
   "execution_count": 46,
   "metadata": {},
   "outputs": [
    {
     "name": "stdout",
     "output_type": "stream",
     "text": [
      "{'Country': 'Afghanistan\\xa0(AFG)', '№ Summer': '13', 'Gold S': '0', 'Silver S': '0', 'Bronze S': '2', 'Total S': '2', '№ Winter': '0', 'Gold W': '0', 'Silver W': '0', 'Bronze W': '0', 'Total Q': '0', '№ Games': '13', 'Gold': '0', 'Silver': '0', 'Bronze': '2', 'Combined total': '2'}\n"
     ]
    }
   ],
   "source": [
    "olympics = csv.DictReader(open(\"olympics.csv\"))\n",
    "\n",
    "for country in olympics:\n",
    "    if country['Country'] == 'Afghanistan\\xa0(AFG)':\n",
    "        print(country)"
   ]
  },
  {
   "cell_type": "code",
   "execution_count": 50,
   "metadata": {},
   "outputs": [
    {
     "data": {
      "text/html": [
       "<div>\n",
       "<style scoped>\n",
       "    .dataframe tbody tr th:only-of-type {\n",
       "        vertical-align: middle;\n",
       "    }\n",
       "\n",
       "    .dataframe tbody tr th {\n",
       "        vertical-align: top;\n",
       "    }\n",
       "\n",
       "    .dataframe thead th {\n",
       "        text-align: right;\n",
       "    }\n",
       "</style>\n",
       "<table border=\"1\" class=\"dataframe\">\n",
       "  <thead>\n",
       "    <tr style=\"text-align: right;\">\n",
       "      <th></th>\n",
       "      <th>Country</th>\n",
       "      <th>Gold S</th>\n",
       "    </tr>\n",
       "  </thead>\n",
       "  <tbody>\n",
       "    <tr>\n",
       "      <th>0</th>\n",
       "      <td>Afghanistan (AFG)</td>\n",
       "      <td>0</td>\n",
       "    </tr>\n",
       "    <tr>\n",
       "      <th>1</th>\n",
       "      <td>Algeria (ALG)</td>\n",
       "      <td>5</td>\n",
       "    </tr>\n",
       "    <tr>\n",
       "      <th>2</th>\n",
       "      <td>Argentina (ARG)</td>\n",
       "      <td>18</td>\n",
       "    </tr>\n",
       "    <tr>\n",
       "      <th>3</th>\n",
       "      <td>Armenia (ARM)</td>\n",
       "      <td>1</td>\n",
       "    </tr>\n",
       "    <tr>\n",
       "      <th>4</th>\n",
       "      <td>Australasia (ANZ) [ANZ]</td>\n",
       "      <td>3</td>\n",
       "    </tr>\n",
       "    <tr>\n",
       "      <th>...</th>\n",
       "      <td>...</td>\n",
       "      <td>...</td>\n",
       "    </tr>\n",
       "    <tr>\n",
       "      <th>142</th>\n",
       "      <td>Independent Olympic Participants (IOP) [IOP]</td>\n",
       "      <td>0</td>\n",
       "    </tr>\n",
       "    <tr>\n",
       "      <th>143</th>\n",
       "      <td>Zambia (ZAM) [ZAM]</td>\n",
       "      <td>0</td>\n",
       "    </tr>\n",
       "    <tr>\n",
       "      <th>144</th>\n",
       "      <td>Zimbabwe (ZIM) [ZIM]</td>\n",
       "      <td>3</td>\n",
       "    </tr>\n",
       "    <tr>\n",
       "      <th>145</th>\n",
       "      <td>Mixed team (ZZX) [ZZX]</td>\n",
       "      <td>8</td>\n",
       "    </tr>\n",
       "    <tr>\n",
       "      <th>146</th>\n",
       "      <td>Totals</td>\n",
       "      <td>4809</td>\n",
       "    </tr>\n",
       "  </tbody>\n",
       "</table>\n",
       "<p>147 rows × 2 columns</p>\n",
       "</div>"
      ],
      "text/plain": [
       "                                          Country  Gold S\n",
       "0                               Afghanistan (AFG)       0\n",
       "1                                   Algeria (ALG)       5\n",
       "2                                 Argentina (ARG)      18\n",
       "3                                   Armenia (ARM)       1\n",
       "4                         Australasia (ANZ) [ANZ]       3\n",
       "..                                            ...     ...\n",
       "142  Independent Olympic Participants (IOP) [IOP]       0\n",
       "143                            Zambia (ZAM) [ZAM]       0\n",
       "144                          Zimbabwe (ZIM) [ZIM]       3\n",
       "145                        Mixed team (ZZX) [ZZX]       8\n",
       "146                                        Totals    4809\n",
       "\n",
       "[147 rows x 2 columns]"
      ]
     },
     "execution_count": 50,
     "metadata": {},
     "output_type": "execute_result"
    }
   ],
   "source": [
    "import pandas as pd\n",
    "\n",
    "pd.read_csv('olympics.csv')[['Country', 'Gold S']]"
   ]
  },
  {
   "cell_type": "markdown",
   "metadata": {},
   "source": [
    "### генераторы списков (list comprehentions)"
   ]
  },
  {
   "cell_type": "code",
   "execution_count": 51,
   "metadata": {},
   "outputs": [],
   "source": [
    "lists = [[1,2,3],[4,5,6],[7,8,9]]\n"
   ]
  },
  {
   "cell_type": "code",
   "execution_count": 52,
   "metadata": {},
   "outputs": [
    {
     "data": {
      "text/plain": [
       "[[1, 2, 3], [4, 5, 6], [7, 8, 9]]"
      ]
     },
     "execution_count": 52,
     "metadata": {},
     "output_type": "execute_result"
    }
   ],
   "source": [
    "lists"
   ]
  },
  {
   "cell_type": "code",
   "execution_count": 59,
   "metadata": {},
   "outputs": [
    {
     "data": {
      "text/plain": [
       "[1, 2, 3, 4, 5, 6, 7, 8, 9]"
      ]
     },
     "execution_count": 59,
     "metadata": {},
     "output_type": "execute_result"
    }
   ],
   "source": [
    "tmp = []\n",
    "for lst in lists:\n",
    "    for value in lst:\n",
    "        tmp.append(value)\n",
    "tmp"
   ]
  },
  {
   "cell_type": "code",
   "execution_count": 63,
   "metadata": {},
   "outputs": [
    {
     "data": {
      "text/plain": [
       "['Квадрат 1 равен 1',\n",
       " 'Квадрат 2 равен 4',\n",
       " 'Квадрат 3 равен 9',\n",
       " 'Квадрат 4 равен 16',\n",
       " 'Квадрат 5 равен 25',\n",
       " 'Квадрат 6 равен 36',\n",
       " 'Квадрат 7 равен 49',\n",
       " 'Квадрат 8 равен 64',\n",
       " 'Квадрат 9 равен 81']"
      ]
     },
     "execution_count": 63,
     "metadata": {},
     "output_type": "execute_result"
    }
   ],
   "source": [
    "[str('Квадрат ') + str(value) + ' равен ' + str(value**2) for lst in lists for value in lst]"
   ]
  },
  {
   "cell_type": "code",
   "execution_count": 54,
   "metadata": {},
   "outputs": [
    {
     "data": {
      "text/plain": [
       "[[1, 2, 3], [4, 5, 6], [7, 8, 9]]"
      ]
     },
     "execution_count": 54,
     "metadata": {},
     "output_type": "execute_result"
    }
   ],
   "source": [
    "[i for i in lists]"
   ]
  },
  {
   "cell_type": "code",
   "execution_count": 64,
   "metadata": {},
   "outputs": [],
   "source": [
    "song = \"\"\"In this farewell\n",
    "There's no blood, there's no alibi\n",
    "'Cause I've drawn regret\n",
    "From the truth of a thousand lies\n",
    "So let mercy come and wash away\n",
    "What I've done\n",
    "I'll face myself\n",
    "To cross out what I've become\n",
    "Erase myself\n",
    "And let go of what I've done\n",
    "Put to rest\n",
    "What you thought of me\n",
    "While I clean this slate\n",
    "With the hands of uncertainty\n",
    "So let mercy come and wash away\n",
    "What I've done\n",
    "I'll face myself\n",
    "To cross out what I've become\n",
    "Erase myself\n",
    "And let go of what I've done\n",
    "For what I've done\n",
    "I start again\n",
    "And whatever pain may come\n",
    "Today this ends\n",
    "I'm forgiving\n",
    "What I've done\n",
    "I'll face myself\n",
    "To cross out what I've become\n",
    "Erase myself\n",
    "And let go of what I've done\n",
    "What I've done\n",
    "(Na-na, na, na)\n",
    "(Na-na, na, na)\n",
    "Forgiving what I've done\n",
    "(Na-na, na, na)\n",
    "(Na-na, na, na)\n",
    "(Na-na, na, na)\n",
    "(Na-na, na)\n",
    "\"\"\""
   ]
  },
  {
   "cell_type": "code",
   "execution_count": 65,
   "metadata": {},
   "outputs": [
    {
     "name": "stdout",
     "output_type": "stream",
     "text": [
      "In\n",
      "this\n",
      "farewell\n",
      "There's\n",
      "no\n",
      "blood,\n",
      "there's\n",
      "no\n",
      "alibi\n",
      "'Cause\n",
      "I've\n",
      "drawn\n",
      "regret\n",
      "From\n",
      "the\n",
      "truth\n",
      "of\n",
      "a\n",
      "thousand\n",
      "lies\n",
      "So\n",
      "let\n",
      "mercy\n",
      "come\n",
      "and\n",
      "wash\n",
      "away\n",
      "What\n",
      "I've\n",
      "done\n",
      "I'll\n",
      "face\n",
      "myself\n",
      "To\n",
      "cross\n",
      "out\n",
      "what\n",
      "I've\n",
      "become\n",
      "Erase\n",
      "myself\n",
      "And\n",
      "let\n",
      "go\n",
      "of\n",
      "what\n",
      "I've\n",
      "done\n",
      "Put\n",
      "to\n",
      "rest\n",
      "What\n",
      "you\n",
      "thought\n",
      "of\n",
      "me\n",
      "While\n",
      "I\n",
      "clean\n",
      "this\n",
      "slate\n",
      "With\n",
      "the\n",
      "hands\n",
      "of\n",
      "uncertainty\n",
      "So\n",
      "let\n",
      "mercy\n",
      "come\n",
      "and\n",
      "wash\n",
      "away\n",
      "What\n",
      "I've\n",
      "done\n",
      "I'll\n",
      "face\n",
      "myself\n",
      "To\n",
      "cross\n",
      "out\n",
      "what\n",
      "I've\n",
      "become\n",
      "Erase\n",
      "myself\n",
      "And\n",
      "let\n",
      "go\n",
      "of\n",
      "what\n",
      "I've\n",
      "done\n",
      "For\n",
      "what\n",
      "I've\n",
      "done\n",
      "I\n",
      "start\n",
      "again\n",
      "And\n",
      "whatever\n",
      "pain\n",
      "may\n",
      "come\n",
      "Today\n",
      "this\n",
      "ends\n",
      "I'm\n",
      "forgiving\n",
      "What\n",
      "I've\n",
      "done\n",
      "I'll\n",
      "face\n",
      "myself\n",
      "To\n",
      "cross\n",
      "out\n",
      "what\n",
      "I've\n",
      "become\n",
      "Erase\n",
      "myself\n",
      "And\n",
      "let\n",
      "go\n",
      "of\n",
      "what\n",
      "I've\n",
      "done\n",
      "What\n",
      "I've\n",
      "done\n",
      "(Na-na,\n",
      "na,\n",
      "na)\n",
      "(Na-na,\n",
      "na,\n",
      "na)\n",
      "Forgiving\n",
      "what\n",
      "I've\n",
      "done\n",
      "(Na-na,\n",
      "na,\n",
      "na)\n",
      "(Na-na,\n",
      "na,\n",
      "na)\n",
      "(Na-na,\n",
      "na,\n",
      "na)\n",
      "(Na-na,\n",
      "na)\n"
     ]
    }
   ],
   "source": [
    "for word in song.split():\n",
    "    print(word)"
   ]
  },
  {
   "cell_type": "code",
   "execution_count": 66,
   "metadata": {},
   "outputs": [
    {
     "data": {
      "text/plain": [
       "{\"'Cause\",\n",
       " '(Na-na,',\n",
       " 'And',\n",
       " 'Erase',\n",
       " 'For',\n",
       " 'Forgiving',\n",
       " 'From',\n",
       " 'I',\n",
       " \"I'll\",\n",
       " \"I'm\",\n",
       " \"I've\",\n",
       " 'In',\n",
       " 'Put',\n",
       " 'So',\n",
       " \"There's\",\n",
       " 'To',\n",
       " 'Today',\n",
       " 'What',\n",
       " 'While',\n",
       " 'With',\n",
       " 'a',\n",
       " 'again',\n",
       " 'alibi',\n",
       " 'and',\n",
       " 'away',\n",
       " 'become',\n",
       " 'blood,',\n",
       " 'clean',\n",
       " 'come',\n",
       " 'cross',\n",
       " 'done',\n",
       " 'drawn',\n",
       " 'ends',\n",
       " 'face',\n",
       " 'farewell',\n",
       " 'forgiving',\n",
       " 'go',\n",
       " 'hands',\n",
       " 'let',\n",
       " 'lies',\n",
       " 'may',\n",
       " 'me',\n",
       " 'mercy',\n",
       " 'myself',\n",
       " 'na)',\n",
       " 'na,',\n",
       " 'no',\n",
       " 'of',\n",
       " 'out',\n",
       " 'pain',\n",
       " 'regret',\n",
       " 'rest',\n",
       " 'slate',\n",
       " 'start',\n",
       " 'the',\n",
       " \"there's\",\n",
       " 'this',\n",
       " 'thought',\n",
       " 'thousand',\n",
       " 'to',\n",
       " 'truth',\n",
       " 'uncertainty',\n",
       " 'wash',\n",
       " 'what',\n",
       " 'whatever',\n",
       " 'you'}"
      ]
     },
     "execution_count": 66,
     "metadata": {},
     "output_type": "execute_result"
    }
   ],
   "source": [
    "{word for word in song.split()}"
   ]
  },
  {
   "cell_type": "code",
   "execution_count": 70,
   "metadata": {},
   "outputs": [
    {
     "name": "stdout",
     "output_type": "stream",
     "text": [
      "Collecting pymorphy2\n",
      "  Downloading pymorphy2-0.9.1-py3-none-any.whl (55 kB)\n",
      "\u001b[K     |████████████████████████████████| 55 kB 1.4 MB/s eta 0:00:011\n",
      "\u001b[?25hCollecting dawg-python>=0.7.1\n",
      "  Downloading DAWG_Python-0.7.2-py2.py3-none-any.whl (11 kB)\n",
      "Collecting pymorphy2-dicts-ru<3.0,>=2.4\n",
      "  Downloading pymorphy2_dicts_ru-2.4.417127.4579844-py2.py3-none-any.whl (8.2 MB)\n",
      "\u001b[K     |████████████████████████████████| 8.2 MB 3.8 MB/s eta 0:00:01\n",
      "\u001b[?25hCollecting docopt>=0.6\n",
      "  Downloading docopt-0.6.2.tar.gz (25 kB)\n",
      "Building wheels for collected packages: docopt\n",
      "  Building wheel for docopt (setup.py) ... \u001b[?25ldone\n",
      "\u001b[?25h  Created wheel for docopt: filename=docopt-0.6.2-py2.py3-none-any.whl size=13704 sha256=fcece759daeba28d275c217beec64998e6b064581b076d4921923e02f9081ce4\n",
      "  Stored in directory: /Users/antonleonov/Library/Caches/pip/wheels/56/ea/58/ead137b087d9e326852a851351d1debf4ada529b6ac0ec4e8c\n",
      "Successfully built docopt\n",
      "Installing collected packages: dawg-python, pymorphy2-dicts-ru, docopt, pymorphy2\n",
      "Successfully installed dawg-python-0.7.2 docopt-0.6.2 pymorphy2-0.9.1 pymorphy2-dicts-ru-2.4.417127.4579844\n"
     ]
    }
   ],
   "source": [
    "!pip install pymorphy2"
   ]
  },
  {
   "cell_type": "code",
   "execution_count": 76,
   "metadata": {},
   "outputs": [],
   "source": [
    "def normalize(word, analyzer):\n",
    "    if word == '\\n':\n",
    "        return word\n",
    "    else:\n",
    "        parse_result = analyzer.parse(word)[0]\n",
    "        return parse_result.normal_form"
   ]
  },
  {
   "cell_type": "code",
   "execution_count": 72,
   "metadata": {},
   "outputs": [],
   "source": [
    "import pymorphy2"
   ]
  },
  {
   "cell_type": "code",
   "execution_count": 73,
   "metadata": {},
   "outputs": [],
   "source": [
    "analyzer = pymorphy2.MorphAnalyzer()"
   ]
  },
  {
   "cell_type": "code",
   "execution_count": 77,
   "metadata": {},
   "outputs": [
    {
     "data": {
      "text/plain": [
       "{'in': 2,\n",
       " 'this': 4,\n",
       " 'farewell': 8,\n",
       " \"there's\": 7,\n",
       " 'no': 2,\n",
       " 'blood,': 6,\n",
       " 'alibi': 5,\n",
       " \"'cause\": 6,\n",
       " \"i've\": 4,\n",
       " 'drawn': 5,\n",
       " 'regret': 6,\n",
       " 'from': 4,\n",
       " 'the': 3,\n",
       " 'truth': 5,\n",
       " 'of': 2,\n",
       " 'a': 1,\n",
       " 'thousand': 8,\n",
       " 'lies': 4,\n",
       " 'so': 2,\n",
       " 'let': 3,\n",
       " 'mercy': 5,\n",
       " 'come': 4,\n",
       " 'and': 3,\n",
       " 'wash': 4,\n",
       " 'away': 4,\n",
       " 'what': 4,\n",
       " 'done': 4,\n",
       " \"i'll\": 4,\n",
       " 'face': 4,\n",
       " 'myself': 6,\n",
       " 'to': 2,\n",
       " 'cross': 5,\n",
       " 'out': 3,\n",
       " 'become': 6,\n",
       " 'erase': 5,\n",
       " 'go': 2,\n",
       " 'put': 3,\n",
       " 'rest': 4,\n",
       " 'you': 3,\n",
       " 'thought': 7,\n",
       " 'me': 2,\n",
       " 'while': 5,\n",
       " 'i': 1,\n",
       " 'clean': 5,\n",
       " 'slate': 5,\n",
       " 'with': 4,\n",
       " 'hands': 5,\n",
       " 'uncertainty': 11,\n",
       " 'for': 3,\n",
       " 'start': 5,\n",
       " 'again': 5,\n",
       " 'whatever': 8,\n",
       " 'pain': 4,\n",
       " 'may': 3,\n",
       " 'today': 5,\n",
       " 'ends': 4,\n",
       " \"i'm\": 3,\n",
       " 'forgiving': 9,\n",
       " '(na-na,': 7,\n",
       " 'na,': 3,\n",
       " 'na)': 3}"
      ]
     },
     "execution_count": 77,
     "metadata": {},
     "output_type": "execute_result"
    }
   ],
   "source": [
    "{normalize(word, analyzer): len(word) for word in song.split()}"
   ]
  },
  {
   "cell_type": "code",
   "execution_count": null,
   "metadata": {},
   "outputs": [],
   "source": []
  },
  {
   "cell_type": "code",
   "execution_count": null,
   "metadata": {},
   "outputs": [],
   "source": []
  },
  {
   "attachments": {},
   "cell_type": "markdown",
   "metadata": {},
   "source": [
    "## Обратная связь - https://clck.ru/TAM95\n",
    "<img src='http://disk.yandex.net/qr/?clean=1&text=https://clck.ru/TAM95![image.png](attachment:image.png)'/>"
   ]
  },
  {
   "cell_type": "code",
   "execution_count": null,
   "metadata": {},
   "outputs": [],
   "source": []
  }
 ],
 "metadata": {
  "kernelspec": {
   "display_name": "Python 3",
   "language": "python",
   "name": "python3"
  },
  "language_info": {
   "codemirror_mode": {
    "name": "ipython",
    "version": 3
   },
   "file_extension": ".py",
   "mimetype": "text/x-python",
   "name": "python",
   "nbconvert_exporter": "python",
   "pygments_lexer": "ipython3",
   "version": "3.8.5"
  }
 },
 "nbformat": 4,
 "nbformat_minor": 4
}
