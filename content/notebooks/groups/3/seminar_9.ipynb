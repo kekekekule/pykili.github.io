{
 "cells": [
  {
   "cell_type": "markdown",
   "id": "c4111e3a",
   "metadata": {},
   "source": [
    "## Функции - продолжение"
   ]
  },
  {
   "cell_type": "markdown",
   "id": "0c506a67",
   "metadata": {},
   "source": [
    "### Локальные и глобальные переменные"
   ]
  },
  {
   "cell_type": "code",
   "execution_count": 2,
   "id": "f820cf38",
   "metadata": {},
   "outputs": [
    {
     "name": "stdout",
     "output_type": "stream",
     "text": [
      "Петр\n",
      "Вася\n"
     ]
    }
   ],
   "source": [
    "name = 'Вася'\n",
    "\n",
    "def foo():\n",
    "    name = 'Петр'\n",
    "    print(name)\n",
    " \n",
    "foo()\n",
    "print(name)"
   ]
  },
  {
   "cell_type": "code",
   "execution_count": 4,
   "id": "42757cdf",
   "metadata": {},
   "outputs": [
    {
     "name": "stdout",
     "output_type": "stream",
     "text": [
      "Петр\n",
      "Петр\n"
     ]
    }
   ],
   "source": [
    "name = 'Вася'\n",
    "\n",
    "def foo():\n",
    "    global name\n",
    "    name = 'Петр'\n",
    "    print(name)\n",
    " \n",
    "foo()\n",
    "print(name)"
   ]
  },
  {
   "cell_type": "markdown",
   "id": "f71ddefc",
   "metadata": {},
   "source": [
    "Global переназначает видимость переменной с локальной (внутри функции) до глобальной видимости"
   ]
  },
  {
   "cell_type": "markdown",
   "id": "aa17f373",
   "metadata": {},
   "source": [
    "### Значения по умолчанию"
   ]
  },
  {
   "cell_type": "code",
   "execution_count": 10,
   "id": "694b0f58",
   "metadata": {},
   "outputs": [],
   "source": [
    "# Тут можно убрать один return и немного переписать код - как?\n",
    "def odd_or_even(lst, odd = True):\n",
    "    tmp_res = []\n",
    "    if odd == True:\n",
    "        for item in lst:\n",
    "            if item % 2 == 0:\n",
    "                tmp_res.append(item)\n",
    "        return tmp_res\n",
    "    else:\n",
    "        for item in lst:\n",
    "            if item % 2 != 0:\n",
    "                tmp_res.append(item)\n",
    "        return tmp_res"
   ]
  },
  {
   "cell_type": "code",
   "execution_count": 11,
   "id": "43903323",
   "metadata": {},
   "outputs": [
    {
     "data": {
      "text/plain": [
       "[2, 4]"
      ]
     },
     "execution_count": 11,
     "metadata": {},
     "output_type": "execute_result"
    }
   ],
   "source": [
    "odd_or_even([1,2,3,4,5])"
   ]
  },
  {
   "cell_type": "code",
   "execution_count": 12,
   "id": "4b877abd",
   "metadata": {},
   "outputs": [
    {
     "data": {
      "text/plain": [
       "[2, 4]"
      ]
     },
     "execution_count": 12,
     "metadata": {},
     "output_type": "execute_result"
    }
   ],
   "source": [
    "odd_or_even([1,2,3,4,5], True)"
   ]
  },
  {
   "cell_type": "code",
   "execution_count": 13,
   "id": "4edd6f63",
   "metadata": {},
   "outputs": [
    {
     "data": {
      "text/plain": [
       "[1, 3, 5]"
      ]
     },
     "execution_count": 13,
     "metadata": {},
     "output_type": "execute_result"
    }
   ],
   "source": [
    "odd_or_even([1,2,3,4,5], False)"
   ]
  },
  {
   "cell_type": "markdown",
   "id": "83a5ad93",
   "metadata": {},
   "source": [
    "### args, kwargs"
   ]
  },
  {
   "cell_type": "code",
   "execution_count": 20,
   "id": "62b29ac2",
   "metadata": {},
   "outputs": [],
   "source": [
    "def len_of_each_element(*args):\n",
    "    tmp_res = []\n",
    "    for item in args:\n",
    "        tmp_res.append(len(item))\n",
    "    return tmp_res"
   ]
  },
  {
   "cell_type": "code",
   "execution_count": 21,
   "id": "f54eb7e2",
   "metadata": {},
   "outputs": [
    {
     "data": {
      "text/plain": [
       "[6, 6, 7, 6, 7]"
      ]
     },
     "execution_count": 21,
     "metadata": {},
     "output_type": "execute_result"
    }
   ],
   "source": [
    "len_of_each_element('Привет', 'группа', 'давайте', 'решать', 'задачки')"
   ]
  },
  {
   "cell_type": "code",
   "execution_count": 17,
   "id": "79479479",
   "metadata": {},
   "outputs": [
    {
     "data": {
      "text/plain": [
       "[6, 6, 7, 6, 7]"
      ]
     },
     "execution_count": 17,
     "metadata": {},
     "output_type": "execute_result"
    }
   ],
   "source": [
    "[len(item) for item in 'Привет группа давайте решать задачки'.split(' ')]"
   ]
  },
  {
   "cell_type": "markdown",
   "id": "4ec85930",
   "metadata": {},
   "source": [
    "### Рекурсия"
   ]
  },
  {
   "cell_type": "code",
   "execution_count": 22,
   "id": "c9c6991d",
   "metadata": {},
   "outputs": [],
   "source": [
    "def factorial(n):\n",
    "    if n == 0:\n",
    "        return 1\n",
    "    else:\n",
    "        print(n)\n",
    "        return n * factorial(n - 1)"
   ]
  },
  {
   "cell_type": "code",
   "execution_count": 23,
   "id": "996cb0ff",
   "metadata": {},
   "outputs": [
    {
     "name": "stdout",
     "output_type": "stream",
     "text": [
      "5\n",
      "4\n",
      "3\n",
      "2\n",
      "1\n"
     ]
    },
    {
     "data": {
      "text/plain": [
       "120"
      ]
     },
     "execution_count": 23,
     "metadata": {},
     "output_type": "execute_result"
    }
   ],
   "source": [
    "factorial(5)"
   ]
  },
  {
   "cell_type": "markdown",
   "id": "c3bc4637",
   "metadata": {},
   "source": [
    "### Задачки!"
   ]
  },
  {
   "cell_type": "markdown",
   "id": "94167b74",
   "metadata": {},
   "source": [
    "#### 1. Напишите функцию, которая на вход получает параметрами, а на выход возвращает список из 2 чисел - суммы четных и нечетных. Мы также хотим знать размер первоначального списка, но его в return подавать не надо"
   ]
  },
  {
   "cell_type": "code",
   "execution_count": null,
   "id": "a4bf2665",
   "metadata": {},
   "outputs": [],
   "source": []
  },
  {
   "cell_type": "markdown",
   "id": "1f5f8dba",
   "metadata": {},
   "source": [
    "#### 2. На ввод подается список чисел. Вам надо написать одну функцию, которая для каждого числа из списка посчитает: Если число четное - его квадрат, если нечетное - его куб. Внутри функции проверять на четность нельзя"
   ]
  },
  {
   "cell_type": "code",
   "execution_count": null,
   "id": "fb35cf6d",
   "metadata": {},
   "outputs": [],
   "source": []
  }
 ],
 "metadata": {
  "kernelspec": {
   "display_name": "Python 3",
   "language": "python",
   "name": "python3"
  },
  "language_info": {
   "codemirror_mode": {
    "name": "ipython",
    "version": 3
   },
   "file_extension": ".py",
   "mimetype": "text/x-python",
   "name": "python",
   "nbconvert_exporter": "python",
   "pygments_lexer": "ipython3",
   "version": "3.8.8"
  }
 },
 "nbformat": 4,
 "nbformat_minor": 5
}
