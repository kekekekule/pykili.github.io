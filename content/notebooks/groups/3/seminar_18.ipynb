{
 "cells": [
  {
   "cell_type": "markdown",
   "metadata": {},
   "source": [
    "# Файлы и работа с ними"
   ]
  },
  {
   "cell_type": "markdown",
   "metadata": {},
   "source": [
    "Для работы с файловой структурой понадобится встроенный модуль `os`, который нужно не забыть импортировать. Разберём типовые задачи, для которых может понадобиться модуль:"
   ]
  },
  {
   "cell_type": "code",
   "execution_count": null,
   "metadata": {},
   "outputs": [],
   "source": [
    "import os"
   ]
  },
  {
   "cell_type": "markdown",
   "metadata": {},
   "source": [
    "## Путь к файлу и его расширение"
   ]
  },
  {
   "cell_type": "markdown",
   "metadata": {},
   "source": [
    "У разных ОС разные символы работают в качестве разделителя папок в путях: в Windows это `\\`,  а в UNIX-based системах — `/`. Чтобы не мучиться с подбором символа, можно пользоваться функцией `os.path.join`, которая сама определит, в какой ОС запускается программа, и подставит нужные символы:"
   ]
  },
  {
   "cell_type": "code",
   "execution_count": null,
   "metadata": {},
   "outputs": [],
   "source": [
    "folder = \"sample\"\n",
    "file = \"test.txt\"\n",
    "print(os.path.join(folder, file))"
   ]
  },
  {
   "cell_type": "markdown",
   "metadata": {},
   "source": [
    "Нужно, наоборот, разобрать папки и файлы отдельно? Поможет `os.path.split`:"
   ]
  },
  {
   "cell_type": "code",
   "execution_count": null,
   "metadata": {},
   "outputs": [],
   "source": [
    "sample_path = \"sample/text.txt\"\n",
    "print(os.path.split(sample_path))"
   ]
  },
  {
   "cell_type": "markdown",
   "metadata": {},
   "source": [
    "Обратите внимание, что символы не вашей ОС не будут распознаваться как разделители. То есть — если вы запустите такой код:\n",
    "\n",
    "```python\n",
    "long_sample_path = r\"foo\\bar\\sample\\text.txt\"\n",
    "print(os.path.split(long_sample_path))\n",
    "```\n",
    "\n",
    "— вывод будет такой:\n",
    "\n",
    "```\n",
    "('', 'foo\\\\bar\\\\sample\\\\text.txt')\n",
    "```"
   ]
  },
  {
   "cell_type": "markdown",
   "metadata": {},
   "source": [
    "Чтобы разобраться с самим файлом, можно:\n",
    "* понять, не папка ли он — `os.path.isdir`,\n",
    "* понять, не файл ли он — `os.path.isfile`,\n",
    "* «оторвать» отдельно расширение — `os.path.splitext` (одна t: split ext\\[ension\\])"
   ]
  },
  {
   "cell_type": "code",
   "execution_count": null,
   "metadata": {},
   "outputs": [],
   "source": [
    "print(os.path.isdir(sample_path))\n",
    "print(os.path.isfile(sample_path))\n",
    "print(os.path.splitext(sample_path))"
   ]
  },
  {
   "cell_type": "markdown",
   "metadata": {},
   "source": [
    "Посмотреть объём файла в байтах можно при помощи `os.path.getsize`:"
   ]
  },
  {
   "cell_type": "code",
   "execution_count": null,
   "metadata": {},
   "outputs": [],
   "source": [
    "os.path.getsize(\"1.md\")"
   ]
  },
  {
   "cell_type": "markdown",
   "metadata": {},
   "source": [
    "## Работа с содержимым папки"
   ]
  },
  {
   "cell_type": "markdown",
   "metadata": {},
   "source": [
    "Самая простая задача — посмотреть полностью содержимое папки — для этого пользуемся `os.listdir`. Обратите внимание, что вам выводятся только имена файлов — чтобы к ним обратиться, нужно склеить их с путём к папке одной из функций выше."
   ]
  },
  {
   "cell_type": "code",
   "execution_count": null,
   "metadata": {},
   "outputs": [],
   "source": [
    "os.listdir(\".\")         # вспомните: что значит точка?"
   ]
  },
  {
   "cell_type": "markdown",
   "metadata": {},
   "source": [
    "Если нужно посмотреть всё-всё, включая подпапки, можно воспользоваться `os.walk`. По результату работы этой функции возвращаются:\n",
    "* сама папка, для которой мы смотрели содержание,\n",
    "* затем рекурсивно:\n",
    "  * список папок внутри этой папки,\n",
    "  * список файлов внутри этой папки.\n",
    "\n",
    "Для такой структуры:\n",
    "\n",
    "![](https://pythoner.name/sites/default/files/inline-images/tree_for_walk.png)\n",
    "\n",
    "результат работы кода\n",
    "\n",
    "```python\n",
    "tree = os.walk(\"/test\")\n",
    "for item in tree:\n",
    "    print(item)\n",
    "```\n",
    "\n",
    "будет таким:\n",
    "\n",
    "```python\n",
    "('test', ['cgi-bin'], ['dgs.png', 'index.html']) # папка test, внутри которой папка cgi-bin и файлы dgs.png, index.html\n",
    "('test/cgi-bin', ['backup', 'another'], ['hello.py']) # папка cgi-bin, внутри которой папки backup и another и файл hello.py\n",
    "('test/cgi-bin/backup', [], []) # и так далее\n",
    "('test/cgi-bin/another', [], ['data.txt'])\n",
    "```"
   ]
  },
  {
   "cell_type": "markdown",
   "metadata": {},
   "source": [
    "Вместо использования громоздких кортежей по три элемента можно распаковывать их прямо в цикле:\n",
    "\n",
    "```python\n",
    "folder = []\n",
    "# пересложим всё в список\n",
    "for i in os.walk(\"test\"):\n",
    "    folder.append(i)\n",
    "# пройдёмся по списку\n",
    "for address, dirs, files in folder:\n",
    "    for file in files:\n",
    "            print(address+'/'+file)\n",
    "```\n",
    "\n",
    "Вывод будет такой:\n",
    "\n",
    "```\n",
    "test/dgs.png\n",
    "test/index.html\n",
    "test/cgi-bin/hello.py\n",
    "test/cgi-bin/another/data.txt\n",
    "```"
   ]
  },
  {
   "cell_type": "markdown",
   "metadata": {},
   "source": [
    "### Создание файла"
   ]
  },
  {
   "cell_type": "code",
   "execution_count": null,
   "metadata": {},
   "outputs": [],
   "source": [
    "with open('empty.txt', 'x'):\n",
    "    pass"
   ]
  },
  {
   "cell_type": "markdown",
   "metadata": {},
   "source": [
    "Флаг \"w\" сотрет существующий файл, флаг 'x' выдаст ошибку, если такой файл есть"
   ]
  },
  {
   "cell_type": "markdown",
   "metadata": {},
   "source": [
    "### Создание папки"
   ]
  },
  {
   "cell_type": "code",
   "execution_count": null,
   "metadata": {},
   "outputs": [],
   "source": [
    "os.mkdir('Папка')"
   ]
  },
  {
   "cell_type": "markdown",
   "metadata": {},
   "source": [
    "### Перемещение и переименование"
   ]
  },
  {
   "cell_type": "code",
   "execution_count": null,
   "metadata": {},
   "outputs": [],
   "source": [
    "import shutil\n",
    "\n",
    "source = 'empty.txt'\n",
    "destination = 'trash'\n",
    "# Создаем папку назначения\n",
    "os.mkdir(destination)\n",
    "# Перенесем файл внутрь папки\n",
    "path = shutil.move(source, destination)\n",
    "print(path)"
   ]
  },
  {
   "cell_type": "markdown",
   "metadata": {},
   "source": [
    "Перенесем файл обратно и переименуем"
   ]
  },
  {
   "cell_type": "code",
   "execution_count": null,
   "metadata": {},
   "outputs": [],
   "source": [
    "new_name = 'still_empty.txt'\n",
    "final_path = shutil.move(path, new_name)\n",
    "print(final_path)"
   ]
  },
  {
   "cell_type": "markdown",
   "metadata": {},
   "source": [
    "Копирование файлов производим через `shutil.copy(source, destination)`.\n",
    "\n",
    "Копирование папок производим через `shutil.copytree(source, destination)`"
   ]
  },
  {
   "cell_type": "markdown",
   "metadata": {},
   "source": [
    "### Удаление файлов"
   ]
  },
  {
   "cell_type": "code",
   "execution_count": null,
   "metadata": {},
   "outputs": [],
   "source": [
    "os.remove('still_empty.txt')"
   ]
  },
  {
   "cell_type": "code",
   "execution_count": null,
   "metadata": {},
   "outputs": [],
   "source": [
    "os.remove('trash')"
   ]
  },
  {
   "cell_type": "code",
   "execution_count": null,
   "metadata": {},
   "outputs": [],
   "source": [
    "shutil.rmtree('trash')"
   ]
  },
  {
   "cell_type": "markdown",
   "metadata": {},
   "source": [
    "### Будьте осторожны, команды удаления стирают файл, а не перемещают его в корзину, вне зависимости от операционной системы! После такого удаления восстановить файл может быть сложно или вовсе невозможно.\n",
    "\n"
   ]
  },
  {
   "cell_type": "code",
   "execution_count": null,
   "metadata": {},
   "outputs": [],
   "source": []
  }
 ],
 "metadata": {
  "interpreter": {
   "hash": "aee8b7b246df8f9039afb4144a1f6fd8d2ca17a180786b69acc140d282b71a49"
  },
  "kernelspec": {
   "display_name": "Python 3",
   "language": "python",
   "name": "python3"
  },
  "language_info": {
   "codemirror_mode": {
    "name": "ipython",
    "version": 3
   },
   "file_extension": ".py",
   "mimetype": "text/x-python",
   "name": "python",
   "nbconvert_exporter": "python",
   "pygments_lexer": "ipython3",
   "version": "3.8.8"
  }
 },
 "nbformat": 4,
 "nbformat_minor": 2
}
