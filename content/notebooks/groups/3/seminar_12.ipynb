{
 "cells": [
  {
   "cell_type": "markdown",
   "id": "33286932",
   "metadata": {},
   "source": [
    "## Модули (библиотеки)"
   ]
  },
  {
   "cell_type": "markdown",
   "id": "94768fc3",
   "metadata": {},
   "source": [
    "### Встроенные модули"
   ]
  },
  {
   "cell_type": "code",
   "execution_count": 1,
   "id": "f6990764",
   "metadata": {},
   "outputs": [],
   "source": [
    "import math"
   ]
  },
  {
   "cell_type": "markdown",
   "id": "e7dd26fa",
   "metadata": {},
   "source": [
    "В документации Питона есть хорошие доки по всем встроенным библиотекам (например, <a href='https://docs.python.org/3/library/math.html'>math</a>).\n",
    "\n",
    "Обратите внимание на версию питона, которую можно выбрать вверху страницы"
   ]
  },
  {
   "cell_type": "code",
   "execution_count": 2,
   "id": "f4bff2dc",
   "metadata": {},
   "outputs": [
    {
     "data": {
      "text/plain": [
       "False"
      ]
     },
     "execution_count": 2,
     "metadata": {},
     "output_type": "execute_result"
    }
   ],
   "source": [
    "math.isinf(9)"
   ]
  },
  {
   "cell_type": "code",
   "execution_count": 3,
   "id": "4f792e6f",
   "metadata": {},
   "outputs": [
    {
     "data": {
      "text/plain": [
       "120"
      ]
     },
     "execution_count": 3,
     "metadata": {},
     "output_type": "execute_result"
    }
   ],
   "source": [
    "math.factorial(5)"
   ]
  },
  {
   "cell_type": "markdown",
   "id": "d6a18f07",
   "metadata": {},
   "source": [
    "Если работаете в Jupyter notebook (или например в pycharm) - Tab предложит дополнить вашу команду, Tab+Shift - даст мануал по программе"
   ]
  },
  {
   "cell_type": "code",
   "execution_count": 4,
   "id": "4ff582cd",
   "metadata": {},
   "outputs": [
    {
     "data": {
      "text/plain": [
       "2"
      ]
     },
     "execution_count": 4,
     "metadata": {},
     "output_type": "execute_result"
    }
   ],
   "source": [
    "round(2.5)"
   ]
  },
  {
   "cell_type": "code",
   "execution_count": 5,
   "id": "c64f3e87",
   "metadata": {},
   "outputs": [
    {
     "data": {
      "text/plain": [
       "4"
      ]
     },
     "execution_count": 5,
     "metadata": {},
     "output_type": "execute_result"
    }
   ],
   "source": [
    "round(3.5)"
   ]
  },
  {
   "cell_type": "markdown",
   "id": "8fcb6bd3",
   "metadata": {},
   "source": [
    "Округление до ближайшего чётного (в английском языке известно под названием англ. banker's rounding — «округление банкира») — округление для этого случая происходит к ближайшему чётному числу, то есть 2,5 → 2; 3,5 → 4."
   ]
  },
  {
   "cell_type": "markdown",
   "id": "fb3466f6",
   "metadata": {},
   "source": [
    "### Задача 1\n",
    "Реализуйте обычное округление в питоне - напишите функцию, которая будет округлять число в обычном порядке. Можно использовать math"
   ]
  },
  {
   "cell_type": "code",
   "execution_count": 11,
   "id": "167d27ae",
   "metadata": {},
   "outputs": [],
   "source": [
    "import math\n",
    "def rnd(x):\n",
    "    if x - math.floor(x) < 0.5:\n",
    "        return (math.floor(x))\n",
    "    else:\n",
    "        return(math.ceil(x))"
   ]
  },
  {
   "cell_type": "code",
   "execution_count": 12,
   "id": "21c24875",
   "metadata": {},
   "outputs": [
    {
     "data": {
      "text/plain": [
       "3"
      ]
     },
     "execution_count": 12,
     "metadata": {},
     "output_type": "execute_result"
    }
   ],
   "source": [
    "rnd(2.5)"
   ]
  },
  {
   "cell_type": "code",
   "execution_count": 13,
   "id": "adf7f25d",
   "metadata": {},
   "outputs": [
    {
     "data": {
      "text/plain": [
       "4"
      ]
     },
     "execution_count": 13,
     "metadata": {},
     "output_type": "execute_result"
    }
   ],
   "source": [
    "rnd(3.5)"
   ]
  },
  {
   "cell_type": "code",
   "execution_count": 14,
   "id": "8d25c4f8",
   "metadata": {},
   "outputs": [
    {
     "data": {
      "text/plain": [
       "(0.5, 3.0)"
      ]
     },
     "execution_count": 14,
     "metadata": {},
     "output_type": "execute_result"
    }
   ],
   "source": [
    "math.modf(3.5)"
   ]
  },
  {
   "cell_type": "code",
   "execution_count": null,
   "id": "698c88ba",
   "metadata": {},
   "outputs": [],
   "source": [
    "import math\n",
    "def real_round(n):\n",
    "    if math.modf(n)[1] >= 0.5:\n",
    "        return math.floor(n) + 1\n",
    "    else:\n",
    "        return math.floor(n)"
   ]
  },
  {
   "cell_type": "code",
   "execution_count": 17,
   "id": "e4d7b455",
   "metadata": {},
   "outputs": [
    {
     "data": {
      "text/plain": [
       "False"
      ]
     },
     "execution_count": 17,
     "metadata": {},
     "output_type": "execute_result"
    }
   ],
   "source": [
    "3.4 % 1 >= 0.5"
   ]
  },
  {
   "cell_type": "markdown",
   "id": "ed8a50ef",
   "metadata": {},
   "source": [
    "### Псевдонимность импортов"
   ]
  },
  {
   "cell_type": "code",
   "execution_count": 18,
   "id": "45f0bcc8",
   "metadata": {},
   "outputs": [],
   "source": [
    "import random as r"
   ]
  },
  {
   "cell_type": "code",
   "execution_count": 22,
   "id": "e4e8855d",
   "metadata": {},
   "outputs": [
    {
     "data": {
      "text/plain": [
       "0.7350964119479916"
      ]
     },
     "execution_count": 22,
     "metadata": {},
     "output_type": "execute_result"
    }
   ],
   "source": [
    "r.random()"
   ]
  },
  {
   "cell_type": "code",
   "execution_count": 20,
   "id": "9c9129df",
   "metadata": {},
   "outputs": [
    {
     "data": {
      "text/plain": [
       "0.3577256542421503"
      ]
     },
     "execution_count": 20,
     "metadata": {},
     "output_type": "execute_result"
    }
   ],
   "source": [
    "r.random()"
   ]
  },
  {
   "cell_type": "code",
   "execution_count": 23,
   "id": "6c7b4372",
   "metadata": {},
   "outputs": [],
   "source": [
    "r.seed(5)"
   ]
  },
  {
   "cell_type": "code",
   "execution_count": 24,
   "id": "72989e90",
   "metadata": {},
   "outputs": [
    {
     "data": {
      "text/plain": [
       "0.6229016948897019"
      ]
     },
     "execution_count": 24,
     "metadata": {},
     "output_type": "execute_result"
    }
   ],
   "source": [
    "r.random()"
   ]
  },
  {
   "cell_type": "code",
   "execution_count": 25,
   "id": "44a1ceac",
   "metadata": {},
   "outputs": [],
   "source": [
    "r.seed(5)"
   ]
  },
  {
   "cell_type": "code",
   "execution_count": 27,
   "id": "774e10d7",
   "metadata": {},
   "outputs": [
    {
     "data": {
      "text/plain": [
       "0.6229016948897019"
      ]
     },
     "execution_count": 27,
     "metadata": {},
     "output_type": "execute_result"
    }
   ],
   "source": [
    "r.random()"
   ]
  },
  {
   "cell_type": "markdown",
   "id": "d22b1274",
   "metadata": {},
   "source": [
    "### Задача 2\n",
    "\n",
    "Давайте напишем камень-ножницы-бумага и будем играть с рандомом. Напишите функцию, которая будет получать на вход rock, paper или scissor и возвращать что выпало у компьютера и какой результат получился. Используйте random :)"
   ]
  },
  {
   "cell_type": "code",
   "execution_count": 29,
   "id": "107f3bba",
   "metadata": {},
   "outputs": [
    {
     "data": {
      "text/plain": [
       "0.7417869892607294"
      ]
     },
     "execution_count": 29,
     "metadata": {},
     "output_type": "execute_result"
    }
   ],
   "source": [
    "r.random()"
   ]
  },
  {
   "cell_type": "code",
   "execution_count": 34,
   "id": "a5796b8d",
   "metadata": {},
   "outputs": [
    {
     "data": {
      "text/plain": [
       "'rock'"
      ]
     },
     "execution_count": 34,
     "metadata": {},
     "output_type": "execute_result"
    }
   ],
   "source": [
    "r.choice(['rock', 'paper', 'scissors'])"
   ]
  },
  {
   "cell_type": "code",
   "execution_count": 36,
   "id": "8e64f765",
   "metadata": {},
   "outputs": [],
   "source": [
    "from random import choice as c\n",
    "def rps(x):\n",
    "    st = ['r', 'p', 's']\n",
    "    win = [('r','s'), ('p','r'),('s','p')]\n",
    "    mov = c(st)\n",
    "    print(mov)\n",
    "    if x == mov:\n",
    "        return('draw')\n",
    "    elif (x, mov) in win:\n",
    "        return('you win')\n",
    "    else:\n",
    "        return('I win')"
   ]
  },
  {
   "cell_type": "code",
   "execution_count": 38,
   "id": "581e8660",
   "metadata": {},
   "outputs": [
    {
     "name": "stdout",
     "output_type": "stream",
     "text": [
      "r\n"
     ]
    },
    {
     "data": {
      "text/plain": [
       "'you win'"
      ]
     },
     "execution_count": 38,
     "metadata": {},
     "output_type": "execute_result"
    }
   ],
   "source": [
    "rps('p')"
   ]
  },
  {
   "cell_type": "code",
   "execution_count": null,
   "id": "7fc87099",
   "metadata": {},
   "outputs": [],
   "source": [
    "import random as r\n",
    "while True:\n",
    "    comp = r.choice([0, 1, 2])\n",
    "    usr = input()\n",
    "    if usr == 'rock':\n",
    "        usr = 0\n",
    "    elif usr == 'paper':\n",
    "        usr = 1\n",
    "    else:\n",
    "        usr = 2\n",
    "    if (comp - usr == 0): \n",
    "        print('draw')  \n",
    "    elif (comp - usr == 1) or (comp - usr == -2):\n",
    "        print('lose')\n",
    "    else:     \n",
    "        print('win')"
   ]
  },
  {
   "cell_type": "code",
   "execution_count": null,
   "id": "4e3fe8ce",
   "metadata": {},
   "outputs": [],
   "source": []
  },
  {
   "cell_type": "code",
   "execution_count": null,
   "id": "dfcd41fb",
   "metadata": {},
   "outputs": [],
   "source": []
  },
  {
   "cell_type": "code",
   "execution_count": null,
   "id": "57c935ee",
   "metadata": {},
   "outputs": [],
   "source": []
  },
  {
   "cell_type": "code",
   "execution_count": 39,
   "id": "71d50af5",
   "metadata": {},
   "outputs": [],
   "source": [
    "import random\n",
    "\n",
    "def kanobu(choice):\n",
    "    pc_choice = random.random()\n",
    "    if pc_choice < 0.667 :\n",
    "        if pc_choice < 0.334:\n",
    "            pc_choice_name = 'rock'\n",
    "        else:\n",
    "            pc_choice_name = 'paper'\n",
    "    else:\n",
    "        pc_choice_name = 'scissors'\n",
    "    print(pc_choice_name)\n",
    "    if choice == pc_choice_name:\n",
    "        return('draw')\n",
    "    else:\n",
    "        if pc_choice_name == 'rock':\n",
    "            if choice == 'scissors':\n",
    "                return('pc won')\n",
    "            else:\n",
    "                return('you won')\n",
    "        elif pc_choice_name == 'paper':\n",
    "            if choice == 'rock':\n",
    "                return('you won')\n",
    "            else:\n",
    "                return('pc won')\n",
    "        else: #pc_choice_name = 'scissors'\n",
    "            if choice == 'rock':\n",
    "                return('you won')\n",
    "            else:\n",
    "                return('pc won')"
   ]
  },
  {
   "cell_type": "code",
   "execution_count": 41,
   "id": "f5f257b5",
   "metadata": {},
   "outputs": [
    {
     "name": "stdout",
     "output_type": "stream",
     "text": [
      "scissors\n"
     ]
    },
    {
     "data": {
      "text/plain": [
       "'pc won'"
      ]
     },
     "execution_count": 41,
     "metadata": {},
     "output_type": "execute_result"
    }
   ],
   "source": [
    "kanobu('paper')"
   ]
  },
  {
   "cell_type": "code",
   "execution_count": 46,
   "id": "3ca9cdee",
   "metadata": {},
   "outputs": [
    {
     "name": "stdout",
     "output_type": "stream",
     "text": [
      "paper\n",
      "Вы выиграли!\n",
      "rock\n"
     ]
    }
   ],
   "source": [
    "from random import choice as r \n",
    "\n",
    "def game(y):\n",
    "    items = ['rock', 'paper', 'scissors']\n",
    "    x = r(items)\n",
    "    if (x == 'rock' and y == 'scissors') or (x == 'scissors' and y == 'paper') or (x == 'paper' and y == 'rock'):\n",
    "        print('Выиграл компьютер')\n",
    "    elif (y == 'rock' and x == 'scissors') or (y == 'scissors' and x == 'paper') or (y == 'paper' and x == 'rock'):\n",
    "        print('Вы выиграли!')\n",
    "    else: \n",
    "        print('ничья! :)')\n",
    "    print(x)\n",
    "y = input()\n",
    "game(y)"
   ]
  },
  {
   "cell_type": "markdown",
   "id": "7fe880c0",
   "metadata": {},
   "source": [
    "### Частичный импорт"
   ]
  },
  {
   "cell_type": "code",
   "execution_count": 6,
   "id": "ef06496f",
   "metadata": {},
   "outputs": [],
   "source": [
    "from random import choice as c"
   ]
  },
  {
   "cell_type": "code",
   "execution_count": 7,
   "id": "3fe93e94",
   "metadata": {},
   "outputs": [
    {
     "data": {
      "text/plain": [
       "1"
      ]
     },
     "execution_count": 7,
     "metadata": {},
     "output_type": "execute_result"
    }
   ],
   "source": [
    "c([1,2,3])"
   ]
  },
  {
   "cell_type": "code",
   "execution_count": null,
   "id": "5bb43430",
   "metadata": {},
   "outputs": [],
   "source": []
  },
  {
   "cell_type": "code",
   "execution_count": 47,
   "id": "737542e4",
   "metadata": {},
   "outputs": [],
   "source": [
    "from datetime import date, timedelta"
   ]
  },
  {
   "cell_type": "code",
   "execution_count": 48,
   "id": "ef2cc086",
   "metadata": {},
   "outputs": [
    {
     "data": {
      "text/plain": [
       "datetime.date(2021, 12, 17)"
      ]
     },
     "execution_count": 48,
     "metadata": {},
     "output_type": "execute_result"
    }
   ],
   "source": [
    "date(2021,12,17)"
   ]
  },
  {
   "cell_type": "code",
   "execution_count": 50,
   "id": "b8c4656c",
   "metadata": {},
   "outputs": [
    {
     "data": {
      "text/plain": [
       "datetime.date(2021, 12, 20)"
      ]
     },
     "execution_count": 50,
     "metadata": {},
     "output_type": "execute_result"
    }
   ],
   "source": [
    "date(2021,12,17) + timedelta(days = 3)"
   ]
  },
  {
   "cell_type": "code",
   "execution_count": 49,
   "id": "9943110a",
   "metadata": {},
   "outputs": [
    {
     "ename": "ValueError",
     "evalue": "day is out of range for month",
     "output_type": "error",
     "traceback": [
      "\u001b[0;31m---------------------------------------------------------------------------\u001b[0m",
      "\u001b[0;31mValueError\u001b[0m                                Traceback (most recent call last)",
      "\u001b[0;32m<ipython-input-49-2a65928e86fd>\u001b[0m in \u001b[0;36m<module>\u001b[0;34m\u001b[0m\n\u001b[0;32m----> 1\u001b[0;31m \u001b[0mdate\u001b[0m\u001b[0;34m(\u001b[0m\u001b[0;36m2021\u001b[0m\u001b[0;34m,\u001b[0m\u001b[0;36m1\u001b[0m\u001b[0;34m,\u001b[0m\u001b[0;36m32\u001b[0m\u001b[0;34m)\u001b[0m\u001b[0;34m\u001b[0m\u001b[0;34m\u001b[0m\u001b[0m\n\u001b[0m",
      "\u001b[0;31mValueError\u001b[0m: day is out of range for month"
     ]
    }
   ],
   "source": [
    "date(2021,1,32)"
   ]
  },
  {
   "cell_type": "code",
   "execution_count": 51,
   "id": "196247ab",
   "metadata": {},
   "outputs": [
    {
     "data": {
      "text/plain": [
       "datetime.datetime(2022, 1, 20, 17, 15, 52, 37281)"
      ]
     },
     "execution_count": 51,
     "metadata": {},
     "output_type": "execute_result"
    }
   ],
   "source": [
    "import datetime\n",
    "\n",
    "datetime.datetime.now()"
   ]
  },
  {
   "cell_type": "code",
   "execution_count": 52,
   "id": "cb9e4e43",
   "metadata": {},
   "outputs": [
    {
     "data": {
      "text/plain": [
       "datetime.date(2022, 1, 20)"
      ]
     },
     "execution_count": 52,
     "metadata": {},
     "output_type": "execute_result"
    }
   ],
   "source": [
    "date.today()"
   ]
  },
  {
   "cell_type": "code",
   "execution_count": 53,
   "id": "39ae30c6",
   "metadata": {},
   "outputs": [
    {
     "data": {
      "text/plain": [
       "datetime.timedelta(days=-15)"
      ]
     },
     "execution_count": 53,
     "metadata": {},
     "output_type": "execute_result"
    }
   ],
   "source": [
    "date(2021,12,17) - date(2022,1,1)"
   ]
  },
  {
   "cell_type": "code",
   "execution_count": 56,
   "id": "813c23fc",
   "metadata": {},
   "outputs": [
    {
     "data": {
      "text/plain": [
       "2022"
      ]
     },
     "execution_count": 56,
     "metadata": {},
     "output_type": "execute_result"
    }
   ],
   "source": [
    "date.today().year"
   ]
  },
  {
   "cell_type": "markdown",
   "id": "9a3f4b57",
   "metadata": {},
   "source": [
    "### Задача 3\n",
    "\n",
    "Напишите функцию, которая на вход получает дату рождения, а на выход - возвращает количество лет человека (бонус - кол-во дней до ДР)"
   ]
  },
  {
   "cell_type": "code",
   "execution_count": 62,
   "id": "926f6f87",
   "metadata": {},
   "outputs": [
    {
     "name": "stdout",
     "output_type": "stream",
     "text": [
      "1994\n",
      "1\n",
      "22\n"
     ]
    },
    {
     "data": {
      "text/plain": [
       "27"
      ]
     },
     "execution_count": 62,
     "metadata": {},
     "output_type": "execute_result"
    }
   ],
   "source": [
    "def age(x, y, z):\n",
    "    return int(int(str(date.today() - date(x,y,z)).split('=')[0].split()[0])/365.25)\n",
    "    \n",
    "age(int(input()),int(input()),int(input()))\n"
   ]
  },
  {
   "cell_type": "code",
   "execution_count": 63,
   "id": "51a52ec3",
   "metadata": {},
   "outputs": [
    {
     "name": "stdout",
     "output_type": "stream",
     "text": [
      "YYYY.MM.DD 1994.1.1\n",
      "28\n"
     ]
    }
   ],
   "source": [
    "from datetime import date\n",
    "\n",
    "def age(x):\n",
    "    return(date.today().year - x.year)\n",
    "\n",
    "x = input('YYYY.MM.DD ').split('.')\n",
    "x = date(int(x[0]), int(x[1]), int(x[2]))\n",
    "print(age(x))"
   ]
  },
  {
   "cell_type": "code",
   "execution_count": null,
   "id": "5cb8547e",
   "metadata": {},
   "outputs": [],
   "source": [
    "date(1994,10,3)"
   ]
  },
  {
   "cell_type": "code",
   "execution_count": null,
   "id": "30e7450f",
   "metadata": {},
   "outputs": [],
   "source": []
  },
  {
   "cell_type": "code",
   "execution_count": null,
   "id": "00905740",
   "metadata": {},
   "outputs": [],
   "source": []
  },
  {
   "cell_type": "code",
   "execution_count": null,
   "id": "99513ba7",
   "metadata": {},
   "outputs": [],
   "source": []
  },
  {
   "cell_type": "code",
   "execution_count": 64,
   "id": "0dc4abe0",
   "metadata": {},
   "outputs": [],
   "source": [
    "from datetime import date\n",
    "\n",
    "def hb(birthdate):\n",
    "    today = date.today()\n",
    "    if birthdate.month > today.month:\n",
    "        return(today.year - birthdate.year - 1)\n",
    "    elif birthdate.month < today.month:\n",
    "        return(today.year - birthdate.year)\n",
    "    elif birthdate.day > today.day:\n",
    "        return(today.year - birthdate.year - 1)\n",
    "    elif birthdate.day < today.day:\n",
    "        return(today.year - birthdate.year)\n",
    "    else:\n",
    "        return('happy birthday! '+str(today.year - birthdate.year))"
   ]
  },
  {
   "cell_type": "code",
   "execution_count": 65,
   "id": "619149a6",
   "metadata": {},
   "outputs": [
    {
     "data": {
      "text/plain": [
       "27"
      ]
     },
     "execution_count": 65,
     "metadata": {},
     "output_type": "execute_result"
    }
   ],
   "source": [
    "hb(date(1994,10,3))"
   ]
  },
  {
   "cell_type": "markdown",
   "id": "bf1d2ddc",
   "metadata": {},
   "source": [
    "### Самописный модуль"
   ]
  },
  {
   "cell_type": "code",
   "execution_count": 66,
   "id": "61c4f674",
   "metadata": {},
   "outputs": [],
   "source": [
    "import hb"
   ]
  },
  {
   "cell_type": "code",
   "execution_count": 70,
   "id": "6580e387",
   "metadata": {},
   "outputs": [],
   "source": [
    "from hb import hb as a"
   ]
  },
  {
   "cell_type": "code",
   "execution_count": 71,
   "id": "68532e23",
   "metadata": {},
   "outputs": [
    {
     "data": {
      "text/plain": [
       "27"
      ]
     },
     "execution_count": 71,
     "metadata": {},
     "output_type": "execute_result"
    }
   ],
   "source": [
    "a(date(1994,10,3))"
   ]
  },
  {
   "cell_type": "code",
   "execution_count": null,
   "id": "a53eb41b",
   "metadata": {},
   "outputs": [],
   "source": []
  }
 ],
 "metadata": {
  "kernelspec": {
   "display_name": "Python 3",
   "language": "python",
   "name": "python3"
  },
  "language_info": {
   "codemirror_mode": {
    "name": "ipython",
    "version": 3
   },
   "file_extension": ".py",
   "mimetype": "text/x-python",
   "name": "python",
   "nbconvert_exporter": "python",
   "pygments_lexer": "ipython3",
   "version": "3.8.8"
  }
 },
 "nbformat": 4,
 "nbformat_minor": 5
}
