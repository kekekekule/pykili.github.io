{
 "cells": [
  {
   "cell_type": "markdown",
   "id": "32e83c08",
   "metadata": {},
   "source": [
    "## Что вас ждет на экзамене\n",
    "\n",
    "- Работа со списками, словарями\n",
    "- Файлы, JSON, CSV\n",
    "- Регулярные выражения\n",
    "- Pandas\n",
    "<hr>"
   ]
  },
  {
   "cell_type": "markdown",
   "id": "6b1f4b84",
   "metadata": {},
   "source": [
    "### Задача 1\n",
    "\n",
    "Сохранить себе проект pykili (https://github.com/pykili/pykili.github.io), найти все файлы формата .md и сформировать словарь, где ключ - название папки, а значение - лист файлов с форматом .md \n",
    "\n",
    "hint: домашняя директория будет pykili.github.io, файл readme.md можно проигнорировать"
   ]
  },
  {
   "cell_type": "code",
   "execution_count": null,
   "id": "985d7edd",
   "metadata": {},
   "outputs": [],
   "source": [
    "import os\n",
    "\n",
    "#path = os.path.abspath('pykili.github.io-master')\n",
    "folder = []\n",
    "dct={}\n",
    "for i in os.walk('pykili.github.io-master'):\n",
    "    folder.append(i)\n",
    "for address, dirs, files in folder:\n",
    "    for file in files:\n",
    "        if file.endswith('.md'):\n",
    "            dct[address] = file\n",
    "            #print(address + '/' + file)\n",
    "print(dct)"
   ]
  },
  {
   "cell_type": "code",
   "execution_count": null,
   "id": "73487af1",
   "metadata": {},
   "outputs": [],
   "source": [
    "dct"
   ]
  },
  {
   "cell_type": "code",
   "execution_count": null,
   "id": "27aef1bb",
   "metadata": {},
   "outputs": [],
   "source": [
    "import os\n",
    "\n",
    "md_dict = {}\n",
    "\n",
    "for root, dirs, files in os.walk('pykili.github.io-master'):\n",
    "    f_list = [fl for fl in files if os.path.splitext(fl)[1] == '.md']\n",
    "    if f_list != []:\n",
    "        md_dict[root] = f_list"
   ]
  },
  {
   "cell_type": "code",
   "execution_count": null,
   "id": "589eb251",
   "metadata": {},
   "outputs": [],
   "source": [
    "md_dict"
   ]
  },
  {
   "cell_type": "code",
   "execution_count": 2,
   "id": "471b4e9a",
   "metadata": {},
   "outputs": [
    {
     "data": {
      "text/plain": [
       "['/Users/antonleonov/Desktop']"
      ]
     },
     "execution_count": 2,
     "metadata": {},
     "output_type": "execute_result"
    }
   ],
   "source": [
    "!!pwd"
   ]
  },
  {
   "cell_type": "markdown",
   "id": "73c02bca",
   "metadata": {},
   "source": [
    "### Задача 2\n",
    "\n",
    "Скачать файл https://drive.google.com/file/d/15FvspbVbu72Sa64am1mJ_3xueKiY0PVH/view?usp=sharing - рейтинг World Happiness Report 2021. Вам необходимо для каждой страны (Country name) создать отдельный файл, в котором будут находиться страны только этой страны и их данные"
   ]
  },
  {
   "cell_type": "code",
   "execution_count": 3,
   "id": "2cdc0bdd",
   "metadata": {},
   "outputs": [],
   "source": [
    "import pandas as pd\n",
    "\n",
    "df = pd.read_csv('WHR2021.csv')\n",
    "for country in df['Country name'].unique():\n",
    "    df[df['Country name'] == country].to_csv(country + '.csv')"
   ]
  },
  {
   "cell_type": "code",
   "execution_count": 4,
   "id": "d58ec122",
   "metadata": {},
   "outputs": [],
   "source": [
    "import csv\n",
    "\n",
    "with open('WHR2021.csv') as file:\n",
    "    dct = csv.DictReader(file)\n",
    "    for line in dct:\n",
    "        with open(line['Country name'] + '1.csv', 'a') as new:\n",
    "            dctwrite = csv.DictWriter(new, fieldnames = line.keys())\n",
    "            dctwrite.writerow(line)"
   ]
  },
  {
   "cell_type": "code",
   "execution_count": null,
   "id": "99965a72",
   "metadata": {},
   "outputs": [],
   "source": []
  },
  {
   "cell_type": "code",
   "execution_count": null,
   "id": "2055aea0",
   "metadata": {},
   "outputs": [],
   "source": []
  },
  {
   "cell_type": "code",
   "execution_count": null,
   "id": "45ec19ae",
   "metadata": {},
   "outputs": [],
   "source": []
  },
  {
   "cell_type": "markdown",
   "id": "0793848f",
   "metadata": {},
   "source": [
    "### Задача 3\n",
    "\n",
    "Работаем с тем-же файлом. Выведите топ 10 с самым низким средним восприятием коррупции (Perceptions of corruption). Для этих 10 стран найдите страну с самым большим показателем Healthy life expectancy at birth. Постройте по этой стране линейный график данной величины "
   ]
  },
  {
   "cell_type": "code",
   "execution_count": 6,
   "id": "ba98de4c",
   "metadata": {},
   "outputs": [
    {
     "data": {
      "text/plain": [
       "Country name\n",
       "Afghanistan    0.843283\n",
       "Albania        0.869360\n",
       "Algeria        0.690871\n",
       "Angola         0.867018\n",
       "Argentina      0.841997\n",
       "                 ...   \n",
       "Venezuela      0.795206\n",
       "Vietnam        0.784752\n",
       "Yemen          0.824832\n",
       "Zambia         0.828810\n",
       "Zimbabwe       0.844158\n",
       "Name: Perceptions of corruption, Length: 166, dtype: float64"
      ]
     },
     "execution_count": 6,
     "metadata": {},
     "output_type": "execute_result"
    }
   ],
   "source": [
    "import pandas as pd\n",
    "\n",
    "df = pd.read_csv('WHR2021.csv')\n"
   ]
  },
  {
   "cell_type": "code",
   "execution_count": 15,
   "id": "8385d6d2",
   "metadata": {},
   "outputs": [],
   "source": [
    "df_non_corupt_countries = df.groupby('Country name')['Perceptions of corruption'].mean().reset_index().sort_values(by='Perceptions of corruption').head(10)"
   ]
  },
  {
   "cell_type": "code",
   "execution_count": 16,
   "id": "64654791",
   "metadata": {},
   "outputs": [
    {
     "data": {
      "text/html": [
       "<div>\n",
       "<style scoped>\n",
       "    .dataframe tbody tr th:only-of-type {\n",
       "        vertical-align: middle;\n",
       "    }\n",
       "\n",
       "    .dataframe tbody tr th {\n",
       "        vertical-align: top;\n",
       "    }\n",
       "\n",
       "    .dataframe thead th {\n",
       "        text-align: right;\n",
       "    }\n",
       "</style>\n",
       "<table border=\"1\" class=\"dataframe\">\n",
       "  <thead>\n",
       "    <tr style=\"text-align: right;\">\n",
       "      <th></th>\n",
       "      <th>Country name</th>\n",
       "      <th>Perceptions of corruption</th>\n",
       "    </tr>\n",
       "  </thead>\n",
       "  <tbody>\n",
       "    <tr>\n",
       "      <th>129</th>\n",
       "      <td>Singapore</td>\n",
       "      <td>0.097752</td>\n",
       "    </tr>\n",
       "    <tr>\n",
       "      <th>121</th>\n",
       "      <td>Qatar</td>\n",
       "      <td>0.183798</td>\n",
       "    </tr>\n",
       "    <tr>\n",
       "      <th>124</th>\n",
       "      <td>Rwanda</td>\n",
       "      <td>0.185955</td>\n",
       "    </tr>\n",
       "    <tr>\n",
       "      <th>39</th>\n",
       "      <td>Denmark</td>\n",
       "      <td>0.200404</td>\n",
       "    </tr>\n",
       "    <tr>\n",
       "      <th>47</th>\n",
       "      <td>Finland</td>\n",
       "      <td>0.248932</td>\n",
       "    </tr>\n",
       "    <tr>\n",
       "      <th>142</th>\n",
       "      <td>Sweden</td>\n",
       "      <td>0.262804</td>\n",
       "    </tr>\n",
       "    <tr>\n",
       "      <th>105</th>\n",
       "      <td>New Zealand</td>\n",
       "      <td>0.266145</td>\n",
       "    </tr>\n",
       "    <tr>\n",
       "      <th>156</th>\n",
       "      <td>United Arab Emirates</td>\n",
       "      <td>0.299117</td>\n",
       "    </tr>\n",
       "    <tr>\n",
       "      <th>143</th>\n",
       "      <td>Switzerland</td>\n",
       "      <td>0.305930</td>\n",
       "    </tr>\n",
       "    <tr>\n",
       "      <th>111</th>\n",
       "      <td>Norway</td>\n",
       "      <td>0.344084</td>\n",
       "    </tr>\n",
       "  </tbody>\n",
       "</table>\n",
       "</div>"
      ],
      "text/plain": [
       "             Country name  Perceptions of corruption\n",
       "129             Singapore                   0.097752\n",
       "121                 Qatar                   0.183798\n",
       "124                Rwanda                   0.185955\n",
       "39                Denmark                   0.200404\n",
       "47                Finland                   0.248932\n",
       "142                Sweden                   0.262804\n",
       "105           New Zealand                   0.266145\n",
       "156  United Arab Emirates                   0.299117\n",
       "143           Switzerland                   0.305930\n",
       "111                Norway                   0.344084"
      ]
     },
     "execution_count": 16,
     "metadata": {},
     "output_type": "execute_result"
    }
   ],
   "source": [
    "df_non_corupt_countries"
   ]
  },
  {
   "cell_type": "code",
   "execution_count": null,
   "id": "32e0b7e6",
   "metadata": {},
   "outputs": [],
   "source": []
  },
  {
   "cell_type": "code",
   "execution_count": 14,
   "id": "47fa9f8f",
   "metadata": {},
   "outputs": [
    {
     "name": "stderr",
     "output_type": "stream",
     "text": [
      "<ipython-input-14-12f38c64fdab>:6: FutureWarning: Indexing with multiple keys (implicitly converted to a tuple of keys) will be deprecated, use a list instead.\n",
      "  anti_corr = df.groupby('Country name', as_index=False)['Perceptions of corruption', 'Healthy life expectancy at birth'].agg('mean').sort_values('Perceptions of corruption').head(10)\n"
     ]
    },
    {
     "data": {
      "image/png": "[encoded data removed]",
      "text/plain": [
       "<Figure size 432x288 with 1 Axes>"
      ]
     },
     "metadata": {
      "needs_background": "light"
     },
     "output_type": "display_data"
    }
   ],
   "source": [
    "import matplotlib.pyplot as plt\n",
    "import pandas as pd\n",
    "\n",
    "df = pd.read_csv('WHR2021.csv')\n",
    "\n",
    "anti_corr = df.groupby('Country name', as_index=False)['Perceptions of corruption', 'Healthy life expectancy at birth'].agg('mean').sort_values('Perceptions of corruption').head(10)\n",
    "healthy_count = anti_corr.sort_values('Healthy life expectancy at birth', ascending=False)['Country name'].head(1)\n",
    "count_plot = pd.read_csv(f'{healthy_count.to_string(index=False)}.csv')\n",
    "count_plot.groupby('year')['Healthy life expectancy at birth'].agg('mean').plot()\n",
    "plt.title(f'Average healthy life expectancy at birth in {healthy_count.to_string(index=False)}')\n",
    "plt.xlabel('year')\n",
    "plt.ylabel('average healthy life expectancy at birth')\n",
    "plt.show()"
   ]
  },
  {
   "cell_type": "code",
   "execution_count": null,
   "id": "3ff829c1",
   "metadata": {},
   "outputs": [],
   "source": []
  }
 ],
 "metadata": {
  "kernelspec": {
   "display_name": "Python 3",
   "language": "python",
   "name": "python3"
  },
  "language_info": {
   "codemirror_mode": {
    "name": "ipython",
    "version": 3
   },
   "file_extension": ".py",
   "mimetype": "text/x-python",
   "name": "python",
   "nbconvert_exporter": "python",
   "pygments_lexer": "ipython3",
   "version": "3.8.8"
  }
 },
 "nbformat": 4,
 "nbformat_minor": 5
}
