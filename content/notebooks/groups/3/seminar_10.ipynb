{
 "cells": [
  {
   "cell_type": "markdown",
   "id": "2d4f80f4",
   "metadata": {},
   "source": [
    "Наряжать ёлку — нетривиальная задача, а чем больше в коробке разных прекрасных шариков и игрушек, тем сложнее становится. Допустим, что в этом году мы подошли к вопросу алгоритмически и решили выбирать шарики с использованием программы.\n",
    "\n",
    "Сначала пользователь вводит своё любимое число. Затем он вводит цвета игрушек, зашифрованные специальным образом так, что они записываются целыми числами, пока не введёт пустую строку. В этом году на ёлку попадут только те украшения, коды цвета которых делятся на 2 (у нас же скоро 2022 на дворе) и на любимое число пользователя. Если подходящих цветов нет, нужно вывести сообщение об этом.\n",
    "\n"
   ]
  },
  {
   "cell_type": "code",
   "execution_count": 4,
   "id": "655c3f1e",
   "metadata": {},
   "outputs": [
    {
     "name": "stdout",
     "output_type": "stream",
     "text": [
      "9\n",
      "81 18 17 27 28 32\n",
      "18\n"
     ]
    }
   ],
   "source": [
    "fav_number = int(input())\n",
    "\n",
    "lst_of_toys = input().split()\n",
    "\n",
    "found = False\n",
    "for item in lst_of_toys:\n",
    "    if (int(item) % 2 == 0) & (int(item) % fav_number == 0):\n",
    "        found = True\n",
    "        print(item)\n",
    "if found == False:\n",
    "    print('Не повезло')"
   ]
  },
  {
   "cell_type": "code",
   "execution_count": 6,
   "id": "77528843",
   "metadata": {},
   "outputs": [
    {
     "name": "stdout",
     "output_type": "stream",
     "text": [
      "9\n",
      "81\n",
      "18\n",
      "18\n",
      "28\n",
      "32\n",
      "42\n",
      "54\n",
      "54\n",
      "\n"
     ]
    }
   ],
   "source": [
    "fav_number = int(input())\n",
    "\n",
    "found = False\n",
    "\n",
    "while True:\n",
    "    tmp = input()\n",
    "    if tmp != '': #not tmp\n",
    "        if (int(tmp) % 2 == 0) & (int(tmp) % fav_number == 0):\n",
    "            found = True\n",
    "            print(int(tmp))\n",
    "    else:\n",
    "        break\n",
    "\n",
    "if found == False:\n",
    "    print('Не повезло')"
   ]
  },
  {
   "cell_type": "code",
   "execution_count": 11,
   "id": "f376be88",
   "metadata": {},
   "outputs": [
    {
     "name": "stdout",
     "output_type": "stream",
     "text": [
      "5\n",
      "10 15\n",
      "10\n",
      "20\n",
      "20\n",
      "\n"
     ]
    }
   ],
   "source": [
    "fav_num = int(input())\n",
    "found=False\n",
    "while True:\n",
    "    colors = input().split()\n",
    "    if colors:\n",
    "        for num in colors:\n",
    "            if (int(num)%2 == 0)  and  (int(num)%fav_num == 0):\n",
    "                found = True\n",
    "                print(num)\n",
    "    else:\n",
    "        break\n",
    "    if found == False:\n",
    "        print('Нет подходящих цветов')"
   ]
  },
  {
   "cell_type": "code",
   "execution_count": null,
   "id": "2d9eaef1",
   "metadata": {},
   "outputs": [],
   "source": []
  },
  {
   "cell_type": "code",
   "execution_count": null,
   "id": "0ff70930",
   "metadata": {},
   "outputs": [],
   "source": []
  },
  {
   "cell_type": "code",
   "execution_count": null,
   "id": "6866e4a7",
   "metadata": {},
   "outputs": [],
   "source": []
  },
  {
   "cell_type": "code",
   "execution_count": null,
   "id": "34a0c361",
   "metadata": {},
   "outputs": [],
   "source": []
  },
  {
   "cell_type": "code",
   "execution_count": null,
   "id": "a006a05a",
   "metadata": {},
   "outputs": [],
   "source": []
  },
  {
   "cell_type": "code",
   "execution_count": null,
   "id": "6dcb753c",
   "metadata": {},
   "outputs": [],
   "source": []
  },
  {
   "cell_type": "markdown",
   "id": "99ca0189",
   "metadata": {},
   "source": [
    "1. Напишите функцию, которая будет принимать на вход два аргумента:\n",
    " * первый -- какой-то список;\n",
    " * второй -- строка, одна из следующих: \"rev\", \"len\", \"max\", \"all\".\n",
    "Второй аргумент должен быть опциональным, его значение по умолчанию \"all\".\n",
    "\n",
    "Если второй аргумент равен\n",
    "\n",
    "\"rev\" -- программа должна вернуть список -- реверс того, который был получен в первом аргументе. Использовать встроенную функцию reverse нельзя.\n",
    "\n",
    "\"len\" -- программа должна вернуть длину списка. Использовать встроенную функцию len нельзя\n",
    "\n",
    "\"max\" -- программа должна вернуть максимальный элемент в списке. Для такого аргумента в списке всегда будут элементы, сравнимые между собой -- проверять возможность сравнения не нужно. \n",
    "Использовать встроенную функцию max нельзя.\n",
    "\n",
    "\"all\" -- вернуть кортеж из трёх значений:\n",
    "первый -- тот же результат, что с ключом \"rev\",\n",
    "второй -- тот же результат, что с ключом \"len\",\n",
    "третий -- тот же результат, что с ключом \"max\""
   ]
  },
  {
   "cell_type": "code",
   "execution_count": null,
   "id": "232f6380",
   "metadata": {},
   "outputs": [],
   "source": [
    "1, 2, 3\n",
    "rev -> 3, 2, 1"
   ]
  },
  {
   "cell_type": "code",
   "execution_count": 16,
   "id": "3a5fe2cc",
   "metadata": {},
   "outputs": [],
   "source": [
    "def my_function(lst, arg = 'all'):\n",
    "\n",
    "    if arg == 'rev':\n",
    "        return lst[::-1]\n",
    "    \n",
    "    if arg == 'len':\n",
    "        i = 0\n",
    "        for item in lst:\n",
    "            i += 1\n",
    "        return i\n",
    "    \n",
    "    if arg == 'max':\n",
    "        j = lst[0]\n",
    "        for item in lst:\n",
    "            if item > j:\n",
    "                j = item\n",
    "        return j\n",
    "    \n",
    "    if arg == 'all':\n",
    "        return [my_function(lst, 'rev'), my_function(lst, 'len'), my_function(lst, 'max')]\n",
    "    "
   ]
  },
  {
   "cell_type": "code",
   "execution_count": 19,
   "id": "5743a3e5",
   "metadata": {},
   "outputs": [
    {
     "name": "stdout",
     "output_type": "stream",
     "text": [
      "1 2 3 4 5 6\n",
      "\n",
      "(['6', '5', '4', '3', '2', '1'], 6, '6')\n"
     ]
    }
   ],
   "source": [
    "input_list = input().split()\n",
    "input_str = input()\n",
    "\n",
    "if input_str != '':\n",
    "    print(my_function(input_list, input_str))\n",
    "else:\n",
    "    print(my_function(input_list))"
   ]
  },
  {
   "cell_type": "code",
   "execution_count": null,
   "id": "92b97679",
   "metadata": {},
   "outputs": [],
   "source": []
  },
  {
   "cell_type": "code",
   "execution_count": null,
   "id": "0310ef30",
   "metadata": {},
   "outputs": [],
   "source": []
  },
  {
   "cell_type": "code",
   "execution_count": null,
   "id": "ceef19db",
   "metadata": {},
   "outputs": [],
   "source": []
  },
  {
   "cell_type": "markdown",
   "id": "3ad6d329",
   "metadata": {},
   "source": [
    "## Варианты rev"
   ]
  },
  {
   "cell_type": "code",
   "execution_count": null,
   "id": "159017eb",
   "metadata": {},
   "outputs": [],
   "source": [
    "def my_function(lst, arg = 'all'):\n",
    "    if arg == 'rev':\n",
    "        tmp = []\n",
    "        for i in range(len(lst)- 1, -1, -1):\n",
    "            tmp.append(li[i])\n",
    "        return(li_r)\n",
    "        "
   ]
  },
  {
   "cell_type": "code",
   "execution_count": null,
   "id": "523060be",
   "metadata": {},
   "outputs": [],
   "source": [
    "out = []\n",
    "for item in list:\n",
    "    out = [item] + out\n",
    "return(out)"
   ]
  },
  {
   "cell_type": "code",
   "execution_count": null,
   "id": "f206d10c",
   "metadata": {},
   "outputs": [],
   "source": [
    "if b == 'rev':\n",
    "    t = []\n",
    "    for i in range(len(lst)):\n",
    "        t.insert(0, lst[i])\n",
    "    return t"
   ]
  },
  {
   "cell_type": "markdown",
   "id": "c6571158",
   "metadata": {},
   "source": [
    "## Варианты len"
   ]
  },
  {
   "cell_type": "code",
   "execution_count": null,
   "id": "f170e3aa",
   "metadata": {},
   "outputs": [],
   "source": [
    "if func == 'len':\n",
    "    n = list()\n",
    "    for i in l:\n",
    "        n.append(int(l.index(i)))\n",
    "    return(int(n[-1]) + 1)"
   ]
  },
  {
   "cell_type": "markdown",
   "id": "491cb49f",
   "metadata": {},
   "source": [
    "## Варианты max"
   ]
  },
  {
   "cell_type": "code",
   "execution_count": null,
   "id": "9f59c515",
   "metadata": {},
   "outputs": [],
   "source": [
    "if funct == 'max':\n",
    "    sorted_lst = lst.sort()\n",
    "    return sorted_lst[-1]"
   ]
  },
  {
   "cell_type": "code",
   "execution_count": 15,
   "id": "03b81867",
   "metadata": {},
   "outputs": [
    {
     "data": {
      "text/plain": [
       "False"
      ]
     },
     "execution_count": 15,
     "metadata": {},
     "output_type": "execute_result"
    }
   ],
   "source": [
    "'5'.isdigit()"
   ]
  },
  {
   "cell_type": "code",
   "execution_count": null,
   "id": "451153d5",
   "metadata": {},
   "outputs": [],
   "source": []
  },
  {
   "cell_type": "code",
   "execution_count": null,
   "id": "ecfb36f6",
   "metadata": {},
   "outputs": [],
   "source": []
  },
  {
   "cell_type": "code",
   "execution_count": null,
   "id": "4e84d095",
   "metadata": {},
   "outputs": [],
   "source": []
  },
  {
   "cell_type": "code",
   "execution_count": null,
   "id": "c81a225f",
   "metadata": {},
   "outputs": [],
   "source": []
  }
 ],
 "metadata": {
  "kernelspec": {
   "display_name": "Python 3",
   "language": "python",
   "name": "python3"
  },
  "language_info": {
   "codemirror_mode": {
    "name": "ipython",
    "version": 3
   },
   "file_extension": ".py",
   "mimetype": "text/x-python",
   "name": "python",
   "nbconvert_exporter": "python",
   "pygments_lexer": "ipython3",
   "version": "3.8.8"
  }
 },
 "nbformat": 4,
 "nbformat_minor": 5
}
