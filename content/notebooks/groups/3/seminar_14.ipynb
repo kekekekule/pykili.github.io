{
 "cells": [
  {
   "cell_type": "markdown",
   "metadata": {
    "id": "8BNLCR1uPnFl"
   },
   "source": [
    "## Словари и множества - продолжение"
   ]
  },
  {
   "cell_type": "markdown",
   "metadata": {
    "id": "3Rl1MwEjjSNk"
   },
   "source": [
    "### Множества\n",
    "\n",
    "По смыслу повторяют математические множества, сами по себе близки к массивам (но не могут иметь повторяющиеся элементы)"
   ]
  },
  {
   "cell_type": "code",
   "execution_count": 1,
   "metadata": {},
   "outputs": [
    {
     "data": {
      "text/plain": [
       "{1, 2, 3}"
      ]
     },
     "execution_count": 1,
     "metadata": {},
     "output_type": "execute_result"
    }
   ],
   "source": [
    "a = set([1,2,3])\n",
    "a"
   ]
  },
  {
   "cell_type": "code",
   "execution_count": 2,
   "metadata": {},
   "outputs": [
    {
     "data": {
      "text/plain": [
       "{1, 2, 3, 4}"
      ]
     },
     "execution_count": 2,
     "metadata": {},
     "output_type": "execute_result"
    }
   ],
   "source": [
    "a.add(4)\n",
    "a"
   ]
  },
  {
   "cell_type": "code",
   "execution_count": 3,
   "metadata": {},
   "outputs": [
    {
     "data": {
      "text/plain": [
       "{1, 2, 3, 4}"
      ]
     },
     "execution_count": 3,
     "metadata": {},
     "output_type": "execute_result"
    }
   ],
   "source": [
    "a.add(4)\n",
    "a"
   ]
  },
  {
   "cell_type": "code",
   "execution_count": 4,
   "metadata": {},
   "outputs": [
    {
     "data": {
      "text/plain": [
       "{2, 3, 4}"
      ]
     },
     "execution_count": 4,
     "metadata": {},
     "output_type": "execute_result"
    }
   ],
   "source": [
    "#работает в питоне 3.7, до этого множества тоже не имели порядка\n",
    "a.pop()\n",
    "a"
   ]
  },
  {
   "cell_type": "code",
   "execution_count": 5,
   "metadata": {},
   "outputs": [
    {
     "data": {
      "text/plain": [
       "{(5, 8, 6), 2, 3, 4}"
      ]
     },
     "execution_count": 5,
     "metadata": {},
     "output_type": "execute_result"
    }
   ],
   "source": [
    "a.update(((5,8, 6),))\n",
    "a"
   ]
  },
  {
   "cell_type": "code",
   "execution_count": 9,
   "metadata": {},
   "outputs": [],
   "source": [
    "a.add(5)"
   ]
  },
  {
   "cell_type": "code",
   "execution_count": 10,
   "metadata": {},
   "outputs": [
    {
     "data": {
      "text/plain": [
       "{(5, 8, 6), 2, 3, 4, 5}"
      ]
     },
     "execution_count": 10,
     "metadata": {},
     "output_type": "execute_result"
    }
   ],
   "source": [
    "a"
   ]
  },
  {
   "cell_type": "code",
   "execution_count": 6,
   "metadata": {},
   "outputs": [
    {
     "data": {
      "text/plain": [
       "4"
      ]
     },
     "execution_count": 6,
     "metadata": {},
     "output_type": "execute_result"
    }
   ],
   "source": [
    "len(a)"
   ]
  },
  {
   "cell_type": "code",
   "execution_count": 7,
   "metadata": {},
   "outputs": [],
   "source": [
    "b = set([4,5,6])"
   ]
  },
  {
   "cell_type": "code",
   "execution_count": 11,
   "metadata": {},
   "outputs": [
    {
     "data": {
      "text/plain": [
       "False"
      ]
     },
     "execution_count": 11,
     "metadata": {},
     "output_type": "execute_result"
    }
   ],
   "source": [
    "5 in b"
   ]
  },
  {
   "cell_type": "code",
   "execution_count": 14,
   "metadata": {},
   "outputs": [
    {
     "ename": "TypeError",
     "evalue": "'set' object is not subscriptable",
     "output_type": "error",
     "traceback": [
      "\u001b[0;31m---------------------------------------------------------------------------\u001b[0m",
      "\u001b[0;31mTypeError\u001b[0m                                 Traceback (most recent call last)",
      "\u001b[0;32m<ipython-input-14-15aef1b45a99>\u001b[0m in \u001b[0;36m<module>\u001b[0;34m\u001b[0m\n\u001b[0;32m----> 1\u001b[0;31m \u001b[0mb\u001b[0m\u001b[0;34m[\u001b[0m\u001b[0;36m1\u001b[0m\u001b[0;34m]\u001b[0m\u001b[0;34m\u001b[0m\u001b[0;34m\u001b[0m\u001b[0m\n\u001b[0m",
      "\u001b[0;31mTypeError\u001b[0m: 'set' object is not subscriptable"
     ]
    }
   ],
   "source": [
    "b[1]"
   ]
  },
  {
   "cell_type": "code",
   "execution_count": 15,
   "metadata": {},
   "outputs": [
    {
     "data": {
      "text/plain": [
       "{(5, 8, 6), 2, 3, 4, 5}"
      ]
     },
     "execution_count": 15,
     "metadata": {},
     "output_type": "execute_result"
    }
   ],
   "source": [
    "a"
   ]
  },
  {
   "cell_type": "code",
   "execution_count": 16,
   "metadata": {},
   "outputs": [
    {
     "data": {
      "text/plain": [
       "{4, 5, 6}"
      ]
     },
     "execution_count": 16,
     "metadata": {},
     "output_type": "execute_result"
    }
   ],
   "source": [
    "b"
   ]
  },
  {
   "cell_type": "code",
   "execution_count": 17,
   "metadata": {},
   "outputs": [
    {
     "data": {
      "text/plain": [
       "{(5, 8, 6), 2, 3, 4, 5, 6}"
      ]
     },
     "execution_count": 17,
     "metadata": {},
     "output_type": "execute_result"
    }
   ],
   "source": [
    "a.union(b)"
   ]
  },
  {
   "cell_type": "code",
   "execution_count": 19,
   "metadata": {},
   "outputs": [
    {
     "data": {
      "text/plain": [
       "{(5, 8, 6), 2, 3}"
      ]
     },
     "execution_count": 19,
     "metadata": {},
     "output_type": "execute_result"
    }
   ],
   "source": [
    "a - b"
   ]
  },
  {
   "cell_type": "code",
   "execution_count": 20,
   "metadata": {},
   "outputs": [
    {
     "data": {
      "text/plain": [
       "{6}"
      ]
     },
     "execution_count": 20,
     "metadata": {},
     "output_type": "execute_result"
    }
   ],
   "source": [
    "b - a"
   ]
  },
  {
   "cell_type": "code",
   "execution_count": 18,
   "metadata": {},
   "outputs": [
    {
     "data": {
      "text/plain": [
       "{4, 5}"
      ]
     },
     "execution_count": 18,
     "metadata": {},
     "output_type": "execute_result"
    }
   ],
   "source": [
    "a.intersection(b)"
   ]
  },
  {
   "cell_type": "markdown",
   "metadata": {},
   "source": [
    "### Задача - посчитать количество разных букв в предложении \"корабли лавировали лавировали да не вылавировали\""
   ]
  },
  {
   "cell_type": "code",
   "execution_count": 32,
   "metadata": {},
   "outputs": [
    {
     "ename": "TypeError",
     "evalue": "'set' object is not subscriptable",
     "output_type": "error",
     "traceback": [
      "\u001b[0;31m---------------------------------------------------------------------------\u001b[0m",
      "\u001b[0;31mTypeError\u001b[0m                                 Traceback (most recent call last)",
      "\u001b[0;32m<ipython-input-32-98ca81b8eabf>\u001b[0m in \u001b[0;36m<module>\u001b[0;34m\u001b[0m\n\u001b[0;32m----> 1\u001b[0;31m \u001b[0mset\u001b[0m\u001b[0;34m(\u001b[0m\u001b[0;34m'корабли лавировали лавировали да не вылавировали'\u001b[0m\u001b[0;34m)\u001b[0m\u001b[0;34m[\u001b[0m\u001b[0;36m2\u001b[0m\u001b[0;34m]\u001b[0m\u001b[0;34m\u001b[0m\u001b[0;34m\u001b[0m\u001b[0m\n\u001b[0m",
      "\u001b[0;31mTypeError\u001b[0m: 'set' object is not subscriptable"
     ]
    }
   ],
   "source": [
    "set('корабли лавировали лавировали да не вылавировали')"
   ]
  },
  {
   "cell_type": "code",
   "execution_count": 30,
   "metadata": {},
   "outputs": [
    {
     "data": {
      "text/plain": [
       "{' ', 'а', 'б', 'в', 'д', 'е', 'и', 'к', 'л', 'н', 'о', 'р', 'ы'}"
      ]
     },
     "execution_count": 30,
     "metadata": {},
     "output_type": "execute_result"
    }
   ],
   "source": [
    "set('корабли лавировали лавировали да не вылавировали')"
   ]
  },
  {
   "cell_type": "code",
   "execution_count": 21,
   "metadata": {},
   "outputs": [
    {
     "name": "stdout",
     "output_type": "stream",
     "text": [
      "13\n"
     ]
    }
   ],
   "source": [
    "a = 'корабли лавировали лавировали да не вылавировали'\n",
    "lett = set()\n",
    "for i in a:\n",
    "    lett.add(i)\n",
    "print(len(lett))"
   ]
  },
  {
   "cell_type": "code",
   "execution_count": 24,
   "metadata": {},
   "outputs": [
    {
     "data": {
      "text/plain": [
       "12"
      ]
     },
     "execution_count": 24,
     "metadata": {},
     "output_type": "execute_result"
    }
   ],
   "source": [
    "len(set('корабли лавировали лавировали да не вылавировали')) - 1"
   ]
  },
  {
   "cell_type": "markdown",
   "metadata": {},
   "source": [
    "А сколько разных согласных?"
   ]
  },
  {
   "cell_type": "code",
   "execution_count": 27,
   "metadata": {},
   "outputs": [
    {
     "data": {
      "text/plain": [
       "7"
      ]
     },
     "execution_count": 27,
     "metadata": {},
     "output_type": "execute_result"
    }
   ],
   "source": [
    "a = set('бвгджзклмнпрстхцчшщ')\n",
    "len(set(\"корабли лавировали лавировали да не вылавировали\").intersection(a))"
   ]
  },
  {
   "cell_type": "code",
   "execution_count": 29,
   "metadata": {},
   "outputs": [
    {
     "data": {
      "text/plain": [
       "7"
      ]
     },
     "execution_count": 29,
     "metadata": {},
     "output_type": "execute_result"
    }
   ],
   "source": [
    "z = set('аиоуеэы ')\n",
    "len(set(\"корабли лавировали лавировали да не вылавировали\") - z)"
   ]
  },
  {
   "cell_type": "code",
   "execution_count": null,
   "metadata": {},
   "outputs": [],
   "source": [
    "a = set('бвгджзклмнпрстхцчшщ')\n",
    "#b = set(['б',....])"
   ]
  },
  {
   "cell_type": "markdown",
   "metadata": {},
   "source": [
    "### Словари и память"
   ]
  },
  {
   "cell_type": "code",
   "execution_count": 33,
   "metadata": {},
   "outputs": [],
   "source": [
    "dct = {'хлеб': 5, 'молоко': 10, 'Докторская': 15, 'Салями': 20, 'Хамон': 'нельзя'}"
   ]
  },
  {
   "cell_type": "code",
   "execution_count": 34,
   "metadata": {},
   "outputs": [
    {
     "data": {
      "text/plain": [
       "{'хлеб': 5, 'молоко': 10, 'Докторская': 15, 'Салями': 20, 'Хамон': 'нельзя'}"
      ]
     },
     "execution_count": 34,
     "metadata": {},
     "output_type": "execute_result"
    }
   ],
   "source": [
    "dct"
   ]
  },
  {
   "cell_type": "code",
   "execution_count": 35,
   "metadata": {},
   "outputs": [],
   "source": [
    "dct2 = dct"
   ]
  },
  {
   "cell_type": "code",
   "execution_count": 36,
   "metadata": {},
   "outputs": [
    {
     "data": {
      "text/plain": [
       "{'хлеб': 5, 'молоко': 10, 'Докторская': 15, 'Салями': 20, 'Хамон': 'нельзя'}"
      ]
     },
     "execution_count": 36,
     "metadata": {},
     "output_type": "execute_result"
    }
   ],
   "source": [
    "dct2"
   ]
  },
  {
   "cell_type": "code",
   "execution_count": 37,
   "metadata": {},
   "outputs": [],
   "source": [
    "dct['хлеб'] = 10"
   ]
  },
  {
   "cell_type": "code",
   "execution_count": 38,
   "metadata": {},
   "outputs": [
    {
     "data": {
      "text/plain": [
       "{'хлеб': 10, 'молоко': 10, 'Докторская': 15, 'Салями': 20, 'Хамон': 'нельзя'}"
      ]
     },
     "execution_count": 38,
     "metadata": {},
     "output_type": "execute_result"
    }
   ],
   "source": [
    "dct"
   ]
  },
  {
   "cell_type": "code",
   "execution_count": 39,
   "metadata": {},
   "outputs": [
    {
     "data": {
      "text/plain": [
       "{'хлеб': 10, 'молоко': 10, 'Докторская': 15, 'Салями': 20, 'Хамон': 'нельзя'}"
      ]
     },
     "execution_count": 39,
     "metadata": {},
     "output_type": "execute_result"
    }
   ],
   "source": [
    "dct2"
   ]
  },
  {
   "cell_type": "code",
   "execution_count": 40,
   "metadata": {},
   "outputs": [],
   "source": [
    "dct2['хлеб'] = 5"
   ]
  },
  {
   "cell_type": "code",
   "execution_count": 41,
   "metadata": {},
   "outputs": [
    {
     "data": {
      "text/plain": [
       "{'хлеб': 5, 'молоко': 10, 'Докторская': 15, 'Салями': 20, 'Хамон': 'нельзя'}"
      ]
     },
     "execution_count": 41,
     "metadata": {},
     "output_type": "execute_result"
    }
   ],
   "source": [
    "dct"
   ]
  },
  {
   "cell_type": "code",
   "execution_count": 42,
   "metadata": {},
   "outputs": [],
   "source": [
    "dct2 = dct.copy()"
   ]
  },
  {
   "cell_type": "code",
   "execution_count": 43,
   "metadata": {},
   "outputs": [
    {
     "data": {
      "text/plain": [
       "{'хлеб': 5, 'молоко': 10, 'Докторская': 15, 'Салями': 20, 'Хамон': 'нельзя'}"
      ]
     },
     "execution_count": 43,
     "metadata": {},
     "output_type": "execute_result"
    }
   ],
   "source": [
    "dct2['хлеб'] = 10\n",
    "dct"
   ]
  },
  {
   "cell_type": "code",
   "execution_count": 44,
   "metadata": {},
   "outputs": [],
   "source": [
    "a = set('привет')"
   ]
  },
  {
   "cell_type": "code",
   "execution_count": 45,
   "metadata": {},
   "outputs": [],
   "source": [
    "b = a"
   ]
  },
  {
   "cell_type": "code",
   "execution_count": 46,
   "metadata": {},
   "outputs": [],
   "source": [
    "b.add('q')"
   ]
  },
  {
   "cell_type": "code",
   "execution_count": 47,
   "metadata": {},
   "outputs": [
    {
     "data": {
      "text/plain": [
       "{'q', 'в', 'е', 'и', 'п', 'р', 'т'}"
      ]
     },
     "execution_count": 47,
     "metadata": {},
     "output_type": "execute_result"
    }
   ],
   "source": [
    "a"
   ]
  },
  {
   "cell_type": "code",
   "execution_count": 48,
   "metadata": {},
   "outputs": [
    {
     "data": {
      "text/plain": [
       "[1, 2, 3, 6]"
      ]
     },
     "execution_count": 48,
     "metadata": {},
     "output_type": "execute_result"
    }
   ],
   "source": [
    "a = [1,2,3]\n",
    "b = a\n",
    "b.append(6)\n",
    "a"
   ]
  },
  {
   "cell_type": "code",
   "execution_count": 49,
   "metadata": {},
   "outputs": [
    {
     "data": {
      "text/plain": [
       "'привет'"
      ]
     },
     "execution_count": 49,
     "metadata": {},
     "output_type": "execute_result"
    }
   ],
   "source": [
    "a = 'привет'\n",
    "b = a\n",
    "b = 5\n",
    "a"
   ]
  },
  {
   "cell_type": "markdown",
   "metadata": {},
   "source": [
    "### Списки в значениях словаря"
   ]
  },
  {
   "cell_type": "code",
   "execution_count": 50,
   "metadata": {},
   "outputs": [],
   "source": [
    "dict_of_lists = {\n",
    "    'Россия': ['Москва', 'Санкт-Петербург', 'Казань', 'Ростов', 'Волгоград', 'Екатеринбург', 'Москва'],\n",
    "    'Китай': ['Пекин', 'Шанхай', 'Ухань', 'Ченду', 'Гуанчжоу', 'Шанхай'],\n",
    "}"
   ]
  },
  {
   "cell_type": "code",
   "execution_count": 52,
   "metadata": {},
   "outputs": [
    {
     "data": {
      "text/plain": [
       "['Москва',\n",
       " 'Санкт-Петербург',\n",
       " 'Казань',\n",
       " 'Ростов',\n",
       " 'Волгоград',\n",
       " 'Екатеринбург',\n",
       " 'Москва']"
      ]
     },
     "execution_count": 52,
     "metadata": {},
     "output_type": "execute_result"
    }
   ],
   "source": [
    "dict_of_lists['Россия']"
   ]
  },
  {
   "cell_type": "code",
   "execution_count": 53,
   "metadata": {},
   "outputs": [
    {
     "data": {
      "text/plain": [
       "{'Россия': Counter({'Москва': 2,\n",
       "          'Санкт-Петербург': 1,\n",
       "          'Казань': 1,\n",
       "          'Ростов': 1,\n",
       "          'Волгоград': 1,\n",
       "          'Екатеринбург': 1}),\n",
       " 'Китай': Counter({'Пекин': 1,\n",
       "          'Шанхай': 2,\n",
       "          'Ухань': 1,\n",
       "          'Ченду': 1,\n",
       "          'Гуанчжоу': 1})}"
      ]
     },
     "execution_count": 53,
     "metadata": {},
     "output_type": "execute_result"
    }
   ],
   "source": [
    "import collections\n",
    "\n",
    "dict_counters = {}\n",
    "for country, cities in dict_of_lists.items():\n",
    "    dict_counters[country] = collections.Counter(cities)\n",
    "dict_counters"
   ]
  },
  {
   "cell_type": "code",
   "execution_count": 54,
   "metadata": {},
   "outputs": [],
   "source": [
    "dict_counters['Россия']['Москва'] += 1"
   ]
  },
  {
   "cell_type": "code",
   "execution_count": 56,
   "metadata": {},
   "outputs": [],
   "source": [
    "dict_counters['Россия']['Саратов'] += 1"
   ]
  },
  {
   "cell_type": "code",
   "execution_count": 57,
   "metadata": {},
   "outputs": [
    {
     "data": {
      "text/plain": [
       "Counter({'Москва': 3,\n",
       "         'Санкт-Петербург': 1,\n",
       "         'Казань': 1,\n",
       "         'Ростов': 1,\n",
       "         'Волгоград': 1,\n",
       "         'Екатеринбург': 1,\n",
       "         'Саратов': 1})"
      ]
     },
     "execution_count": 57,
     "metadata": {},
     "output_type": "execute_result"
    }
   ],
   "source": [
    "dict_counters['Россия']"
   ]
  },
  {
   "cell_type": "code",
   "execution_count": null,
   "metadata": {},
   "outputs": [],
   "source": []
  },
  {
   "cell_type": "markdown",
   "metadata": {},
   "source": [
    "### CSV"
   ]
  },
  {
   "cell_type": "markdown",
   "metadata": {},
   "source": [
    "File - https://clck.ru/apgqU\n",
    "<img src = 'http://disk.yandex.net/qr/?clean=1&text=https://clck.ru/apgqU'/>"
   ]
  },
  {
   "cell_type": "code",
   "execution_count": 58,
   "metadata": {},
   "outputs": [
    {
     "name": "stdout",
     "output_type": "stream",
     "text": [
      "Country,# Summer,Summer - Gold,Summer - Silver,Summer - Bronze,Summer - Total,# Winter,Winter - Gold,Winter - Silver,Winter - Bronze, Winter - Total,# Games,All games - Gold,All games - Silver,All games - Bronze,Combined total\n",
      "Afghanistan (AFG),13,0,0,2,2,0,0,0,0,0,13,0,0,2,2\n",
      "Algeria (ALG),12,5,2,8,15,3,0,0,0,0,15,5,2,8,15\n",
      "Argentina (ARG),23,18,24,28,70,18,0,0,0,0,41,18,24,28,70\n",
      "Armenia (ARM),5,1,2,9,12,6,0,0,0,0,11,1,2,9,12\n",
      "Australasia (ANZ) [ANZ],2,3,4,5,12,0,0,0,0,0,2,3,4,5,12\n",
      "Australia (AUS) [AUS] [Z],25,139,152,177,468,18,5,3,4,12,43,144,155,181,480\n",
      "Austria (AUT),26,18,33,35,86,22,59,78,81,218,48,77,111,116,304\n",
      "Azerbaijan (AZE),5,6,5,15,26,5,0,0,0,0,10,6,5,15,26\n",
      "Bahamas (BAH),15,5,2,5,12,0,0,0,0,0,15,5,2,5,12\n",
      "Bahrain (BRN),8,0,0,1,1,0,0,0,0,0,8,0,0,1,1\n",
      "Barbados (BAR) [BAR],11,0,0,1,1,0,0,0,0,0,11,0,0,1,1\n",
      "Belarus (BLR),5,12,24,39,75,6,6,4,5,15,11,18,28,44,90\n",
      "Belgium (BEL),25,37,52,53,142,20,1,1,3,5,45,38,53,56,147\n",
      "Bermuda (BER),17,0,0,1,1,7,0,0,0,0,24,0,0,1,1\n",
      "Bohemia (BOH) [BOH] [Z],3,0,1,3,4,0,0,0,0,0,3,0,1,3,4\n",
      "Botswana (BOT),9,0,1,0,1,0,0,0,0,0,9,0,1,0,1\n",
      "Brazil (BRA),21,23,30,55,108,7,0,0,0,0,28,23,30,55,108\n",
      "British West Indies (BWI) [BWI],1,0,0,2,2,0,0,0,0,0,1,0,0,2,2\n",
      "Bulgaria (BUL) [H],19,51,85,78,214,19,1,2,3,6,38,52,87,81,220\n",
      "Burundi (BDI),5,1,0,0,1,0,0,0,0,0,5,1,0,0,1\n",
      "Cameroon (CMR),13,3,1,1,5,1,0,0,0,0,14,3,1,1,5\n",
      "Canada (CAN),25,59,99,121,279,22,62,56,52,170,47,121,155,173,449\n",
      "Chile (CHI) [I],22,2,7,4,13,16,0,0,0,0,38,2,7,4,13\n",
      "China (CHN) [CHN],9,201,146,126,473,10,12,22,19,53,19,213,168,145,526\n",
      "Colombia (COL),18,2,6,11,19,1,0,0,0,0,19,2,6,11,19\n",
      "Costa Rica (CRC),14,1,1,2,4,6,0,0,0,0,20,1,1,2,4\n",
      "Ivory Coast (CIV) [CIV],12,0,1,0,1,0,0,0,0,0,12,0,1,0,1\n",
      "Croatia (CRO),6,6,7,10,23,7,4,6,1,11,13,10,13,11,34\n",
      "Cuba (CUB) [Z],19,72,67,70,209,0,0,0,0,0,19,72,67,70,209\n",
      "Cyprus (CYP),9,0,1,0,1,10,0,0,0,0,19,0,1,0,1\n",
      "Czech Republic (CZE) [CZE],5,14,15,15,44,6,7,9,8,24,11,21,24,23,68\n",
      "Czechoslovakia (TCH) [TCH],16,49,49,45,143,16,2,8,15,25,32,51,57,60,168\n",
      "Denmark (DEN) [Z],26,43,68,68,179,13,0,1,0,1,39,43,69,68,180\n",
      "Djibouti (DJI) [B],7,0,0,1,1,0,0,0,0,0,7,0,0,1,1\n",
      "Dominican Republic (DOM),13,3,2,1,6,0,0,0,0,0,13,3,2,1,6\n",
      "Ecuador (ECU),13,1,1,0,2,0,0,0,0,0,13,1,1,0,2\n",
      "Egypt (EGY) [EGY] [Z],21,7,9,10,26,1,0,0,0,0,22,7,9,10,26\n",
      "Eritrea (ERI),4,0,0,1,1,0,0,0,0,0,4,0,0,1,1\n",
      "Estonia (EST),11,9,9,15,33,9,4,2,1,7,20,13,11,16,40\n",
      "Ethiopia (ETH),12,21,7,17,45,2,0,0,0,0,14,21,7,17,45\n",
      "Finland (FIN),24,101,84,117,302,22,42,62,57,161,46,143,146,174,463\n",
      "France (FRA) [O] [P] [Z],27,202,223,246,671,22,31,31,47,109,49,233,254,293,780\n",
      "Gabon (GAB),9,0,1,0,1,0,0,0,0,0,9,0,1,0,1\n",
      "Georgia (GEO),5,6,5,14,25,6,0,0,0,0,11,6,5,14,25\n",
      "Germany (GER) [GER] [Z],15,174,182,217,573,11,78,78,53,209,26,252,260,270,782\n",
      "United Team of Germany (EUA) [EUA],3,28,54,36,118,3,8,6,5,19,6,36,60,41,137\n",
      "East Germany (GDR) [GDR],5,153,129,127,409,6,39,36,35,110,11,192,165,162,519\n",
      "West Germany (FRG) [FRG],5,56,67,81,204,6,11,15,13,39,11,67,82,94,243\n",
      "Ghana (GHA) [GHA],13,0,1,3,4,1,0,0,0,0,14,0,1,3,4\n",
      "Great Britain (GBR) [GBR] [Z],27,236,272,272,780,22,10,4,12,26,49,246,276,284,806\n",
      "Greece (GRE) [Z],27,30,42,39,111,18,0,0,0,0,45,30,42,39,111\n",
      "Grenada (GRN),8,1,0,0,1,0,0,0,0,0,8,1,0,0,1\n",
      "Guatemala (GUA),13,0,1,0,1,1,0,0,0,0,14,0,1,0,1\n",
      "Guyana (GUY) [GUY],16,0,0,1,1,0,0,0,0,0,16,0,0,1,1\n",
      "Haiti (HAI) [J],14,0,1,1,2,0,0,0,0,0,14,0,1,1,2\n",
      "Hong Kong (HKG) [HKG],15,1,1,1,3,4,0,0,0,0,19,1,1,1,3\n",
      "Hungary (HUN),25,167,144,165,476,22,0,2,4,6,47,167,146,169,482\n",
      "Iceland (ISL),19,0,2,2,4,17,0,0,0,0,36,0,2,2,4\n",
      "India (IND) [F],23,9,6,11,26,9,0,0,0,0,32,9,6,11,26\n",
      "Indonesia (INA),14,6,10,11,27,0,0,0,0,0,14,6,10,11,27\n",
      "Iran (IRI) [K],15,15,20,25,60,10,0,0,0,0,25,15,20,25,60\n",
      "Iraq (IRQ),13,0,0,1,1,0,0,0,0,0,13,0,0,1,1\n",
      "Ireland (IRL),20,9,8,12,29,6,0,0,0,0,26,9,8,12,29\n",
      "Israel (ISR),15,1,1,5,7,6,0,0,0,0,21,1,1,5,7\n",
      "Italy (ITA) [M] [S],26,198,166,185,549,22,37,34,43,114,48,235,200,228,663\n",
      "Jamaica (JAM) [JAM],16,17,30,20,67,7,0,0,0,0,23,17,30,20,67\n",
      "Japan (JPN),21,130,126,142,398,20,10,17,18,45,41,140,143,160,443\n",
      "Kazakhstan (KAZ),5,16,17,19,52,6,1,3,3,7,11,17,20,22,59\n",
      "Kenya (KEN),13,25,32,29,86,3,0,0,0,0,16,25,32,29,86\n",
      "North Korea (PRK),9,14,12,21,47,8,0,1,1,2,17,14,13,22,49\n",
      "South Korea (KOR),16,81,82,80,243,17,26,17,10,53,33,107,99,90,296\n",
      "Kuwait (KUW),12,0,0,2,2,0,0,0,0,0,12,0,0,2,2\n",
      "Kyrgyzstan (KGZ),5,0,1,2,3,6,0,0,0,0,11,0,1,2,3\n",
      "Latvia (LAT),10,3,11,5,19,10,0,4,3,7,20,3,15,8,26\n",
      "Lebanon (LIB),16,0,2,2,4,16,0,0,0,0,32,0,2,2,4\n",
      "Liechtenstein (LIE),16,0,0,0,0,18,2,2,5,9,34,2,2,5,9\n",
      "Lithuania (LTU),8,6,5,10,21,8,0,0,0,0,16,6,5,10,21\n",
      "Luxembourg (LUX) [O],22,1,1,0,2,8,0,2,0,2,30,1,3,0,4\n",
      "Macedonia (MKD),5,0,0,1,1,5,0,0,0,0,10,0,0,1,1\n",
      "Malaysia (MAS) [MAS],12,0,3,3,6,0,0,0,0,0,12,0,3,3,6\n",
      "Mauritius (MRI),8,0,0,1,1,0,0,0,0,0,8,0,0,1,1\n",
      "Mexico (MEX),22,13,21,28,62,8,0,0,0,0,30,13,21,28,62\n",
      "Moldova (MDA),5,0,2,5,7,6,0,0,0,0,11,0,2,5,7\n",
      "Mongolia (MGL),12,2,9,13,24,13,0,0,0,0,25,2,9,13,24\n",
      "Montenegro (MNE),2,0,1,0,1,2,0,0,0,0,4,0,1,0,1\n",
      "Morocco (MAR),13,6,5,11,22,6,0,0,0,0,19,6,5,11,22\n",
      "Mozambique (MOZ),9,1,0,1,2,0,0,0,0,0,9,1,0,1,2\n",
      "Namibia (NAM),6,0,4,0,4,0,0,0,0,0,6,0,4,0,4\n",
      "Netherlands (NED) [Z],25,77,85,104,266,20,37,38,35,110,45,114,123,139,376\n",
      "Netherlands Antilles (AHO) [AHO] [I],13,0,1,0,1,2,0,0,0,0,15,0,1,0,1\n",
      "New Zealand (NZL) [NZL],22,42,18,39,99,15,0,1,0,1,37,42,19,39,100\n",
      "Niger (NIG),11,0,0,1,1,0,0,0,0,0,11,0,0,1,1\n",
      "Nigeria (NGR),15,3,8,12,23,0,0,0,0,0,15,3,8,12,23\n",
      "Norway (NOR) [Q],24,56,49,43,148,22,118,111,100,329,46,174,160,143,477\n",
      "Pakistan (PAK),16,3,3,4,10,2,0,0,0,0,18,3,3,4,10\n",
      "Panama (PAN),16,1,0,2,3,0,0,0,0,0,16,1,0,2,3\n",
      "Paraguay (PAR),11,0,1,0,1,1,0,0,0,0,12,0,1,0,1\n",
      "Peru (PER) [L],17,1,3,0,4,2,0,0,0,0,19,1,3,0,4\n",
      "Philippines (PHI),20,0,2,7,9,4,0,0,0,0,24,0,2,7,9\n",
      "Poland (POL),20,64,82,125,271,22,6,7,7,20,42,70,89,132,291\n",
      "Portugal (POR),23,4,8,11,23,7,0,0,0,0,30,4,8,11,23\n",
      "Puerto Rico (PUR),17,0,2,6,8,6,0,0,0,0,23,0,2,6,8\n",
      "Qatar (QAT),8,0,0,4,4,0,0,0,0,0,8,0,0,4,4\n",
      "Romania (ROU),20,88,94,119,301,20,0,0,1,1,40,88,94,120,302\n",
      "Russia (RUS) [RUS],5,132,121,142,395,6,49,40,35,124,11,181,161,177,519\n",
      "Russian Empire (RU1) [RU1],3,1,4,3,8,0,0,0,0,0,3,1,4,3,8\n",
      "Soviet Union (URS) [URS],9,395,319,296,1010,9,78,57,59,194,18,473,376,355,1204\n",
      "Unified Team (EUN) [EUN],1,45,38,29,112,1,9,6,8,23,2,54,44,37,135\n",
      "Saudi Arabia (KSA),10,0,1,2,3,0,0,0,0,0,10,0,1,2,3\n",
      "Senegal (SEN),13,0,1,0,1,5,0,0,0,0,18,0,1,0,1\n",
      "Serbia (SRB) [SRB],3,1,2,4,7,2,0,0,0,0,5,1,2,4,7\n",
      "Serbia and Montenegro (SCG) [SCG],3,2,4,3,9,3,0,0,0,0,6,2,4,3,9\n",
      "Singapore (SIN),15,0,2,2,4,0,0,0,0,0,15,0,2,2,4\n",
      "Slovakia (SVK) [SVK],5,7,9,8,24,6,2,2,1,5,11,9,11,9,29\n",
      "Slovenia (SLO),6,4,6,9,19,7,2,4,9,15,13,6,10,18,34\n",
      "South Africa (RSA),18,23,26,27,76,6,0,0,0,0,24,23,26,27,76\n",
      "Spain (ESP) [Z],22,37,59,35,131,19,1,0,1,2,41,38,59,36,133\n",
      "Sri Lanka (SRI) [SRI],16,0,2,0,2,0,0,0,0,0,16,0,2,0,2\n",
      "Sudan (SUD),11,0,1,0,1,0,0,0,0,0,11,0,1,0,1\n",
      "Suriname (SUR) [E],11,1,0,1,2,0,0,0,0,0,11,1,0,1,2\n",
      "Sweden (SWE) [Z],26,143,164,176,483,22,50,40,54,144,48,193,204,230,627\n",
      "Switzerland (SUI),27,47,73,65,185,22,50,40,48,138,49,97,113,113,323\n",
      "Syria (SYR),12,1,1,1,3,0,0,0,0,0,12,1,1,1,3\n",
      "Chinese Taipei (TPE) [TPE] [TPE2],13,2,7,12,21,11,0,0,0,0,24,2,7,12,21\n",
      "Tajikistan (TJK),5,0,1,2,3,4,0,0,0,0,9,0,1,2,3\n",
      "Tanzania (TAN) [TAN],12,0,2,0,2,0,0,0,0,0,12,0,2,0,2\n",
      "Thailand (THA),15,7,6,11,24,3,0,0,0,0,18,7,6,11,24\n",
      "Togo (TOG),9,0,0,1,1,1,0,0,0,0,10,0,0,1,1\n",
      "Tonga (TGA),8,0,1,0,1,1,0,0,0,0,9,0,1,0,1\n",
      "Trinidad and Tobago (TRI) [TRI],16,2,5,11,18,3,0,0,0,0,19,2,5,11,18\n",
      "Tunisia (TUN),13,3,3,4,10,0,0,0,0,0,13,3,3,4,10\n",
      "Turkey (TUR),21,39,25,24,88,16,0,0,0,0,37,39,25,24,88\n",
      "Uganda (UGA),14,2,3,2,7,0,0,0,0,0,14,2,3,2,7\n",
      "Ukraine (UKR),5,33,27,55,115,6,2,1,4,7,11,35,28,59,122\n",
      "United Arab Emirates (UAE),8,1,0,0,1,0,0,0,0,0,8,1,0,0,1\n",
      "United States (USA) [P] [Q] [R] [Z],26,976,757,666,2399,22,96,102,84,282,48,1072,859,750,2681\n",
      "Uruguay (URU),20,2,2,6,10,1,0,0,0,0,21,2,2,6,10\n",
      "Uzbekistan (UZB),5,5,5,10,20,6,1,0,0,1,11,6,5,10,21\n",
      "Venezuela (VEN),17,2,2,8,12,4,0,0,0,0,21,2,2,8,12\n",
      "Vietnam (VIE),14,0,2,0,2,0,0,0,0,0,14,0,2,0,2\n",
      "Virgin Islands (ISV),11,0,1,0,1,7,0,0,0,0,18,0,1,0,1\n",
      "Yugoslavia (YUG) [YUG],16,26,29,28,83,14,0,3,1,4,30,26,32,29,87\n",
      "Independent Olympic Participants (IOP) [IOP],1,0,1,2,3,0,0,0,0,0,1,0,1,2,3\n",
      "Zambia (ZAM) [ZAM],12,0,1,1,2,0,0,0,0,0,12,0,1,1,2\n",
      "Zimbabwe (ZIM) [ZIM],12,3,4,1,8,1,0,0,0,0,13,3,4,1,8\n",
      "Mixed team (ZZX) [ZZX],3,8,5,4,17,0,0,0,0,0,3,8,5,4,17\n",
      "Totals,27,4809,4775,5130,14714,22,959,958,948,2865,49,5768,5733,6078,17579\n",
      "\n"
     ]
    }
   ],
   "source": [
    "import csv\n",
    "with open(\"olympics.csv\", 'r', encoding=\"utf-8\") as f:\n",
    "    text = f.read()\n",
    "print(text)"
   ]
  },
  {
   "cell_type": "code",
   "execution_count": 70,
   "metadata": {},
   "outputs": [],
   "source": [
    "olympics = csv.DictReader(open(\"olympics.csv\"))"
   ]
  },
  {
   "cell_type": "code",
   "execution_count": 71,
   "metadata": {},
   "outputs": [
    {
     "data": {
      "text/plain": [
       "<csv.DictReader at 0x7f9054193d90>"
      ]
     },
     "execution_count": 71,
     "metadata": {},
     "output_type": "execute_result"
    }
   ],
   "source": [
    "olympics"
   ]
  },
  {
   "cell_type": "code",
   "execution_count": 72,
   "metadata": {},
   "outputs": [
    {
     "name": "stdout",
     "output_type": "stream",
     "text": [
      "{'Country': 'Afghanistan\\xa0(AFG)', '# Summer': '13', 'Summer - Gold': '0', 'Summer - Silver': '0', 'Summer - Bronze': '2', 'Summer - Total': '2', '# Winter': '0', 'Winter - Gold': '0', 'Winter - Silver': '0', 'Winter - Bronze': '0', ' Winter - Total': '0', '# Games': '13', 'All games - Gold': '0', 'All games - Silver': '0', 'All games - Bronze': '2', 'Combined total': '2'}\n"
     ]
    }
   ],
   "source": [
    "for country in olympics:\n",
    "    if country['Country'] == 'Afghanistan\\xa0(AFG)':\n",
    "        print(country)"
   ]
  },
  {
   "cell_type": "code",
   "execution_count": null,
   "metadata": {},
   "outputs": [],
   "source": [
    "import pandas as pd\n"
   ]
  },
  {
   "cell_type": "code",
   "execution_count": 68,
   "metadata": {},
   "outputs": [
    {
     "name": "stdout",
     "output_type": "stream",
     "text": [
      "Afghanistan (AFG)\n",
      "Algeria (ALG)\n",
      "Argentina (ARG)\n",
      "Armenia (ARM)\n",
      "Australasia (ANZ) [ANZ]\n",
      "Australia (AUS) [AUS] [Z]\n",
      "Austria (AUT)\n",
      "Azerbaijan (AZE)\n",
      "Bahamas (BAH)\n",
      "Bahrain (BRN)\n",
      "Barbados (BAR) [BAR]\n",
      "Belarus (BLR)\n",
      "Belgium (BEL)\n",
      "Bermuda (BER)\n",
      "Bohemia (BOH) [BOH] [Z]\n",
      "Botswana (BOT)\n",
      "Brazil (BRA)\n",
      "British West Indies (BWI) [BWI]\n",
      "Bulgaria (BUL) [H]\n",
      "Burundi (BDI)\n",
      "Cameroon (CMR)\n",
      "Canada (CAN)\n",
      "Chile (CHI) [I]\n",
      "China (CHN) [CHN]\n",
      "Colombia (COL)\n",
      "Costa Rica (CRC)\n",
      "Ivory Coast (CIV) [CIV]\n",
      "Croatia (CRO)\n",
      "Cuba (CUB) [Z]\n",
      "Cyprus (CYP)\n",
      "Czech Republic (CZE) [CZE]\n",
      "Czechoslovakia (TCH) [TCH]\n",
      "Denmark (DEN) [Z]\n",
      "Djibouti (DJI) [B]\n",
      "Dominican Republic (DOM)\n",
      "Ecuador (ECU)\n",
      "Egypt (EGY) [EGY] [Z]\n",
      "Eritrea (ERI)\n",
      "Estonia (EST)\n",
      "Ethiopia (ETH)\n",
      "Finland (FIN)\n",
      "France (FRA) [O] [P] [Z]\n",
      "Gabon (GAB)\n",
      "Georgia (GEO)\n",
      "Germany (GER) [GER] [Z]\n",
      "United Team of Germany (EUA) [EUA]\n",
      "East Germany (GDR) [GDR]\n",
      "West Germany (FRG) [FRG]\n",
      "Ghana (GHA) [GHA]\n",
      "Great Britain (GBR) [GBR] [Z]\n",
      "Greece (GRE) [Z]\n",
      "Grenada (GRN)\n",
      "Guatemala (GUA)\n",
      "Guyana (GUY) [GUY]\n",
      "Haiti (HAI) [J]\n",
      "Hong Kong (HKG) [HKG]\n",
      "Hungary (HUN)\n",
      "Iceland (ISL)\n",
      "India (IND) [F]\n",
      "Indonesia (INA)\n",
      "Iran (IRI) [K]\n",
      "Iraq (IRQ)\n",
      "Ireland (IRL)\n",
      "Israel (ISR)\n",
      "Italy (ITA) [M] [S]\n",
      "Jamaica (JAM) [JAM]\n",
      "Japan (JPN)\n",
      "Kazakhstan (KAZ)\n",
      "Kenya (KEN)\n",
      "North Korea (PRK)\n",
      "South Korea (KOR)\n",
      "Kuwait (KUW)\n",
      "Kyrgyzstan (KGZ)\n",
      "Latvia (LAT)\n",
      "Lebanon (LIB)\n",
      "Liechtenstein (LIE)\n",
      "Lithuania (LTU)\n",
      "Luxembourg (LUX) [O]\n",
      "Macedonia (MKD)\n",
      "Malaysia (MAS) [MAS]\n",
      "Mauritius (MRI)\n",
      "Mexico (MEX)\n",
      "Moldova (MDA)\n",
      "Mongolia (MGL)\n",
      "Montenegro (MNE)\n",
      "Morocco (MAR)\n",
      "Mozambique (MOZ)\n",
      "Namibia (NAM)\n",
      "Netherlands (NED) [Z]\n",
      "Netherlands Antilles (AHO) [AHO] [I]\n",
      "New Zealand (NZL) [NZL]\n",
      "Niger (NIG)\n",
      "Nigeria (NGR)\n",
      "Norway (NOR) [Q]\n",
      "Pakistan (PAK)\n",
      "Panama (PAN)\n",
      "Paraguay (PAR)\n",
      "Peru (PER) [L]\n",
      "Philippines (PHI)\n",
      "Poland (POL)\n",
      "Portugal (POR)\n",
      "Puerto Rico (PUR)\n",
      "Qatar (QAT)\n",
      "Romania (ROU)\n",
      "Russia (RUS) [RUS]\n",
      "Russian Empire (RU1) [RU1]\n",
      "Soviet Union (URS) [URS]\n",
      "Unified Team (EUN) [EUN]\n",
      "Saudi Arabia (KSA)\n",
      "Senegal (SEN)\n",
      "Serbia (SRB) [SRB]\n",
      "Serbia and Montenegro (SCG) [SCG]\n",
      "Singapore (SIN)\n",
      "Slovakia (SVK) [SVK]\n",
      "Slovenia (SLO)\n",
      "South Africa (RSA)\n",
      "Spain (ESP) [Z]\n",
      "Sri Lanka (SRI) [SRI]\n",
      "Sudan (SUD)\n",
      "Suriname (SUR) [E]\n",
      "Sweden (SWE) [Z]\n",
      "Switzerland (SUI)\n",
      "Syria (SYR)\n",
      "Chinese Taipei (TPE) [TPE] [TPE2]\n",
      "Tajikistan (TJK)\n",
      "Tanzania (TAN) [TAN]\n",
      "Thailand (THA)\n",
      "Togo (TOG)\n",
      "Tonga (TGA)\n",
      "Trinidad and Tobago (TRI) [TRI]\n",
      "Tunisia (TUN)\n",
      "Turkey (TUR)\n",
      "Uganda (UGA)\n",
      "Ukraine (UKR)\n",
      "United Arab Emirates (UAE)\n",
      "United States (USA) [P] [Q] [R] [Z]\n",
      "Uruguay (URU)\n",
      "Uzbekistan (UZB)\n",
      "Venezuela (VEN)\n",
      "Vietnam (VIE)\n",
      "Virgin Islands (ISV)\n",
      "Yugoslavia (YUG) [YUG]\n",
      "Independent Olympic Participants (IOP) [IOP]\n",
      "Zambia (ZAM) [ZAM]\n",
      "Zimbabwe (ZIM) [ZIM]\n",
      "Mixed team (ZZX) [ZZX]\n",
      "Totals\n"
     ]
    }
   ],
   "source": [
    "olympics = csv.DictReader(open(\"olympics.csv\"))\n",
    "for country in olympics:\n",
    "    print(country['Country'])"
   ]
  },
  {
   "cell_type": "markdown",
   "metadata": {},
   "source": [
    "### Задача\n",
    "1. Какое максимальное количество участий в зимних играх?\n",
    "2. Какие страны участвовали в зимних играх наибольшее количество раз?\n",
    "3. Найти страны, у которых есть медаль за летние игры, но нет за зимние"
   ]
  },
  {
   "cell_type": "code",
   "execution_count": 74,
   "metadata": {},
   "outputs": [
    {
     "name": "stdout",
     "output_type": "stream",
     "text": [
      "22\n"
     ]
    }
   ],
   "source": [
    "from csv import DictReader\n",
    "\n",
    "max = 0\n",
    "olympics = DictReader(open('olympics.csv'))\n",
    "for country in olympics:\n",
    "    if int(country['# Winter']) > max:\n",
    "        max = int(country['# Winter'])\n",
    "\n",
    "print(max)"
   ]
  },
  {
   "cell_type": "code",
   "execution_count": 76,
   "metadata": {},
   "outputs": [
    {
     "name": "stdout",
     "output_type": "stream",
     "text": [
      "Austria (AUT)\n",
      "Canada (CAN)\n",
      "Finland (FIN)\n",
      "France (FRA) [O] [P] [Z]\n",
      "Great Britain (GBR) [GBR] [Z]\n",
      "Hungary (HUN)\n",
      "Italy (ITA) [M] [S]\n",
      "Norway (NOR) [Q]\n",
      "Poland (POL)\n",
      "Sweden (SWE) [Z]\n",
      "Switzerland (SUI)\n",
      "United States (USA) [P] [Q] [R] [Z]\n",
      "Totals\n"
     ]
    }
   ],
   "source": [
    "from csv import DictReader\n",
    "\n",
    "max = 0\n",
    "olympics = DictReader(open('olympics.csv'))\n",
    "for country in olympics:\n",
    "    if int(country['# Winter']) > max:\n",
    "        max = int(country['# Winter'])\n",
    "\n",
    "olympics = DictReader(open('olympics.csv'))\n",
    "for country in olympics:\n",
    "    if int(country['# Winter']) == max:\n",
    "        print(country['Country'])"
   ]
  },
  {
   "cell_type": "code",
   "execution_count": 77,
   "metadata": {},
   "outputs": [
    {
     "name": "stdout",
     "output_type": "stream",
     "text": [
      "Afghanistan (AFG)\n",
      "Australasia (ANZ) [ANZ]\n",
      "Bahamas (BAH)\n",
      "Bahrain (BRN)\n",
      "Barbados (BAR) [BAR]\n",
      "Bohemia (BOH) [BOH] [Z]\n",
      "Botswana (BOT)\n",
      "British West Indies (BWI) [BWI]\n",
      "Burundi (BDI)\n",
      "Ivory Coast (CIV) [CIV]\n",
      "Cuba (CUB) [Z]\n",
      "Djibouti (DJI) [B]\n",
      "Dominican Republic (DOM)\n",
      "Ecuador (ECU)\n",
      "Eritrea (ERI)\n",
      "Gabon (GAB)\n",
      "Grenada (GRN)\n",
      "Guyana (GUY) [GUY]\n",
      "Haiti (HAI) [J]\n",
      "Indonesia (INA)\n",
      "Iraq (IRQ)\n",
      "Kuwait (KUW)\n",
      "Malaysia (MAS) [MAS]\n",
      "Mauritius (MRI)\n",
      "Mozambique (MOZ)\n",
      "Namibia (NAM)\n",
      "Niger (NIG)\n",
      "Nigeria (NGR)\n",
      "Panama (PAN)\n",
      "Qatar (QAT)\n",
      "Russian Empire (RU1) [RU1]\n",
      "Saudi Arabia (KSA)\n",
      "Singapore (SIN)\n",
      "Sri Lanka (SRI) [SRI]\n",
      "Sudan (SUD)\n",
      "Suriname (SUR) [E]\n",
      "Syria (SYR)\n",
      "Tanzania (TAN) [TAN]\n",
      "Tunisia (TUN)\n",
      "Uganda (UGA)\n",
      "United Arab Emirates (UAE)\n",
      "Vietnam (VIE)\n",
      "Independent Olympic Participants (IOP) [IOP]\n",
      "Zambia (ZAM) [ZAM]\n",
      "Mixed team (ZZX) [ZZX]\n"
     ]
    }
   ],
   "source": [
    "olympics = csv.DictReader(open(\"olympics.csv\"))\n",
    "for country in olympics:\n",
    "    if int(country['# Summer']) > 0 and int(country['# Winter']) == 0:\n",
    "        print(country['Country'])\n",
    "        #print(country['Country'], country['# Summer'], country['# Winter'])"
   ]
  },
  {
   "cell_type": "code",
   "execution_count": 78,
   "metadata": {},
   "outputs": [
    {
     "name": "stdout",
     "output_type": "stream",
     "text": [
      "Afghanistan (AFG)\n",
      "Australasia (ANZ) [ANZ]\n",
      "Bahamas (BAH)\n",
      "Bahrain (BRN)\n",
      "Barbados (BAR) [BAR]\n",
      "Bohemia (BOH) [BOH] [Z]\n",
      "Botswana (BOT)\n",
      "British West Indies (BWI) [BWI]\n",
      "Burundi (BDI)\n",
      "Ivory Coast (CIV) [CIV]\n",
      "Cuba (CUB) [Z]\n",
      "Djibouti (DJI) [B]\n",
      "Dominican Republic (DOM)\n",
      "Ecuador (ECU)\n",
      "Eritrea (ERI)\n",
      "Gabon (GAB)\n",
      "Grenada (GRN)\n",
      "Guyana (GUY) [GUY]\n",
      "Haiti (HAI) [J]\n",
      "Indonesia (INA)\n",
      "Iraq (IRQ)\n",
      "Kuwait (KUW)\n",
      "Malaysia (MAS) [MAS]\n",
      "Mauritius (MRI)\n",
      "Mozambique (MOZ)\n",
      "Namibia (NAM)\n",
      "Niger (NIG)\n",
      "Nigeria (NGR)\n",
      "Panama (PAN)\n",
      "Qatar (QAT)\n",
      "Russian Empire (RU1) [RU1]\n",
      "Saudi Arabia (KSA)\n",
      "Singapore (SIN)\n",
      "Sri Lanka (SRI) [SRI]\n",
      "Sudan (SUD)\n",
      "Suriname (SUR) [E]\n",
      "Syria (SYR)\n",
      "Tanzania (TAN) [TAN]\n",
      "Tunisia (TUN)\n",
      "Uganda (UGA)\n",
      "United Arab Emirates (UAE)\n",
      "Vietnam (VIE)\n",
      "Independent Olympic Participants (IOP) [IOP]\n",
      "Zambia (ZAM) [ZAM]\n",
      "Mixed team (ZZX) [ZZX]\n"
     ]
    }
   ],
   "source": [
    "from csv import DictReader\n",
    "olympics = DictReader(open('olympics.csv'))\n",
    "for country in olympics:    \n",
    "    if int(country['# Summer']) > 0 and int(country['# Winter']) == 0:        \n",
    "        print(country['Country'])"
   ]
  },
  {
   "cell_type": "markdown",
   "metadata": {},
   "source": [
    "<a href = 'https://clck.ru/aqCHm'>https://clck.ru/aqCHm</a>\n",
    "    <img src = 'http://disk.yandex.net/qr/?clean=1&text=https://clck.ru/aqCHm' />"
   ]
  },
  {
   "cell_type": "markdown",
   "metadata": {},
   "source": [
    "## До 11:10. Кто закончил - хороших выходных :)"
   ]
  },
  {
   "cell_type": "code",
   "execution_count": null,
   "metadata": {},
   "outputs": [],
   "source": []
  }
 ],
 "metadata": {
  "colab": {
   "collapsed_sections": [
    "DY2kFJ8zPN2q",
    "8BNLCR1uPnFl",
    "J0Euadp1P6o6",
    "mUtEQQtETQL1",
    "7B3FOKDTOvTJ",
    "ICqcQjLWWWLs",
    "58ONRRMcckYG",
    "B4I3u7rKcAWH",
    "31s6oJWydcV9",
    "rqCC77pwgFmJ",
    "bEE1wyzyjvgw",
    "ltSYMwMcn2pA",
    "B-g4mM2axDL1",
    "gNS_vB0FfPmv",
    "HeTHmFsBl6xs",
    "G_NfCzgXqkqn",
    "4jY1F516tATj",
    "Y_bNnLuStvNA",
    "0VHxk5eUxf2U",
    "TS_-KAY763qP",
    "f5bmZO2_tDvo"
   ],
   "name": "python словари.ipynb",
   "provenance": []
  },
  "kernelspec": {
   "display_name": "Python 3",
   "language": "python",
   "name": "python3"
  },
  "language_info": {
   "codemirror_mode": {
    "name": "ipython",
    "version": 3
   },
   "file_extension": ".py",
   "mimetype": "text/x-python",
   "name": "python",
   "nbconvert_exporter": "python",
   "pygments_lexer": "ipython3",
   "version": "3.8.8"
  }
 },
 "nbformat": 4,
 "nbformat_minor": 1
}
