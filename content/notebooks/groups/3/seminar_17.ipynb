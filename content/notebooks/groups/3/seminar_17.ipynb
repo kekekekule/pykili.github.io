{
 "cells": [
  {
   "cell_type": "markdown",
   "metadata": {},
   "source": [
    "# Регулярные выражения - 2"
   ]
  },
  {
   "cell_type": "markdown",
   "metadata": {},
   "source": [
    "* `.finditer()`\n",
    "* Нумерация групп\n",
    "* Специальные группы\n",
    "* flags in RE"
   ]
  },
  {
   "cell_type": "code",
   "execution_count": 1,
   "metadata": {},
   "outputs": [],
   "source": [
    "import re"
   ]
  },
  {
   "cell_type": "code",
   "execution_count": 2,
   "metadata": {},
   "outputs": [],
   "source": [
    "news = \"\"\"\n",
    "Названа самая дорогая улица Москвы\n",
    "Гранатный переулок назвали самой дорогой улицей Москвы по ценам на недвижимость\n",
    "\n",
    "На февраль 2022 года самой дорогой улицей Москвы по ценам на недвижимость считается Гранатный переулок. Один из самых дорогих объектов обойдется в 2,7 миллиарда рублей. Об этом говорится в материалах агентства риелтора Ярослава Кобаладзе, которые есть в распоряжении «Ленты.ру».\n",
    "\n",
    "В Гранатном переулке выставлены на продажу 20 квартир, стоимость квадратного метра в которых превышает два миллиона рублей. За 2,7 миллиарда рублей можно приобрести жилье площадью 900 квадратных метров.\"\"\""
   ]
  },
  {
   "cell_type": "code",
   "execution_count": 3,
   "metadata": {},
   "outputs": [
    {
     "data": {
      "text/plain": [
       "'\\nНазвана самая дорогая улица Москвы\\nГранатный переулок назвали самой дорогой улицей Москвы по ценам на недвижимость\\n\\nНа февраль 2022 года самой дорогой улицей Москвы по ценам на недвижимость считается Гранатный переулок. Один из самых дорогих объектов обойдется в 2,7 миллиарда рублей. Об этом говорится в материалах агентства риелтора Ярослава Кобаладзе, которые есть в распоряжении «Ленты.ру».\\n\\nВ Гранатном переулке выставлены на продажу 20 квартир, стоимость квадратного метра в которых превышает два миллиона рублей. За 2,7 миллиарда рублей можно приобрести жилье площадью 900 квадратных метров.'"
      ]
     },
     "execution_count": 3,
     "metadata": {},
     "output_type": "execute_result"
    }
   ],
   "source": [
    "news"
   ]
  },
  {
   "cell_type": "code",
   "execution_count": 5,
   "metadata": {},
   "outputs": [],
   "source": [
    "patt = re.compile('[А-ЯA-Z][а-яa-z]+')"
   ]
  },
  {
   "cell_type": "code",
   "execution_count": 11,
   "metadata": {},
   "outputs": [],
   "source": [
    "f_iter = patt.finditer(news)"
   ]
  },
  {
   "cell_type": "code",
   "execution_count": 12,
   "metadata": {},
   "outputs": [
    {
     "data": {
      "text/plain": [
       "<re.Match object; span=(1, 8), match='Названа'>"
      ]
     },
     "execution_count": 12,
     "metadata": {},
     "output_type": "execute_result"
    }
   ],
   "source": [
    "next(f_iter)"
   ]
  },
  {
   "cell_type": "code",
   "execution_count": 13,
   "metadata": {},
   "outputs": [
    {
     "name": "stdout",
     "output_type": "stream",
     "text": [
      "Москвы\n",
      "Гранатный\n",
      "Москвы\n",
      "На\n",
      "Москвы\n",
      "Гранатный\n",
      "Один\n",
      "Об\n",
      "Ярослава\n",
      "Кобаладзе\n",
      "Ленты\n",
      "Гранатном\n",
      "За\n"
     ]
    }
   ],
   "source": [
    "for i in f_iter:\n",
    "    print(i.group())"
   ]
  },
  {
   "cell_type": "markdown",
   "metadata": {},
   "source": [
    "## Нумерация групп"
   ]
  },
  {
   "cell_type": "markdown",
   "metadata": {},
   "source": [
    "Поищем слова, которые повторили два раза подряд через пробел."
   ]
  },
  {
   "cell_type": "code",
   "execution_count": 14,
   "metadata": {},
   "outputs": [
    {
     "name": "stdout",
     "output_type": "stream",
     "text": [
      "*****  correct expression *****\n",
      "first second\n",
      "first first\n",
      "None\n",
      "first first\n",
      "*****  wrong expression *****\n",
      "None\n"
     ]
    }
   ],
   "source": [
    "print(\"*****  correct expression *****\")\n",
    "s_wrong = 'first second'\n",
    "s_correct = 'first first'\n",
    "\n",
    "expr = re.compile(r'.+ .+')\n",
    "print(expr.match(s_wrong).group())\n",
    "print(expr.match(s_correct).group())\n",
    "\n",
    "expr = re.compile(r'(.+) \\1')\n",
    "print(expr.match(s_wrong))\n",
    "print(expr.match(s_correct).group())\n",
    "\n",
    "print(\"*****  wrong expression *****\")\n",
    "expr = re.compile('(.+) \\1')\n",
    "print(expr.match(s_correct))"
   ]
  },
  {
   "cell_type": "code",
   "execution_count": 15,
   "metadata": {},
   "outputs": [
    {
     "name": "stdout",
     "output_type": "stream",
     "text": [
      "Python&Pails\n",
      "python&pails\n",
      "None\n"
     ]
    }
   ],
   "source": [
    "expr = re.compile(r'([Pp])ython&\\1ails')\n",
    "print(expr.match('Python&Pails').group())\n",
    "print(expr.match('python&pails').group())\n",
    "print(expr.match('Python&pails'))"
   ]
  },
  {
   "cell_type": "markdown",
   "metadata": {},
   "source": [
    "Именованная группа. Задаем -  `(?P<name>)`\n",
    "\n",
    "Обращаемся -  `(?P=name)`"
   ]
  },
  {
   "cell_type": "code",
   "execution_count": 16,
   "metadata": {},
   "outputs": [
    {
     "name": "stdout",
     "output_type": "stream",
     "text": [
      "None\n",
      "first first\n",
      "first\n"
     ]
    }
   ],
   "source": [
    "s_wrong = 'first second'\n",
    "s_correct = 'first first'\n",
    "\n",
    "expr = re.compile(r'(?P<something>.+) (?P=something)')\n",
    "print(expr.match(s_wrong))\n",
    "print(expr.match(s_correct).group())\n",
    "\n",
    "\n",
    "m = expr.match(s_correct)\n",
    "\n",
    "print(m.group('something'))"
   ]
  },
  {
   "cell_type": "markdown",
   "metadata": {},
   "source": [
    "(?# - создаст комментарий"
   ]
  },
  {
   "cell_type": "code",
   "execution_count": 17,
   "metadata": {},
   "outputs": [
    {
     "name": "stdout",
     "output_type": "stream",
     "text": [
      "None\n",
      "first first\n"
     ]
    }
   ],
   "source": [
    "s_wrong = 'first second'\n",
    "s_correct = 'first first'\n",
    "\n",
    "expr = re.compile(r\"(?#first string)(?P<something>.+) (?#repeat of first string)(?P=something)(?#it is funny, isn\\'t it?)\")\n",
    "print(expr.match(s_wrong))\n",
    "print(expr.match(s_correct).group())"
   ]
  },
  {
   "cell_type": "markdown",
   "metadata": {},
   "source": [
    "## Специальные группы"
   ]
  },
  {
   "cell_type": "markdown",
   "metadata": {},
   "source": [
    "<img src='https://i.gyazo.com/46a563a3aa9d9e5ab5f700f460cf8a1e.png'/>"
   ]
  },
  {
   "cell_type": "markdown",
   "metadata": {},
   "source": [
    "<img src='https://i.gyazo.com/6fb8fa5096991aac324adef122987ef0.png'/>"
   ]
  },
  {
   "cell_type": "markdown",
   "metadata": {},
   "source": [
    "<img src='https://i.gyazo.com/aba3a9eb2f571fe761fae981b591a64b.png'/>"
   ]
  },
  {
   "cell_type": "markdown",
   "metadata": {},
   "source": [
    "<img src='https://i.gyazo.com/5dcc8d734c5e57534fdf9e64e126970c.png'/>"
   ]
  },
  {
   "cell_type": "markdown",
   "metadata": {},
   "source": [
    "<img src='https://i.gyazo.com/98c90aa04ae73485147eb9dc83610ef4.png'/>"
   ]
  },
  {
   "cell_type": "code",
   "execution_count": null,
   "metadata": {},
   "outputs": [],
   "source": []
  },
  {
   "cell_type": "markdown",
   "metadata": {},
   "source": [
    "\"Заглядывания вперед\" -  `(?=assertion)`"
   ]
  },
  {
   "cell_type": "code",
   "execution_count": 18,
   "metadata": {},
   "outputs": [
    {
     "name": "stdout",
     "output_type": "stream",
     "text": [
      "[]\n",
      "['Jonn ']\n"
     ]
    }
   ],
   "source": [
    "s_wrong = 'Jonn Smith'\n",
    "s_correct = 'Jonn Silver'\n",
    "\n",
    "expr = re.compile(r'Jonn (?=Silver)')\n",
    "print(expr.findall(s_wrong))\n",
    "print(expr.findall(s_correct))"
   ]
  },
  {
   "cell_type": "markdown",
   "metadata": {},
   "source": [
    "Отрицание предположения впереди - `(?!assertion)`"
   ]
  },
  {
   "cell_type": "code",
   "execution_count": 19,
   "metadata": {},
   "outputs": [
    {
     "name": "stdout",
     "output_type": "stream",
     "text": [
      "Jonn \n",
      "None\n"
     ]
    }
   ],
   "source": [
    "expr = re.compile(r'Jonn (?!Silver)')\n",
    "print(expr.match(s_wrong).group())\n",
    "print(expr.match(s_correct))"
   ]
  },
  {
   "cell_type": "markdown",
   "metadata": {},
   "source": [
    "lookbehind assertion - `(?<=assertion)` и `(?<!negative assertion)`"
   ]
  },
  {
   "cell_type": "code",
   "execution_count": 20,
   "metadata": {},
   "outputs": [
    {
     "name": "stdout",
     "output_type": "stream",
     "text": [
      "None\n",
      "Varlamov\n",
      "Varlamov\n",
      "None\n"
     ]
    }
   ],
   "source": [
    "s_wrong = 'I.Varlamov'\n",
    "s_correct = 'J.Varlamov'\n",
    "\n",
    "expr = re.compile(r'(?<=J\\.)Varlamov')\n",
    "print(expr.search(s_wrong))\n",
    "print(expr.search(s_correct).group())\n",
    "\n",
    "expr = re.compile(r'(?<!J\\.)Varlamov')\n",
    "print(expr.search(s_wrong).group())\n",
    "print(expr.search(s_correct))"
   ]
  },
  {
   "cell_type": "markdown",
   "metadata": {},
   "source": [
    "###  Позиционные шаблоны"
   ]
  },
  {
   "cell_type": "markdown",
   "metadata": {},
   "source": [
    "<img src='https://i.gyazo.com/d0883675a0ae7b835175045009a9726e.png' />"
   ]
  },
  {
   "cell_type": "markdown",
   "metadata": {},
   "source": [
    "<hr>"
   ]
  },
  {
   "cell_type": "markdown",
   "metadata": {},
   "source": [
    "## Флаги"
   ]
  },
  {
   "cell_type": "markdown",
   "metadata": {},
   "source": [
    "<img src='https://i.gyazo.com/c682203ae5a7640de64253def145ae2c.png' />"
   ]
  },
  {
   "cell_type": "code",
   "execution_count": 21,
   "metadata": {},
   "outputs": [
    {
     "name": "stdout",
     "output_type": "stream",
     "text": [
      "******************************** result is here *********************************\n",
      "This\n",
      "This\n"
     ]
    }
   ],
   "source": [
    "s = \"This is a singleline string.!?\"\n",
    "\n",
    "expr = re.compile(r'this',re.I)\n",
    "res1 = expr.match(s)\n",
    "expr = re.compile(r'this',re.IGNORECASE)\n",
    "res2 = expr.match(s)\n",
    "print(\"******************************** result is here *********************************\")\n",
    "print(res1.group())\n",
    "print(res2.group())"
   ]
  },
  {
   "cell_type": "code",
   "execution_count": 22,
   "metadata": {},
   "outputs": [
    {
     "name": "stdout",
     "output_type": "stream",
     "text": [
      "******************************** result is here *********************************\n",
      "This is a singleline string\n",
      "This is a \n",
      "multiline string\n"
     ]
    }
   ],
   "source": [
    "sl = \"This is a singleline string.!?\"\n",
    "ml = \"\"\"This is a \n",
    "multiline string. \n",
    "R u ready \n",
    "to parse it?\"\"\"\n",
    "\n",
    "expr = re.compile(r'.*line.+string',re.DOTALL)\n",
    "rsl = expr.match(sl)\n",
    "rml = expr.match(ml)\n",
    "print(\"******************************** result is here *********************************\")\n",
    "print(rsl.group())\n",
    "print(rml.group())"
   ]
  },
  {
   "cell_type": "code",
   "execution_count": 23,
   "metadata": {},
   "outputs": [
    {
     "name": "stdout",
     "output_type": "stream",
     "text": [
      "['multi']\n"
     ]
    }
   ],
   "source": [
    "ml = \"\"\"This is a \n",
    "multiline string. \n",
    "R u ready \n",
    "to parse it?\"\"\"\n",
    "\n",
    "expr = re.compile(r'^multi',re.M)\n",
    "rml = expr.findall(ml)\n",
    "print(rml)"
   ]
  },
  {
   "cell_type": "markdown",
   "metadata": {},
   "source": [
    "## Тест - https://clck.ru/bmE6s"
   ]
  },
  {
   "cell_type": "code",
   "execution_count": null,
   "metadata": {},
   "outputs": [],
   "source": []
  }
 ],
 "metadata": {
  "kernelspec": {
   "display_name": "Python 3",
   "language": "python",
   "name": "python3"
  },
  "language_info": {
   "codemirror_mode": {
    "name": "ipython",
    "version": 3
   },
   "file_extension": ".py",
   "mimetype": "text/x-python",
   "name": "python",
   "nbconvert_exporter": "python",
   "pygments_lexer": "ipython3",
   "version": "3.8.8"
  }
 },
 "nbformat": 4,
 "nbformat_minor": 2
}
