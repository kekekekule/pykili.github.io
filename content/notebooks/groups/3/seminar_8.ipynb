{
 "cells": [
  {
   "cell_type": "markdown",
   "metadata": {
    "id": "DY2kFJ8zPN2q"
   },
   "source": [
    "## Функции"
   ]
  },
  {
   "cell_type": "markdown",
   "metadata": {
    "id": "58ONRRMcckYG"
   },
   "source": [
    "### Что такое функция? Выглядят знакомо\n",
    "Мы уже пользовались штуками с круглыми скобками. \n",
    "\n",
    "**NB!: сегодня методы $=$ функции**, по правде методы -- более навороченные функции.\n",
    "\n",
    "Знакомые примеры ф-ий:\n",
    "`print()`, `int()`, `float()`, `range()`, `len()`\n",
    "\n",
    "---\n",
    "**Вопрос:** Назовите ещё пару примеров ф-ий"
   ]
  },
  {
   "cell_type": "code",
   "execution_count": null,
   "metadata": {},
   "outputs": [],
   "source": [
    "max(), min(), ''.join(), list() "
   ]
  },
  {
   "cell_type": "markdown",
   "metadata": {
    "id": "B4I3u7rKcAWH"
   },
   "source": [
    "### Как думать о функции?\n",
    "\n",
    "Функция -- способ обозвать присвоить какой-то *логике действий, куску кода* имя так, чтобы использовать это имя вместо того, чтобы набирать этот код.  \n",
    "\n",
    "Тк код описывает какие-то действия, функция даёт имя какой-то последовательности действий.\n"
   ]
  },
  {
   "cell_type": "markdown",
   "metadata": {
    "id": "31s6oJWydcV9"
   },
   "source": [
    "## Что делает функция? \n",
    "\n",
    "Что делает действие? Действие\n",
    "* происходит **с какими-то штуками** (с ничем == с пустым множеством штук)\n",
    "* **имеет результат** (не имеет результата == имеет никакой результат)\n",
    "\n",
    "Что делает функция? Функция -- код, у которого\n",
    "* в выполнении участвуют **аргументы**\n",
    "* по окончании выполнения (получается) **возвращается результат**"
   ]
  },
  {
   "cell_type": "markdown",
   "metadata": {
    "id": "rqCC77pwgFmJ"
   },
   "source": [
    "### Пример именованной абстракции действия\n"
   ]
  },
  {
   "cell_type": "markdown",
   "metadata": {
    "id": "cCjvUo8T75fV"
   },
   "source": [
    "**Имя:** выбор максимума из трёх чисел и пятёрки\n",
    "\n",
    "**Штуки:** первое число, второе число, третье число\n",
    "\n",
    "**Логика:** \n",
    "```\n",
    "пока ищем результат, запомним первое число под именем N\n",
    "\n",
    "если первое число больше второго, то   \n",
    "  если первое число меньше третьего, то\n",
    "    теперь под именем N запомним третье число\n",
    "иначе\n",
    "  теперь под именем N запомним второе число\n",
    "  если второе число меньше третьего, то\n",
    "    теперь под именем N запомним третье число\n",
    "\n",
    "если N меньше пяти, то\n",
    "  теперь под именем N запомним 5\n",
    "\n",
    "искомый результат -- то, что запомнено под именем N\n",
    "```"
   ]
  },
  {
   "cell_type": "markdown",
   "metadata": {
    "id": "bEE1wyzyjvgw"
   },
   "source": [
    "### Пример именованной абстракции действия\n"
   ]
  },
  {
   "cell_type": "markdown",
   "metadata": {
    "id": "HiTsXaJS79Iw"
   },
   "source": [
    "**Имя:** выбор максимума из трёх чисел и пятёрки\n",
    "\n",
    "**Штуки:** первое число, второе число, третье число\n",
    "\n",
    "**Логика:** \n",
    "```\n",
    "Помним из прошлого про первое, второе и третье число, а ещё запомнили что-то под именем N\n",
    "искомый результат -- то, что запомнили под именем N\n",
    "```\n",
    "Обратите внимание:\n",
    "\n",
    "* мы придумали, как искать максимум среди чисел, не зная конкретных чисел.\n",
    "\n",
    "* мы обозвали потенциальные числа именами *первое число*, *второе число*, *третье число* и оперировали потенциальными (наперёд неизвестными) значениями того, что может под этими именами прятаться. они как переменные в коде*.\n",
    "\n",
    "* мы также заводили промежуточное имя *N* и оперировали его потенциальными значениями. тоже не зная наперёд, чему именно оно равно в конкретный момент. ГЫ тоже как переменная в коде\n",
    "\n",
    "---\n",
    "* Для примера - переменные бывают `a = input()` тоже заранее непонятно чему равные."
   ]
  },
  {
   "cell_type": "code",
   "execution_count": 7,
   "metadata": {},
   "outputs": [],
   "source": [
    "def max_elem(li):\n",
    "    if len(li) == 0:\n",
    "        return None\n",
    "    biggest = li[0]\n",
    "    for el in li:\n",
    "        if el > biggest:\n",
    "            biggest = el\n",
    "    return biggest\n"
   ]
  },
  {
   "cell_type": "code",
   "execution_count": 8,
   "metadata": {},
   "outputs": [],
   "source": [
    "li = [1,3,4,9,8,3]"
   ]
  },
  {
   "cell_type": "code",
   "execution_count": 10,
   "metadata": {},
   "outputs": [
    {
     "data": {
      "text/plain": [
       "9"
      ]
     },
     "execution_count": 10,
     "metadata": {},
     "output_type": "execute_result"
    }
   ],
   "source": [
    "max(li)"
   ]
  },
  {
   "cell_type": "code",
   "execution_count": 11,
   "metadata": {},
   "outputs": [],
   "source": [
    "qq = max_elem(li)"
   ]
  },
  {
   "cell_type": "code",
   "execution_count": 13,
   "metadata": {},
   "outputs": [
    {
     "data": {
      "text/plain": [
       "10"
      ]
     },
     "execution_count": 13,
     "metadata": {},
     "output_type": "execute_result"
    }
   ],
   "source": [
    "qq + 1"
   ]
  },
  {
   "cell_type": "code",
   "execution_count": 14,
   "metadata": {},
   "outputs": [
    {
     "data": {
      "text/plain": [
       "'9'"
      ]
     },
     "execution_count": 14,
     "metadata": {},
     "output_type": "execute_result"
    }
   ],
   "source": [
    "str(max_elem(li))"
   ]
  },
  {
   "cell_type": "markdown",
   "metadata": {
    "id": "ltSYMwMcn2pA"
   },
   "source": [
    "## Что делает функция? \n",
    "\n",
    "Действие\n",
    "* происходит **с какими-то штуками** (с ничем == с пустым множеством штук)\n",
    "* **имеет результат** (не имеет результата == имеет никакой результат)\n",
    "\n",
    "Функция -- код, у которого\n",
    "* в выполнении участвуют **параметры**\n",
    "* по окончании выполнения (получается) **возвращается результат**\n",
    "\n",
    "Функция -- описание действия кодом"
   ]
  },
  {
   "cell_type": "markdown",
   "metadata": {
    "id": "B-g4mM2axDL1"
   },
   "source": [
    "## Как пользоваться функциями"
   ]
  },
  {
   "cell_type": "markdown",
   "metadata": {
    "id": "gNS_vB0FfPmv"
   },
   "source": [
    "### Синтаксис описания (ОПРЕДЕЛЕНИЯ) функций \n",
    "\n",
    "Функции тоже описываются блоками\n",
    "\n",
    "---\n",
    "\n",
    "**Вопрос:** какие пройденные штуки тоже описываются блоками?\n",
    "\n",
    "---\n",
    "\n",
    "```python\n",
    "def имя_функции(параметры):\n",
    "    какой-то код\n",
    "    в котором можно использовать параметры как переменные\n",
    "    return какое_то_значение\n",
    "```\n",
    "\n",
    "Если ***не*** *написать* `return какое_то_значение`, то как будто случится `return None`. Так обычно и делают.\n",
    "\n",
    "`None` -- это значение с семантикой НИЧЕГО. Чтобы можно было как-то выражать НИЧТО в коде.\n"
   ]
  },
  {
   "cell_type": "code",
   "execution_count": null,
   "metadata": {
    "colab": {
     "base_uri": "https://localhost:8080/"
    },
    "id": "cXgettfZXbLz",
    "outputId": "76665978-7b99-45a5-a891-8aaa8a5e1e98"
   },
   "outputs": [
    {
     "name": "stdout",
     "output_type": "stream",
     "text": [
      "5\n"
     ]
    }
   ],
   "source": [
    "print(len(\"кошка\"))"
   ]
  },
  {
   "cell_type": "code",
   "execution_count": 15,
   "metadata": {
    "colab": {
     "base_uri": "https://localhost:8080/"
    },
    "id": "c_uHwZRtWybi",
    "outputId": "a0a657dd-8fe0-4f87-9ceb-a99dcdf14947"
   },
   "outputs": [
    {
     "name": "stdout",
     "output_type": "stream",
     "text": [
      "5\n",
      "None\n"
     ]
    }
   ],
   "source": [
    "# def штуковина_про_длину (РКН запретил ф-ю len):\n",
    "#     do something\n",
    "\n",
    "def штуковина_про_длину(text) :\n",
    "    ananas = 0\n",
    "    for bykovka in text:\n",
    "        ananas += 1\n",
    "    print(ananas)\n",
    "\n",
    "\n",
    "\n",
    "print(штуковина_про_длину(\"кошка\"))"
   ]
  },
  {
   "cell_type": "code",
   "execution_count": 16,
   "metadata": {
    "colab": {
     "base_uri": "https://localhost:8080/"
    },
    "id": "3ozaYC5RZHiD",
    "outputId": "dc0ebb73-29dc-4484-a217-386148c7a5e3"
   },
   "outputs": [
    {
     "name": "stdout",
     "output_type": "stream",
     "text": [
      "hey!: картофанчик\n",
      "картофанчик\n",
      "None\n"
     ]
    }
   ],
   "source": [
    "def самоеДлинноеИзДвух(text, kext) :\n",
    "    # если text длиннее kext надо вернуть text\n",
    "    # иначе -- kext\n",
    "    ananas = 0\n",
    "    for bykovka in text:\n",
    "        ananas += 1\n",
    "    # ananas -- это длина текста\n",
    "    ananas_1 = 0\n",
    "    for bukovka2 in kext:\n",
    "        ananas_1 += 1\n",
    "    if ananas_1 >= ananas:\n",
    "        print(kext)\n",
    "    else:\n",
    "        print(text)\n",
    "\n",
    "user_in = input(\"hey!: \")\n",
    "print(самоеДлинноеИзДвух(user_in, \"картошка\"))"
   ]
  },
  {
   "cell_type": "code",
   "execution_count": null,
   "metadata": {
    "colab": {
     "base_uri": "https://localhost:8080/"
    },
    "id": "0-qMWdtKbROZ",
    "outputId": "3ac86007-22c9-4be2-b519-c9b33f90ea1b"
   },
   "outputs": [
    {
     "name": "stdout",
     "output_type": "stream",
     "text": [
      "|---------|--------|\n",
      "|лошадочка|картошка|\n"
     ]
    }
   ],
   "source": [
    "def ДЛИНЫ(text, kext) :\n",
    "    # если text длиннее kext надо вернуть text\n",
    "    # иначе -- kext\n",
    "    ananas = 0\n",
    "    for bykovka in text:\n",
    "        ananas += 1\n",
    "    # ananas -- это длина текста\n",
    "    ananas_1 = 0\n",
    "    for bukovka2 in kext:\n",
    "        ananas_1 += 1\n",
    "    biggest_len = ananas_1\n",
    "    if ananas > ananas_1:\n",
    "        biggest_len = ananas\n",
    "    return ananas, ananas_1\n",
    "\n",
    "\n",
    "maxlens = ДЛИНЫ(\"лошадочка\", \"картошка\")\n",
    "leftlen = maxlens[0]\n",
    "rightlen = maxlens[1]\n",
    "print(\"|\" + \"-\"* leftlen + \"|\" + \"-\"*rightlen+\"|\")\n",
    "print(\"|лошадочка|картошка|\")"
   ]
  },
  {
   "cell_type": "markdown",
   "metadata": {
    "id": "HeTHmFsBl6xs"
   },
   "source": [
    "###  Синтаксис ИСПОЛЬЗОВАНИЯ функций\n",
    "Мы много раз их использовали\n",
    "\n",
    "`my_cool_res = len(\"abcde\")` или  \n",
    "(бессмысленный вариант) просто `len(\"abcde\")` или  \n",
    "`print(\"hello,\", 8)` или  \n",
    "(бессмысленный вариант) `my_cool_res = print(\"hello,\", 8)`\n",
    "\n",
    "\n",
    "Итого всегда правда `my_cool_res = имя_функции(какие-то аргументы)`. Иногда забиваем на результат или аргументов никаких не передаём.\n"
   ]
  },
  {
   "cell_type": "markdown",
   "metadata": {
    "id": "G_NfCzgXqkqn"
   },
   "source": [
    "## Разрозненные замечания\n",
    "`def` -- сокращение от define\n",
    "\n",
    "Функция (как цикл и условные штуки) описывается в блоках.\n",
    "\n",
    "В первой строке блока ключевое слово `def`, имя функции, что-то про параметры. Остальные строки блока пишутся с отступами, как всегда.\n",
    "\n",
    "Вот эта (всё кроме первой, определяющей суть блока, строки) часть блока называется телом. Соотв в нашем случае это тело функции."
   ]
  },
  {
   "cell_type": "markdown",
   "metadata": {
    "id": "0eVnGGEMrv6i"
   },
   "source": [
    "В теле функции вы вольны писать любой код, каких-то особенных новых ограничений сам факт нахождения в блоке не накладывает. \n",
    "\n",
    "В функциях появляется возможность использовать в теле полученные параметры как уже существующие, данные свыше, переменные"
   ]
  },
  {
   "cell_type": "markdown",
   "metadata": {
    "id": "4jY1F516tATj"
   },
   "source": [
    "## Пример работы с функциями"
   ]
  },
  {
   "cell_type": "markdown",
   "metadata": {
    "id": "Y_bNnLuStvNA"
   },
   "source": [
    "### будем писать функцию для логики\n",
    "```\n",
    "пока ищем результат, запомним первое число под именем ГЫ\n",
    " \n",
    "если первое число больше второго, то   \n",
    "  если первое число меньше третьего, то\n",
    "    теперь под именем ГЫ запомним третье число\n",
    "иначе\n",
    "  теперь под именем ГЫ запомним второе число\n",
    "  если второе число меньше третьего, то\n",
    "    теперь под именем ГЫ запомним третье число\n",
    " \n",
    "если ГЫ меньше пяти, то\n",
    "  теперь под именем ГЫ запомним 5\n",
    " \n",
    "искомый результат -- то, что запомнено под именем ГЫ\n",
    "```"
   ]
  },
  {
   "cell_type": "code",
   "execution_count": null,
   "metadata": {
    "id": "WU1YRNrhjXS9"
   },
   "outputs": [],
   "source": []
  },
  {
   "cell_type": "code",
   "execution_count": 18,
   "metadata": {
    "colab": {
     "base_uri": "https://localhost:8080/",
     "height": 52
    },
    "id": "WRalfHuItbK6",
    "outputId": "b7e0bf47-7e48-4478-b3e6-4be9bf3e18e4"
   },
   "outputs": [
    {
     "name": "stdout",
     "output_type": "stream",
     "text": [
      "5\n",
      "300\n"
     ]
    }
   ],
   "source": [
    "def max_of_a_b_c_and_5(num1, num2, num3):\n",
    "    tmp_res = num1\n",
    "    if num1 > num2:\n",
    "        if num1 < num3:\n",
    "            tmp_res = num3\n",
    "    else:\n",
    "        tmp_res = num2\n",
    "        if num2 < num3:\n",
    "            tmp_res = num3\n",
    "    \n",
    "    if tmp_res < 5:\n",
    "        tmp_res = 5\n",
    "    \n",
    "    return tmp_res\n",
    "\n",
    "print(max_of_a_b_c_and_5(1,3,4))\n",
    "a = max_of_a_b_c_and_5(2,2,2)\n",
    "max_of_a_b_c_and_5(-1,2,1)\n",
    "print(max_of_a_b_c_and_5(100,200,300))"
   ]
  },
  {
   "cell_type": "markdown",
   "metadata": {
    "id": "0VHxk5eUxf2U"
   },
   "source": [
    "####  Примеры того, как всё сломать"
   ]
  },
  {
   "cell_type": "code",
   "execution_count": 21,
   "metadata": {},
   "outputs": [
    {
     "ename": "TypeError",
     "evalue": "'>' not supported between instances of 'str' and 'bool'",
     "output_type": "error",
     "traceback": [
      "\u001b[0;31m---------------------------------------------------------------------------\u001b[0m",
      "\u001b[0;31mTypeError\u001b[0m                                 Traceback (most recent call last)",
      "\u001b[0;32m<ipython-input-21-5f3ddb8074c5>\u001b[0m in \u001b[0;36m<module>\u001b[0;34m\u001b[0m\n\u001b[0;32m----> 1\u001b[0;31m \u001b[0mmax_of_a_b_c_and_5\u001b[0m\u001b[0;34m(\u001b[0m\u001b[0;34m\"a\"\u001b[0m\u001b[0;34m,\u001b[0m \u001b[0;32mTrue\u001b[0m\u001b[0;34m,\u001b[0m \u001b[0;32mTrue\u001b[0m\u001b[0;34m)\u001b[0m\u001b[0;34m\u001b[0m\u001b[0;34m\u001b[0m\u001b[0m\n\u001b[0m",
      "\u001b[0;32m<ipython-input-18-0208235720d6>\u001b[0m in \u001b[0;36mmax_of_a_b_c_and_5\u001b[0;34m(num1, num2, num3)\u001b[0m\n\u001b[1;32m      1\u001b[0m \u001b[0;32mdef\u001b[0m \u001b[0mmax_of_a_b_c_and_5\u001b[0m\u001b[0;34m(\u001b[0m\u001b[0mnum1\u001b[0m\u001b[0;34m,\u001b[0m \u001b[0mnum2\u001b[0m\u001b[0;34m,\u001b[0m \u001b[0mnum3\u001b[0m\u001b[0;34m)\u001b[0m\u001b[0;34m:\u001b[0m\u001b[0;34m\u001b[0m\u001b[0;34m\u001b[0m\u001b[0m\n\u001b[1;32m      2\u001b[0m     \u001b[0mtmp_res\u001b[0m \u001b[0;34m=\u001b[0m \u001b[0mnum1\u001b[0m\u001b[0;34m\u001b[0m\u001b[0;34m\u001b[0m\u001b[0m\n\u001b[0;32m----> 3\u001b[0;31m     \u001b[0;32mif\u001b[0m \u001b[0mnum1\u001b[0m \u001b[0;34m>\u001b[0m \u001b[0mnum2\u001b[0m\u001b[0;34m:\u001b[0m\u001b[0;34m\u001b[0m\u001b[0;34m\u001b[0m\u001b[0m\n\u001b[0m\u001b[1;32m      4\u001b[0m         \u001b[0;32mif\u001b[0m \u001b[0mnum1\u001b[0m \u001b[0;34m<\u001b[0m \u001b[0mnum3\u001b[0m\u001b[0;34m:\u001b[0m\u001b[0;34m\u001b[0m\u001b[0;34m\u001b[0m\u001b[0m\n\u001b[1;32m      5\u001b[0m             \u001b[0mtmp_res\u001b[0m \u001b[0;34m=\u001b[0m \u001b[0mnum3\u001b[0m\u001b[0;34m\u001b[0m\u001b[0;34m\u001b[0m\u001b[0m\n",
      "\u001b[0;31mTypeError\u001b[0m: '>' not supported between instances of 'str' and 'bool'"
     ]
    }
   ],
   "source": [
    "max_of_a_b_c_and_5(\"a\", True, True)"
   ]
  },
  {
   "cell_type": "code",
   "execution_count": null,
   "metadata": {
    "cellView": "both",
    "id": "MiVRv0qhutDo"
   },
   "outputs": [],
   "source": [
    "# или tmp_res(\"a\", True)\n",
    "# или tmp_res(2,2,1,2)\n",
    "# или tmp_res()\n"
   ]
  },
  {
   "cell_type": "markdown",
   "metadata": {
    "id": "TS_-KAY763qP"
   },
   "source": [
    "### Пример программы с использованием функций"
   ]
  },
  {
   "cell_type": "code",
   "execution_count": null,
   "metadata": {
    "cellView": "form",
    "id": "WEid6Yox63Ak"
   },
   "outputs": [],
   "source": [
    "OPERATORS = ['+', '-', '*', '/']\n",
    "OPS_STR = ', '.join(OPERATORS)\n",
    "\n",
    "\n",
    "def get_number(nonzero):\n",
    "    \"\"\"Запросить у пользователя число и вернуть его\n",
    "\n",
    "    nonzero : аргумент типа bool, если False то не проверять является ли число\n",
    "        нулём, в обратном случае спрашивать до тех пор, пока не будет введено\n",
    "        отличное от нуля число\n",
    "    \"\"\"\n",
    "    x = float(input('Введите число: '))\n",
    "    if not nonzero:\n",
    "        return x\n",
    "    while x == 0:\n",
    "        x = float(input('На ноль делить нельзя, введите другое число: '))\n",
    "    return x\n",
    "\n",
    "\n",
    "def get_operator():\n",
    "    \"\"\"Запросить у пользователя оператор\n",
    "\n",
    "    Спрашивает у пользователя оператор до тех пор, пока не будет введён один из\n",
    "    поддерживаемых программой\n",
    "    \"\"\"\n",
    "    while True:\n",
    "        x = input('Введите оператор: ')\n",
    "        if x in OPERATORS:\n",
    "            return x\n",
    "        print(x, ' - не оператор, выберите из списка:', OPS_STR)\n",
    "\n",
    "\n",
    "def main():\n",
    "    a = get_number(False)\n",
    "    op = get_operator()\n",
    "    b = get_number(True)\n",
    "    print(a, op, b, '=', end=' ')\n",
    "    if op == '+':\n",
    "        print(a + b)\n",
    "    elif op == '-':\n",
    "        print(a - b)\n",
    "    elif op == '*':\n",
    "        print(a * b)\n",
    "    else:\n",
    "        # op == '/'\n",
    "        print(a / b)\n",
    "\n",
    "\n",
    "main()"
   ]
  },
  {
   "cell_type": "markdown",
   "metadata": {
    "id": "f5bmZO2_tDvo"
   },
   "source": [
    "## Задачки\n",
    "\n"
   ]
  },
  {
   "cell_type": "markdown",
   "metadata": {
    "cellView": "form",
    "id": "pegxoZcO5oPs"
   },
   "source": [
    "#### Написать функцию выбора максимума из четырёх чисел и восьми\n"
   ]
  },
  {
   "cell_type": "code",
   "execution_count": 27,
   "metadata": {},
   "outputs": [],
   "source": [
    "def max_4_and_8(one, two, three, four):\n",
    "    tmp = one\n",
    "    \n",
    "    if one > two:\n",
    "        if one > three:\n",
    "            if one < four:\n",
    "                tmp = four\n",
    "        else:\n",
    "            if three < four:\n",
    "                tmp = four\n",
    "            else:\n",
    "                tmp = three\n",
    "    else:\n",
    "        if two > three:\n",
    "            if two < four:\n",
    "                tmp = four\n",
    "            else:\n",
    "                tmp = two\n",
    "        else:\n",
    "            if three < four:\n",
    "                tmp = four\n",
    "            else:\n",
    "                tmp = three\n",
    "    \n",
    "    if tmp < 8:\n",
    "        tmp = 8\n",
    "    \n",
    "    return tmp"
   ]
  },
  {
   "cell_type": "code",
   "execution_count": 33,
   "metadata": {},
   "outputs": [
    {
     "data": {
      "text/plain": [
       "4"
      ]
     },
     "execution_count": 33,
     "metadata": {},
     "output_type": "execute_result"
    }
   ],
   "source": [
    "max_4_and_8(1,2,3,4)"
   ]
  },
  {
   "cell_type": "code",
   "execution_count": 34,
   "metadata": {},
   "outputs": [
    {
     "data": {
      "text/plain": [
       "4"
      ]
     },
     "execution_count": 34,
     "metadata": {},
     "output_type": "execute_result"
    }
   ],
   "source": [
    "max_4_and_8(1,2,3,4)"
   ]
  },
  {
   "cell_type": "code",
   "execution_count": 35,
   "metadata": {},
   "outputs": [
    {
     "data": {
      "text/plain": [
       "4"
      ]
     },
     "execution_count": 35,
     "metadata": {},
     "output_type": "execute_result"
    }
   ],
   "source": [
    "max_4_and_8(1,4,3,2)"
   ]
  },
  {
   "cell_type": "code",
   "execution_count": 36,
   "metadata": {},
   "outputs": [
    {
     "data": {
      "text/plain": [
       "4"
      ]
     },
     "execution_count": 36,
     "metadata": {},
     "output_type": "execute_result"
    }
   ],
   "source": [
    "max_4_and_8(4,2,3,1)"
   ]
  },
  {
   "cell_type": "code",
   "execution_count": 32,
   "metadata": {},
   "outputs": [],
   "source": [
    "def max_4_and_8(one, two, three, four):\n",
    "    arr = [one, two, three, four]\n",
    "    maxx = arr[0]\n",
    "    for i in arr:\n",
    "        if i > maxx:\n",
    "            maxx = i\n",
    "    if maxx < 8:\n",
    "        maxx = 8\n",
    "    return maxx"
   ]
  },
  {
   "cell_type": "markdown",
   "metadata": {
    "cellView": "form",
    "id": "Leq4gozS5lEI"
   },
   "source": [
    "#### Написать функцию, которая принимает один аргумент и если он пустая строка то пишет \"привет мир\", а если непустая, то \"привет, значение аргумента\"\n"
   ]
  },
  {
   "cell_type": "code",
   "execution_count": 37,
   "metadata": {},
   "outputs": [],
   "source": [
    "def hello(name):\n",
    "    if name:\n",
    "        print('привет,', name)\n",
    "    else:\n",
    "        print('привет, мир!')"
   ]
  },
  {
   "cell_type": "code",
   "execution_count": 38,
   "metadata": {},
   "outputs": [
    {
     "name": "stdout",
     "output_type": "stream",
     "text": [
      "привет, мир!\n"
     ]
    }
   ],
   "source": [
    "hello('')"
   ]
  },
  {
   "cell_type": "code",
   "execution_count": 39,
   "metadata": {},
   "outputs": [
    {
     "name": "stdout",
     "output_type": "stream",
     "text": [
      "привет, группа\n"
     ]
    }
   ],
   "source": [
    "hello('группа')"
   ]
  },
  {
   "cell_type": "markdown",
   "metadata": {
    "cellView": "form",
    "id": "sA_3e9VA5e5M"
   },
   "source": [
    "#### Написать функцию, которая спрашивает у пользователя с клавиатуры слово до тех пор, пока он не введёт непустое слово. Добившись от пользователя ответа, функция отдаёт введённое.\n"
   ]
  },
  {
   "cell_type": "code",
   "execution_count": 41,
   "metadata": {},
   "outputs": [
    {
     "name": "stdout",
     "output_type": "stream",
     "text": [
      "\n",
      "\n",
      "q\n",
      "q\n"
     ]
    }
   ],
   "source": [
    "def word_input():\n",
    "    q = True\n",
    "    while True: #q\n",
    "        word = input()\n",
    "        if word:\n",
    "            #break\n",
    "            #q = False\n",
    "            return word\n",
    "            \n",
    "print(word_input())"
   ]
  },
  {
   "cell_type": "markdown",
   "metadata": {
    "cellView": "form",
    "id": "Dn0E6lYo5SRz"
   },
   "source": [
    "#### Написать функцию, которая отрезает у слова строку с конца, если слово этой сторокой заканчивается. Т.е. `your_cool_f(\"дедлайн\", \"лайн\")` должно вернуть `\"дед\"`, а  `your_cool_f(\"дедлайн\", \"дед\")` должно вернуть `\"дедлайн\"`\n"
   ]
  },
  {
   "cell_type": "code",
   "execution_count": null,
   "metadata": {},
   "outputs": [],
   "source": []
  }
 ],
 "metadata": {
  "colab": {
   "collapsed_sections": [
    "DY2kFJ8zPN2q",
    "8BNLCR1uPnFl",
    "J0Euadp1P6o6",
    "mUtEQQtETQL1",
    "7B3FOKDTOvTJ",
    "ICqcQjLWWWLs",
    "58ONRRMcckYG",
    "B4I3u7rKcAWH",
    "31s6oJWydcV9",
    "rqCC77pwgFmJ",
    "bEE1wyzyjvgw",
    "ltSYMwMcn2pA",
    "B-g4mM2axDL1",
    "gNS_vB0FfPmv",
    "HeTHmFsBl6xs",
    "G_NfCzgXqkqn",
    "4jY1F516tATj",
    "Y_bNnLuStvNA",
    "0VHxk5eUxf2U",
    "TS_-KAY763qP",
    "f5bmZO2_tDvo"
   ],
   "name": "пара про функции.ipynb",
   "provenance": []
  },
  "kernelspec": {
   "display_name": "Python 3",
   "language": "python",
   "name": "python3"
  },
  "language_info": {
   "codemirror_mode": {
    "name": "ipython",
    "version": 3
   },
   "file_extension": ".py",
   "mimetype": "text/x-python",
   "name": "python",
   "nbconvert_exporter": "python",
   "pygments_lexer": "ipython3",
   "version": "3.8.8"
  }
 },
 "nbformat": 4,
 "nbformat_minor": 1
}
